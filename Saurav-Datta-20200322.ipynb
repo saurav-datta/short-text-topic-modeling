{
 "cells": [
  {
   "cell_type": "code",
   "execution_count": 1,
   "metadata": {
    "ExecuteTime": {
     "end_time": "2020-04-12T18:08:04.031351Z",
     "start_time": "2020-04-12T18:07:50.010448Z"
    }
   },
   "outputs": [],
   "source": [
    "import nltk\n",
    "from nltk.tokenize import word_tokenize\n",
    "import itertools\n",
    "from nltk.stem import WordNetLemmatizer \n",
    "from nltk.corpus import words\n",
    "from nltk import FreqDist\n",
    "from nltk.stem.porter import PorterStemmer\n",
    "import sys, traceback\n"
   ]
  },
  {
   "cell_type": "code",
   "execution_count": 2,
   "metadata": {
    "ExecuteTime": {
     "end_time": "2020-04-12T18:08:20.809637Z",
     "start_time": "2020-04-12T18:08:04.033958Z"
    }
   },
   "outputs": [],
   "source": [
    "## AnalyticsVidhya\n",
    "#https://www.analyticsvidhya.com/blog/2018/10/mining-online-reviews-topic-modeling-lda/\n",
    "import pandas as pd\n",
    "pd.set_option(\"display.max_colwidth\", 200)\n",
    "import numpy as np\n",
    "import re\n",
    "import spacy\n",
    "import csv\n",
    "\n",
    "import gensim\n",
    "from gensim import corpora\n",
    "\n",
    "# libraries for visualization\n",
    "import pyLDAvis\n",
    "import pyLDAvis.gensim\n",
    "import matplotlib.pyplot as plt\n",
    "import seaborn as sns\n",
    "%matplotlib inline\n"
   ]
  },
  {
   "cell_type": "code",
   "execution_count": 3,
   "metadata": {
    "ExecuteTime": {
     "end_time": "2020-04-12T18:08:20.951850Z",
     "start_time": "2020-04-12T18:08:20.812169Z"
    }
   },
   "outputs": [],
   "source": [
    "import pandas as pd\n",
    "import numpy as np\n",
    "import os\n",
    "import re\n",
    "import spacy\n",
    "from spacy import displacy\n",
    "from textblob import Word\n",
    "import gensim\n",
    "from gensim.models import CoherenceModel\n",
    "import matplotlib.pyplot as plt\n",
    "import warnings\n",
    "import pyLDAvis\n",
    "import pyLDAvis.gensim\n",
    "from sklearn.feature_extraction.text import TfidfVectorizer\n"
   ]
  },
  {
   "cell_type": "code",
   "execution_count": 4,
   "metadata": {
    "ExecuteTime": {
     "end_time": "2020-04-12T18:08:20.958683Z",
     "start_time": "2020-04-12T18:08:20.954199Z"
    }
   },
   "outputs": [],
   "source": [
    "#Kaggle, https://www.kaggle.com/akashram/topic-modeling-intro-implementation\n",
    "\n",
    "import gensim\n",
    "import gensim.corpora as corpora\n",
    "from gensim.utils import simple_preprocess\n",
    "from gensim.models import CoherenceModel, LdaModel, LsiModel, HdpModel\n",
    "\n",
    "from sklearn.decomposition import NMF, LatentDirichletAllocation, TruncatedSVD\n",
    "from sklearn.feature_extraction.text import CountVectorizer\n",
    "\n",
    "\n",
    "# Enable logging for gensim - optional\n",
    "import logging\n",
    "logging.basicConfig(format='%(asctime)s : %(levelname)s : %(message)s', level=logging.ERROR)\n",
    "\n",
    "import warnings\n",
    "warnings.filterwarnings(\"ignore\",category=DeprecationWarning)\n"
   ]
  },
  {
   "cell_type": "code",
   "execution_count": 5,
   "metadata": {
    "ExecuteTime": {
     "end_time": "2020-04-12T18:08:22.894363Z",
     "start_time": "2020-04-12T18:08:20.960635Z"
    }
   },
   "outputs": [
    {
     "data": {
      "text/html": [
       "\n",
       "    <div class=\"bk-root\">\n",
       "        <a href=\"https://bokeh.pydata.org\" target=\"_blank\" class=\"bk-logo bk-logo-small bk-logo-notebook\"></a>\n",
       "        <span id=\"1001\">Loading BokehJS ...</span>\n",
       "    </div>"
      ]
     },
     "metadata": {},
     "output_type": "display_data"
    },
    {
     "data": {
      "application/javascript": [
       "\n",
       "(function(root) {\n",
       "  function now() {\n",
       "    return new Date();\n",
       "  }\n",
       "\n",
       "  var force = true;\n",
       "\n",
       "  if (typeof root._bokeh_onload_callbacks === \"undefined\" || force === true) {\n",
       "    root._bokeh_onload_callbacks = [];\n",
       "    root._bokeh_is_loading = undefined;\n",
       "  }\n",
       "\n",
       "  var JS_MIME_TYPE = 'application/javascript';\n",
       "  var HTML_MIME_TYPE = 'text/html';\n",
       "  var EXEC_MIME_TYPE = 'application/vnd.bokehjs_exec.v0+json';\n",
       "  var CLASS_NAME = 'output_bokeh rendered_html';\n",
       "\n",
       "  /**\n",
       "   * Render data to the DOM node\n",
       "   */\n",
       "  function render(props, node) {\n",
       "    var script = document.createElement(\"script\");\n",
       "    node.appendChild(script);\n",
       "  }\n",
       "\n",
       "  /**\n",
       "   * Handle when an output is cleared or removed\n",
       "   */\n",
       "  function handleClearOutput(event, handle) {\n",
       "    var cell = handle.cell;\n",
       "\n",
       "    var id = cell.output_area._bokeh_element_id;\n",
       "    var server_id = cell.output_area._bokeh_server_id;\n",
       "    // Clean up Bokeh references\n",
       "    if (id != null && id in Bokeh.index) {\n",
       "      Bokeh.index[id].model.document.clear();\n",
       "      delete Bokeh.index[id];\n",
       "    }\n",
       "\n",
       "    if (server_id !== undefined) {\n",
       "      // Clean up Bokeh references\n",
       "      var cmd = \"from bokeh.io.state import curstate; print(curstate().uuid_to_server['\" + server_id + \"'].get_sessions()[0].document.roots[0]._id)\";\n",
       "      cell.notebook.kernel.execute(cmd, {\n",
       "        iopub: {\n",
       "          output: function(msg) {\n",
       "            var id = msg.content.text.trim();\n",
       "            if (id in Bokeh.index) {\n",
       "              Bokeh.index[id].model.document.clear();\n",
       "              delete Bokeh.index[id];\n",
       "            }\n",
       "          }\n",
       "        }\n",
       "      });\n",
       "      // Destroy server and session\n",
       "      var cmd = \"import bokeh.io.notebook as ion; ion.destroy_server('\" + server_id + \"')\";\n",
       "      cell.notebook.kernel.execute(cmd);\n",
       "    }\n",
       "  }\n",
       "\n",
       "  /**\n",
       "   * Handle when a new output is added\n",
       "   */\n",
       "  function handleAddOutput(event, handle) {\n",
       "    var output_area = handle.output_area;\n",
       "    var output = handle.output;\n",
       "\n",
       "    // limit handleAddOutput to display_data with EXEC_MIME_TYPE content only\n",
       "    if ((output.output_type != \"display_data\") || (!output.data.hasOwnProperty(EXEC_MIME_TYPE))) {\n",
       "      return\n",
       "    }\n",
       "\n",
       "    var toinsert = output_area.element.find(\".\" + CLASS_NAME.split(' ')[0]);\n",
       "\n",
       "    if (output.metadata[EXEC_MIME_TYPE][\"id\"] !== undefined) {\n",
       "      toinsert[toinsert.length - 1].firstChild.textContent = output.data[JS_MIME_TYPE];\n",
       "      // store reference to embed id on output_area\n",
       "      output_area._bokeh_element_id = output.metadata[EXEC_MIME_TYPE][\"id\"];\n",
       "    }\n",
       "    if (output.metadata[EXEC_MIME_TYPE][\"server_id\"] !== undefined) {\n",
       "      var bk_div = document.createElement(\"div\");\n",
       "      bk_div.innerHTML = output.data[HTML_MIME_TYPE];\n",
       "      var script_attrs = bk_div.children[0].attributes;\n",
       "      for (var i = 0; i < script_attrs.length; i++) {\n",
       "        toinsert[toinsert.length - 1].firstChild.setAttribute(script_attrs[i].name, script_attrs[i].value);\n",
       "      }\n",
       "      // store reference to server id on output_area\n",
       "      output_area._bokeh_server_id = output.metadata[EXEC_MIME_TYPE][\"server_id\"];\n",
       "    }\n",
       "  }\n",
       "\n",
       "  function register_renderer(events, OutputArea) {\n",
       "\n",
       "    function append_mime(data, metadata, element) {\n",
       "      // create a DOM node to render to\n",
       "      var toinsert = this.create_output_subarea(\n",
       "        metadata,\n",
       "        CLASS_NAME,\n",
       "        EXEC_MIME_TYPE\n",
       "      );\n",
       "      this.keyboard_manager.register_events(toinsert);\n",
       "      // Render to node\n",
       "      var props = {data: data, metadata: metadata[EXEC_MIME_TYPE]};\n",
       "      render(props, toinsert[toinsert.length - 1]);\n",
       "      element.append(toinsert);\n",
       "      return toinsert\n",
       "    }\n",
       "\n",
       "    /* Handle when an output is cleared or removed */\n",
       "    events.on('clear_output.CodeCell', handleClearOutput);\n",
       "    events.on('delete.Cell', handleClearOutput);\n",
       "\n",
       "    /* Handle when a new output is added */\n",
       "    events.on('output_added.OutputArea', handleAddOutput);\n",
       "\n",
       "    /**\n",
       "     * Register the mime type and append_mime function with output_area\n",
       "     */\n",
       "    OutputArea.prototype.register_mime_type(EXEC_MIME_TYPE, append_mime, {\n",
       "      /* Is output safe? */\n",
       "      safe: true,\n",
       "      /* Index of renderer in `output_area.display_order` */\n",
       "      index: 0\n",
       "    });\n",
       "  }\n",
       "\n",
       "  // register the mime type if in Jupyter Notebook environment and previously unregistered\n",
       "  if (root.Jupyter !== undefined) {\n",
       "    var events = require('base/js/events');\n",
       "    var OutputArea = require('notebook/js/outputarea').OutputArea;\n",
       "\n",
       "    if (OutputArea.prototype.mime_types().indexOf(EXEC_MIME_TYPE) == -1) {\n",
       "      register_renderer(events, OutputArea);\n",
       "    }\n",
       "  }\n",
       "\n",
       "  \n",
       "  if (typeof (root._bokeh_timeout) === \"undefined\" || force === true) {\n",
       "    root._bokeh_timeout = Date.now() + 5000;\n",
       "    root._bokeh_failed_load = false;\n",
       "  }\n",
       "\n",
       "  var NB_LOAD_WARNING = {'data': {'text/html':\n",
       "     \"<div style='background-color: #fdd'>\\n\"+\n",
       "     \"<p>\\n\"+\n",
       "     \"BokehJS does not appear to have successfully loaded. If loading BokehJS from CDN, this \\n\"+\n",
       "     \"may be due to a slow or bad network connection. Possible fixes:\\n\"+\n",
       "     \"</p>\\n\"+\n",
       "     \"<ul>\\n\"+\n",
       "     \"<li>re-rerun `output_notebook()` to attempt to load from CDN again, or</li>\\n\"+\n",
       "     \"<li>use INLINE resources instead, as so:</li>\\n\"+\n",
       "     \"</ul>\\n\"+\n",
       "     \"<code>\\n\"+\n",
       "     \"from bokeh.resources import INLINE\\n\"+\n",
       "     \"output_notebook(resources=INLINE)\\n\"+\n",
       "     \"</code>\\n\"+\n",
       "     \"</div>\"}};\n",
       "\n",
       "  function display_loaded() {\n",
       "    var el = document.getElementById(\"1001\");\n",
       "    if (el != null) {\n",
       "      el.textContent = \"BokehJS is loading...\";\n",
       "    }\n",
       "    if (root.Bokeh !== undefined) {\n",
       "      if (el != null) {\n",
       "        el.textContent = \"BokehJS \" + root.Bokeh.version + \" successfully loaded.\";\n",
       "      }\n",
       "    } else if (Date.now() < root._bokeh_timeout) {\n",
       "      setTimeout(display_loaded, 100)\n",
       "    }\n",
       "  }\n",
       "\n",
       "\n",
       "  function run_callbacks() {\n",
       "    try {\n",
       "      root._bokeh_onload_callbacks.forEach(function(callback) {\n",
       "        if (callback != null)\n",
       "          callback();\n",
       "      });\n",
       "    } finally {\n",
       "      delete root._bokeh_onload_callbacks\n",
       "    }\n",
       "    console.debug(\"Bokeh: all callbacks have finished\");\n",
       "  }\n",
       "\n",
       "  function load_libs(css_urls, js_urls, callback) {\n",
       "    if (css_urls == null) css_urls = [];\n",
       "    if (js_urls == null) js_urls = [];\n",
       "\n",
       "    root._bokeh_onload_callbacks.push(callback);\n",
       "    if (root._bokeh_is_loading > 0) {\n",
       "      console.debug(\"Bokeh: BokehJS is being loaded, scheduling callback at\", now());\n",
       "      return null;\n",
       "    }\n",
       "    if (js_urls == null || js_urls.length === 0) {\n",
       "      run_callbacks();\n",
       "      return null;\n",
       "    }\n",
       "    console.debug(\"Bokeh: BokehJS not loaded, scheduling load and callback at\", now());\n",
       "    root._bokeh_is_loading = css_urls.length + js_urls.length;\n",
       "\n",
       "    function on_load() {\n",
       "      root._bokeh_is_loading--;\n",
       "      if (root._bokeh_is_loading === 0) {\n",
       "        console.debug(\"Bokeh: all BokehJS libraries/stylesheets loaded\");\n",
       "        run_callbacks()\n",
       "      }\n",
       "    }\n",
       "\n",
       "    function on_error() {\n",
       "      console.error(\"failed to load \" + url);\n",
       "    }\n",
       "\n",
       "    for (var i = 0; i < css_urls.length; i++) {\n",
       "      var url = css_urls[i];\n",
       "      const element = document.createElement(\"link\");\n",
       "      element.onload = on_load;\n",
       "      element.onerror = on_error;\n",
       "      element.rel = \"stylesheet\";\n",
       "      element.type = \"text/css\";\n",
       "      element.href = url;\n",
       "      console.debug(\"Bokeh: injecting link tag for BokehJS stylesheet: \", url);\n",
       "      document.body.appendChild(element);\n",
       "    }\n",
       "\n",
       "    for (var i = 0; i < js_urls.length; i++) {\n",
       "      var url = js_urls[i];\n",
       "      var element = document.createElement('script');\n",
       "      element.onload = on_load;\n",
       "      element.onerror = on_error;\n",
       "      element.async = false;\n",
       "      element.src = url;\n",
       "      console.debug(\"Bokeh: injecting script tag for BokehJS library: \", url);\n",
       "      document.head.appendChild(element);\n",
       "    }\n",
       "  };var element = document.getElementById(\"1001\");\n",
       "  if (element == null) {\n",
       "    console.error(\"Bokeh: ERROR: autoload.js configured with elementid '1001' but no matching script tag was found. \")\n",
       "    return false;\n",
       "  }\n",
       "\n",
       "  function inject_raw_css(css) {\n",
       "    const element = document.createElement(\"style\");\n",
       "    element.appendChild(document.createTextNode(css));\n",
       "    document.body.appendChild(element);\n",
       "  }\n",
       "\n",
       "  var js_urls = [\"https://cdn.pydata.org/bokeh/release/bokeh-1.3.4.min.js\", \"https://cdn.pydata.org/bokeh/release/bokeh-widgets-1.3.4.min.js\", \"https://cdn.pydata.org/bokeh/release/bokeh-tables-1.3.4.min.js\", \"https://cdn.pydata.org/bokeh/release/bokeh-gl-1.3.4.min.js\"];\n",
       "  var css_urls = [];\n",
       "\n",
       "  var inline_js = [\n",
       "    function(Bokeh) {\n",
       "      Bokeh.set_log_level(\"info\");\n",
       "    },\n",
       "    \n",
       "    function(Bokeh) {\n",
       "      \n",
       "    },\n",
       "    function(Bokeh) {} // ensure no trailing comma for IE\n",
       "  ];\n",
       "\n",
       "  function run_inline_js() {\n",
       "    \n",
       "    if ((root.Bokeh !== undefined) || (force === true)) {\n",
       "      for (var i = 0; i < inline_js.length; i++) {\n",
       "        inline_js[i].call(root, root.Bokeh);\n",
       "      }if (force === true) {\n",
       "        display_loaded();\n",
       "      }} else if (Date.now() < root._bokeh_timeout) {\n",
       "      setTimeout(run_inline_js, 100);\n",
       "    } else if (!root._bokeh_failed_load) {\n",
       "      console.log(\"Bokeh: BokehJS failed to load within specified timeout.\");\n",
       "      root._bokeh_failed_load = true;\n",
       "    } else if (force !== true) {\n",
       "      var cell = $(document.getElementById(\"1001\")).parents('.cell').data().cell;\n",
       "      cell.output_area.append_execute_result(NB_LOAD_WARNING)\n",
       "    }\n",
       "\n",
       "  }\n",
       "\n",
       "  if (root._bokeh_is_loading === 0) {\n",
       "    console.debug(\"Bokeh: BokehJS loaded, going straight to plotting\");\n",
       "    run_inline_js();\n",
       "  } else {\n",
       "    load_libs(css_urls, js_urls, function() {\n",
       "      console.debug(\"Bokeh: BokehJS plotting callback run at\", now());\n",
       "      run_inline_js();\n",
       "    });\n",
       "  }\n",
       "}(window));"
      ],
      "application/vnd.bokehjs_load.v0+json": "\n(function(root) {\n  function now() {\n    return new Date();\n  }\n\n  var force = true;\n\n  if (typeof root._bokeh_onload_callbacks === \"undefined\" || force === true) {\n    root._bokeh_onload_callbacks = [];\n    root._bokeh_is_loading = undefined;\n  }\n\n  \n\n  \n  if (typeof (root._bokeh_timeout) === \"undefined\" || force === true) {\n    root._bokeh_timeout = Date.now() + 5000;\n    root._bokeh_failed_load = false;\n  }\n\n  var NB_LOAD_WARNING = {'data': {'text/html':\n     \"<div style='background-color: #fdd'>\\n\"+\n     \"<p>\\n\"+\n     \"BokehJS does not appear to have successfully loaded. If loading BokehJS from CDN, this \\n\"+\n     \"may be due to a slow or bad network connection. Possible fixes:\\n\"+\n     \"</p>\\n\"+\n     \"<ul>\\n\"+\n     \"<li>re-rerun `output_notebook()` to attempt to load from CDN again, or</li>\\n\"+\n     \"<li>use INLINE resources instead, as so:</li>\\n\"+\n     \"</ul>\\n\"+\n     \"<code>\\n\"+\n     \"from bokeh.resources import INLINE\\n\"+\n     \"output_notebook(resources=INLINE)\\n\"+\n     \"</code>\\n\"+\n     \"</div>\"}};\n\n  function display_loaded() {\n    var el = document.getElementById(\"1001\");\n    if (el != null) {\n      el.textContent = \"BokehJS is loading...\";\n    }\n    if (root.Bokeh !== undefined) {\n      if (el != null) {\n        el.textContent = \"BokehJS \" + root.Bokeh.version + \" successfully loaded.\";\n      }\n    } else if (Date.now() < root._bokeh_timeout) {\n      setTimeout(display_loaded, 100)\n    }\n  }\n\n\n  function run_callbacks() {\n    try {\n      root._bokeh_onload_callbacks.forEach(function(callback) {\n        if (callback != null)\n          callback();\n      });\n    } finally {\n      delete root._bokeh_onload_callbacks\n    }\n    console.debug(\"Bokeh: all callbacks have finished\");\n  }\n\n  function load_libs(css_urls, js_urls, callback) {\n    if (css_urls == null) css_urls = [];\n    if (js_urls == null) js_urls = [];\n\n    root._bokeh_onload_callbacks.push(callback);\n    if (root._bokeh_is_loading > 0) {\n      console.debug(\"Bokeh: BokehJS is being loaded, scheduling callback at\", now());\n      return null;\n    }\n    if (js_urls == null || js_urls.length === 0) {\n      run_callbacks();\n      return null;\n    }\n    console.debug(\"Bokeh: BokehJS not loaded, scheduling load and callback at\", now());\n    root._bokeh_is_loading = css_urls.length + js_urls.length;\n\n    function on_load() {\n      root._bokeh_is_loading--;\n      if (root._bokeh_is_loading === 0) {\n        console.debug(\"Bokeh: all BokehJS libraries/stylesheets loaded\");\n        run_callbacks()\n      }\n    }\n\n    function on_error() {\n      console.error(\"failed to load \" + url);\n    }\n\n    for (var i = 0; i < css_urls.length; i++) {\n      var url = css_urls[i];\n      const element = document.createElement(\"link\");\n      element.onload = on_load;\n      element.onerror = on_error;\n      element.rel = \"stylesheet\";\n      element.type = \"text/css\";\n      element.href = url;\n      console.debug(\"Bokeh: injecting link tag for BokehJS stylesheet: \", url);\n      document.body.appendChild(element);\n    }\n\n    for (var i = 0; i < js_urls.length; i++) {\n      var url = js_urls[i];\n      var element = document.createElement('script');\n      element.onload = on_load;\n      element.onerror = on_error;\n      element.async = false;\n      element.src = url;\n      console.debug(\"Bokeh: injecting script tag for BokehJS library: \", url);\n      document.head.appendChild(element);\n    }\n  };var element = document.getElementById(\"1001\");\n  if (element == null) {\n    console.error(\"Bokeh: ERROR: autoload.js configured with elementid '1001' but no matching script tag was found. \")\n    return false;\n  }\n\n  function inject_raw_css(css) {\n    const element = document.createElement(\"style\");\n    element.appendChild(document.createTextNode(css));\n    document.body.appendChild(element);\n  }\n\n  var js_urls = [\"https://cdn.pydata.org/bokeh/release/bokeh-1.3.4.min.js\", \"https://cdn.pydata.org/bokeh/release/bokeh-widgets-1.3.4.min.js\", \"https://cdn.pydata.org/bokeh/release/bokeh-tables-1.3.4.min.js\", \"https://cdn.pydata.org/bokeh/release/bokeh-gl-1.3.4.min.js\"];\n  var css_urls = [];\n\n  var inline_js = [\n    function(Bokeh) {\n      Bokeh.set_log_level(\"info\");\n    },\n    \n    function(Bokeh) {\n      \n    },\n    function(Bokeh) {} // ensure no trailing comma for IE\n  ];\n\n  function run_inline_js() {\n    \n    if ((root.Bokeh !== undefined) || (force === true)) {\n      for (var i = 0; i < inline_js.length; i++) {\n        inline_js[i].call(root, root.Bokeh);\n      }if (force === true) {\n        display_loaded();\n      }} else if (Date.now() < root._bokeh_timeout) {\n      setTimeout(run_inline_js, 100);\n    } else if (!root._bokeh_failed_load) {\n      console.log(\"Bokeh: BokehJS failed to load within specified timeout.\");\n      root._bokeh_failed_load = true;\n    } else if (force !== true) {\n      var cell = $(document.getElementById(\"1001\")).parents('.cell').data().cell;\n      cell.output_area.append_execute_result(NB_LOAD_WARNING)\n    }\n\n  }\n\n  if (root._bokeh_is_loading === 0) {\n    console.debug(\"Bokeh: BokehJS loaded, going straight to plotting\");\n    run_inline_js();\n  } else {\n    load_libs(css_urls, js_urls, function() {\n      console.debug(\"Bokeh: BokehJS plotting callback run at\", now());\n      run_inline_js();\n    });\n  }\n}(window));"
     },
     "metadata": {},
     "output_type": "display_data"
    }
   ],
   "source": [
    "# Bokeh for plotting.\n",
    "import bokeh.plotting as bp\n",
    "from bokeh.models import HoverTool\n",
    "bp.output_notebook()\n"
   ]
  },
  {
   "cell_type": "code",
   "execution_count": 6,
   "metadata": {
    "ExecuteTime": {
     "end_time": "2020-04-12T18:08:22.900452Z",
     "start_time": "2020-04-12T18:08:22.896147Z"
    }
   },
   "outputs": [],
   "source": [
    "#Environment settings\n",
    "warnings.filterwarnings('ignore')\n",
    "\n",
    "%matplotlib inline\n",
    "# %load_ext memory_profiler"
   ]
  },
  {
   "cell_type": "code",
   "execution_count": 7,
   "metadata": {
    "ExecuteTime": {
     "end_time": "2019-11-20T06:22:21.548822Z",
     "start_time": "2019-11-20T06:22:21.543869Z"
    }
   },
   "outputs": [],
   "source": [
    "#Installation needed\n",
    "# !pip install nltk\n",
    "# !pip install wordnet\n",
    "# !pip install gensim\n",
    "# !pip install google-compute-engine\n",
    "# !pip install pyLDAvis\n",
    "# !python3 -m spacy download en"
   ]
  },
  {
   "cell_type": "code",
   "execution_count": 8,
   "metadata": {
    "ExecuteTime": {
     "end_time": "2019-11-20T06:22:21.586213Z",
     "start_time": "2019-11-20T06:22:21.551256Z"
    }
   },
   "outputs": [],
   "source": [
    "#Download needed\n",
    "# nltk.download('wordnet')\n"
   ]
  },
  {
   "cell_type": "markdown",
   "metadata": {},
   "source": [
    "# Reading tsv files"
   ]
  },
  {
   "cell_type": "code",
   "execution_count": 9,
   "metadata": {
    "ExecuteTime": {
     "end_time": "2019-11-20T06:22:21.591088Z",
     "start_time": "2019-11-20T06:22:21.588450Z"
    }
   },
   "outputs": [],
   "source": [
    "#Limiting the number of files read due to system resource limitation\n",
    "#Noticed that some of the files are throwing a format error . Examples: 154892.tsv, 193037.tsv"
   ]
  },
  {
   "cell_type": "code",
   "execution_count": 17,
   "metadata": {
    "ExecuteTime": {
     "end_time": "2019-12-04T08:49:09.685177Z",
     "start_time": "2019-12-04T08:33:24.382666Z"
    }
   },
   "outputs": [],
   "source": [
    "#Replaced single and double quotes with space\n",
    "#! sh replace_pattern.sh "
   ]
  },
  {
   "cell_type": "code",
   "execution_count": 7,
   "metadata": {
    "ExecuteTime": {
     "end_time": "2020-04-12T18:08:22.905802Z",
     "start_time": "2020-04-12T18:08:22.902675Z"
    }
   },
   "outputs": [],
   "source": [
    "DIR_SAVED='./saved'\n",
    "FILENAME='df_raw_just_loaded.pkl'\n"
   ]
  },
  {
   "cell_type": "code",
   "execution_count": 5,
   "metadata": {
    "ExecuteTime": {
     "end_time": "2019-12-06T03:44:19.044961Z",
     "start_time": "2019-12-06T03:44:19.035430Z"
    }
   },
   "outputs": [
    {
     "name": "stdout",
     "output_type": "stream",
     "text": [
      "============== Skipped loading files ===================\n"
     ]
    }
   ],
   "source": [
    "#4.5 hours to load and pickle\n",
    "LOAD_FILES=False\n",
    "\n",
    "if LOAD_FILES:\n",
    "    print(\"============== Started loading files ===================\")\n",
    "    df_raw=pd.DataFrame(columns=['filename','message','first_question','usernames'])\n",
    "    NUM_FILES_READ=3000\n",
    "    path='./dialogs_mod/4'\n",
    "    for subdir, dirs, files in os.walk(path):\n",
    "    #     for file in files[:NUM_FILES_READ]:\n",
    "    #         print(\"file:\",file)\n",
    "        for file in files:\n",
    "            if file.endswith((\".tsv\")):\n",
    "                try:\n",
    "                    print(\"Starting \"+subdir+'/'+file)\n",
    "                    df_file = pd.read_csv(subdir+'/'+file,header=None,names=['ts','from','to','message'],sep='\\t')\n",
    "                    df_file['message'] = df_file['message'].fillna(' ')\n",
    "                    dict_file = {}\n",
    "                    dict_file['filename']=file\n",
    "                    dict_file['first_question']=df_file['message'][0]\n",
    "                    dict_file['message']='. '.join(list(df_file['message']))\n",
    "                    from_user=list(df_file['from'])\n",
    "                    dict_file['usernames']=set(from_user)\n",
    "        #           TODO: Include repliers \n",
    "                    df_raw=pd.concat([df_raw,pd.DataFrame.from_dict([dict_file])], sort=False, ignore_index=True)\n",
    "                except:\n",
    "                    print(\"An exception occurred at \",file)\n",
    "                    print(\"-\"*60)\n",
    "                    traceback.print_exc(file=sys.stdout)\n",
    "                    print(\"-\"*60)\n",
    "    print(\"============== Started saving to pickle files ===================\")\n",
    "    df_raw.to_pickle(DIR_SAVED+'/'+FILENAME)\n",
    "else:\n",
    "    print(\"============== Skipped loading files ===================\")\n",
    "\n"
   ]
  },
  {
   "cell_type": "code",
   "execution_count": 7,
   "metadata": {
    "ExecuteTime": {
     "end_time": "2019-12-06T03:56:46.882115Z",
     "start_time": "2019-12-06T03:56:46.879571Z"
    }
   },
   "outputs": [],
   "source": [
    "DIR_SAVED='./saved'\n",
    "FILENAME='df_raw_just_loaded.pkl'\n"
   ]
  },
  {
   "cell_type": "code",
   "execution_count": 8,
   "metadata": {
    "ExecuteTime": {
     "end_time": "2019-12-06T03:56:51.619151Z",
     "start_time": "2019-12-06T03:56:49.139855Z"
    },
    "run_control": {
     "marked": true
    },
    "scrolled": true
   },
   "outputs": [
    {
     "name": "stdout",
     "output_type": "stream",
     "text": [
      "<class 'pandas.core.frame.DataFrame'>\n",
      "(269023, 4)\n",
      "Index(['filename', 'message', 'first_question', 'usernames'], dtype='object')\n"
     ]
    }
   ],
   "source": [
    "df_raw = pd.read_pickle(DIR_SAVED+'/'+FILENAME)\n",
    "print(type(df_raw))\n",
    "print(df_raw.shape)\n",
    "print(df_raw.columns)\n"
   ]
  },
  {
   "cell_type": "code",
   "execution_count": null,
   "metadata": {
    "ExecuteTime": {
     "start_time": "2019-12-04T09:29:23.457Z"
    }
   },
   "outputs": [],
   "source": []
  },
  {
   "cell_type": "code",
   "execution_count": 13,
   "metadata": {
    "ExecuteTime": {
     "end_time": "2019-12-06T03:58:51.381864Z",
     "start_time": "2019-12-06T03:58:51.337963Z"
    }
   },
   "outputs": [
    {
     "data": {
      "text/plain": [
       "0"
      ]
     },
     "execution_count": 13,
     "metadata": {},
     "output_type": "execute_result"
    }
   ],
   "source": [
    "#Checking for NULL\n",
    "df_raw['message'].isnull().sum()"
   ]
  },
  {
   "cell_type": "code",
   "execution_count": 10,
   "metadata": {
    "ExecuteTime": {
     "end_time": "2019-12-06T03:58:14.085990Z",
     "start_time": "2019-12-06T03:58:13.173138Z"
    }
   },
   "outputs": [],
   "source": [
    "df_raw['num_words_raw'] = df_raw['message'].apply(lambda x : len(x.split()))"
   ]
  },
  {
   "cell_type": "code",
   "execution_count": 9,
   "metadata": {
    "ExecuteTime": {
     "end_time": "2019-12-04T07:37:26.148696Z",
     "start_time": "2019-12-04T07:37:24.962410Z"
    }
   },
   "outputs": [
    {
     "data": {
      "image/png": "[encoded data removed]",
      "text/plain": [
       "<Figure size 864x360 with 1 Axes>"
      ]
     },
     "metadata": {
      "needs_background": "light"
     },
     "output_type": "display_data"
    }
   ],
   "source": [
    "doc_lengths = df_raw['num_words_raw'].values\n",
    "plt.figure(figsize=(12,5))\n",
    "plt.hist(doc_lengths, bins=100)\n",
    "# plt.xlim((0,40000))\n",
    "plt.xlabel('Document Length')\n",
    "plt.ylabel('Frequency')\n",
    "plt.show()\n"
   ]
  },
  {
   "cell_type": "code",
   "execution_count": 14,
   "metadata": {
    "ExecuteTime": {
     "end_time": "2019-12-06T03:59:00.102541Z",
     "start_time": "2019-12-06T03:59:00.088555Z"
    }
   },
   "outputs": [
    {
     "name": "stdout",
     "output_type": "stream",
     "text": [
      "Average document length: 42.0 words\n",
      "Median document length: 37.0 words\n",
      "Max document length: 344 words\n",
      "Min document length: 4 words\n"
     ]
    }
   ],
   "source": [
    "# examing the document length \n",
    "print(\"Average document length: {} words\".format(round(np.mean(df_raw['num_words_raw']))))\n",
    "print(\"Median document length: {} words\".format(round(np.median(df_raw['num_words_raw']))))\n",
    "print(\"Max document length: {} words\".format(round(np.max(df_raw['num_words_raw']))))\n",
    "print(\"Min document length: {} words\".format(round(np.min(df_raw['num_words_raw']))))\n"
   ]
  },
  {
   "cell_type": "code",
   "execution_count": 15,
   "metadata": {
    "ExecuteTime": {
     "end_time": "2019-12-06T03:59:41.339463Z",
     "start_time": "2019-12-06T03:59:41.332676Z"
    }
   },
   "outputs": [],
   "source": [
    "\n",
    "# Helper code for plotting histograms\n",
    "def plot_length_histogram(lengths, x_range=[0,200], bins=20, normed=False):\n",
    "    hist, bin_edges = np.histogram(a=lengths, bins=bins, normed=normed, range=x_range)\n",
    "    bin_centers = (bin_edges[1:] + bin_edges[:-1])/2\n",
    "    bin_widths =  (bin_edges[1:] - bin_edges[:-1])\n",
    "\n",
    "    hover = HoverTool(tooltips=[(\"bucket\", \"@x\"), (\"count\", \"@top\")], mode=\"vline\")\n",
    "    fig = bp.figure(plot_width=800, plot_height=400, tools=[hover])\n",
    "    fig.vbar(x=bin_centers, width=bin_widths, top=hist, hover_fill_color=\"firebrick\")\n",
    "    fig.y_range.start = 0\n",
    "    fig.x_range.start = 0\n",
    "    fig.xaxis.axis_label = \"Document Length\"\n",
    "    fig.yaxis.axis_label = \"Frequency\"\n",
    "    bp.output_file(\"hist.html\")\n",
    "    bp.show(fig)\n"
   ]
  },
  {
   "cell_type": "code",
   "execution_count": 16,
   "metadata": {
    "ExecuteTime": {
     "end_time": "2019-12-06T03:59:42.062353Z",
     "start_time": "2019-12-06T03:59:42.049172Z"
    }
   },
   "outputs": [
    {
     "ename": "NameError",
     "evalue": "name 'doc_lengths' is not defined",
     "output_type": "error",
     "traceback": [
      "\u001b[0;31m---------------------------------------------------------------------------\u001b[0m",
      "\u001b[0;31mNameError\u001b[0m                                 Traceback (most recent call last)",
      "\u001b[0;32m<ipython-input-16-7548b0dec38e>\u001b[0m in \u001b[0;36m<module>\u001b[0;34m\u001b[0m\n\u001b[1;32m      1\u001b[0m \u001b[0;34m\u001b[0m\u001b[0m\n\u001b[0;32m----> 2\u001b[0;31m \u001b[0mplot_length_histogram\u001b[0m\u001b[0;34m(\u001b[0m\u001b[0mdoc_lengths\u001b[0m\u001b[0;34m)\u001b[0m\u001b[0;34m\u001b[0m\u001b[0;34m\u001b[0m\u001b[0m\n\u001b[0m",
      "\u001b[0;31mNameError\u001b[0m: name 'doc_lengths' is not defined"
     ]
    }
   ],
   "source": [
    "    \n",
    "plot_length_histogram(doc_lengths)"
   ]
  },
  {
   "cell_type": "markdown",
   "metadata": {},
   "source": [
    "# Usernames"
   ]
  },
  {
   "cell_type": "code",
   "execution_count": 17,
   "metadata": {
    "ExecuteTime": {
     "end_time": "2019-12-06T03:59:48.939681Z",
     "start_time": "2019-12-06T03:59:48.702306Z"
    }
   },
   "outputs": [],
   "source": [
    "#Listing all username for stop words\n",
    "all_usernames=set()\n",
    "for list1 in df_raw['usernames']:\n",
    "    for list2 in list1:\n",
    "        all_usernames.add(list2)\n"
   ]
  },
  {
   "cell_type": "markdown",
   "metadata": {},
   "source": [
    "# Stop words"
   ]
  },
  {
   "cell_type": "code",
   "execution_count": 20,
   "metadata": {
    "ExecuteTime": {
     "end_time": "2019-12-06T04:04:31.124442Z",
     "start_time": "2019-12-06T04:04:31.029868Z"
    }
   },
   "outputs": [
    {
     "name": "stdout",
     "output_type": "stream",
     "text": [
      "179\n",
      "181\n",
      "140718\n"
     ]
    }
   ],
   "source": [
    "# stop = list(set(nltk.corpus.stopwords.words('english') + list(gensim.parsing.preprocessing.STOPWORDS)))\n",
    "stop = nltk.corpus.stopwords.words('english')\n",
    "print(len(stop))\n",
    "additional_stop_words=['yes','no','ubuntu','linux','help','thanks','thank','work','support','error','problem','file',\n",
    "                       'installed','install','installing','software']\n",
    "additional_stop_words=['ubuntu','linux']\n",
    "stop = stop + additional_stop_words\n",
    "print(len(stop))\n",
    "stop = stop + list(set(all_usernames))\n",
    "print(len(stop))\n"
   ]
  },
  {
   "cell_type": "code",
   "execution_count": null,
   "metadata": {},
   "outputs": [],
   "source": []
  },
  {
   "cell_type": "markdown",
   "metadata": {},
   "source": [
    "# Spacy"
   ]
  },
  {
   "cell_type": "code",
   "execution_count": 21,
   "metadata": {
    "ExecuteTime": {
     "end_time": "2019-12-06T04:04:37.390217Z",
     "start_time": "2019-12-06T04:04:35.258153Z"
    }
   },
   "outputs": [],
   "source": [
    "nlp_spacy = spacy.load(\"en_core_web_sm\") \n"
   ]
  },
  {
   "cell_type": "markdown",
   "metadata": {},
   "source": [
    "# Preprocess"
   ]
  },
  {
   "cell_type": "code",
   "execution_count": 22,
   "metadata": {
    "ExecuteTime": {
     "end_time": "2019-12-06T04:05:22.714417Z",
     "start_time": "2019-12-06T04:05:22.705469Z"
    }
   },
   "outputs": [],
   "source": [
    "def f_preprocess_1(in_raw_msg):\n",
    "    \"\"\"\n",
    "    Removes punctuation, stop words, digits, and domain names. Also lemmatizes and filters by certain pos tags \n",
    "    \n",
    "    Input:\n",
    "    ----------\n",
    "    in_raw_msg : Unaltered complete message for a file\n",
    "\n",
    "    Returns:\n",
    "    -------\n",
    "    Processed and tokenized messge\n",
    "    \"\"\"\n",
    "    \n",
    "    global all_usernames\n",
    "    global lemmatizer \n",
    "    global stop\n",
    "    result = in_raw_msg\n",
    "\n",
    "    #lowercasing\n",
    "    result = \" \".join(x.lower() for x in result.split())\n",
    "    \n",
    "    #removing domain names\n",
    "    pattern = r\"[^\\s]*\\.(com|org|net)\\S*\"\n",
    "    result = re.sub(pattern, '', result)\n",
    "    pattern = r\"http[s]?://(?:[a-zA-Z]|[0-9]|[$-_@.&+]|[!*\\(\\),]|(?:%[0-9a-fA-F][0-9a-fA-F]))+\"\n",
    "    result = re.sub(pattern, '', result)\n",
    "    pattern = r\"www.(?:[a-zA-Z]|[0-9]|[$-_@.&+]|[!*\\(\\),]|(?:%[0-9a-fA-F][0-9a-fA-F]))+\"\n",
    "    result = re.sub(pattern, '', result)\n",
    "\n",
    "    #Removing punctuation\n",
    "    result = re.sub('[^A-Za-z]+', ' ', result)\n",
    "#     result = re.sub(r'[?]+', \" \", result)  \n",
    "#     result = re.sub(r'[ ]+\\.', \".\", result)  \n",
    "#     result = re.sub(' --', '', result)\n",
    "#     result = re.sub('[-_]+', '', result)\n",
    "#     result = re.sub('[(]+', '', result)\n",
    "#     result = re.sub('[)]+', '', result)\n",
    "#     result = re.sub('[;]+', '', result)\n",
    "#     result = re.sub('[\\\"]+', '', result)\n",
    "#     #replacing dots(.)\n",
    "#     result = re.sub('[\\.]+', ' ', result)\n",
    "#     #replacing screens/options with screens options\n",
    "#     result = re.sub('[/]+', ' ', result)\n",
    "#     #replacing i'm with im\n",
    "#     result = re.sub('[\\']+', '', result)\n",
    "#     result = result.replace(\"!@#$%^&*()[]{};:,./<>?|`~-=_+\", \" \")  \n",
    "#     result = re.sub(r'[!@#$%^&*()[]{};:,./<>?|`~-=_+]*', \" \", result)  \n",
    "\n",
    "    #Remove digits\n",
    "    #result = re.sub(r\"\\d+\", \"\", result)\n",
    "\n",
    "    #Removing stop words\n",
    "    result = ' '.join([word for word in result.split() if word not in stop])\n",
    "    result = result.replace(r'\\s+','')\n",
    "\n",
    "    # Lemmatization: converts the word into its root word, rather than just stripping the suffices.\n",
    "    # Going with spacy instead of nltk due to better output\n",
    "    doc = nlp_spacy(result) \n",
    "    tmp_result=[]\n",
    "    for token in doc: \n",
    "        tmp_result.append(token.lemma_) \n",
    "        #tmp_result.append(token.orth_) \n",
    "    result = ' '.join(tmp_result)\n",
    "#     print(\"Lemma: \",result,\"\\n\")\n",
    "    \n",
    "\n",
    "    #replacing multiple spaces with one\n",
    "    result = re.sub('[ ]{2,}', ' ', result)\n",
    "#     print(\"Multiple: \",result,\"\\n\")\n",
    "\n",
    "    #Considering words of length ge 2 and valid pos tags only\n",
    "    \n",
    "    result_valid=list()\n",
    "    \n",
    "    for (word,tag) in nltk.pos_tag(word_tokenize(result)):\n",
    "        if len(word)>=2:\n",
    "            result_valid.append(word)  \n",
    "\n",
    "    result = ' '.join(result_valid)\n",
    "#     print(\"Final: \",result,\"\\n\")\n",
    "    \n",
    "\n",
    "    return result"
   ]
  },
  {
   "cell_type": "code",
   "execution_count": 23,
   "metadata": {
    "ExecuteTime": {
     "end_time": "2019-12-06T12:53:41.525800Z",
     "start_time": "2019-12-06T04:05:24.598366Z"
    }
   },
   "outputs": [],
   "source": [
    "# message_processed to hold the cleaned data\n",
    "# 9 hours\n",
    "df_raw['message_processed'] = df_raw['message'].apply(f_preprocess_1)\n"
   ]
  },
  {
   "cell_type": "code",
   "execution_count": 24,
   "metadata": {
    "ExecuteTime": {
     "end_time": "2019-12-06T12:53:42.905152Z",
     "start_time": "2019-12-06T12:53:42.045724Z"
    }
   },
   "outputs": [],
   "source": [
    "SAVE_TO_PICKLE=True\n",
    "DIR_SAVED='./saved'\n",
    "FILENAME_V2='df_raw_V2.pkl'\n",
    "\n",
    "if SAVE_TO_PICKLE:\n",
    "    df_raw.to_pickle(DIR_SAVED+'/'+FILENAME_V2)\n",
    "else:\n",
    "    print(\"======= Skipping SAVE_TO_PICKLE ===========\")\n"
   ]
  },
  {
   "cell_type": "code",
   "execution_count": 8,
   "metadata": {
    "ExecuteTime": {
     "end_time": "2020-04-12T18:08:25.539286Z",
     "start_time": "2020-04-12T18:08:23.180573Z"
    }
   },
   "outputs": [
    {
     "name": "stdout",
     "output_type": "stream",
     "text": [
      "<class 'pandas.core.frame.DataFrame'>\n",
      "(269023, 6)\n",
      "Index(['filename', 'message', 'first_question', 'usernames', 'num_words_raw',\n",
      "       'message_processed'],\n",
      "      dtype='object')\n"
     ]
    }
   ],
   "source": [
    "LOAD_FROM_PICKLE=True\n",
    "\n",
    "\n",
    "if LOAD_FROM_PICKLE:\n",
    "    SAVE_TO_PICKLE=True\n",
    "    DIR_SAVED='./saved'\n",
    "    FILENAME_V2='df_raw_V2.pkl'\n",
    "    \n",
    "    df_raw = pd.read_pickle(DIR_SAVED+'/'+FILENAME_V2)\n",
    "    print(type(df_raw))\n",
    "    print(df_raw.shape)\n",
    "    print(df_raw.columns)\n",
    "else:\n",
    "    print(\"======= Skipping LOAD_FROM_PICKLE ===========\")\n",
    "\n"
   ]
  },
  {
   "cell_type": "code",
   "execution_count": 136,
   "metadata": {
    "ExecuteTime": {
     "end_time": "2019-11-20T08:08:15.505317Z",
     "start_time": "2019-11-20T08:08:15.498932Z"
    }
   },
   "outputs": [
    {
     "data": {
      "text/plain": [
       "'hello there. I am trying to install GLX on my Dapper (ATI 9200 mobile; IBM T42 laptop). I am following the guide that is on the Ubuntuforum.org, but it does not work as described. Who is willing to help me?. i think i didn\\'t have to do anything except change driver from xorg.conf from ati to fglrx. The forum tells me: \"Start gconf-editor and go to \"apps/compiz/general/all screens/options\"\", but there is no section \"apps/compiz\" in gconf. I always use the fglrx driver, but there is some other strange problem'"
      ]
     },
     "execution_count": 136,
     "metadata": {},
     "output_type": "execute_result"
    }
   ],
   "source": [
    "df_raw[['message']].head(1).values[0][0]"
   ]
  },
  {
   "cell_type": "code",
   "execution_count": 144,
   "metadata": {
    "ExecuteTime": {
     "end_time": "2019-11-20T08:10:52.161918Z",
     "start_time": "2019-11-20T08:10:52.155955Z"
    }
   },
   "outputs": [
    {
     "data": {
      "text/plain": [
       "0    hello try install glx dapper ati mobile ibm laptop follow guide work describe willing help think anything except change driver xorg conf ati fglrx forum tell start gconf editor go app compiz gener...\n",
       "Name: message_processed, dtype: object"
      ]
     },
     "execution_count": 144,
     "metadata": {},
     "output_type": "execute_result"
    }
   ],
   "source": [
    "df_raw['message_processed'].head(1)"
   ]
  },
  {
   "cell_type": "code",
   "execution_count": 31,
   "metadata": {
    "ExecuteTime": {
     "end_time": "2019-11-19T05:06:14.427239Z",
     "start_time": "2019-11-19T05:06:14.420917Z"
    }
   },
   "outputs": [],
   "source": [
    "# Helper code for plotting histograms\n",
    "def plot_length_histogram(lengths, x_range=[0,200], bins=20, normed=False):\n",
    "    hist, bin_edges = np.histogram(a=lengths, bins=bins, normed=normed, range=x_range)\n",
    "    bin_centers = (bin_edges[1:] + bin_edges[:-1])/2\n",
    "    bin_widths =  (bin_edges[1:] - bin_edges[:-1])\n",
    "\n",
    "    hover = HoverTool(tooltips=[(\"bucket\", \"@x\"), (\"count\", \"@top\")], mode=\"vline\")\n",
    "    fig = bp.figure(plot_width=800, plot_height=400, tools=[hover])\n",
    "    fig.vbar(x=bin_centers, width=bin_widths, top=hist, hover_fill_color=\"firebrick\")\n",
    "    fig.y_range.start = 0\n",
    "    fig.x_range.start = 0\n",
    "    fig.xaxis.axis_label = \"Document Length\"\n",
    "    fig.yaxis.axis_label = \"Frequency\"\n",
    "    bp.output_file(\"hist.html\")\n",
    "    bp.show(fig)\n"
   ]
  },
  {
   "cell_type": "markdown",
   "metadata": {},
   "source": [
    "# Analyzing length of processed messages"
   ]
  },
  {
   "cell_type": "code",
   "execution_count": 9,
   "metadata": {
    "ExecuteTime": {
     "end_time": "2020-04-12T18:08:39.529499Z",
     "start_time": "2020-04-12T18:08:38.879569Z"
    }
   },
   "outputs": [],
   "source": [
    "df_raw['num_words_processed'] = df_raw['message_processed'].apply(lambda string: len(string.split()))"
   ]
  },
  {
   "cell_type": "code",
   "execution_count": 10,
   "metadata": {
    "ExecuteTime": {
     "end_time": "2020-04-12T18:08:39.593773Z",
     "start_time": "2020-04-12T18:08:39.531658Z"
    }
   },
   "outputs": [
    {
     "name": "stdout",
     "output_type": "stream",
     "text": [
      "Average message length: 15.0 words\n",
      "Median message length: 13.0 words\n",
      "Max message length: 203 words\n",
      "Min message length: 0 words\n"
     ]
    }
   ],
   "source": [
    "# examing the document length \n",
    "print(\"Average message length: {} words\".format(round(np.mean(df_raw['num_words_processed']))))\n",
    "print(\"Median message length: {} words\".format(round(np.median(df_raw['num_words_processed']))))\n",
    "print(\"Max message length: {} words\".format(round(np.max(df_raw['num_words_processed']))))\n",
    "print(\"Min message length: {} words\".format(round(np.min(df_raw['num_words_processed']))))\n"
   ]
  },
  {
   "cell_type": "code",
   "execution_count": 14,
   "metadata": {
    "ExecuteTime": {
     "end_time": "2020-04-12T06:31:28.870556Z",
     "start_time": "2020-04-12T06:31:28.288121Z"
    }
   },
   "outputs": [
    {
     "data": {
      "text/html": [
       "<div>\n",
       "<style scoped>\n",
       "    .dataframe tbody tr th:only-of-type {\n",
       "        vertical-align: middle;\n",
       "    }\n",
       "\n",
       "    .dataframe tbody tr th {\n",
       "        vertical-align: top;\n",
       "    }\n",
       "\n",
       "    .dataframe thead th {\n",
       "        text-align: right;\n",
       "    }\n",
       "</style>\n",
       "<table border=\"1\" class=\"dataframe\">\n",
       "  <thead>\n",
       "    <tr style=\"text-align: right;\">\n",
       "      <th></th>\n",
       "      <th>filename</th>\n",
       "      <th>message</th>\n",
       "      <th>first_question</th>\n",
       "      <th>usernames</th>\n",
       "      <th>num_words_raw</th>\n",
       "      <th>message_processed</th>\n",
       "      <th>num_words_processed</th>\n",
       "    </tr>\n",
       "  </thead>\n",
       "  <tbody>\n",
       "    <tr>\n",
       "      <th>321</th>\n",
       "      <td>186965.tsv</td>\n",
       "      <td>So.... Anyone&gt;. *?. anyone what?</td>\n",
       "      <td>So...</td>\n",
       "      <td>{arch_is_awesome, ikonia}</td>\n",
       "      <td>5</td>\n",
       "      <td></td>\n",
       "      <td>0</td>\n",
       "    </tr>\n",
       "    <tr>\n",
       "      <th>479</th>\n",
       "      <td>10077.tsv</td>\n",
       "      <td>hey guys. anyone home?. hi. hello?</td>\n",
       "      <td>hey guys</td>\n",
       "      <td>{lenswipe, MATAH}</td>\n",
       "      <td>6</td>\n",
       "      <td></td>\n",
       "      <td>0</td>\n",
       "    </tr>\n",
       "    <tr>\n",
       "      <th>1055</th>\n",
       "      <td>16411.tsv</td>\n",
       "      <td>quit. help. help. what s up?</td>\n",
       "      <td>quit</td>\n",
       "      <td>{rio_, [snake]}</td>\n",
       "      <td>6</td>\n",
       "      <td></td>\n",
       "      <td>0</td>\n",
       "    </tr>\n",
       "    <tr>\n",
       "      <th>1492</th>\n",
       "      <td>77108.tsv</td>\n",
       "      <td>here s mine: http://i270.photobucket.com/albums/jj93/andrew_woodhead666/desktop.jpg?t=1231760517. - no no.. lol. ?. its fluxbox</td>\n",
       "      <td>here s mine: http://i270.photobucket.com/albums/jj93/andrew_woodhead666/desktop.jpg?t=1231760517</td>\n",
       "      <td>{ActionParsnip, KeithGS}</td>\n",
       "      <td>11</td>\n",
       "      <td></td>\n",
       "      <td>0</td>\n",
       "    </tr>\n",
       "    <tr>\n",
       "      <th>2336</th>\n",
       "      <td>82086.tsv</td>\n",
       "      <td>怎么没人说话啊. 谢谢. 哦  原来如此. ??????????,?????????? ???</td>\n",
       "      <td>怎么没人说话啊</td>\n",
       "      <td>{Saiki, joerh99}</td>\n",
       "      <td>6</td>\n",
       "      <td></td>\n",
       "      <td>0</td>\n",
       "    </tr>\n",
       "    <tr>\n",
       "      <th>3338</th>\n",
       "      <td>101390.tsv</td>\n",
       "      <td>i am who i am because of who we all are. :o.  namaste. *g*</td>\n",
       "      <td>i am who i am because of who we all are</td>\n",
       "      <td>{mojo, sagredo}</td>\n",
       "      <td>14</td>\n",
       "      <td></td>\n",
       "      <td>0</td>\n",
       "    </tr>\n",
       "    <tr>\n",
       "      <th>4235</th>\n",
       "      <td>181156.tsv</td>\n",
       "      <td>m z z: : w h a t s u t f 1 6 ?. l o m p f o n g : y o u r t e x t i s n   t s p a c e d. m z z : i a m o n b r e e z y b a d g e r. y o u  s h o u l d  u s e  t a b  c o m p l e t e</td>\n",
       "      <td>m z z: : w h a t s u t f 1 6 ?</td>\n",
       "      <td>{jifli, bruenig}</td>\n",
       "      <td>86</td>\n",
       "      <td></td>\n",
       "      <td>0</td>\n",
       "    </tr>\n",
       "    <tr>\n",
       "      <th>5123</th>\n",
       "      <td>252932.tsv</td>\n",
       "      <td>hi!. list!. 1, 2, 3, 4. 5</td>\n",
       "      <td>hi!</td>\n",
       "      <td>{reisio, alessandro97}</td>\n",
       "      <td>7</td>\n",
       "      <td></td>\n",
       "      <td>0</td>\n",
       "    </tr>\n",
       "    <tr>\n",
       "      <th>5695</th>\n",
       "      <td>92421.tsv</td>\n",
       "      <td>p. ?????. i from china. I m not ^^</td>\n",
       "      <td>p</td>\n",
       "      <td>{sergiu_, fengxiaoxiao}</td>\n",
       "      <td>9</td>\n",
       "      <td></td>\n",
       "      <td>0</td>\n",
       "    </tr>\n",
       "    <tr>\n",
       "      <th>6550</th>\n",
       "      <td>119561.tsv</td>\n",
       "      <td>hi. heyy. hey guys. support question?</td>\n",
       "      <td>hi</td>\n",
       "      <td>{wafiiq_, bazhang}</td>\n",
       "      <td>6</td>\n",
       "      <td></td>\n",
       "      <td>0</td>\n",
       "    </tr>\n",
       "    <tr>\n",
       "      <th>7647</th>\n",
       "      <td>183985.tsv</td>\n",
       "      <td>how do i rename my home folder ?. it has my old username. how do I rename my home folder to my new name?. mv</td>\n",
       "      <td>how do i rename my home folder ?</td>\n",
       "      <td>{skybox, Dextorion}</td>\n",
       "      <td>25</td>\n",
       "      <td></td>\n",
       "      <td>0</td>\n",
       "    </tr>\n",
       "    <tr>\n",
       "      <th>7783</th>\n",
       "      <td>186638.tsv</td>\n",
       "      <td>msn. i8 the six. you the black. do you have a question about ubuntu ?</td>\n",
       "      <td>msn</td>\n",
       "      <td>{nilson2, ikonia}</td>\n",
       "      <td>15</td>\n",
       "      <td></td>\n",
       "      <td>0</td>\n",
       "    </tr>\n",
       "    <tr>\n",
       "      <th>8347</th>\n",
       "      <td>101227.tsv</td>\n",
       "      <td>have a bug. have a bug. have a bug. have a bug</td>\n",
       "      <td>have a bug</td>\n",
       "      <td>{Templario}</td>\n",
       "      <td>12</td>\n",
       "      <td></td>\n",
       "      <td>0</td>\n",
       "    </tr>\n",
       "    <tr>\n",
       "      <th>10968</th>\n",
       "      <td>199627.tsv</td>\n",
       "      <td>S.a. ?. :D. S.a?</td>\n",
       "      <td>S.a</td>\n",
       "      <td>{KafanaGore--, yigal}</td>\n",
       "      <td>4</td>\n",
       "      <td></td>\n",
       "      <td>0</td>\n",
       "    </tr>\n",
       "    <tr>\n",
       "      <th>11284</th>\n",
       "      <td>34455.tsv</td>\n",
       "      <td>мне кто нибудь ответит кто всё эти люди?.  а что там есть?.  а что это. no</td>\n",
       "      <td>мне кто нибудь ответит кто всё эти люди?</td>\n",
       "      <td>{serkus, magicstuff}</td>\n",
       "      <td>16</td>\n",
       "      <td></td>\n",
       "      <td>0</td>\n",
       "    </tr>\n",
       "    <tr>\n",
       "      <th>11393</th>\n",
       "      <td>3880.tsv</td>\n",
       "      <td>?. help. ??. ?</td>\n",
       "      <td>?</td>\n",
       "      <td>{zzz_, mrsuchyPL}</td>\n",
       "      <td>4</td>\n",
       "      <td></td>\n",
       "      <td>0</td>\n",
       "    </tr>\n",
       "    <tr>\n",
       "      <th>11554</th>\n",
       "      <td>171939.tsv</td>\n",
       "      <td>nano. :). you joker. yes a little</td>\n",
       "      <td>nano</td>\n",
       "      <td>{strangy, looksaus}</td>\n",
       "      <td>7</td>\n",
       "      <td></td>\n",
       "      <td>0</td>\n",
       "    </tr>\n",
       "    <tr>\n",
       "      <th>11760</th>\n",
       "      <td>212641.tsv</td>\n",
       "      <td>How do you quit man.. /quit. what are you trying to quit?. q</td>\n",
       "      <td>How do you quit man.</td>\n",
       "      <td>{gnomefreak, indref}</td>\n",
       "      <td>13</td>\n",
       "      <td></td>\n",
       "      <td>0</td>\n",
       "    </tr>\n",
       "    <tr>\n",
       "      <th>13041</th>\n",
       "      <td>80969.tsv</td>\n",
       "      <td>how do I move a file? MV?. how do I move a file? MV?. how do I move a file? MV?. mv</td>\n",
       "      <td>how do I move a file? MV?</td>\n",
       "      <td>{Dravekx, ChrisMorgan}</td>\n",
       "      <td>22</td>\n",
       "      <td></td>\n",
       "      <td>0</td>\n",
       "    </tr>\n",
       "    <tr>\n",
       "      <th>13235</th>\n",
       "      <td>40161.tsv</td>\n",
       "      <td>hi. hi. hi. hi</td>\n",
       "      <td>hi</td>\n",
       "      <td>{itachi_linux, maryellen}</td>\n",
       "      <td>4</td>\n",
       "      <td></td>\n",
       "      <td>0</td>\n",
       "    </tr>\n",
       "    <tr>\n",
       "      <th>14042</th>\n",
       "      <td>27919.tsv</td>\n",
       "      <td>hello. хай. здесь незя in russian. а что забанить моут как злобных терористов</td>\n",
       "      <td>hello</td>\n",
       "      <td>{serkus, ubuntu03082010}</td>\n",
       "      <td>13</td>\n",
       "      <td></td>\n",
       "      <td>0</td>\n",
       "    </tr>\n",
       "    <tr>\n",
       "      <th>14261</th>\n",
       "      <td>236102.tsv</td>\n",
       "      <td>hello pawel. where are you. hi xim...where are you. im in texas</td>\n",
       "      <td>hello pawel</td>\n",
       "      <td>{franklin, xim}</td>\n",
       "      <td>12</td>\n",
       "      <td></td>\n",
       "      <td>0</td>\n",
       "    </tr>\n",
       "    <tr>\n",
       "      <th>16981</th>\n",
       "      <td>78761.tsv</td>\n",
       "      <td>hi. yo sup. i love ubuntu. what do you love in ubuntu?</td>\n",
       "      <td>hi</td>\n",
       "      <td>{zimbres, toshiba}</td>\n",
       "      <td>12</td>\n",
       "      <td></td>\n",
       "      <td>0</td>\n",
       "    </tr>\n",
       "    <tr>\n",
       "      <th>17513</th>\n",
       "      <td>204799.tsv</td>\n",
       "      <td>eek. sudo -i. not sudo su. eek?</td>\n",
       "      <td>eek</td>\n",
       "      <td>{xslf, Seveas}</td>\n",
       "      <td>7</td>\n",
       "      <td></td>\n",
       "      <td>0</td>\n",
       "    </tr>\n",
       "    <tr>\n",
       "      <th>18082</th>\n",
       "      <td>190334.tsv</td>\n",
       "      <td>hi,all. o_O. silver.  yes ?</td>\n",
       "      <td>hi,all</td>\n",
       "      <td>{silver, gavin2u}</td>\n",
       "      <td>5</td>\n",
       "      <td></td>\n",
       "      <td>0</td>\n",
       "    </tr>\n",
       "    <tr>\n",
       "      <th>18338</th>\n",
       "      <td>251866.tsv</td>\n",
       "      <td>anyone here play ET?. lol!!!!!!!!!!!!11. I do. you still there ?</td>\n",
       "      <td>anyone here play ET?</td>\n",
       "      <td>{justdust, aethera}</td>\n",
       "      <td>11</td>\n",
       "      <td></td>\n",
       "      <td>0</td>\n",
       "    </tr>\n",
       "    <tr>\n",
       "      <th>19696</th>\n",
       "      <td>23268.tsv</td>\n",
       "      <td>hi. someone that can help me here?. hi. What do you need</td>\n",
       "      <td>hi</td>\n",
       "      <td>{_bin_bash, Side}</td>\n",
       "      <td>12</td>\n",
       "      <td></td>\n",
       "      <td>0</td>\n",
       "    </tr>\n",
       "    <tr>\n",
       "      <th>20203</th>\n",
       "      <td>53000.tsv</td>\n",
       "      <td>hi!. こんにちは. yes. こんにちは ?</td>\n",
       "      <td>hi!</td>\n",
       "      <td>{kenta, pp7}</td>\n",
       "      <td>5</td>\n",
       "      <td></td>\n",
       "      <td>0</td>\n",
       "    </tr>\n",
       "    <tr>\n",
       "      <th>22347</th>\n",
       "      <td>167181.tsv</td>\n",
       "      <td>hola. !list. !list. Do you need help with ubuntu?</td>\n",
       "      <td>hola</td>\n",
       "      <td>{overmind, luck}</td>\n",
       "      <td>9</td>\n",
       "      <td></td>\n",
       "      <td>0</td>\n",
       "    </tr>\n",
       "    <tr>\n",
       "      <th>23799</th>\n",
       "      <td>144819.tsv</td>\n",
       "      <td>!ati. hey n-iCe!.  !!!!.  :))</td>\n",
       "      <td>!ati</td>\n",
       "      <td>{n-iCe, Crosswing}</td>\n",
       "      <td>5</td>\n",
       "      <td></td>\n",
       "      <td>0</td>\n",
       "    </tr>\n",
       "    <tr>\n",
       "      <th>...</th>\n",
       "      <td>...</td>\n",
       "      <td>...</td>\n",
       "      <td>...</td>\n",
       "      <td>...</td>\n",
       "      <td>...</td>\n",
       "      <td>...</td>\n",
       "      <td>...</td>\n",
       "    </tr>\n",
       "    <tr>\n",
       "      <th>250076</th>\n",
       "      <td>134545.tsv</td>\n",
       "      <td>lol. i was born in  89. x). sudo shutdown 60m</td>\n",
       "      <td>lol</td>\n",
       "      <td>{hsatera, DWSR}</td>\n",
       "      <td>10</td>\n",
       "      <td></td>\n",
       "      <td>0</td>\n",
       "    </tr>\n",
       "    <tr>\n",
       "      <th>251010</th>\n",
       "      <td>208952.tsv</td>\n",
       "      <td>Hey dwight. what s up. nm, u. ok</td>\n",
       "      <td>Hey dwight</td>\n",
       "      <td>{dwight, DShepherd}</td>\n",
       "      <td>8</td>\n",
       "      <td></td>\n",
       "      <td>0</td>\n",
       "    </tr>\n",
       "    <tr>\n",
       "      <th>251303</th>\n",
       "      <td>42476.tsv</td>\n",
       "      <td>hey. hi. there?. yes?</td>\n",
       "      <td>hey</td>\n",
       "      <td>{aeon-ltd, juniour_}</td>\n",
       "      <td>4</td>\n",
       "      <td></td>\n",
       "      <td>0</td>\n",
       "    </tr>\n",
       "    <tr>\n",
       "      <th>251324</th>\n",
       "      <td>7932.tsv</td>\n",
       "      <td>hi. there. hi. hi</td>\n",
       "      <td>hi</td>\n",
       "      <td>{azert, jtr__}</td>\n",
       "      <td>4</td>\n",
       "      <td></td>\n",
       "      <td>0</td>\n",
       "    </tr>\n",
       "    <tr>\n",
       "      <th>251641</th>\n",
       "      <td>118726.tsv</td>\n",
       "      <td>hello?. hello??!!. what is this?. ubuntu support question?</td>\n",
       "      <td>hello?</td>\n",
       "      <td>{kaitlyn_, bazhang}</td>\n",
       "      <td>8</td>\n",
       "      <td></td>\n",
       "      <td>0</td>\n",
       "    </tr>\n",
       "    <tr>\n",
       "      <th>252187</th>\n",
       "      <td>216273.tsv</td>\n",
       "      <td>Hello. How do I change my nick?. Lol. /nick new_nick</td>\n",
       "      <td>Hello</td>\n",
       "      <td>{DShepherd, ubuntu_}</td>\n",
       "      <td>10</td>\n",
       "      <td></td>\n",
       "      <td>0</td>\n",
       "    </tr>\n",
       "    <tr>\n",
       "      <th>252290</th>\n",
       "      <td>94304.tsv</td>\n",
       "      <td>haha. 看看能用中文不  阿阿阿阿. 能用. 在這裡用中文其他人可能會看到亂碼的</td>\n",
       "      <td>haha</td>\n",
       "      <td>{snowdoll, yesily}</td>\n",
       "      <td>5</td>\n",
       "      <td></td>\n",
       "      <td>0</td>\n",
       "    </tr>\n",
       "    <tr>\n",
       "      <th>252965</th>\n",
       "      <td>94204.tsv</td>\n",
       "      <td>Hello?. 안녕하세요?. Is it easy to hack ubuntu?. no it is not easy at all</td>\n",
       "      <td>Hello?</td>\n",
       "      <td>{frogscott, powlr93}</td>\n",
       "      <td>15</td>\n",
       "      <td></td>\n",
       "      <td>0</td>\n",
       "    </tr>\n",
       "    <tr>\n",
       "      <th>253231</th>\n",
       "      <td>251758.tsv</td>\n",
       "      <td>hi. hi. i am only new here. hola!</td>\n",
       "      <td>hi</td>\n",
       "      <td>{sobersabre, hendo}</td>\n",
       "      <td>8</td>\n",
       "      <td></td>\n",
       "      <td>0</td>\n",
       "    </tr>\n",
       "    <tr>\n",
       "      <th>253545</th>\n",
       "      <td>169959.tsv</td>\n",
       "      <td>wow. wow. µÈµÈ. wow?</td>\n",
       "      <td>wow</td>\n",
       "      <td>{macogw, firefly}</td>\n",
       "      <td>4</td>\n",
       "      <td></td>\n",
       "      <td>0</td>\n",
       "    </tr>\n",
       "    <tr>\n",
       "      <th>255294</th>\n",
       "      <td>196190.tsv</td>\n",
       "      <td>Âñåì ÊÓ. Òóò àíãë.???. Ïî ðóññêè êòî íèòü ôóðû÷èò??. english</td>\n",
       "      <td>Âñåì ÊÓ</td>\n",
       "      <td>{Prince, hyperstream}</td>\n",
       "      <td>10</td>\n",
       "      <td></td>\n",
       "      <td>0</td>\n",
       "    </tr>\n",
       "    <tr>\n",
       "      <th>256051</th>\n",
       "      <td>1238.tsv</td>\n",
       "      <td>hi guys. hi kid. how are ya. You ok yo ?</td>\n",
       "      <td>hi guys</td>\n",
       "      <td>{pcbsdl1, skraito}</td>\n",
       "      <td>11</td>\n",
       "      <td></td>\n",
       "      <td>0</td>\n",
       "    </tr>\n",
       "    <tr>\n",
       "      <th>257499</th>\n",
       "      <td>151656.tsv</td>\n",
       "      <td>-_-. anyone?. what?. then you have it..</td>\n",
       "      <td>-_-</td>\n",
       "      <td>{AndrewB, xethx96}</td>\n",
       "      <td>7</td>\n",
       "      <td></td>\n",
       "      <td>0</td>\n",
       "    </tr>\n",
       "    <tr>\n",
       "      <th>259292</th>\n",
       "      <td>130055.tsv</td>\n",
       "      <td>.     .       *nick*^^. what that.</td>\n",
       "      <td></td>\n",
       "      <td>{neol, kwafo1}</td>\n",
       "      <td>5</td>\n",
       "      <td></td>\n",
       "      <td>0</td>\n",
       "    </tr>\n",
       "    <tr>\n",
       "      <th>259338</th>\n",
       "      <td>130004.tsv</td>\n",
       "      <td>hello. hi. anyone here. smack</td>\n",
       "      <td>hello</td>\n",
       "      <td>{mike3_, rajkalyan}</td>\n",
       "      <td>5</td>\n",
       "      <td></td>\n",
       "      <td>0</td>\n",
       "    </tr>\n",
       "    <tr>\n",
       "      <th>260075</th>\n",
       "      <td>14458.tsv</td>\n",
       "      <td>what dm do you use?. dm... dm?. display manager</td>\n",
       "      <td>what dm do you use?</td>\n",
       "      <td>{danclark-au, sahip}</td>\n",
       "      <td>9</td>\n",
       "      <td></td>\n",
       "      <td>0</td>\n",
       "    </tr>\n",
       "    <tr>\n",
       "      <th>261088</th>\n",
       "      <td>225421.tsv</td>\n",
       "      <td>hello. anyone there. lol. no lol</td>\n",
       "      <td>hello</td>\n",
       "      <td>{vinzone, Hobbsee}</td>\n",
       "      <td>6</td>\n",
       "      <td></td>\n",
       "      <td>0</td>\n",
       "    </tr>\n",
       "    <tr>\n",
       "      <th>261629</th>\n",
       "      <td>9165.tsv</td>\n",
       "      <td>http://www.marlborotech.com/Zalgo.html. (__(__)|||||||||||||||||||||||||||||||||||||||||||||||||||||||||D ~ ~ ~. :|. :|</td>\n",
       "      <td>http://www.marlborotech.com/Zalgo.html</td>\n",
       "      <td>{ijewafiuj, SigmaWP}</td>\n",
       "      <td>7</td>\n",
       "      <td></td>\n",
       "      <td>0</td>\n",
       "    </tr>\n",
       "    <tr>\n",
       "      <th>261941</th>\n",
       "      <td>35568.tsv</td>\n",
       "      <td>hello there. anyone?. hello. What s your question?</td>\n",
       "      <td>hello there</td>\n",
       "      <td>{Guest23540, CrustyBarnacle}</td>\n",
       "      <td>8</td>\n",
       "      <td></td>\n",
       "      <td>0</td>\n",
       "    </tr>\n",
       "    <tr>\n",
       "      <th>262305</th>\n",
       "      <td>114957.tsv</td>\n",
       "      <td>:. :). nope. are you indian?</td>\n",
       "      <td>:</td>\n",
       "      <td>{utarpradesh, prakriti}</td>\n",
       "      <td>6</td>\n",
       "      <td></td>\n",
       "      <td>0</td>\n",
       "    </tr>\n",
       "    <tr>\n",
       "      <th>262504</th>\n",
       "      <td>154483.tsv</td>\n",
       "      <td>is there a default root password?. is there a default root password?. is there a default root password?. .. on ubuntu no</td>\n",
       "      <td>is there a default root password?</td>\n",
       "      <td>{evil_, un_operateur1}</td>\n",
       "      <td>22</td>\n",
       "      <td></td>\n",
       "      <td>0</td>\n",
       "    </tr>\n",
       "    <tr>\n",
       "      <th>262956</th>\n",
       "      <td>220896.tsv</td>\n",
       "      <td>hello. i am neoxan. hello. is me</td>\n",
       "      <td>hello</td>\n",
       "      <td>{neoxan}</td>\n",
       "      <td>7</td>\n",
       "      <td></td>\n",
       "      <td>0</td>\n",
       "    </tr>\n",
       "    <tr>\n",
       "      <th>263484</th>\n",
       "      <td>83970.tsv</td>\n",
       "      <td>am i a root now.. no. root, not a root. there is only one root</td>\n",
       "      <td>am i a root now.</td>\n",
       "      <td>{lstarnes, aboanas93}</td>\n",
       "      <td>15</td>\n",
       "      <td></td>\n",
       "      <td>0</td>\n",
       "    </tr>\n",
       "    <tr>\n",
       "      <th>264980</th>\n",
       "      <td>116994.tsv</td>\n",
       "      <td>Need help with audio. NEED HELP WITH AUDIO. !!!!!!!!. WHAT???</td>\n",
       "      <td>Need help with audio</td>\n",
       "      <td>{fuertesfj, komputes}</td>\n",
       "      <td>10</td>\n",
       "      <td></td>\n",
       "      <td>0</td>\n",
       "    </tr>\n",
       "    <tr>\n",
       "      <th>265823</th>\n",
       "      <td>57437.tsv</td>\n",
       "      <td>!help | kalmi. =/. it s !helpme. that d be the one.</td>\n",
       "      <td>!help | kalmi</td>\n",
       "      <td>{Kalmi, hatter243}</td>\n",
       "      <td>12</td>\n",
       "      <td></td>\n",
       "      <td>0</td>\n",
       "    </tr>\n",
       "    <tr>\n",
       "      <th>265844</th>\n",
       "      <td>20176.tsv</td>\n",
       "      <td>then?????. then what?. if not ubuntu which. Arch Linux</td>\n",
       "      <td>then?????</td>\n",
       "      <td>{Nisstyre, pksadiq}</td>\n",
       "      <td>9</td>\n",
       "      <td></td>\n",
       "      <td>0</td>\n",
       "    </tr>\n",
       "    <tr>\n",
       "      <th>267661</th>\n",
       "      <td>222672.tsv</td>\n",
       "      <td>!cp. waht is GLib?. !Glib. https://en.wikipedia.org/wiki/Glib</td>\n",
       "      <td>!cp</td>\n",
       "      <td>{mneptok, NyLes}</td>\n",
       "      <td>6</td>\n",
       "      <td></td>\n",
       "      <td>0</td>\n",
       "    </tr>\n",
       "    <tr>\n",
       "      <th>267668</th>\n",
       "      <td>134800.tsv</td>\n",
       "      <td>igor11. igor11. igor11.  /nick igor11</td>\n",
       "      <td>igor11</td>\n",
       "      <td>{igorp12, Jalathan}</td>\n",
       "      <td>5</td>\n",
       "      <td></td>\n",
       "      <td>0</td>\n",
       "    </tr>\n",
       "    <tr>\n",
       "      <th>267834</th>\n",
       "      <td>120513.tsv</td>\n",
       "      <td>hello. k. !hi | wlcsw. hello 8)</td>\n",
       "      <td>hello</td>\n",
       "      <td>{erUSUL, wlcsw}</td>\n",
       "      <td>7</td>\n",
       "      <td></td>\n",
       "      <td>0</td>\n",
       "    </tr>\n",
       "    <tr>\n",
       "      <th>268824</th>\n",
       "      <td>151360.tsv</td>\n",
       "      <td>ok.. http://www.winehq.com.  ty.. you re welcome</td>\n",
       "      <td>ok.</td>\n",
       "      <td>{erika, AmaroqWolf}</td>\n",
       "      <td>6</td>\n",
       "      <td></td>\n",
       "      <td>0</td>\n",
       "    </tr>\n",
       "  </tbody>\n",
       "</table>\n",
       "<p>385 rows × 7 columns</p>\n",
       "</div>"
      ],
      "text/plain": [
       "          filename  \\\n",
       "321     186965.tsv   \n",
       "479      10077.tsv   \n",
       "1055     16411.tsv   \n",
       "1492     77108.tsv   \n",
       "2336     82086.tsv   \n",
       "3338    101390.tsv   \n",
       "4235    181156.tsv   \n",
       "5123    252932.tsv   \n",
       "5695     92421.tsv   \n",
       "6550    119561.tsv   \n",
       "7647    183985.tsv   \n",
       "7783    186638.tsv   \n",
       "8347    101227.tsv   \n",
       "10968   199627.tsv   \n",
       "11284    34455.tsv   \n",
       "11393     3880.tsv   \n",
       "11554   171939.tsv   \n",
       "11760   212641.tsv   \n",
       "13041    80969.tsv   \n",
       "13235    40161.tsv   \n",
       "14042    27919.tsv   \n",
       "14261   236102.tsv   \n",
       "16981    78761.tsv   \n",
       "17513   204799.tsv   \n",
       "18082   190334.tsv   \n",
       "18338   251866.tsv   \n",
       "19696    23268.tsv   \n",
       "20203    53000.tsv   \n",
       "22347   167181.tsv   \n",
       "23799   144819.tsv   \n",
       "...            ...   \n",
       "250076  134545.tsv   \n",
       "251010  208952.tsv   \n",
       "251303   42476.tsv   \n",
       "251324    7932.tsv   \n",
       "251641  118726.tsv   \n",
       "252187  216273.tsv   \n",
       "252290   94304.tsv   \n",
       "252965   94204.tsv   \n",
       "253231  251758.tsv   \n",
       "253545  169959.tsv   \n",
       "255294  196190.tsv   \n",
       "256051    1238.tsv   \n",
       "257499  151656.tsv   \n",
       "259292  130055.tsv   \n",
       "259338  130004.tsv   \n",
       "260075   14458.tsv   \n",
       "261088  225421.tsv   \n",
       "261629    9165.tsv   \n",
       "261941   35568.tsv   \n",
       "262305  114957.tsv   \n",
       "262504  154483.tsv   \n",
       "262956  220896.tsv   \n",
       "263484   83970.tsv   \n",
       "264980  116994.tsv   \n",
       "265823   57437.tsv   \n",
       "265844   20176.tsv   \n",
       "267661  222672.tsv   \n",
       "267668  134800.tsv   \n",
       "267834  120513.tsv   \n",
       "268824  151360.tsv   \n",
       "\n",
       "                                                                                                                                                                                      message  \\\n",
       "321                                                                                                                                                          So.... Anyone>. *?. anyone what?   \n",
       "479                                                                                                                                                        hey guys. anyone home?. hi. hello?   \n",
       "1055                                                                                                                                                             quit. help. help. what s up?   \n",
       "1492                                                          here s mine: http://i270.photobucket.com/albums/jj93/andrew_woodhead666/desktop.jpg?t=1231760517. - no no.. lol. ?. its fluxbox   \n",
       "2336                                                                                                                                          怎么没人说话啊. 谢谢. 哦  原来如此. ??????????,?????????? ???   \n",
       "3338                                                                                                                               i am who i am because of who we all are. :o.  namaste. *g*   \n",
       "4235    m z z: : w h a t s u t f 1 6 ?. l o m p f o n g : y o u r t e x t i s n   t s p a c e d. m z z : i a m o n b r e e z y b a d g e r. y o u  s h o u l d  u s e  t a b  c o m p l e t e   \n",
       "5123                                                                                                                                                                hi!. list!. 1, 2, 3, 4. 5   \n",
       "5695                                                                                                                                                       p. ?????. i from china. I m not ^^   \n",
       "6550                                                                                                                                                    hi. heyy. hey guys. support question?   \n",
       "7647                                                                             how do i rename my home folder ?. it has my old username. how do I rename my home folder to my new name?. mv   \n",
       "7783                                                                                                                    msn. i8 the six. you the black. do you have a question about ubuntu ?   \n",
       "8347                                                                                                                                           have a bug. have a bug. have a bug. have a bug   \n",
       "10968                                                                                                                                                                        S.a. ?. :D. S.a?   \n",
       "11284                                                                                                              мне кто нибудь ответит кто всё эти люди?.  а что там есть?.  а что это. no   \n",
       "11393                                                                                                                                                                          ?. help. ??. ?   \n",
       "11554                                                                                                                                                       nano. :). you joker. yes a little   \n",
       "11760                                                                                                                            How do you quit man.. /quit. what are you trying to quit?. q   \n",
       "13041                                                                                                     how do I move a file? MV?. how do I move a file? MV?. how do I move a file? MV?. mv   \n",
       "13235                                                                                                                                                                          hi. hi. hi. hi   \n",
       "14042                                                                                                           hello. хай. здесь незя in russian. а что забанить моут как злобных терористов   \n",
       "14261                                                                                                                         hello pawel. where are you. hi xim...where are you. im in texas   \n",
       "16981                                                                                                                                  hi. yo sup. i love ubuntu. what do you love in ubuntu?   \n",
       "17513                                                                                                                                                         eek. sudo -i. not sudo su. eek?   \n",
       "18082                                                                                                                                                             hi,all. o_O. silver.  yes ?   \n",
       "18338                                                                                                                        anyone here play ET?. lol!!!!!!!!!!!!11. I do. you still there ?   \n",
       "19696                                                                                                                                hi. someone that can help me here?. hi. What do you need   \n",
       "20203                                                                                                                                                                hi!. こんにちは. yes. こんにちは ?   \n",
       "22347                                                                                                                                       hola. !list. !list. Do you need help with ubuntu?   \n",
       "23799                                                                                                                                                           !ati. hey n-iCe!.  !!!!.  :))   \n",
       "...                                                                                                                                                                                       ...   \n",
       "250076                                                                                                                                          lol. i was born in  89. x). sudo shutdown 60m   \n",
       "251010                                                                                                                                                       Hey dwight. what s up. nm, u. ok   \n",
       "251303                                                                                                                                                                  hey. hi. there?. yes?   \n",
       "251324                                                                                                                                                                      hi. there. hi. hi   \n",
       "251641                                                                                                                             hello?. hello??!!. what is this?. ubuntu support question?   \n",
       "252187                                                                                                                                   Hello. How do I change my nick?. Lol. /nick new_nick   \n",
       "252290                                                                                                                                             haha. 看看能用中文不  阿阿阿阿. 能用. 在這裡用中文其他人可能會看到亂碼的   \n",
       "252965                                                                                                                   Hello?. 안녕하세요?. Is it easy to hack ubuntu?. no it is not easy at all   \n",
       "253231                                                                                                                                                      hi. hi. i am only new here. hola!   \n",
       "253545                                                                                                                                                                   wow. wow. µÈµÈ. wow?   \n",
       "255294                                                                                                                           Âñåì ÊÓ. Òóò àíãë.???. Ïî ðóññêè êòî íèòü ôóðû÷èò??. english   \n",
       "256051                                                                                                                                               hi guys. hi kid. how are ya. You ok yo ?   \n",
       "257499                                                                                                                                                -_-. anyone?. what?. then you have it..   \n",
       "259292                                                                                                                                                     .     .       *nick*^^. what that.   \n",
       "259338                                                                                                                                                          hello. hi. anyone here. smack   \n",
       "260075                                                                                                                                        what dm do you use?. dm... dm?. display manager   \n",
       "261088                                                                                                                                                       hello. anyone there. lol. no lol   \n",
       "261629                                                                http://www.marlborotech.com/Zalgo.html. (__(__)|||||||||||||||||||||||||||||||||||||||||||||||||||||||||D ~ ~ ~. :|. :|   \n",
       "261941                                                                                                                                     hello there. anyone?. hello. What s your question?   \n",
       "262305                                                                                                                                                           :. :). nope. are you indian?   \n",
       "262504                                                               is there a default root password?. is there a default root password?. is there a default root password?. .. on ubuntu no   \n",
       "262956                                                                                                                                                       hello. i am neoxan. hello. is me   \n",
       "263484                                                                                                                         am i a root now.. no. root, not a root. there is only one root   \n",
       "264980                                                                                                                          Need help with audio. NEED HELP WITH AUDIO. !!!!!!!!. WHAT???   \n",
       "265823                                                                                                                                    !help | kalmi. =/. it s !helpme. that d be the one.   \n",
       "265844                                                                                                                                 then?????. then what?. if not ubuntu which. Arch Linux   \n",
       "267661                                                                                                                          !cp. waht is GLib?. !Glib. https://en.wikipedia.org/wiki/Glib   \n",
       "267668                                                                                                                                                 igor11. igor11. igor11.  /nick igor11    \n",
       "267834                                                                                                                                                        hello. k. !hi | wlcsw. hello 8)   \n",
       "268824                                                                                                                                       ok.. http://www.winehq.com.  ty.. you re welcome   \n",
       "\n",
       "                                                                                          first_question  \\\n",
       "321                                                                                                So...   \n",
       "479                                                                                             hey guys   \n",
       "1055                                                                                                quit   \n",
       "1492    here s mine: http://i270.photobucket.com/albums/jj93/andrew_woodhead666/desktop.jpg?t=1231760517   \n",
       "2336                                                                                             怎么没人说话啊   \n",
       "3338                                                             i am who i am because of who we all are   \n",
       "4235                                                                      m z z: : w h a t s u t f 1 6 ?   \n",
       "5123                                                                                                 hi!   \n",
       "5695                                                                                                   p   \n",
       "6550                                                                                                  hi   \n",
       "7647                                                                    how do i rename my home folder ?   \n",
       "7783                                                                                                 msn   \n",
       "8347                                                                                          have a bug   \n",
       "10968                                                                                                S.a   \n",
       "11284                                                           мне кто нибудь ответит кто всё эти люди?   \n",
       "11393                                                                                                  ?   \n",
       "11554                                                                                               nano   \n",
       "11760                                                                               How do you quit man.   \n",
       "13041                                                                          how do I move a file? MV?   \n",
       "13235                                                                                                 hi   \n",
       "14042                                                                                              hello   \n",
       "14261                                                                                        hello pawel   \n",
       "16981                                                                                                 hi   \n",
       "17513                                                                                                eek   \n",
       "18082                                                                                             hi,all   \n",
       "18338                                                                               anyone here play ET?   \n",
       "19696                                                                                                 hi   \n",
       "20203                                                                                                hi!   \n",
       "22347                                                                                               hola   \n",
       "23799                                                                                               !ati   \n",
       "...                                                                                                  ...   \n",
       "250076                                                                                               lol   \n",
       "251010                                                                                        Hey dwight   \n",
       "251303                                                                                               hey   \n",
       "251324                                                                                                hi   \n",
       "251641                                                                                            hello?   \n",
       "252187                                                                                             Hello   \n",
       "252290                                                                                              haha   \n",
       "252965                                                                                            Hello?   \n",
       "253231                                                                                                hi   \n",
       "253545                                                                                               wow   \n",
       "255294                                                                                           Âñåì ÊÓ   \n",
       "256051                                                                                           hi guys   \n",
       "257499                                                                                               -_-   \n",
       "259292                                                                                                     \n",
       "259338                                                                                             hello   \n",
       "260075                                                                               what dm do you use?   \n",
       "261088                                                                                             hello   \n",
       "261629                                                            http://www.marlborotech.com/Zalgo.html   \n",
       "261941                                                                                       hello there   \n",
       "262305                                                                                                 :   \n",
       "262504                                                                 is there a default root password?   \n",
       "262956                                                                                             hello   \n",
       "263484                                                                                  am i a root now.   \n",
       "264980                                                                              Need help with audio   \n",
       "265823                                                                                     !help | kalmi   \n",
       "265844                                                                                         then?????   \n",
       "267661                                                                                               !cp   \n",
       "267668                                                                                            igor11   \n",
       "267834                                                                                             hello   \n",
       "268824                                                                                               ok.   \n",
       "\n",
       "                           usernames  num_words_raw message_processed  \\\n",
       "321        {arch_is_awesome, ikonia}              5                     \n",
       "479                {lenswipe, MATAH}              6                     \n",
       "1055                 {rio_, [snake]}              6                     \n",
       "1492        {ActionParsnip, KeithGS}             11                     \n",
       "2336                {Saiki, joerh99}              6                     \n",
       "3338                 {mojo, sagredo}             14                     \n",
       "4235                {jifli, bruenig}             86                     \n",
       "5123          {reisio, alessandro97}              7                     \n",
       "5695         {sergiu_, fengxiaoxiao}              9                     \n",
       "6550              {wafiiq_, bazhang}              6                     \n",
       "7647             {skybox, Dextorion}             25                     \n",
       "7783               {nilson2, ikonia}             15                     \n",
       "8347                     {Templario}             12                     \n",
       "10968          {KafanaGore--, yigal}              4                     \n",
       "11284           {serkus, magicstuff}             16                     \n",
       "11393              {zzz_, mrsuchyPL}              4                     \n",
       "11554            {strangy, looksaus}              7                     \n",
       "11760           {gnomefreak, indref}             13                     \n",
       "13041         {Dravekx, ChrisMorgan}             22                     \n",
       "13235      {itachi_linux, maryellen}              4                     \n",
       "14042       {serkus, ubuntu03082010}             13                     \n",
       "14261                {franklin, xim}             12                     \n",
       "16981             {zimbres, toshiba}             12                     \n",
       "17513                 {xslf, Seveas}              7                     \n",
       "18082              {silver, gavin2u}              5                     \n",
       "18338            {justdust, aethera}             11                     \n",
       "19696              {_bin_bash, Side}             12                     \n",
       "20203                   {kenta, pp7}              5                     \n",
       "22347               {overmind, luck}              9                     \n",
       "23799             {n-iCe, Crosswing}              5                     \n",
       "...                              ...            ...               ...   \n",
       "250076               {hsatera, DWSR}             10                     \n",
       "251010           {dwight, DShepherd}              8                     \n",
       "251303          {aeon-ltd, juniour_}              4                     \n",
       "251324                {azert, jtr__}              4                     \n",
       "251641           {kaitlyn_, bazhang}              8                     \n",
       "252187          {DShepherd, ubuntu_}             10                     \n",
       "252290            {snowdoll, yesily}              5                     \n",
       "252965          {frogscott, powlr93}             15                     \n",
       "253231           {sobersabre, hendo}              8                     \n",
       "253545             {macogw, firefly}              4                     \n",
       "255294         {Prince, hyperstream}             10                     \n",
       "256051            {pcbsdl1, skraito}             11                     \n",
       "257499            {AndrewB, xethx96}              7                     \n",
       "259292                {neol, kwafo1}              5                     \n",
       "259338           {mike3_, rajkalyan}              5                     \n",
       "260075          {danclark-au, sahip}              9                     \n",
       "261088            {vinzone, Hobbsee}              6                     \n",
       "261629          {ijewafiuj, SigmaWP}              7                     \n",
       "261941  {Guest23540, CrustyBarnacle}              8                     \n",
       "262305       {utarpradesh, prakriti}              6                     \n",
       "262504        {evil_, un_operateur1}             22                     \n",
       "262956                      {neoxan}              7                     \n",
       "263484         {lstarnes, aboanas93}             15                     \n",
       "264980         {fuertesfj, komputes}             10                     \n",
       "265823            {Kalmi, hatter243}             12                     \n",
       "265844           {Nisstyre, pksadiq}              9                     \n",
       "267661              {mneptok, NyLes}              6                     \n",
       "267668           {igorp12, Jalathan}              5                     \n",
       "267834               {erUSUL, wlcsw}              7                     \n",
       "268824           {erika, AmaroqWolf}              6                     \n",
       "\n",
       "        num_words_processed  \n",
       "321                       0  \n",
       "479                       0  \n",
       "1055                      0  \n",
       "1492                      0  \n",
       "2336                      0  \n",
       "3338                      0  \n",
       "4235                      0  \n",
       "5123                      0  \n",
       "5695                      0  \n",
       "6550                      0  \n",
       "7647                      0  \n",
       "7783                      0  \n",
       "8347                      0  \n",
       "10968                     0  \n",
       "11284                     0  \n",
       "11393                     0  \n",
       "11554                     0  \n",
       "11760                     0  \n",
       "13041                     0  \n",
       "13235                     0  \n",
       "14042                     0  \n",
       "14261                     0  \n",
       "16981                     0  \n",
       "17513                     0  \n",
       "18082                     0  \n",
       "18338                     0  \n",
       "19696                     0  \n",
       "20203                     0  \n",
       "22347                     0  \n",
       "23799                     0  \n",
       "...                     ...  \n",
       "250076                    0  \n",
       "251010                    0  \n",
       "251303                    0  \n",
       "251324                    0  \n",
       "251641                    0  \n",
       "252187                    0  \n",
       "252290                    0  \n",
       "252965                    0  \n",
       "253231                    0  \n",
       "253545                    0  \n",
       "255294                    0  \n",
       "256051                    0  \n",
       "257499                    0  \n",
       "259292                    0  \n",
       "259338                    0  \n",
       "260075                    0  \n",
       "261088                    0  \n",
       "261629                    0  \n",
       "261941                    0  \n",
       "262305                    0  \n",
       "262504                    0  \n",
       "262956                    0  \n",
       "263484                    0  \n",
       "264980                    0  \n",
       "265823                    0  \n",
       "265844                    0  \n",
       "267661                    0  \n",
       "267668                    0  \n",
       "267834                    0  \n",
       "268824                    0  \n",
       "\n",
       "[385 rows x 7 columns]"
      ]
     },
     "execution_count": 14,
     "metadata": {},
     "output_type": "execute_result"
    }
   ],
   "source": [
    "df_raw[df_raw['num_words_processed']==0]"
   ]
  },
  {
   "cell_type": "code",
   "execution_count": 11,
   "metadata": {
    "ExecuteTime": {
     "end_time": "2020-04-12T18:08:48.409739Z",
     "start_time": "2020-04-12T18:08:48.106883Z"
    }
   },
   "outputs": [
    {
     "data": {
      "text/plain": [
       "(170145, 7)"
      ]
     },
     "execution_count": 11,
     "metadata": {},
     "output_type": "execute_result"
    }
   ],
   "source": [
    "#Saving records to be discarded\n",
    "df_processed_1 = df_raw[df_raw['num_words_processed']>10]\n",
    "df_processed_1.shape"
   ]
  },
  {
   "cell_type": "code",
   "execution_count": 12,
   "metadata": {
    "ExecuteTime": {
     "end_time": "2020-04-12T18:08:50.465086Z",
     "start_time": "2020-04-12T18:08:50.453051Z"
    }
   },
   "outputs": [
    {
     "name": "stdout",
     "output_type": "stream",
     "text": [
      "Average message length: 19.0 words\n",
      "Median message length: 17.0 words\n",
      "Max message length: 203 words\n",
      "Min message length: 11 words\n"
     ]
    }
   ],
   "source": [
    "# examing the document length \n",
    "print(\"Average message length: {} words\".format(round(np.mean(df_processed_1['num_words_processed']))))\n",
    "print(\"Median message length: {} words\".format(round(np.median(df_processed_1['num_words_processed']))))\n",
    "print(\"Max message length: {} words\".format(round(np.max(df_processed_1['num_words_processed']))))\n",
    "print(\"Min message length: {} words\".format(round(np.min(df_processed_1['num_words_processed']))))\n"
   ]
  },
  {
   "cell_type": "code",
   "execution_count": 14,
   "metadata": {
    "ExecuteTime": {
     "end_time": "2020-04-12T05:53:23.656625Z",
     "start_time": "2020-04-12T05:53:23.491469Z"
    }
   },
   "outputs": [],
   "source": [
    "df_raw['num_words_changed'] = df_raw['num_words_raw'] - df_raw['num_words_processed']"
   ]
  },
  {
   "cell_type": "code",
   "execution_count": null,
   "metadata": {
    "ExecuteTime": {
     "end_time": "2020-04-12T05:53:25.905636Z",
     "start_time": "2020-04-12T05:53:25.558647Z"
    }
   },
   "outputs": [],
   "source": [
    "df_raw[df_raw['num_words_changed']>0].sort_values(['num_words_changed'], ascending=[0])\\\n",
    "[['num_words_changed','filename','message','message_processed']].head(2)\n",
    "                                                                           "
   ]
  },
  {
   "cell_type": "code",
   "execution_count": null,
   "metadata": {},
   "outputs": [],
   "source": []
  },
  {
   "cell_type": "markdown",
   "metadata": {},
   "source": [
    "# Document frequency"
   ]
  },
  {
   "cell_type": "code",
   "execution_count": 79,
   "metadata": {
    "ExecuteTime": {
     "end_time": "2019-11-20T07:11:49.998030Z",
     "start_time": "2019-11-20T07:11:49.994245Z"
    }
   },
   "outputs": [],
   "source": [
    "# from collections import defaultdict\n",
    "\n",
    "# def f_document_word_frequency(in_record):\n",
    "#     DF = defaultdict(int) \n",
    "#     print(in_record)\n",
    "        "
   ]
  },
  {
   "cell_type": "code",
   "execution_count": 174,
   "metadata": {
    "ExecuteTime": {
     "end_time": "2019-11-20T08:33:37.476355Z",
     "start_time": "2019-11-20T08:33:37.447975Z"
    }
   },
   "outputs": [],
   "source": [
    "# from collections import defaultdict\n",
    "# DF = defaultdict(int) \n",
    "# for list_words in df_processed_1['message_processed'].str.split():\n",
    "#     for word in set(list_words):\n",
    "#         DF[word] += 1"
   ]
  },
  {
   "cell_type": "code",
   "execution_count": 95,
   "metadata": {
    "ExecuteTime": {
     "end_time": "2019-11-20T07:33:43.511809Z",
     "start_time": "2019-11-20T07:33:43.507532Z"
    }
   },
   "outputs": [
    {
     "data": {
      "text/plain": [
       "2706"
      ]
     },
     "execution_count": 95,
     "metadata": {},
     "output_type": "execute_result"
    }
   ],
   "source": [
    "# df_raw.shape[0]"
   ]
  },
  {
   "cell_type": "code",
   "execution_count": null,
   "metadata": {
    "ExecuteTime": {
     "end_time": "2019-11-20T09:21:13.594456Z",
     "start_time": "2019-11-20T09:21:12.261354Z"
    }
   },
   "outputs": [],
   "source": [
    "# for word in sorted(DF, key=DF.get, reverse=True):\n",
    "#     print(word, DF[word])\n"
   ]
  },
  {
   "cell_type": "code",
   "execution_count": 295,
   "metadata": {
    "ExecuteTime": {
     "end_time": "2019-11-20T09:51:13.578495Z",
     "start_time": "2019-11-20T09:51:13.573157Z"
    }
   },
   "outputs": [
    {
     "name": "stdout",
     "output_type": "stream",
     "text": [
      "['try', 'use', 'get']\n"
     ]
    }
   ],
   "source": [
    "# THRESHOLD_FREQ_WORDS_TO_ELIMINATE=500\n",
    "# frequent_words = []\n",
    "# for word, count in DF.items():\n",
    "#     if count>=THRESHOLD_FREQ_WORDS_TO_ELIMINATE:\n",
    "#         frequent_words.append(word)\n",
    "# print(frequent_words)\n"
   ]
  },
  {
   "cell_type": "code",
   "execution_count": null,
   "metadata": {
    "ExecuteTime": {
     "end_time": "2019-11-20T08:53:34.428780Z",
     "start_time": "2019-11-20T08:53:34.421561Z"
    }
   },
   "outputs": [],
   "source": [
    "#Number of documents the word occurs in\n",
    "# THRESHOLD_RARE_WORDS_TO_ELIMINATE=5\n",
    "# rare_words = []\n",
    "# for word, count in DF.items():\n",
    "#     if count<=THRESHOLD_RARE_WORDS_TO_ELIMINATE:\n",
    "#         rare_words.append(word)\n",
    "# print(rare_words)\n"
   ]
  },
  {
   "cell_type": "code",
   "execution_count": 296,
   "metadata": {
    "ExecuteTime": {
     "end_time": "2019-11-20T09:51:17.671400Z",
     "start_time": "2019-11-20T09:51:17.667408Z"
    }
   },
   "outputs": [],
   "source": [
    "# def f_preprocess_2(in_message):\n",
    "#     global frequent_words \n",
    "#     result = in_message\n",
    "#     tmp_result =[]\n",
    "#     for word in result.split():\n",
    "#         if word not in frequent_words:\n",
    "#             tmp_result.append(word)\n",
    "    \n",
    "#     result = tmp_result\n",
    "#     return result\n"
   ]
  },
  {
   "cell_type": "code",
   "execution_count": 297,
   "metadata": {
    "ExecuteTime": {
     "end_time": "2019-11-20T09:51:22.727750Z",
     "start_time": "2019-11-20T09:51:19.273754Z"
    }
   },
   "outputs": [],
   "source": [
    "# df_processed_1['message_no_frequent_split'] = df_processed_1['message_processed'].apply(f_preprocess_2)\n",
    "                                                                                  \n",
    "                                                                                  "
   ]
  },
  {
   "cell_type": "markdown",
   "metadata": {},
   "source": [
    "# Build BTM model"
   ]
  },
  {
   "cell_type": "code",
   "execution_count": 17,
   "metadata": {
    "ExecuteTime": {
     "end_time": "2020-04-12T18:18:57.567527Z",
     "start_time": "2020-04-12T18:18:57.492926Z"
    }
   },
   "outputs": [],
   "source": [
    "import biterm\n",
    "from sklearn.feature_extraction.text import CountVectorizer\n",
    "from biterm.utility import vec_to_biterms\n",
    "from biterm.cbtm import oBTM\n"
   ]
  },
  {
   "cell_type": "code",
   "execution_count": 16,
   "metadata": {
    "ExecuteTime": {
     "end_time": "2020-04-12T18:18:55.999176Z",
     "start_time": "2020-04-12T18:18:55.950919Z"
    }
   },
   "outputs": [],
   "source": [
    "df_processed_2 = df_processed_1.sample(n=100)"
   ]
  },
  {
   "cell_type": "code",
   "execution_count": 19,
   "metadata": {
    "ExecuteTime": {
     "end_time": "2020-04-12T18:19:04.963744Z",
     "start_time": "2020-04-12T18:19:04.959319Z"
    }
   },
   "outputs": [
    {
     "data": {
      "text/plain": [
       "100"
      ]
     },
     "execution_count": 19,
     "metadata": {},
     "output_type": "execute_result"
    }
   ],
   "source": [
    "df_processed_2.shape[0]"
   ]
  },
  {
   "cell_type": "code",
   "execution_count": 21,
   "metadata": {
    "ExecuteTime": {
     "end_time": "2020-04-12T18:19:37.265148Z",
     "start_time": "2020-04-12T18:19:37.252150Z"
    }
   },
   "outputs": [
    {
     "data": {
      "text/html": [
       "<div>\n",
       "<style scoped>\n",
       "    .dataframe tbody tr th:only-of-type {\n",
       "        vertical-align: middle;\n",
       "    }\n",
       "\n",
       "    .dataframe tbody tr th {\n",
       "        vertical-align: top;\n",
       "    }\n",
       "\n",
       "    .dataframe thead th {\n",
       "        text-align: right;\n",
       "    }\n",
       "</style>\n",
       "<table border=\"1\" class=\"dataframe\">\n",
       "  <thead>\n",
       "    <tr style=\"text-align: right;\">\n",
       "      <th></th>\n",
       "      <th>filename</th>\n",
       "      <th>message</th>\n",
       "      <th>first_question</th>\n",
       "      <th>usernames</th>\n",
       "      <th>num_words_raw</th>\n",
       "      <th>message_processed</th>\n",
       "      <th>num_words_processed</th>\n",
       "    </tr>\n",
       "  </thead>\n",
       "  <tbody>\n",
       "    <tr>\n",
       "      <th>32422</th>\n",
       "      <td>113844.tsv</td>\n",
       "      <td>Would anyone here happen to know why a static network IP wouldn t work?. Or the network settings may be for a different subnet.. I m the only one on the network right now and also my static IP isn...</td>\n",
       "      <td>Would anyone here happen to know why a static network IP wouldn t work?</td>\n",
       "      <td>{MoreAllLess, Slynderdale}</td>\n",
       "      <td>55</td>\n",
       "      <td>would happen know static network ip network setting may subnet network right also static ip communicate</td>\n",
       "      <td>16</td>\n",
       "    </tr>\n",
       "    <tr>\n",
       "      <th>199268</th>\n",
       "      <td>234925.tsv</td>\n",
       "      <td>the command is umount. and you have to do it in sudo. sounds like you attempted to start punmount, a script that requires root access when you really wanted to start umount. well right but maybe I...</td>\n",
       "      <td>the command is umount</td>\n",
       "      <td>{marcin_ant, apollo2011}</td>\n",
       "      <td>50</td>\n",
       "      <td>command umount sound attempt start punmount script require access really start umount right add something etc fstab enable user sudoer</td>\n",
       "      <td>20</td>\n",
       "    </tr>\n",
       "    <tr>\n",
       "      <th>66034</th>\n",
       "      <td>228878.tsv</td>\n",
       "      <td>... yes nn... absolutely. with sarcasm , the thing is , you never know where it stops. ok, I ve kinda fucked up my ubuntu, did a chown -hR in the root directory and now a regular not-root user can...</td>\n",
       "      <td>... yes nn... absolutely</td>\n",
       "      <td>{ailean, packagedeliverer}</td>\n",
       "      <td>48</td>\n",
       "      <td>absolutely know stop kinda fuck chown hr directory regular anymore watch language</td>\n",
       "      <td>12</td>\n",
       "    </tr>\n",
       "    <tr>\n",
       "      <th>133269</th>\n",
       "      <td>58994.tsv</td>\n",
       "      <td>every time i reboot the contents of /proc/sys/net/ipv6/conf/all/disable_ipv6 is reverted to 0,....... how can i change this?. it s compiled into the kernel. for some weird reason. But there is no ...</td>\n",
       "      <td>every time i reboot the contents of /proc/sys/net/ipv6/conf/all/disable_ipv6 is reverted to 0,....... how can i change this?</td>\n",
       "      <td>{loomsen1, BlackDex}</td>\n",
       "      <td>35</td>\n",
       "      <td>every time reboot content proc ipv conf disable ipv revert compile weird configure</td>\n",
       "      <td>13</td>\n",
       "    </tr>\n",
       "    <tr>\n",
       "      <th>22453</th>\n",
       "      <td>28988.tsv</td>\n",
       "      <td>Hi, im new to ubuntu/linux, im installing ubuntu on my notebook using virtualbox and right know im using wireless, it is going to be a problem or i need to configure something if i want to access ...</td>\n",
       "      <td>Hi, im new to ubuntu/linux, im installing ubuntu on my notebook using virtualbox and right know im using wireless, it is going to be a problem or i need to configure something if i want to access ...</td>\n",
       "      <td>{ploks, ZykoticK9}</td>\n",
       "      <td>83</td>\n",
       "      <td>instal notebook use virtualbox right know use go problem configure something want access cable conencte know get network virtualbox thank aboout install depend many factor</td>\n",
       "      <td>25</td>\n",
       "    </tr>\n",
       "  </tbody>\n",
       "</table>\n",
       "</div>"
      ],
      "text/plain": [
       "          filename  \\\n",
       "32422   113844.tsv   \n",
       "199268  234925.tsv   \n",
       "66034   228878.tsv   \n",
       "133269   58994.tsv   \n",
       "22453    28988.tsv   \n",
       "\n",
       "                                                                                                                                                                                                        message  \\\n",
       "32422   Would anyone here happen to know why a static network IP wouldn t work?. Or the network settings may be for a different subnet.. I m the only one on the network right now and also my static IP isn...   \n",
       "199268  the command is umount. and you have to do it in sudo. sounds like you attempted to start punmount, a script that requires root access when you really wanted to start umount. well right but maybe I...   \n",
       "66034   ... yes nn... absolutely. with sarcasm , the thing is , you never know where it stops. ok, I ve kinda fucked up my ubuntu, did a chown -hR in the root directory and now a regular not-root user can...   \n",
       "133269  every time i reboot the contents of /proc/sys/net/ipv6/conf/all/disable_ipv6 is reverted to 0,....... how can i change this?. it s compiled into the kernel. for some weird reason. But there is no ...   \n",
       "22453   Hi, im new to ubuntu/linux, im installing ubuntu on my notebook using virtualbox and right know im using wireless, it is going to be a problem or i need to configure something if i want to access ...   \n",
       "\n",
       "                                                                                                                                                                                                 first_question  \\\n",
       "32422                                                                                                                                   Would anyone here happen to know why a static network IP wouldn t work?   \n",
       "199268                                                                                                                                                                                    the command is umount   \n",
       "66034                                                                                                                                                                                  ... yes nn... absolutely   \n",
       "133269                                                                             every time i reboot the contents of /proc/sys/net/ipv6/conf/all/disable_ipv6 is reverted to 0,....... how can i change this?   \n",
       "22453   Hi, im new to ubuntu/linux, im installing ubuntu on my notebook using virtualbox and right know im using wireless, it is going to be a problem or i need to configure something if i want to access ...   \n",
       "\n",
       "                         usernames  num_words_raw  \\\n",
       "32422   {MoreAllLess, Slynderdale}             55   \n",
       "199268    {marcin_ant, apollo2011}             50   \n",
       "66034   {ailean, packagedeliverer}             48   \n",
       "133269        {loomsen1, BlackDex}             35   \n",
       "22453           {ploks, ZykoticK9}             83   \n",
       "\n",
       "                                                                                                                                                                  message_processed  \\\n",
       "32422                                                                       would happen know static network ip network setting may subnet network right also static ip communicate   \n",
       "199268                                       command umount sound attempt start punmount script require access really start umount right add something etc fstab enable user sudoer   \n",
       "66034                                                                                             absolutely know stop kinda fuck chown hr directory regular anymore watch language   \n",
       "133269                                                                                           every time reboot content proc ipv conf disable ipv revert compile weird configure   \n",
       "22453   instal notebook use virtualbox right know use go problem configure something want access cable conencte know get network virtualbox thank aboout install depend many factor   \n",
       "\n",
       "        num_words_processed  \n",
       "32422                    16  \n",
       "199268                   20  \n",
       "66034                    12  \n",
       "133269                   13  \n",
       "22453                    25  "
      ]
     },
     "execution_count": 21,
     "metadata": {},
     "output_type": "execute_result"
    }
   ],
   "source": [
    "df_processed_2.head()"
   ]
  },
  {
   "cell_type": "code",
   "execution_count": 26,
   "metadata": {
    "ExecuteTime": {
     "end_time": "2020-04-12T18:24:49.269008Z",
     "start_time": "2020-04-12T18:24:49.263730Z"
    }
   },
   "outputs": [],
   "source": [
    "df_processed_2.reset_index()\n",
    "df_processed_2.index = range(0,df_processed_2.shape[0])\n"
   ]
  },
  {
   "cell_type": "code",
   "execution_count": 27,
   "metadata": {
    "ExecuteTime": {
     "end_time": "2020-04-12T18:24:51.436765Z",
     "start_time": "2020-04-12T18:24:51.426879Z"
    }
   },
   "outputs": [],
   "source": [
    "vec = CountVectorizer(stop_words='english')\n",
    "X = vec.fit_transform(df_processed_2.message_processed).toarray()\n"
   ]
  },
  {
   "cell_type": "code",
   "execution_count": 28,
   "metadata": {
    "ExecuteTime": {
     "end_time": "2020-04-12T18:24:52.354442Z",
     "start_time": "2020-04-12T18:24:52.347670Z"
    }
   },
   "outputs": [],
   "source": [
    "vocab = np.array(vec.get_feature_names())\n",
    "biterms = vec_to_biterms(X)\n"
   ]
  },
  {
   "cell_type": "code",
   "execution_count": 29,
   "metadata": {
    "ExecuteTime": {
     "end_time": "2020-04-12T18:26:17.373969Z",
     "start_time": "2020-04-12T18:24:53.307786Z"
    },
    "scrolled": true
   },
   "outputs": [
    {
     "name": "stderr",
     "output_type": "stream",
     "text": [
      "100%|██████████| 100/100 [01:23<00:00,  1.20it/s]\n"
     ]
    }
   ],
   "source": [
    "btm = oBTM(num_topics=20, V=vocab)\n",
    "topics = btm.fit_transform(biterms, iterations=100)\n"
   ]
  },
  {
   "cell_type": "code",
   "execution_count": 30,
   "metadata": {
    "ExecuteTime": {
     "end_time": "2020-04-12T18:26:20.461123Z",
     "start_time": "2020-04-12T18:26:20.456169Z"
    }
   },
   "outputs": [
    {
     "data": {
      "text/plain": [
       "'know network adapter driver talk get nice card work bcmfirmware use ndiswrapper'"
      ]
     },
     "execution_count": 30,
     "metadata": {},
     "output_type": "execute_result"
    }
   ],
   "source": [
    "df_processed_2.loc[50].message_processed"
   ]
  },
  {
   "cell_type": "code",
   "execution_count": 31,
   "metadata": {
    "ExecuteTime": {
     "end_time": "2020-04-12T18:26:27.095145Z",
     "start_time": "2020-04-12T18:26:27.090887Z"
    }
   },
   "outputs": [
    {
     "data": {
      "text/plain": [
       "10"
      ]
     },
     "execution_count": 31,
     "metadata": {},
     "output_type": "execute_result"
    }
   ],
   "source": [
    "topics[0].argmax()"
   ]
  },
  {
   "cell_type": "code",
   "execution_count": 32,
   "metadata": {
    "ExecuteTime": {
     "end_time": "2020-04-12T18:26:58.770332Z",
     "start_time": "2020-04-12T18:26:34.381469Z"
    }
   },
   "outputs": [],
   "source": [
    "vis = pyLDAvis.prepare(btm.phi_wz.T, topics, np.count_nonzero(X, axis=1), vocab, np.sum(X, axis=0))\n",
    "pyLDAvis.save_html(vis, './online_btm.html')\n"
   ]
  },
  {
   "cell_type": "markdown",
   "metadata": {},
   "source": [
    "# LDA model"
   ]
  },
  {
   "cell_type": "code",
   "execution_count": 303,
   "metadata": {
    "ExecuteTime": {
     "end_time": "2019-11-20T09:54:59.858139Z",
     "start_time": "2019-11-20T09:53:06.224013Z"
    }
   },
   "outputs": [],
   "source": [
    "# Creating the object for LDA model using gensim library\n",
    "# LDA = gensim.models.ldamodel.LdaModel\n",
    "\n",
    "# # Build LDA model\n",
    "# lda_model = LDA(corpus=doc_term_matrix, id2word=dictionary, num_topics=5, random_state=100,\n",
    "#                 chunksize=3000, passes=50)\n"
   ]
  },
  {
   "cell_type": "code",
   "execution_count": 304,
   "metadata": {
    "ExecuteTime": {
     "end_time": "2019-11-20T09:56:33.217641Z",
     "start_time": "2019-11-20T09:56:33.213200Z"
    }
   },
   "outputs": [
    {
     "data": {
      "text/plain": [
       "(5, 6756)"
      ]
     },
     "execution_count": 304,
     "metadata": {},
     "output_type": "execute_result"
    }
   ],
   "source": [
    "# Number of topics X Vocabulary\n",
    "# lda_model.get_topics().shape"
   ]
  },
  {
   "cell_type": "code",
   "execution_count": 305,
   "metadata": {
    "ExecuteTime": {
     "end_time": "2019-11-20T09:56:36.125399Z",
     "start_time": "2019-11-20T09:56:36.120150Z"
    }
   },
   "outputs": [
    {
     "data": {
      "text/plain": [
       "[(40, 0.020701267),\n",
       " (23, 0.0150794005),\n",
       " (49, 0.011505394),\n",
       " (109, 0.011487447),\n",
       " (634, 0.010499926),\n",
       " (35, 0.010408781),\n",
       " (200, 0.0093411915),\n",
       " (37, 0.008784741),\n",
       " (429, 0.008227871),\n",
       " (94, 0.007818473)]"
      ]
     },
     "execution_count": 305,
     "metadata": {},
     "output_type": "execute_result"
    }
   ],
   "source": [
    "# lda_model.get_topic_terms(0)"
   ]
  },
  {
   "cell_type": "code",
   "execution_count": 306,
   "metadata": {
    "ExecuteTime": {
     "end_time": "2019-11-20T09:56:42.952216Z",
     "start_time": "2019-11-20T09:56:42.946836Z"
    }
   },
   "outputs": [
    {
     "data": {
      "text/plain": [
       "[(0,\n",
       "  '0.021*\"apt\" + 0.015*\"install\" + 0.012*\"package\" + 0.011*\"not\" + 0.010*\"firefox\" + 0.010*\"work\" + 0.009*\"instal\" + 0.009*\"add\" + 0.008*\"source\" + 0.008*\"find\"'),\n",
       " (1,\n",
       "  '0.011*\"window\" + 0.009*\"install\" + 0.009*\"work\" + 0.008*\"know\" + 0.008*\"like\" + 0.008*\"boot\" + 0.008*\"go\" + 0.007*\"not\" + 0.007*\"cd\" + 0.007*\"driver\"'),\n",
       " (2,\n",
       "  '0.017*\"file\" + 0.016*\"install\" + 0.011*\"partition\" + 0.010*\"help\" + 0.010*\"know\" + 0.009*\"boot\" + 0.009*\"one\" + 0.008*\"not\" + 0.008*\"make\" + 0.007*\"root\"'),\n",
       " (3,\n",
       "  '0.013*\"run\" + 0.012*\"gnome\" + 0.012*\"bit\" + 0.009*\"instal\" + 0.009*\"want\" + 0.009*\"one\" + 0.007*\"think\" + 0.007*\"question\" + 0.007*\"version\" + 0.007*\"work\"'),\n",
       " (4,\n",
       "  '0.013*\"work\" + 0.010*\"help\" + 0.008*\"file\" + 0.008*\"need\" + 0.008*\"server\" + 0.007*\"run\" + 0.007*\"go\" + 0.007*\"thank\" + 0.007*\"dalton\" + 0.006*\"please\"')]"
      ]
     },
     "execution_count": 306,
     "metadata": {},
     "output_type": "execute_result"
    }
   ],
   "source": [
    "# lda_model.print_topics()\n"
   ]
  },
  {
   "cell_type": "code",
   "execution_count": 307,
   "metadata": {
    "ExecuteTime": {
     "end_time": "2019-11-20T09:56:46.564071Z",
     "start_time": "2019-11-20T09:56:46.558422Z"
    }
   },
   "outputs": [
    {
     "data": {
      "text/plain": [
       "[(0, 0.3048624), (1, 0.36221012), (4, 0.32359302)]"
      ]
     },
     "execution_count": 307,
     "metadata": {},
     "output_type": "execute_result"
    }
   ],
   "source": [
    "# lda_model.get_document_topics(bow=doc_term_matrix[0], per_word_topics=False)"
   ]
  },
  {
   "cell_type": "code",
   "execution_count": 310,
   "metadata": {
    "ExecuteTime": {
     "end_time": "2019-11-20T09:57:39.025148Z",
     "start_time": "2019-11-20T09:57:39.019866Z"
    }
   },
   "outputs": [
    {
     "data": {
      "text/plain": [
       "[(0, 0.8082326), (1, 0.16977194)]"
      ]
     },
     "execution_count": 310,
     "metadata": {},
     "output_type": "execute_result"
    }
   ],
   "source": [
    "lda_model.get_document_topics(bow=doc_term_matrix[1], per_word_topics=False)"
   ]
  },
  {
   "cell_type": "code",
   "execution_count": 311,
   "metadata": {
    "ExecuteTime": {
     "end_time": "2019-11-20T09:57:44.700991Z",
     "start_time": "2019-11-20T09:57:44.694181Z"
    }
   },
   "outputs": [
    {
     "name": "stdout",
     "output_type": "stream",
     "text": [
      "=======RAW==============\n",
      "hello there. I am trying to install GLX on my Dapper (ATI 9200 mobile; IBM T42 laptop). I am following the guide that is on the Ubuntuforum.org, but it does not work as described. Who is willing to help me?. i think i didn't have to do anything except change driver from xorg.conf from ati to fglrx. The forum tells me: \"Start gconf-editor and go to \"apps/compiz/general/all screens/options\"\", but there is no section \"apps/compiz\" in gconf. I always use the fglrx driver, but there is some other strange problem\n",
      "=======PROCESSED==============\n",
      "hello install glx dapper ati mobile ibm laptop follow guide work describe willing help think anything except change driver xorg conf ati fglrx forum tell start gconf editor go app compiz general screen option section app compiz gconf always fglrx driver strange problem\n",
      "=======TOPIC==============\n",
      "0.013*\"run\" + 0.012*\"gnome\" + 0.012*\"bit\" + 0.009*\"instal\"\n"
     ]
    }
   ],
   "source": [
    "# print(\"=======RAW==============\")\n",
    "# print(df_processed_1['message'].head(1).values[0])\n",
    "# print(\"=======PROCESSED==============\")\n",
    "# print(' '.join(df_processed_1['message_no_frequent_split'].head(1).values[0]))\n",
    "# print(\"=======TOPIC==============\")\n",
    "# print(lda_model.print_topic(topicno=3, topn= 4))"
   ]
  },
  {
   "cell_type": "code",
   "execution_count": 255,
   "metadata": {
    "ExecuteTime": {
     "end_time": "2019-11-20T09:27:16.798881Z",
     "start_time": "2019-11-20T09:25:48.325070Z"
    }
   },
   "outputs": [
    {
     "data": {
      "text/html": [
       "\n",
       "<link rel=\"stylesheet\" type=\"text/css\" href=\"https://cdn.rawgit.com/bmabey/pyLDAvis/files/ldavis.v1.0.0.css\">\n",
       "\n",
       "\n",
       "<div id=\"ldavis_el3178140208379833944308596227\"></div>\n",
       "<script type=\"text/javascript\">\n",
       "\n",
       "var ldavis_el3178140208379833944308596227_data = {\"mdsDat\": {\"x\": [0.07727585969276705, 0.10729811000302943, 0.06214164706399046, 0.05869678129796505, 0.03264557196155647, -0.06803705942763365, -0.27002091059167477], \"y\": [0.014532083284854462, 0.030600308905647668, -0.060633118227141375, -0.05995748627767581, 0.18456285873627992, -0.1614231886490746, 0.05231854222710986], \"topics\": [1, 2, 3, 4, 5, 6, 7], \"cluster\": [1, 1, 1, 1, 1, 1, 1], \"Freq\": [19.583112716674805, 19.163965225219727, 18.193031311035156, 14.598567962646484, 13.831747055053711, 8.409317970275879, 6.220257759094238]}, \"tinfo\": {\"Category\": [\"Default\", \"Default\", \"Default\", \"Default\", \"Default\", \"Default\", \"Default\", \"Default\", \"Default\", \"Default\", \"Default\", \"Default\", \"Default\", \"Default\", \"Default\", \"Default\", \"Default\", \"Default\", \"Default\", \"Default\", \"Default\", \"Default\", \"Default\", \"Default\", \"Default\", \"Default\", \"Default\", \"Default\", \"Default\", \"Default\", \"Topic1\", \"Topic1\", \"Topic1\", \"Topic1\", \"Topic1\", \"Topic1\", \"Topic1\", \"Topic1\", \"Topic1\", \"Topic1\", \"Topic1\", \"Topic1\", \"Topic1\", \"Topic1\", \"Topic1\", \"Topic1\", \"Topic1\", \"Topic1\", \"Topic1\", \"Topic1\", \"Topic1\", \"Topic1\", \"Topic1\", \"Topic1\", \"Topic1\", \"Topic1\", \"Topic1\", \"Topic1\", \"Topic1\", \"Topic1\", \"Topic1\", \"Topic1\", \"Topic1\", \"Topic1\", \"Topic1\", \"Topic1\", \"Topic1\", \"Topic1\", \"Topic1\", \"Topic1\", \"Topic1\", \"Topic1\", \"Topic1\", \"Topic1\", \"Topic1\", \"Topic1\", \"Topic1\", \"Topic1\", \"Topic1\", \"Topic1\", \"Topic1\", \"Topic1\", \"Topic1\", \"Topic1\", \"Topic1\", \"Topic1\", \"Topic1\", \"Topic1\", \"Topic1\", \"Topic1\", \"Topic1\", \"Topic1\", \"Topic1\", \"Topic2\", \"Topic2\", \"Topic2\", \"Topic2\", \"Topic2\", \"Topic2\", \"Topic2\", \"Topic2\", \"Topic2\", \"Topic2\", \"Topic2\", \"Topic2\", \"Topic2\", \"Topic2\", \"Topic2\", \"Topic2\", \"Topic2\", \"Topic2\", \"Topic2\", \"Topic2\", \"Topic2\", \"Topic2\", \"Topic2\", \"Topic2\", \"Topic2\", \"Topic2\", \"Topic2\", \"Topic2\", \"Topic2\", \"Topic2\", \"Topic2\", \"Topic2\", \"Topic2\", \"Topic2\", \"Topic2\", \"Topic2\", \"Topic2\", \"Topic2\", \"Topic2\", \"Topic2\", \"Topic2\", \"Topic2\", \"Topic2\", \"Topic2\", \"Topic2\", \"Topic2\", \"Topic2\", \"Topic2\", \"Topic2\", \"Topic2\", \"Topic2\", \"Topic2\", \"Topic2\", \"Topic2\", \"Topic2\", \"Topic2\", \"Topic2\", \"Topic2\", \"Topic2\", \"Topic2\", \"Topic3\", \"Topic3\", \"Topic3\", \"Topic3\", \"Topic3\", \"Topic3\", \"Topic3\", \"Topic3\", \"Topic3\", \"Topic3\", \"Topic3\", \"Topic3\", \"Topic3\", \"Topic3\", \"Topic3\", \"Topic3\", \"Topic3\", \"Topic3\", \"Topic3\", \"Topic3\", \"Topic3\", \"Topic3\", \"Topic3\", \"Topic3\", \"Topic3\", \"Topic3\", \"Topic3\", \"Topic3\", \"Topic3\", \"Topic3\", \"Topic3\", \"Topic3\", \"Topic3\", \"Topic3\", \"Topic3\", \"Topic3\", \"Topic3\", \"Topic3\", \"Topic3\", \"Topic3\", \"Topic3\", \"Topic3\", \"Topic3\", \"Topic3\", \"Topic3\", \"Topic3\", \"Topic3\", \"Topic3\", \"Topic3\", \"Topic3\", \"Topic3\", \"Topic3\", \"Topic3\", \"Topic3\", \"Topic3\", \"Topic3\", \"Topic3\", \"Topic3\", \"Topic3\", \"Topic4\", \"Topic4\", \"Topic4\", \"Topic4\", \"Topic4\", \"Topic4\", \"Topic4\", \"Topic4\", \"Topic4\", \"Topic4\", \"Topic4\", \"Topic4\", \"Topic4\", \"Topic4\", \"Topic4\", \"Topic4\", \"Topic4\", \"Topic4\", \"Topic4\", \"Topic4\", \"Topic4\", \"Topic4\", \"Topic4\", \"Topic4\", \"Topic4\", \"Topic4\", \"Topic4\", \"Topic4\", \"Topic4\", \"Topic4\", \"Topic4\", \"Topic4\", \"Topic4\", \"Topic4\", \"Topic4\", \"Topic4\", \"Topic4\", \"Topic4\", \"Topic4\", \"Topic4\", \"Topic4\", \"Topic4\", \"Topic4\", \"Topic4\", \"Topic4\", \"Topic4\", \"Topic4\", \"Topic4\", \"Topic4\", \"Topic4\", \"Topic4\", \"Topic4\", \"Topic4\", \"Topic4\", \"Topic4\", \"Topic4\", \"Topic4\", \"Topic4\", \"Topic4\", \"Topic4\", \"Topic4\", \"Topic4\", \"Topic4\", \"Topic4\", \"Topic4\", \"Topic4\", \"Topic5\", \"Topic5\", \"Topic5\", \"Topic5\", \"Topic5\", \"Topic5\", \"Topic5\", \"Topic5\", \"Topic5\", \"Topic5\", \"Topic5\", \"Topic5\", \"Topic5\", \"Topic5\", \"Topic5\", \"Topic5\", \"Topic5\", \"Topic5\", \"Topic5\", \"Topic5\", \"Topic5\", \"Topic5\", \"Topic5\", \"Topic5\", \"Topic5\", \"Topic5\", \"Topic5\", \"Topic5\", \"Topic5\", \"Topic5\", \"Topic5\", \"Topic5\", \"Topic5\", \"Topic5\", \"Topic5\", \"Topic5\", \"Topic5\", \"Topic5\", \"Topic5\", \"Topic5\", \"Topic5\", \"Topic5\", \"Topic5\", \"Topic5\", \"Topic5\", \"Topic5\", \"Topic5\", \"Topic5\", \"Topic5\", \"Topic5\", \"Topic5\", \"Topic5\", \"Topic5\", \"Topic5\", \"Topic5\", \"Topic5\", \"Topic5\", \"Topic5\", \"Topic5\", \"Topic5\", \"Topic5\", \"Topic5\", \"Topic5\", \"Topic5\", \"Topic5\", \"Topic5\", \"Topic5\", \"Topic5\", \"Topic5\", \"Topic5\", \"Topic5\", \"Topic6\", \"Topic6\", \"Topic6\", \"Topic6\", \"Topic6\", \"Topic6\", \"Topic6\", \"Topic6\", \"Topic6\", \"Topic6\", \"Topic6\", \"Topic6\", \"Topic6\", \"Topic6\", \"Topic6\", \"Topic6\", \"Topic6\", \"Topic6\", \"Topic6\", \"Topic6\", \"Topic6\", \"Topic6\", \"Topic6\", \"Topic6\", \"Topic6\", \"Topic6\", \"Topic6\", \"Topic6\", \"Topic6\", \"Topic6\", \"Topic6\", \"Topic6\", \"Topic6\", \"Topic6\", \"Topic6\", \"Topic6\", \"Topic6\", \"Topic6\", \"Topic6\", \"Topic6\", \"Topic6\", \"Topic6\", \"Topic6\", \"Topic6\", \"Topic6\", \"Topic6\", \"Topic6\", \"Topic6\", \"Topic6\", \"Topic6\", \"Topic6\", \"Topic6\", \"Topic6\", \"Topic6\", \"Topic6\", \"Topic6\", \"Topic6\", \"Topic6\", \"Topic6\", \"Topic6\", \"Topic6\", \"Topic6\", \"Topic7\", \"Topic7\", \"Topic7\", \"Topic7\", \"Topic7\", \"Topic7\", \"Topic7\", \"Topic7\", \"Topic7\", \"Topic7\", \"Topic7\", \"Topic7\", \"Topic7\", \"Topic7\", \"Topic7\", \"Topic7\", \"Topic7\", \"Topic7\", \"Topic7\", \"Topic7\", \"Topic7\", \"Topic7\", \"Topic7\", \"Topic7\", \"Topic7\", \"Topic7\", \"Topic7\", \"Topic7\", \"Topic7\", \"Topic7\", \"Topic7\", \"Topic7\", \"Topic7\", \"Topic7\", \"Topic7\", \"Topic7\", \"Topic7\", \"Topic7\", \"Topic7\", \"Topic7\", \"Topic7\", \"Topic7\", \"Topic7\", \"Topic7\", \"Topic7\", \"Topic7\", \"Topic7\", \"Topic7\", \"Topic7\", \"Topic7\", \"Topic7\", \"Topic7\", \"Topic7\", \"Topic7\", \"Topic7\", \"Topic7\"], \"Freq\": [224.0, 215.0, 131.0, 194.0, 197.0, 117.0, 142.0, 161.0, 242.0, 113.0, 112.0, 117.0, 95.0, 112.0, 199.0, 51.0, 170.0, 60.0, 78.0, 135.0, 147.0, 69.0, 110.0, 70.0, 83.0, 107.0, 116.0, 153.0, 147.0, 88.0, 223.82521057128906, 37.249088287353516, 36.91929244995117, 29.923038482666016, 29.42725372314453, 25.1016902923584, 24.103351593017578, 22.809242248535156, 22.429792404174805, 20.98597526550293, 20.86573028564453, 18.36180877685547, 17.681692123413086, 17.368497848510742, 17.144126892089844, 16.53876304626465, 28.818265914916992, 16.34070587158203, 15.756139755249023, 15.688729286193848, 15.137703895568848, 14.599686622619629, 13.493245124816895, 12.652463912963867, 11.912433624267578, 11.850229263305664, 11.63880443572998, 11.099048614501953, 10.899801254272461, 10.143645286560059, 175.4410858154297, 31.36361312866211, 45.923667907714844, 57.71485900878906, 42.29617691040039, 89.66716766357422, 27.56036949157715, 50.788108825683594, 75.86711883544922, 116.93516540527344, 32.037601470947266, 21.701133728027344, 91.82115173339844, 33.436370849609375, 72.65513610839844, 73.3471908569336, 57.73670959472656, 74.89759063720703, 69.44157409667969, 62.41938400268555, 35.00708770751953, 60.3516845703125, 53.66297149658203, 56.64020919799805, 54.099510192871094, 41.30662155151367, 43.94261932373047, 36.112876892089844, 40.217166900634766, 40.708831787109375, 40.43533706665039, 39.477745056152344, 37.454795837402344, 70.0995864868164, 140.5670166015625, 111.1691665649414, 36.82407760620117, 34.51366424560547, 28.252410888671875, 28.087453842163086, 25.893014907836914, 23.625469207763672, 23.42627716064453, 23.021787643432617, 17.996234893798828, 17.527498245239258, 16.867712020874023, 16.788619995117188, 16.719764709472656, 15.889636993408203, 12.588631629943848, 12.55434799194336, 11.715272903442383, 11.641664505004883, 11.345107078552246, 39.018218994140625, 10.62112045288086, 29.92141342163086, 9.56493091583252, 9.435153007507324, 9.329524040222168, 9.324726104736328, 9.221648216247559, 25.355466842651367, 184.45008850097656, 61.67543029785156, 61.86341094970703, 83.71733093261719, 55.524784088134766, 27.277816772460938, 50.30494689941406, 38.868770599365234, 46.27567672729492, 45.21464157104492, 32.55548095703125, 64.41893768310547, 63.40168380737305, 35.088714599609375, 55.8336296081543, 70.10993194580078, 58.30570602416992, 71.55838775634766, 62.32003402709961, 39.39596939086914, 63.88468933105469, 54.83349609375, 39.301666259765625, 45.30961608886719, 49.79875946044922, 45.95888137817383, 47.081783294677734, 45.013343811035156, 42.291717529296875, 78.18939208984375, 68.59473419189453, 47.70814514160156, 42.1502571105957, 39.59744644165039, 39.158451080322266, 39.07109832763672, 35.09281921386719, 28.807395935058594, 26.38950538635254, 22.309797286987305, 20.109699249267578, 18.921953201293945, 17.20568084716797, 13.533013343811035, 13.362585067749023, 106.69493865966797, 12.3684720993042, 11.574190139770508, 10.76888656616211, 10.580113410949707, 10.467034339904785, 23.48311424255371, 10.072599411010742, 9.974983215332031, 9.842621803283691, 9.240381240844727, 8.671911239624023, 8.671853065490723, 8.67043685913086, 143.5841827392578, 65.06871795654297, 16.76808738708496, 29.746488571166992, 16.178300857543945, 77.18098449707031, 41.25199508666992, 74.3925552368164, 43.9315299987793, 36.94816589355469, 75.51480102539062, 96.42347717285156, 24.852991104125977, 68.38612365722656, 27.71896743774414, 36.36552047729492, 57.43614959716797, 52.498634338378906, 47.9478759765625, 56.02618408203125, 42.21547317504883, 50.1254997253418, 59.88920593261719, 48.65726089477539, 45.04142761230469, 41.78118896484375, 41.95493698120117, 43.273963928222656, 41.11570358276367, 130.31507873535156, 39.76241683959961, 20.793487548828125, 17.529048919677734, 17.053728103637695, 17.17650604248047, 15.990080833435059, 14.934340476989746, 14.263829231262207, 13.09480094909668, 11.977124214172363, 11.735466003417969, 11.208441734313965, 11.047980308532715, 11.045783996582031, 10.87319278717041, 10.47555160522461, 10.419692039489746, 9.921510696411133, 9.815947532653809, 9.586531639099121, 9.189510345458984, 8.880541801452637, 8.853572845458984, 8.585404396057129, 8.459529876708984, 8.222921371459961, 8.18838882446289, 7.727907180786133, 45.52322006225586, 20.520387649536133, 26.78471565246582, 15.511896133422852, 46.3381233215332, 19.445636749267578, 23.707796096801758, 26.226648330688477, 22.455705642700195, 55.147918701171875, 35.76966094970703, 56.7292366027832, 84.34615325927734, 43.44792556762695, 59.448280334472656, 53.437381744384766, 21.619674682617188, 15.030852317810059, 62.19745635986328, 44.46356964111328, 42.32014465332031, 38.95491027832031, 45.10378646850586, 40.15155029296875, 37.509822845458984, 33.5581169128418, 32.90665054321289, 33.99562454223633, 30.051429748535156, 31.789505004882812, 28.61808967590332, 23.576515197753906, 25.083791732788086, 27.964946746826172, 24.112205505371094, 24.700801849365234, 24.4906005859375, 117.2259521484375, 36.03441619873047, 23.302595138549805, 17.517812728881836, 16.51963996887207, 16.295597076416016, 12.909684181213379, 12.68352222442627, 12.289286613464355, 12.047173500061035, 11.900749206542969, 11.43714427947998, 11.24659538269043, 10.970224380493164, 10.53753662109375, 10.55026912689209, 10.623459815979004, 9.660091400146484, 9.502725601196289, 9.430671691894531, 9.26756763458252, 8.731500625610352, 8.731161117553711, 8.401450157165527, 8.180932998657227, 7.816365718841553, 7.815814971923828, 7.683680534362793, 7.6416544914245605, 13.833078384399414, 33.67809295654297, 11.373703956604004, 44.6007194519043, 27.99494171142578, 119.4297103881836, 55.8914680480957, 11.64200210571289, 21.560243606567383, 118.31034088134766, 15.021194458007812, 15.353906631469727, 14.194972038269043, 20.562231063842773, 42.01974868774414, 23.1072998046875, 34.08464050292969, 15.188294410705566, 43.33689498901367, 22.6395263671875, 21.045618057250977, 31.48759651184082, 23.785268783569336, 29.458724975585938, 30.30621910095215, 33.750308990478516, 32.32978439331055, 30.27582359313965, 36.97523880004883, 31.838533401489258, 24.727195739746094, 31.629308700561523, 24.71906280517578, 30.501222610473633, 26.501922607421875, 23.427473068237305, 24.021751403808594, 24.410436630249023, 23.60930824279785, 24.31993865966797, 23.856266021728516, 23.66252899169922, 22.839616775512695, 16.985572814941406, 15.650012016296387, 14.087111473083496, 12.927295684814453, 10.627080917358398, 10.27377986907959, 10.152320861816406, 9.908821105957031, 9.712267875671387, 9.318869590759277, 8.752437591552734, 8.463166236877441, 8.399059295654297, 8.344229698181152, 8.314534187316895, 8.192778587341309, 7.903168678283691, 7.84918212890625, 7.848097324371338, 7.752144813537598, 7.749296188354492, 7.255697727203369, 7.255472183227539, 7.063443660736084, 7.057309627532959, 6.821907043457031, 6.695305347442627, 6.5699286460876465, 6.568643569946289, 22.046600341796875, 10.390304565429688, 15.892630577087402, 27.009017944335938, 10.77621841430664, 23.82004737854004, 13.239903450012207, 11.978922843933105, 10.714344024658203, 29.58477020263672, 13.917470932006836, 10.523412704467773, 22.391435623168945, 26.894174575805664, 15.625584602355957, 26.387807846069336, 11.837359428405762, 23.74372100830078, 18.345447540283203, 14.528496742248535, 17.002899169921875, 16.841049194335938, 15.487153053283691, 13.97868537902832, 13.959760665893555, 16.445375442504883, 15.96290397644043, 12.334914207458496, 14.880053520202637, 13.38902473449707, 14.012777328491211, 13.556853294372559, 50.69575881958008, 25.981679916381836, 18.681615829467773, 15.397246360778809, 15.334861755371094, 14.845333099365234, 13.05538558959961, 9.174737930297852, 9.189967155456543, 7.7720255851745605, 7.70672082901001, 7.518472194671631, 7.093661785125732, 6.879939556121826, 6.6543755531311035, 6.5280632972717285, 5.838702201843262, 5.415114879608154, 5.200027942657471, 5.144286632537842, 5.037144660949707, 4.920555114746094, 4.898054599761963, 4.8300981521606445, 4.631011009216309, 4.582663059234619, 4.459004878997803, 4.453567028045654, 4.363326549530029, 4.362460613250732, 20.089704513549805, 6.471504211425781, 39.52143478393555, 24.033294677734375, 6.055522918701172, 48.776695251464844, 56.1475944519043, 8.245851516723633, 49.67870330810547, 18.057451248168945, 20.492158889770508, 9.799304962158203, 13.244484901428223, 11.699481964111328, 10.789040565490723, 7.7697367668151855, 28.395421981811523, 11.94387435913086, 8.625287055969238, 13.506131172180176, 10.592986106872559, 15.819201469421387, 12.359066009521484, 9.350374221801758, 10.265303611755371, 10.256779670715332], \"Term\": [\"apt\", \"partition\", \"firefox\", \"cd\", \"package\", \"bit\", \"drive\", \"driver\", \"boot\", \"user\", \"mount\", \"root\", \"log\", \"screen\", \"gnome\", \"dalton\", \"command\", \"password\", \"nvidia\", \"upgrade\", \"open\", \"xorg\", \"source\", \"wireless\", \"live\", \"network\", \"grub\", \"change\", \"server\", \"play\", \"apt\", \"paste\", \"php\", \"gedit\", \"mysql\", \"repo\", \"universe\", \"flood\", \"share\", \"gksudo\", \"punctuation\", \"txt\", \"ndiswrapper\", \"lucid\", \"vim\", \"cache\", \"aptitude\", \"scan\", \"ppa\", \"dmesg\", \"perl\", \"ftp\", \"dist\", \"cup\", \"cli\", \"wget\", \"document\", \"tho\", \"side\", \"gconf\", \"package\", \"service\", \"repository\", \"synaptic\", \"port\", \"source\", \"apache\", \"compile\", \"list\", \"command\", \"path\", \"entry\", \"server\", \"deb\", \"remove\", \"add\", \"line\", \"etc\", \"update\", \"version\", \"dpkg\", \"upgrade\", \"download\", \"program\", \"error\", \"app\", \"terminal\", \"gui\", \"start\", \"open\", \"gnome\", \"look\", \"check\", \"wireless\", \"drive\", \"mount\", \"ext\", \"ntfs\", \"gparte\", \"external\", \"wubi\", \"ignore\", \"convert\", \"fat\", \"sda\", \"detect\", \"address\", \"gz\", \"ifconfig\", \"generic\", \"mnt\", \"blow\", \"winxp\", \"webcam\", \"fdisk\", \"dual\", \"static\", \"eth\", \"huge\", \"stream\", \"umount\", \"successfully\", \"sdb\", \"tar\", \"partition\", \"hard\", \"disk\", \"network\", \"device\", \"swap\", \"iso\", \"interface\", \"burn\", \"dev\", \"connection\", \"card\", \"sound\", \"page\", \"computer\", \"question\", \"ok\", \"cd\", \"ask\", \"connect\", \"boot\", \"be\", \"software\", \"support\", \"system\", \"set\", \"could\", \"check\", \"someone\", \"nvidia\", \"xorg\", \"ati\", \"login\", \"gdm\", \"kubuntu\", \"compiz\", \"resolution\", \"graphic\", \"xserver\", \"effect\", \"beryl\", \"reconfigure\", \"remote\", \"audacity\", \"extra\", \"screen\", \"fglrx\", \"classic\", \"sata\", \"splash\", \"proprietary\", \"xfce\", \"past\", \"hda\", \"touchpad\", \"pointer\", \"glx\", \"awesome\", \"apply\", \"driver\", \"kde\", \"lt\", \"session\", \"loading\", \"grub\", \"release\", \"upgrade\", \"menu\", \"conf\", \"desktop\", \"gnome\", \"restart\", \"change\", \"move\", \"keep\", \"yes\", \"start\", \"still\", \"system\", \"issue\", \"please\", \"boot\", \"question\", \"new\", \"card\", \"time\", \"could\", \"tell\", \"firefox\", \"plugin\", \"xchat\", \"watch\", \"shut\", \"youtube\", \"although\", \"safe\", \"within\", \"totem\", \"alternate\", \"codecs\", \"register\", \"ffmpeg\", \"mpeg\", \"gaim\", \"high\", \"min\", \"ipod\", \"insert\", \"white\", \"menus\", \"increase\", \"alsamixer\", \"technology\", \"mbit\", \"due\", \"vi\", \"emacs\", \"flash\", \"beta\", \"close\", \"view\", \"panel\", \"mplayer\", \"mp\", \"tab\", \"irc\", \"click\", \"application\", \"play\", \"open\", \"video\", \"terminal\", \"back\", \"process\", \"control\", \"gnome\", \"sure\", \"tell\", \"mean\", \"be\", \"program\", \"something\", \"add\", \"sound\", \"look\", \"thing\", \"new\", \"show\", \"everything\", \"take\", \"question\", \"software\", \"someone\", \"yes\", \"bit\", \"gb\", \"prompt\", \"memory\", \"minute\", \"exe\", \"bootable\", \"disc\", \"fresh\", \"front\", \"cdrom\", \"sun\", \"thinkpad\", \"nd\", \"bios\", \"hang\", \"ubottu\", \"compatible\", \"qt\", \"openoffice\", \"cp\", \"quote\", \"deny\", \"area\", \"nickserv\", \"dd\", \"bootloader\", \"eject\", \"flag\", \"trash\", \"ram\", \"blank\", \"java\", \"win\", \"cd\", \"live\", \"msg\", \"amd\", \"boot\", \"word\", \"mess\", \"there\", \"stick\", \"usb\", \"installation\", \"home\", \"dir\", \"user\", \"experience\", \"hd\", \"even\", \"xp\", \"wine\", \"take\", \"root\", \"computer\", \"name\", \"command\", \"can\", \"option\", \"something\", \"type\", \"partition\", \"hey\", \"directory\", \"much\", \"error\", \"maybe\", \"start\", \"could\", \"yes\", \"rar\", \"shortcut\", \"pidgin\", \"pulseaudio\", \"simply\", \"official\", \"vcd\", \"database\", \"cat\", \"manual\", \"evolution\", \"wmv\", \"prefer\", \"br\", \"bluetooth\", \"rpm\", \"daemon\", \"touch\", \"light\", \"soundcard\", \"corrupt\", \"rip\", \"mark\", \"round\", \"ne\", \"pop\", \"unrar\", \"alpha\", \"xine\", \"pref\", \"vlc\", \"resource\", \"alsa\", \"dvd\", \"utility\", \"audio\", \"router\", \"archive\", \"love\", \"log\", \"base\", \"less\", \"fine\", \"check\", \"copy\", \"be\", \"exactly\", \"system\", \"sound\", \"configure\", \"error\", \"can\", \"usb\", \"release\", \"machine\", \"something\", \"set\", \"keyboard\", \"desktop\", \"directory\", \"still\", \"line\", \"dalton\", \"account\", \"wan\", \"woo\", \"na\", \"de\", \"email\", \"dock\", \"throw\", \"wich\", \"gcc\", \"color\", \"claim\", \"jre\", \"nic\", \"reach\", \"tweak\", \"xfree\", \"passwd\", \"xx\", \"upload\", \"relevant\", \"history\", \"madwifi\", \"broken\", \"gspcav\", \"clonezilla\", \"render\", \"gpg\", \"fingerprint\", \"website\", \"thru\", \"password\", \"lock\", \"forgot\", \"log\", \"user\", \"yesterday\", \"root\", \"installer\", \"monitor\", \"group\", \"local\", \"var\", \"grep\", \"wlan\", \"change\", \"mac\", \"torrent\", \"create\", \"mode\", \"look\", \"new\", \"config\", \"name\", \"mean\"], \"Total\": [224.0, 215.0, 131.0, 194.0, 197.0, 117.0, 142.0, 161.0, 242.0, 113.0, 112.0, 117.0, 95.0, 112.0, 199.0, 51.0, 170.0, 60.0, 78.0, 135.0, 147.0, 69.0, 110.0, 70.0, 83.0, 107.0, 116.0, 153.0, 147.0, 88.0, 224.56187438964844, 37.98644256591797, 37.655174255371094, 30.659564971923828, 30.163042068481445, 25.837942123413086, 24.83963394165039, 23.546232223510742, 23.167022705078125, 21.72202491760254, 21.60243797302246, 19.097549438476562, 18.418746948242188, 18.10521697998047, 17.880935668945312, 17.275033950805664, 30.11298942565918, 17.077762603759766, 16.49228858947754, 16.427215576171875, 15.873537063598633, 15.335295677185059, 14.229904174804688, 13.38925838470459, 12.648717880249023, 12.586849212646484, 12.381654739379883, 11.840807914733887, 11.636605262756348, 10.881338119506836, 197.31808471679688, 34.40925598144531, 51.24553680419922, 66.32909393310547, 48.1065559387207, 110.01396179199219, 31.328413009643555, 61.369205474853516, 96.6668472290039, 170.5339813232422, 37.88864517211914, 24.1917781829834, 147.43368530273438, 42.07199478149414, 121.0002670288086, 125.31451416015625, 98.34617614746094, 150.1434783935547, 140.87527465820312, 139.5344696044922, 52.016143798828125, 135.6472625732422, 120.22233581542969, 139.18402099609375, 130.95687866210938, 89.9999008178711, 122.06788635253906, 67.87068939208984, 136.7464141845703, 147.72425842285156, 199.5432586669922, 169.562744140625, 150.45849609375, 70.84415435791016, 142.1448211669922, 112.92048645019531, 37.561161041259766, 35.25029754638672, 28.988859176635742, 28.825084686279297, 26.62965202331543, 24.36250114440918, 24.163782119750977, 23.75861358642578, 18.732633590698242, 18.2645206451416, 17.60552215576172, 17.527055740356445, 17.45659637451172, 16.627342224121094, 13.324645042419434, 13.292593002319336, 12.45278549194336, 12.379236221313477, 12.081231117248535, 41.59967041015625, 11.357840538024902, 32.146934509277344, 10.30338191986084, 10.171839714050293, 10.066245079040527, 10.063276290893555, 9.959349632263184, 27.68178367614746, 215.5640106201172, 70.53907775878906, 73.53538513183594, 107.64263916015625, 70.13648223876953, 32.11595916748047, 63.89094161987305, 48.15687561035156, 60.05253601074219, 58.99881362915039, 41.14393615722656, 120.7771987915039, 122.4355239868164, 53.44398880004883, 115.01139831542969, 178.7877655029297, 132.52743530273438, 194.52621459960938, 160.912353515625, 73.75066375732422, 242.57183837890625, 174.6072235107422, 81.8459701538086, 130.56771850585938, 177.8192138671875, 141.42515563964844, 163.1515350341797, 150.45849609375, 144.90414428710938, 78.92887115478516, 69.3340835571289, 48.44764709472656, 42.890594482421875, 40.337345123291016, 39.89797592163086, 39.810821533203125, 35.83665466308594, 29.547252655029297, 27.12883949279785, 23.04912757873535, 20.848770141601562, 19.661623001098633, 17.94633674621582, 14.274089813232422, 14.103556632995605, 112.9180908203125, 13.107596397399902, 12.313740730285645, 11.508522033691406, 11.319117546081543, 11.21475601196289, 25.21245002746582, 10.815153121948242, 10.714909553527832, 10.58342456817627, 9.980741500854492, 9.411343574523926, 9.411328315734863, 9.410435676574707, 161.7986297607422, 72.38751220703125, 18.391836166381836, 34.92658233642578, 18.46302032470703, 116.26563262939453, 60.450843811035156, 135.6472625732422, 69.6347427368164, 56.225677490234375, 142.5052947998047, 199.5432586669922, 34.203521728515625, 153.04046630859375, 41.437931060791016, 70.5247802734375, 160.59201049804688, 136.7464141845703, 121.07152557373047, 177.8192138671875, 101.1490478515625, 154.89849853515625, 242.57183837890625, 178.7877655029297, 155.833251953125, 120.7771987915039, 124.79224395751953, 163.1515350341797, 150.17080688476562, 131.0570526123047, 40.50299072265625, 21.53346824645996, 18.26932716369629, 17.795909881591797, 17.934085845947266, 16.73200225830078, 15.677303314208984, 15.005017280578613, 13.835345268249512, 12.721214294433594, 12.475370407104492, 11.948735237121582, 11.787498474121094, 11.786165237426758, 11.613114356994629, 11.216303825378418, 11.160364151000977, 10.662215232849121, 10.55795955657959, 10.326713562011719, 9.930356979370117, 9.621426582336426, 9.594350814819336, 9.32744026184082, 9.199563026428223, 8.964179992675781, 8.932043075561523, 8.467905044555664, 49.88847732543945, 22.851049423217773, 30.582321166992188, 17.33448028564453, 55.14778137207031, 22.18534278869629, 27.543058395385742, 31.83943748474121, 26.938520431518555, 75.7160873413086, 50.025604248046875, 88.2090835571289, 147.72425842285156, 71.85242462158203, 122.06788635253906, 107.46929931640625, 33.53184509277344, 19.02385902404785, 199.5432586669922, 139.26815795898438, 150.17080688476562, 127.28665161132812, 174.6072235107422, 139.18402099609375, 166.4907989501953, 125.31451416015625, 122.4355239868164, 169.562744140625, 123.03416442871094, 155.833251953125, 115.18128967285156, 53.11195755004883, 80.01815032958984, 178.7877655029297, 81.8459701538086, 144.90414428710938, 160.59201049804688, 117.96704864501953, 36.77546691894531, 24.045007705688477, 18.258468627929688, 17.262964248657227, 17.035888671875, 13.650846481323242, 13.426393508911133, 13.032022476196289, 12.789047241210938, 12.641594886779785, 12.177927017211914, 11.987975120544434, 11.71712589263916, 11.277830123901367, 11.291481018066406, 11.380127906799316, 10.401912689208984, 10.242941856384277, 10.17142105102539, 10.008848190307617, 9.471975326538086, 9.471786499023438, 9.146346092224121, 8.921295166015625, 8.557612419128418, 8.557249069213867, 8.424626350402832, 8.382232666015625, 15.181563377380371, 37.321876525878906, 12.701871871948242, 55.19831848144531, 34.143524169921875, 194.52621459960938, 83.53046417236328, 13.406352043151855, 28.5177001953125, 242.57183837890625, 19.108779907226562, 19.8421630859375, 17.8472900390625, 30.23776626586914, 92.745849609375, 37.62199783325195, 74.10757446289062, 20.18524169921875, 113.94697570800781, 38.939430236816406, 35.06924819946289, 75.37670135498047, 46.798484802246094, 70.1907958984375, 80.01815032958984, 117.37901306152344, 115.01139831542969, 104.18933868408203, 170.5339813232422, 128.31642150878906, 74.04119873046875, 166.4907989501953, 81.31717681884766, 215.5640106201172, 128.10931396484375, 67.84293365478516, 86.16703796386719, 130.95687866210938, 76.18359375, 136.7464141845703, 163.1515350341797, 160.59201049804688, 23.587522506713867, 17.732982635498047, 16.39958381652832, 14.83469009399414, 13.67677116394043, 11.375061988830566, 11.023687362670898, 10.901439666748047, 10.657269477844238, 10.462060928344727, 10.067130088806152, 9.50133228302002, 9.2119140625, 9.146843910217285, 9.09155559539795, 9.063188552856445, 8.941092491149902, 8.651521682739258, 8.596840858459473, 8.596281051635742, 8.49998664855957, 8.498239517211914, 8.0044527053833, 8.00424575805664, 7.811805725097656, 7.808512210845947, 7.568782806396484, 7.442343711853027, 7.318036079406738, 7.317237377166748, 25.94210433959961, 12.378385543823242, 20.597829818725586, 40.948089599609375, 13.299505233764648, 39.88921356201172, 18.562238693237305, 18.052433013916016, 15.050636291503906, 95.56089782714844, 27.736833572387695, 16.0164794921875, 80.19813537597656, 150.45849609375, 41.74446105957031, 174.6072235107422, 23.8002986907959, 177.8192138671875, 122.4355239868164, 62.881038665771484, 130.95687866210938, 128.31642150878906, 92.745849609375, 60.450843811035156, 61.02277374267578, 166.4907989501953, 141.42515563964844, 34.36128616333008, 142.5052947998047, 67.84293365478516, 121.07152557373047, 98.34617614746094, 51.4431037902832, 26.73002052307129, 19.431142807006836, 16.144657135009766, 16.084087371826172, 15.59366512298584, 13.804216384887695, 9.922551155090332, 9.942238807678223, 8.523836135864258, 8.456488609313965, 8.266884803771973, 7.843255519866943, 7.627819061279297, 7.404006481170654, 7.2794575691223145, 6.5930399894714355, 6.163671970367432, 5.947469234466553, 5.8918023109436035, 5.789424419403076, 5.670456886291504, 5.646397590637207, 5.57769250869751, 5.381369113922119, 5.330203056335449, 5.207307815551758, 5.204083442687988, 5.1114044189453125, 5.110827445983887, 25.117042541503906, 7.93537712097168, 60.72425842285156, 38.46937942504883, 7.477534770965576, 95.56089782714844, 113.94697570800781, 11.146236419677734, 117.37901306152344, 31.026504516601562, 37.69597244262695, 14.517496109008789, 23.28425407409668, 20.94799041748047, 20.138530731201172, 11.23327922821045, 153.04046630859375, 30.697147369384766, 14.903985977172852, 60.38395690917969, 34.40363311767578, 169.562744140625, 155.833251953125, 35.449806213378906, 104.18933868408203, 127.28665161132812], \"loglift\": [30.0, 29.0, 28.0, 27.0, 26.0, 25.0, 24.0, 23.0, 22.0, 21.0, 20.0, 19.0, 18.0, 17.0, 16.0, 15.0, 14.0, 13.0, 12.0, 11.0, 10.0, 9.0, 8.0, 7.0, 6.0, 5.0, 4.0, 3.0, 2.0, 1.0, 1.6272000074386597, 1.6109000444412231, 1.61080002784729, 1.6061999797821045, 1.6058000326156616, 1.6016000509262085, 1.6003999710083008, 1.5987000465393066, 1.5981999635696411, 1.5959999561309814, 1.5958000421524048, 1.5911999940872192, 1.5896999835968018, 1.5889999866485596, 1.5884000062942505, 1.586899995803833, 1.5865999460220337, 1.586400032043457, 1.5848000049591064, 1.5844999551773071, 1.5829999446868896, 1.5813000202178955, 1.577299952507019, 1.5738999843597412, 1.5705000162124634, 1.570199966430664, 1.568600058555603, 1.5657999515533447, 1.5650999546051025, 1.5602999925613403, 1.5130000114440918, 1.5377999544143677, 1.520900011062622, 1.4914000034332275, 1.5017999410629272, 1.4259999990463257, 1.5024000406265259, 1.4413000345230103, 1.388200044631958, 1.2532000541687012, 1.4628000259399414, 1.5219000577926636, 1.156999945640564, 1.4007999897003174, 1.1203999519348145, 1.0949000120162964, 1.0979000329971313, 0.9350000023841858, 0.9230999946594238, 0.8260999917984009, 1.2345000505447388, 0.8205999732017517, 0.8238999843597412, 0.7314000129699707, 0.7465000152587891, 0.8517000079154968, 0.6087999939918518, 0.9994999766349792, 0.4066999852657318, 0.3416000008583069, 0.03420000150799751, 0.17299999296665192, 0.23999999463558197, 1.6416000127792358, 1.6410000324249268, 1.6365000009536743, 1.6323000192642212, 1.63100004196167, 1.6263999938964844, 1.6261999607086182, 1.6240999698638916, 1.621399998664856, 1.6210999488830566, 1.6205999851226807, 1.6119999885559082, 1.6109000444412231, 1.6093000173568726, 1.6090999841690063, 1.6089999675750732, 1.6067999601364136, 1.5952999591827393, 1.5950000286102295, 1.5910999774932861, 1.5907000303268433, 1.5893000364303589, 1.5880999565124512, 1.5851000547409058, 1.580399990081787, 1.5778000354766846, 1.5770000219345093, 1.5760999917984009, 1.5758999586105347, 1.5751999616622925, 1.5643999576568604, 1.4962999820709229, 1.517899990081787, 1.4793000221252441, 1.4007999897003174, 1.4184999465942383, 1.4888999462127686, 1.413100004196167, 1.4378999471664429, 1.3914999961853027, 1.3860000371932983, 1.4179999828338623, 1.0235999822616577, 0.9940000176429749, 1.2314000129699707, 0.9294999837875366, 0.7160000205039978, 0.8309999704360962, 0.6521000266075134, 0.7035999894142151, 1.0250999927520752, 0.31790000200271606, 0.49390000104904175, 0.9186000227928162, 0.5938000082969666, 0.37940001487731934, 0.5281000137329102, 0.4092999994754791, 0.4453999996185303, 0.4207000136375427, 1.694700002670288, 1.6934000253677368, 1.6886999607086182, 1.6866999864578247, 1.6856000423431396, 1.6854000091552734, 1.6854000091552734, 1.6832000017166138, 1.6787999868392944, 1.6764999628067017, 1.6714999675750732, 1.6679999828338623, 1.6657999753952026, 1.6619999408721924, 1.6507999897003174, 1.6502000093460083, 1.6474000215530396, 1.6461000442504883, 1.642199993133545, 1.6376999616622925, 1.6366000175476074, 1.63510000705719, 1.6331000328063965, 1.6330000162124634, 1.632599949836731, 1.631600022315979, 1.6270999908447266, 1.6223000288009644, 1.6223000288009644, 1.6222000122070312, 1.5846999883651733, 1.597499966621399, 1.6117000579833984, 1.5435999631881714, 1.5720000267028809, 1.2943999767303467, 1.3220000267028809, 1.1033999919891357, 1.243499994277954, 1.2842999696731567, 1.069100022315979, 0.9768999814987183, 1.3847999572753906, 0.8985999822616577, 1.3020999431610107, 1.0418000221252441, 0.6758999824523926, 0.7468000054359436, 0.777899980545044, 0.5491999983787537, 0.830299973487854, 0.5759000182151794, 0.3052999973297119, 0.4027000069618225, 0.4629000127315521, 0.6425999999046326, 0.6140999794006348, 0.37700000405311584, 0.40869998931884766, 1.9185999631881714, 1.9057999849319458, 1.889299988746643, 1.8828999996185303, 1.881600022315979, 1.881100058555603, 1.8789000511169434, 1.8756999969482422, 1.8736000061035156, 1.8691999912261963, 1.8639999628067017, 1.8631000518798828, 1.8602999448776245, 1.8595000505447388, 1.8594000339508057, 1.8583999872207642, 1.8559000492095947, 1.8555999994277954, 1.8522000312805176, 1.8514000177383423, 1.8499000072479248, 1.8466999530792236, 1.844099998474121, 1.8438999652862549, 1.8413000106811523, 1.840399980545044, 1.8379000425338745, 1.8372999429702759, 1.832800030708313, 1.8327000141143799, 1.8166999816894531, 1.791700005531311, 1.8131999969482422, 1.7502000331878662, 1.7924000024795532, 1.7742999792099, 1.730299949645996, 1.7422000169754028, 1.607300043106079, 1.5887999534606934, 1.482800006866455, 1.363800048828125, 1.4212000370025635, 1.204800009727478, 1.225600004196167, 1.4853999614715576, 1.6886999607086182, 0.7584999799728394, 0.7825000286102295, 0.6577000021934509, 0.7401999831199646, 0.5706999897956848, 0.6811000108718872, 0.43389999866485596, 0.6067000031471252, 0.6103000044822693, 0.3172999918460846, 0.5146999955177307, 0.3346000015735626, 0.5317999720573425, 1.1121000051498413, 0.76419997215271, 0.0689999982714653, 0.7020999789237976, 0.1550000011920929, 0.043699998408555984, 1.9718999862670898, 1.957800030708313, 1.9467999935150146, 1.9368000030517578, 1.9342000484466553, 1.9337999820709229, 1.9223999977111816, 1.9213000535964966, 1.9194999933242798, 1.9184000492095947, 1.917799949645996, 1.9154000282287598, 1.9143999814987183, 1.9122999906539917, 1.9103000164031982, 1.9103000164031982, 1.9093999862670898, 1.9041999578475952, 1.9032000303268433, 1.9026000499725342, 1.9012999534606934, 1.8968000411987305, 1.8968000411987305, 1.8933000564575195, 1.8916000127792358, 1.8875999450683594, 1.8875999450683594, 1.8861000537872314, 1.885699987411499, 1.885200023651123, 1.875499963760376, 1.867799997329712, 1.7649999856948853, 1.7797000408172607, 1.490399956703186, 1.5764000415802002, 1.8371000289916992, 1.6985000371932983, 1.260200023651123, 1.7374999523162842, 1.7217999696731567, 1.7491999864578247, 1.5925999879837036, 1.1864999532699585, 1.4908000230789185, 1.2015000581741333, 1.6937999725341797, 1.0115000009536743, 1.4358999729156494, 1.4675999879837036, 1.105299949645996, 1.3013999462127686, 1.1100000143051147, 1.0073000192642212, 0.7318000197410583, 0.7092000246047974, 0.7422999739646912, 0.4494999945163727, 0.5843999981880188, 0.8815000057220459, 0.3172999918460846, 0.7874000072479248, 0.022700000554323196, 0.4025000035762787, 0.914900004863739, 0.7009000182151794, 0.29829999804496765, 0.8066999912261963, 0.2513999938964844, 0.05559999868273735, 0.06319999694824219, 2.4435999393463135, 2.432800054550171, 2.428999900817871, 2.424099922180176, 2.4195001125335693, 2.4077999591827393, 2.405400037765503, 2.404599905014038, 2.4030001163482666, 2.4014999866485596, 2.3986001014709473, 2.393699884414673, 2.3910999298095703, 2.390500068664551, 2.3901000022888184, 2.3896000385284424, 2.388400077819824, 2.3854000568389893, 2.3847999572753906, 2.3847999572753906, 2.383699893951416, 2.3835999965667725, 2.3775999546051025, 2.3775999546051025, 2.3750998973846436, 2.3747000694274902, 2.3719000816345215, 2.3701000213623047, 2.368000030517578, 2.3678998947143555, 2.3131000995635986, 2.300800085067749, 2.2165000438690186, 2.0597000122070312, 2.265399932861328, 1.9602999687194824, 2.1379001140594482, 2.065700054168701, 2.135999917984009, 1.3033000230789185, 1.7862000465393066, 2.055799961090088, 1.2000000476837158, 0.7541000247001648, 1.4931999444961548, 0.5861999988555908, 1.777400016784668, 0.46239998936653137, 0.5776000022888184, 1.010699987411499, 0.4343000054359436, 0.44510000944137573, 0.6859999895095825, 1.0115000009536743, 1.0008000135421753, 0.16089999675750732, 0.29429998993873596, 1.451300024986267, 0.21649999916553497, 0.8531000018119812, 0.31940001249313354, 0.4941999912261963, 2.762700080871582, 2.749000072479248, 2.73799991607666, 2.7300000190734863, 2.7297000885009766, 2.7281999588012695, 2.72160005569458, 2.6989998817443848, 2.698699951171875, 2.684999942779541, 2.684499979019165, 2.682499885559082, 2.6768999099731445, 2.6742000579833984, 2.670599937438965, 2.6684000492095947, 2.655900001525879, 2.647900104522705, 2.6431000232696533, 2.641700029373169, 2.638200044631958, 2.635499954223633, 2.635200023651123, 2.633500099182129, 2.62719988822937, 2.626199960708618, 2.6222000122070312, 2.6215999126434326, 2.6191000938415527, 2.61899995803833, 2.553999900817871, 2.5734000205993652, 2.347899913787842, 2.3069000244140625, 2.5664000511169434, 2.10479998588562, 2.0696001052856445, 2.4760000705718994, 1.9175000190734863, 2.2360999584198, 2.167799949645996, 2.3842999935150146, 2.213200092315674, 2.1949000358581543, 2.1533000469207764, 2.4086999893188477, 1.092900037765503, 1.833400011062622, 2.2304000854492188, 1.2798000574111938, 1.5994000434875488, 0.40540000796318054, 0.24300000071525574, 1.444700002670288, 0.45989999175071716, 0.258899986743927], \"logprob\": [30.0, 29.0, 28.0, 27.0, 26.0, 25.0, 24.0, 23.0, 22.0, 21.0, 20.0, 19.0, 18.0, 17.0, 16.0, 15.0, 14.0, 13.0, 12.0, 11.0, 10.0, 9.0, 8.0, 7.0, 6.0, 5.0, 4.0, 3.0, 2.0, 1.0, -3.706399917602539, -5.499599933624268, -5.508500099182129, -5.718599796295166, -5.735300064086914, -5.8942999839782715, -5.934899806976318, -5.990099906921387, -6.006899833679199, -6.073400020599365, -6.079100131988525, -6.206999778747559, -6.244699954986572, -6.262599945068359, -6.275599956512451, -6.311500072479248, -5.756199836730957, -6.323599815368652, -6.360000133514404, -6.364299774169922, -6.400100231170654, -6.436200141906738, -6.515100002288818, -6.579400062561035, -6.639699935913086, -6.644899845123291, -6.662899971008301, -6.710400104522705, -6.728499889373779, -6.8003997802734375, -3.949899911880493, -5.671599864959717, -5.290299892425537, -5.061699867248535, -5.372499942779541, -4.621099948883057, -5.800899982452393, -5.189599990844727, -4.788300037384033, -4.355599880218506, -5.650300025939941, -6.039899826049805, -4.597400188446045, -5.607600212097168, -4.831500053405762, -4.822000026702881, -5.061399936676025, -4.80109977722168, -4.876800060272217, -4.983399868011475, -5.561699867248535, -5.017099857330322, -5.134500026702881, -5.08050012588501, -5.126399993896484, -5.396200180053711, -5.334400177001953, -5.530600070953369, -5.422900199890137, -5.410799980163574, -5.417500019073486, -5.441500186920166, -5.494100093841553, -4.845699787139893, -4.149899959564209, -4.3846001625061035, -5.489500045776367, -5.554299831390381, -5.75439977645874, -5.760300159454346, -5.841599941253662, -5.933300018310547, -5.941699981689453, -5.959199905395508, -6.205399990081787, -6.231800079345703, -6.270199775695801, -6.274899959564209, -6.2789998054504395, -6.329899787902832, -6.56279993057251, -6.565499782562256, -6.634699821472168, -6.640999794006348, -6.666800022125244, -5.431600093841553, -6.732800006866455, -5.697000026702881, -6.837500095367432, -6.851200103759766, -6.862400054931641, -6.8628997802734375, -6.874100208282471, -5.862599849700928, -3.878200054168701, -4.973700046539307, -4.970699787139893, -4.6682000160217285, -5.078800201416016, -5.7895002365112305, -5.177499771118164, -5.435400009155273, -5.261000156402588, -5.284200191497803, -5.61269998550415, -4.930200099945068, -4.946100234985352, -5.537700176239014, -5.073200225830078, -4.8454999923706055, -5.029900074005127, -4.825099945068359, -4.9633002281188965, -5.421899795532227, -4.938499927520752, -5.091300010681152, -5.424300193786621, -5.282100200653076, -5.187600135803223, -5.267899990081787, -5.24370002746582, -5.288599967956543, -5.35099983215332, -4.684500217437744, -4.815400123596191, -5.178500175476074, -5.3024001121521, -5.364799976348877, -5.375999927520752, -5.378200054168701, -5.485599994659424, -5.683000087738037, -5.770599842071533, -5.938600063323975, -6.042399883270264, -6.103300094604492, -6.198400020599365, -6.438499927520752, -6.451200008392334, -4.373600006103516, -6.528500080108643, -6.594799995422363, -6.666999816894531, -6.684599876403809, -6.695400238037109, -5.88730001449585, -6.733799934387207, -6.743500232696533, -6.756899833679199, -6.820000171661377, -6.883500099182129, -6.883500099182129, -6.883699893951416, -4.076700210571289, -4.868199825286865, -6.224100112915039, -5.650899887084961, -6.259900093078613, -4.697500228881836, -5.32390022277832, -4.734300136566162, -5.261000156402588, -5.434100151062012, -4.719299793243408, -4.474899768829346, -5.830599784851074, -4.818399906158447, -5.721499919891357, -5.449999809265137, -4.9928998947143555, -5.082799911499023, -5.173500061035156, -5.0177998542785645, -5.30079984664917, -5.1290998458862305, -4.951099872589111, -5.15880012512207, -5.236000061035156, -5.311200141906738, -5.307000160217285, -5.276100158691406, -5.327199935913086, -3.9535000324249268, -5.140600204467773, -5.788899898529053, -5.95959997177124, -5.987100124359131, -5.980000019073486, -6.051499843597412, -6.119800090789795, -6.165800094604492, -6.251299858093262, -6.3404998779296875, -6.360899925231934, -6.406799793243408, -6.421299934387207, -6.42140007019043, -6.43720006942749, -6.4745001792907715, -6.479800224304199, -6.528800010681152, -6.5395002365112305, -6.5630998611450195, -6.605400085449219, -6.639599800109863, -6.6427001953125, -6.673399925231934, -6.688199996948242, -6.716599941253662, -6.720799922943115, -6.77869987487793, -5.005300045013428, -5.80210018157959, -5.535699844360352, -6.081900119781494, -4.987500190734863, -5.855899810791016, -5.657700061798096, -5.556700229644775, -5.711999893188477, -4.813499927520752, -5.246399879455566, -4.785200119018555, -4.388599872589111, -5.0518999099731445, -4.738399982452393, -4.84499979019165, -5.749899864196777, -6.113399982452393, -4.69320011138916, -5.028800010681152, -5.078199863433838, -5.161099910736084, -5.014500141143799, -5.130799770355225, -5.19890022277832, -5.310200214385986, -5.329800128936768, -5.297299861907959, -5.420599937438965, -5.3643999099731445, -5.4695000648498535, -5.6631999015808105, -5.60129976272583, -5.492499828338623, -5.6407999992370605, -5.616700172424316, -5.625199794769287, -4.00540018081665, -5.185100078582764, -5.620999813079834, -5.906300067901611, -5.965000152587891, -5.978600025177002, -6.211599826812744, -6.2291998863220215, -6.260799884796143, -6.280700206756592, -6.292900085449219, -6.332699775695801, -6.3495001792907715, -6.3744001388549805, -6.414599895477295, -6.413400173187256, -6.406499862670898, -6.501500129699707, -6.51800012588501, -6.525599956512451, -6.543000221252441, -6.60260009765625, -6.60260009765625, -6.64109992980957, -6.667699813842773, -6.7133002281188965, -6.713399887084961, -6.730400085449219, -6.735899925231934, -6.142499923706055, -5.252699851989746, -6.338200092315674, -4.971799850463867, -5.4375, -3.986799955368042, -4.746099948883057, -6.314899921417236, -5.698699951171875, -3.9962000846862793, -6.060100078582764, -6.0381999015808105, -6.116700172424316, -5.746099948883057, -5.031400203704834, -5.62939977645874, -5.240699768066406, -6.048999786376953, -5.000500202178955, -5.649799823760986, -5.722799777984619, -5.319900035858154, -5.600500106811523, -5.386600017547607, -5.3582000732421875, -5.2505998611450195, -5.293600082397461, -5.3592000007629395, -5.159299850463867, -5.308899879455566, -5.561600208282471, -5.315499782562256, -5.561999797821045, -5.351799964904785, -5.492300033569336, -5.615600109100342, -5.59060001373291, -5.57450008392334, -5.607900142669678, -5.578199863433838, -5.597499847412109, -5.605599880218506, -5.143400192260742, -5.439599990844727, -5.521399974822998, -5.626699924468994, -5.712600231170654, -5.9085001945495605, -5.942299842834473, -5.95419979095459, -5.978499889373779, -5.998499870300293, -6.039899826049805, -6.10260009765625, -6.136199951171875, -6.143799781799316, -6.150300025939941, -6.153900146484375, -6.168700218200684, -6.204699993133545, -6.21150016784668, -6.211599826812744, -6.223899841308594, -6.224299907684326, -6.29010009765625, -6.290200233459473, -6.316999912261963, -6.31790018081665, -6.351799964904785, -6.370500087738037, -6.389400005340576, -6.389599800109863, -5.178800106048584, -5.931000232696533, -5.506100177764893, -4.9756999015808105, -5.894599914550781, -5.101399898529053, -5.688700199127197, -5.78879976272583, -5.900300025939941, -4.884699821472168, -5.638800144195557, -5.918300151824951, -5.1631999015808105, -4.980000019073486, -5.5229997634887695, -4.999000072479248, -5.8007001876831055, -5.104599952697754, -5.362500190734863, -5.595799922943115, -5.438499927520752, -5.4481000900268555, -5.531899929046631, -5.634399890899658, -5.635700225830078, -5.47189998626709, -5.5015997886657715, -5.759500026702881, -5.571899890899658, -5.677499771118164, -5.631899833679199, -5.664999961853027, -4.04449987411499, -4.7129998207092285, -5.042799949645996, -5.236199855804443, -5.240300178527832, -5.27269983291626, -5.401199817657471, -5.753900051116943, -5.752299785614014, -5.919899940490723, -5.928299903869629, -5.953000068664551, -6.011199951171875, -6.041800022125244, -6.075099945068359, -6.094299793243408, -6.205900192260742, -6.281199932098389, -6.321700096130371, -6.332499980926514, -6.353499889373779, -6.376999855041504, -6.381499767303467, -6.395500183105469, -6.437600135803223, -6.4481000900268555, -6.475500106811523, -6.4766998291015625, -6.497200012207031, -6.497399806976318, -4.970200061798096, -6.103000164031982, -4.293499946594238, -4.790900230407715, -6.169400215148926, -4.083099842071533, -3.9423999786376953, -5.8607001304626465, -4.064799785614014, -5.0767998695373535, -4.950300216674805, -5.6880998611450195, -5.3867998123168945, -5.510799884796143, -5.591899871826172, -5.920199871063232, -4.624199867248535, -5.490200042724609, -5.815700054168701, -5.367199897766113, -5.610199928283691, -5.209199905395508, -5.455999851226807, -5.735000133514404, -5.641600131988525, -5.642399787902832]}, \"token.table\": {\"Topic\": [7, 1, 2, 3, 4, 7, 2, 6, 2, 6, 4, 4, 4, 3, 5, 1, 2, 1, 2, 4, 5, 6, 1, 2, 4, 3, 1, 1, 4, 1, 6, 5, 1, 2, 3, 4, 5, 6, 7, 3, 3, 2, 3, 6, 3, 2, 3, 4, 5, 1, 6, 1, 2, 3, 4, 5, 6, 3, 4, 5, 5, 5, 5, 7, 2, 6, 2, 3, 5, 5, 5, 6, 7, 2, 5, 1, 1, 2, 4, 5, 6, 2, 3, 4, 6, 1, 2, 5, 5, 1, 2, 3, 4, 5, 6, 7, 1, 2, 3, 4, 5, 6, 7, 3, 1, 1, 2, 4, 5, 6, 7, 2, 4, 5, 4, 7, 1, 4, 5, 6, 5, 1, 2, 4, 3, 1, 2, 3, 5, 7, 1, 3, 1, 2, 6, 7, 1, 2, 3, 5, 6, 1, 2, 3, 4, 5, 6, 2, 3, 6, 3, 4, 2, 2, 4, 5, 6, 6, 1, 2, 3, 4, 5, 6, 5, 1, 2, 3, 5, 7, 1, 6, 7, 6, 5, 7, 1, 5, 6, 5, 1, 2, 3, 4, 6, 2, 1, 2, 3, 1, 2, 5, 2, 5, 6, 1, 5, 6, 7, 5, 2, 5, 1, 1, 7, 1, 1, 2, 3, 4, 5, 1, 3, 2, 5, 2, 3, 2, 5, 4, 2, 6, 3, 5, 4, 7, 1, 7, 1, 2, 3, 4, 5, 6, 1, 2, 3, 4, 5, 2, 7, 2, 3, 4, 5, 7, 2, 3, 4, 5, 6, 2, 4, 6, 5, 2, 3, 5, 2, 2, 3, 2, 2, 4, 3, 2, 3, 4, 5, 6, 7, 4, 5, 2, 4, 1, 4, 7, 5, 5, 1, 4, 5, 7, 1, 3, 1, 2, 1, 3, 1, 3, 4, 2, 7, 3, 1, 7, 4, 6, 7, 2, 3, 5, 7, 1, 4, 5, 6, 2, 5, 2, 3, 2, 5, 3, 1, 2, 3, 4, 5, 6, 4, 7, 1, 2, 5, 7, 2, 2, 2, 4, 4, 1, 3, 5, 7, 2, 7, 1, 2, 6, 4, 1, 4, 2, 5, 2, 3, 4, 5, 6, 3, 5, 7, 1, 3, 4, 1, 3, 5, 7, 3, 4, 6, 3, 2, 6, 6, 1, 2, 3, 5, 6, 1, 4, 5, 2, 5, 2, 3, 2, 7, 3, 7, 1, 3, 6, 7, 3, 1, 2, 3, 4, 5, 6, 7, 1, 6, 3, 5, 1, 2, 4, 7, 1, 3, 4, 5, 6, 7, 7, 6, 6, 1, 2, 3, 4, 5, 6, 7, 4, 1, 2, 3, 4, 5, 6, 7, 5, 3, 4, 5, 6, 4, 1, 5, 4, 5, 2, 2, 3, 7, 3, 6, 7, 1, 2, 1, 3, 5, 4, 5, 4, 2, 4, 6, 4, 5, 1, 2, 3, 4, 5, 6, 1, 7, 1, 3, 4, 5, 6, 7, 5, 1, 6, 1, 2, 6, 1, 2, 3, 4, 6, 7, 7, 5, 2, 3, 6, 1, 2, 3, 4, 6, 7, 1, 2, 4, 5, 7, 5, 1, 2, 3, 4, 5, 1, 3, 5, 2, 5, 7, 3, 4, 2, 5, 7, 5, 7, 3, 1, 1, 5, 1, 1, 6, 2, 4, 6, 1, 2, 3, 4, 5, 6, 7, 4, 3, 6, 1, 2, 5, 1, 6, 6, 1, 4, 1, 2, 4, 5, 6, 5, 3, 6, 1, 5, 1, 2, 3, 4, 5, 6, 5, 3, 5, 6, 7, 3, 4, 3, 4, 6, 7, 3, 1, 2, 3, 4, 5, 6, 7, 1, 1, 4, 3, 4, 6, 2, 3, 6, 1, 2, 5, 7, 6, 1, 4, 6, 6, 4, 3, 1, 3, 4, 2, 2, 1, 3, 5, 7, 1, 3, 3, 7, 1, 2, 3, 4, 5, 6, 7, 1, 6, 1, 2, 3, 4, 6, 4, 1, 6, 1, 2, 4, 1, 2, 3, 4, 5, 7, 1, 2, 3, 4, 5, 6, 7, 2, 3, 4, 6, 7, 6, 1, 3, 6, 3, 1, 3, 4, 5, 6, 2, 1, 3, 4, 5, 1, 2, 3, 4, 6, 7, 2, 2, 5, 1, 2, 3, 4, 5, 6, 1, 2, 3, 4, 5, 2, 5, 1, 4, 7, 1, 2, 3, 4, 5, 6, 1, 4, 2, 3, 4, 5, 6, 2, 6, 4, 1, 2, 3, 4, 5, 6, 7, 1, 4, 5, 7, 4, 5, 1, 2, 3, 4, 5, 6, 5, 1, 7, 1, 7, 1, 2, 3, 4, 5, 6, 1, 4, 7, 4, 6, 3, 5, 7, 7, 1, 1, 2, 4, 5, 6, 7, 5, 2, 1, 6, 1, 2, 3, 4, 5, 1, 3, 7, 2, 5, 6, 1, 4, 5, 7, 1, 6, 5, 6, 7, 6, 1, 2, 3, 4, 5, 6, 7, 4, 2, 3, 4, 6, 7, 1, 4, 1, 2, 6, 7, 4, 2, 2, 7, 1, 4, 7, 5, 6, 1, 2, 4, 5, 2, 2, 4, 4, 7, 6, 7, 1, 5, 7, 2, 4, 3, 5, 7, 6, 3, 2, 5, 3, 7, 1, 2, 3, 4, 5, 6, 7, 3, 7, 4], \"Freq\": [0.9726890921592712, 0.5825342535972595, 0.07181929796934128, 0.047879528254270554, 0.27131733298301697, 0.023939764127135277, 0.965606153011322, 0.9405639171600342, 0.1941952109336853, 0.7767808437347412, 0.9380519986152649, 0.9433061480522156, 0.9562513828277588, 0.21039564907550812, 0.7714506983757019, 0.8937573432922363, 0.09575971961021423, 0.45555606484413147, 0.0888889878988266, 0.23333358764648438, 0.18888910114765167, 0.033333368599414825, 0.15991811454296112, 0.11993858218193054, 0.7196314930915833, 0.95638507604599, 0.9974979162216187, 0.9630395770072937, 0.03320826217532158, 0.2769709825515747, 0.6647303700447083, 0.8746662139892578, 0.19886602461338043, 0.38530293107032776, 0.21750971674919128, 0.08700388669967651, 0.04350194334983826, 0.018643690273165703, 0.04971650615334511, 0.9907602071762085, 0.980798065662384, 0.2256249040365219, 0.15041659772396088, 0.6016663908958435, 0.9562943577766418, 0.334979385137558, 0.13957475125789642, 0.4931640923023224, 0.027914948761463165, 0.4686908423900604, 0.5047439932823181, 0.1546327769756317, 0.3149926960468292, 0.045817118138074875, 0.25772130489349365, 0.07445281744003296, 0.14890563488006592, 0.9592891931533813, 0.9189949631690979, 0.08752333372831345, 0.9753649234771729, 0.9918023943901062, 0.8660140633583069, 0.0787285566329956, 0.9779882431030273, 0.8799374103546143, 0.26383936405181885, 0.24734941124916077, 0.4864538311958313, 0.9523218870162964, 0.9348798990249634, 0.874618649482727, 0.9291315674781799, 0.765995979309082, 0.21647712588310242, 0.984079122543335, 0.24938350915908813, 0.1870376318693161, 0.1870376318693161, 0.24938350915908813, 0.13248498737812042, 0.5299013257026672, 0.3477477431297302, 0.11591591686010361, 0.9383266568183899, 0.015422086231410503, 0.3701300621032715, 0.6117427349090576, 0.9492473006248474, 0.02613687887787819, 0.11108173429965973, 0.4443269371986389, 0.09801328927278519, 0.0718764141201973, 0.05880797654390335, 0.18295814096927643, 0.2459149956703186, 0.299085795879364, 0.192744180560112, 0.05981716141104698, 0.019939053803682327, 0.17945148050785065, 0.8924865126609802, 0.9745211005210876, 0.9487127661705017, 0.07924339920282364, 0.09245063364505768, 0.7263978123664856, 0.03962169960141182, 0.05282893031835556, 0.7681512236595154, 0.032698631286621094, 0.8828629851341248, 0.06539726257324219, 0.9618952870368958, 0.96771639585495, 0.686080276966095, 0.0645032748579979, 0.21696555614471436, 0.02931967005133629, 0.9613616466522217, 0.8310356736183167, 0.048884451389312744, 0.11406372487545013, 0.9796331524848938, 0.03477916121482849, 0.4869082570075989, 0.17389580607414246, 0.27823328971862793, 0.02608437091112137, 0.33792388439178467, 0.6580623388290405, 0.3385067880153656, 0.2538800835609436, 0.1410444974899292, 0.2538800835609436, 0.09541827440261841, 0.20673958957195282, 0.22264263033866882, 0.23854567110538483, 0.23854567110538483, 0.2711839973926544, 0.5288087725639343, 0.04067759960889816, 0.0677959993481636, 0.054236799478530884, 0.04067759960889816, 0.8020622730255127, 0.12152458727359772, 0.07291475683450699, 0.1576967090368271, 0.7884835600852966, 0.9518377780914307, 0.19164219498634338, 0.11977636814117432, 0.3114185631275177, 0.38328438997268677, 0.9411779642105103, 0.15936104953289032, 0.2880757451057434, 0.26355865597724915, 0.09806834161281586, 0.1471025049686432, 0.04290489852428436, 0.8992043733596802, 0.24841035902500153, 0.2815317213535309, 0.03312138095498085, 0.21528896689414978, 0.23184965550899506, 0.9709275364875793, 0.8947452306747437, 0.9913865327835083, 0.9173100590705872, 0.934840202331543, 0.9619290828704834, 0.7843697667121887, 0.14261268079280853, 0.047537561506032944, 0.9501903653144836, 0.19648392498493195, 0.09122467786073685, 0.533313512802124, 0.07719011604785919, 0.1052592471241951, 0.9855172634124756, 0.11864645034074783, 0.7627272009849548, 0.11864645034074783, 0.17109498381614685, 0.7984432578086853, 0.028515830636024475, 0.14862343668937683, 0.7431172132492065, 0.09908229112625122, 0.3979780673980713, 0.3390183448791504, 0.19161906838417053, 0.04421978443861008, 0.9682421684265137, 0.8431314826011658, 0.14958785474300385, 0.9135690331459045, 0.9739934206008911, 0.9070248007774353, 0.9691758155822754, 0.44916778802871704, 0.19963012635707855, 0.05822545289993286, 0.1081329882144928, 0.1829942762851715, 0.672868013381958, 0.3075968027114868, 0.9919461011886597, 0.007035078480839729, 0.1112493947148323, 0.8899951577186584, 0.9375074505805969, 0.0480773039162159, 0.8924407958984375, 0.3174751400947571, 0.6593714356422424, 0.9544829726219177, 0.9495970010757446, 0.9447436928749084, 0.9417412281036377, 0.9093998670578003, 0.08267271518707275, 0.4123494625091553, 0.07636101543903351, 0.16799423098564148, 0.022908303886651993, 0.18326643109321594, 0.12981371581554413, 0.49952220916748047, 0.19980888068675995, 0.19314858317375183, 0.06660296022891998, 0.03996177390217781, 0.9332149624824524, 0.06221432983875275, 0.19900047779083252, 0.2122671753168106, 0.13266699016094208, 0.4112676680088043, 0.026533396914601326, 0.3012504279613495, 0.09414076060056686, 0.4518756568431854, 0.16945336759090424, 0.8939985632896423, 0.21008139848709106, 0.29411396384239197, 0.5041953325271606, 0.9391937255859375, 0.17976637184619904, 0.23112818598747253, 0.5906609296798706, 0.9850600957870483, 0.9713761806488037, 0.9217532873153687, 0.9680699706077576, 0.9105032086372375, 0.9331920742988586, 0.9154996275901794, 0.11222206056118011, 0.3865426480770111, 0.19950588047504425, 0.02493823505938053, 0.2743206024169922, 0.7826521396636963, 0.9919344186782837, 0.9543996453285217, 0.08017883449792862, 0.9220566153526306, 0.9768016934394836, 0.13373391330242157, 0.8024035096168518, 0.920808732509613, 0.9383028745651245, 0.9781357049942017, 0.9472050070762634, 0.9789134860038757, 0.9460191130638123, 0.9190046191215515, 0.9916369318962097, 0.978487491607666, 0.9622704386711121, 0.9667606949806213, 0.9562928080558777, 0.20045778155326843, 0.4810986816883087, 0.31070956587791443, 0.9658883213996887, 0.7825638055801392, 0.981478750705719, 0.4469045102596283, 0.546216607093811, 0.1377647966146469, 0.1377647966146469, 0.6888239979743958, 0.14621689915657043, 0.6622765064239502, 0.18062087893486023, 0.9380505681037903, 0.5304204225540161, 0.26521021127700806, 0.08840340375900269, 0.11787120252847672, 0.969929039478302, 0.9741857647895813, 0.8789454102516174, 0.11341231316328049, 0.3706951439380646, 0.5988152027130127, 0.9332789778709412, 0.15611667931079865, 0.21856334805488586, 0.195145845413208, 0.1483108401298523, 0.21075750887393951, 0.07025250047445297, 0.8915593028068542, 0.885520339012146, 0.2968657314777374, 0.1619267612695694, 0.458792507648468, 0.0809633806347847, 0.9705551266670227, 0.9738439321517944, 0.9851205348968506, 0.9354122281074524, 0.9471527338027954, 0.21264155209064484, 0.10632077604532242, 0.6113444566726685, 0.05316038802266121, 0.38676610589027405, 0.5801491141319275, 0.12459280341863632, 0.809853196144104, 0.06229640170931816, 0.93789142370224, 0.14848625659942627, 0.8166744112968445, 0.7825835347175598, 0.20347172021865845, 0.24716001749038696, 0.41522881388664246, 0.15818241238594055, 0.13840961456298828, 0.029659202322363853, 0.1811649352312088, 0.8152422308921814, 0.9176934957504272, 0.041443612426519394, 0.8979449272155762, 0.05525815114378929, 0.3119470775127411, 0.5104588866233826, 0.1417941302061081, 0.02835882641375065, 0.43653780221939087, 0.20371763408184052, 0.34923022985458374, 0.977493166923523, 0.31217846274375916, 0.6867926120758057, 0.9305744171142578, 0.5897535085678101, 0.040672652423381805, 0.16269060969352722, 0.07117714732885361, 0.14235429465770721, 0.7862054109573364, 0.11379288882017136, 0.09310327470302582, 0.3232353627681732, 0.6704140901565552, 0.10832463949918747, 0.8665971159934998, 0.38652729988098145, 0.558317244052887, 0.3639258146286011, 0.6238728165626526, 0.1360388994216919, 0.04185812547802925, 0.31393593549728394, 0.5127620100975037, 0.9792356491088867, 0.23000335693359375, 0.18282318115234375, 0.165130615234375, 0.2005157470703125, 0.08846282958984375, 0.0353851318359375, 0.0943603515625, 0.26576948165893555, 0.7308661341667175, 0.9243231415748596, 0.054371949285268784, 0.9389559030532837, 0.5212210416793823, 0.06515263020992279, 0.39091581106185913, 0.245809867978096, 0.34413382411003113, 0.04916197434067726, 0.08193662017583847, 0.22942253947257996, 0.04916197434067726, 0.8964280486106873, 0.9558346271514893, 0.8745132684707642, 0.19689278304576874, 0.13126185536384583, 0.18376660346984863, 0.07875711470842361, 0.31502845883369446, 0.06563092768192291, 0.026252372190356255, 0.8696064949035645, 0.19640707969665527, 0.14141309261322021, 0.18855080008506775, 0.3063950538635254, 0.07070654630661011, 0.015712566673755646, 0.07856283336877823, 0.9858438968658447, 0.6318684816360474, 0.11488518118858337, 0.21540971100330353, 0.014360647648572922, 0.9063118100166321, 0.20159092545509338, 0.7559659481048584, 0.8960281014442444, 0.9847671389579773, 0.9756357669830322, 0.0872000902891159, 0.5813339352607727, 0.3197336792945862, 0.23875229060649872, 0.21222425997257233, 0.5305606722831726, 0.008855788968503475, 0.9829925894737244, 0.21719230711460114, 0.6757094264030457, 0.09652991592884064, 0.8713629245758057, 0.10892036557197571, 0.9332976341247559, 0.04507480561733246, 0.8564212918281555, 0.09014961123466492, 0.0745915099978447, 0.895098090171814, 0.11605365574359894, 0.23210731148719788, 0.03481609746813774, 0.2553180456161499, 0.27852877974510193, 0.0812375620007515, 0.9614414572715759, 0.9325987696647644, 0.2783394157886505, 0.20155613124370575, 0.06718537956476212, 0.28793734312057495, 0.05758746713399887, 0.09597910940647125, 0.9387967586517334, 0.9772651791572571, 0.8960796594619751, 0.148639976978302, 0.7803599238395691, 0.06502999365329742, 0.1796792447566986, 0.19251346588134766, 0.2887701988220215, 0.2053477019071579, 0.0577540397644043, 0.07700538635253906, 0.9454340934753418, 0.8967307806015015, 0.9928994178771973, 0.9882315397262573, 0.9670277237892151, 0.2339138239622116, 0.43764522671699524, 0.21882261335849762, 0.015091215260326862, 0.07545607537031174, 0.015091215260326862, 0.2775441110134125, 0.020308107137680054, 0.5686269998550415, 0.10154053568840027, 0.03384684398770332, 0.8848321437835693, 0.08103596419095993, 0.20258991420269012, 0.2160959094762802, 0.16207192838191986, 0.3376498520374298, 0.8868928551673889, 0.0709514319896698, 0.0354757159948349, 0.6548912525177002, 0.1684006005525589, 0.1684006005525589, 0.14506477117538452, 0.8341224193572998, 0.8535747528076172, 0.14380879700183868, 0.8406937122344971, 0.34582555294036865, 0.6587153077125549, 0.9246286153793335, 0.9740317463874817, 0.8445802330970764, 0.13196565210819244, 0.9449689984321594, 0.9826006889343262, 0.9756345152854919, 0.2267340123653412, 0.6461919546127319, 0.12470371276140213, 0.14848433434963226, 0.24532194435596466, 0.32279202342033386, 0.0968376100063324, 0.1355726569890976, 0.0387350432574749, 0.012911681085824966, 0.9875813722610474, 0.9017366170883179, 0.8964576125144958, 0.8730618953704834, 0.041574373841285706, 0.08314874768257141, 0.970150351524353, 0.9566451907157898, 0.868440568447113, 0.32804638147354126, 0.6560927629470825, 0.40952977538108826, 0.2370961755514145, 0.2873893082141876, 0.050293128937482834, 0.014369465410709381, 0.956539511680603, 0.8916823267936707, 0.9437339305877686, 0.9721124768257141, 0.976282000541687, 0.06152546405792236, 0.3915256857872009, 0.2740679681301117, 0.15661026537418365, 0.05033901333808899, 0.06711868941783905, 0.9501714110374451, 0.08038181066513062, 0.9109938740730286, 0.975091814994812, 0.9616101384162903, 0.9663495421409607, 0.9205995202064514, 0.6782370209693909, 0.0827118307352066, 0.23159313201904297, 0.8817631602287292, 0.947268545627594, 0.6033044457435608, 0.11570222675800323, 0.11570222675800323, 0.10743778198957443, 0.024793334305286407, 0.03305777907371521, 0.7686271667480469, 0.9675692915916443, 0.8976391553878784, 0.09756947308778763, 0.9766536355018616, 0.08078598231077194, 0.8078597784042358, 0.2631308138370514, 0.7309188842773438, 0.9413714408874512, 0.14482997357845306, 0.14482997357845306, 0.28965994715690613, 0.42597052454948425, 0.874535858631134, 0.10774562507867813, 0.1616184413433075, 0.7003465294837952, 0.8826915621757507, 0.956797182559967, 0.9558134078979492, 0.9368909001350403, 0.9475895166397095, 0.053135860711336136, 0.960889995098114, 0.9036734700202942, 0.624009370803833, 0.20348131656646729, 0.1153060793876648, 0.05426168441772461, 0.9009203910827637, 0.05812389403581619, 0.8589445948600769, 0.14315743744373322, 0.13434667885303497, 0.32526037096977234, 0.22626809775829315, 0.05656702443957329, 0.12020492553710938, 0.11313404887914658, 0.028283512219786644, 0.9496256709098816, 0.9586655497550964, 0.23441307246685028, 0.32123273611068726, 0.17363931238651276, 0.2517769932746887, 0.017363931983709335, 0.9552757143974304, 0.9452928900718689, 0.9505167603492737, 0.21992529928684235, 0.4765048325061798, 0.2932337522506714, 0.17252784967422485, 0.2898467779159546, 0.17942896485328674, 0.17252784967422485, 0.15872561931610107, 0.02760445512831211, 0.14415210485458374, 0.2162281721830368, 0.09610140323638916, 0.22824084758758545, 0.19220280647277832, 0.09610140323638916, 0.030031690374016762, 0.5145565271377563, 0.04900538548827171, 0.2695296108722687, 0.14701615273952484, 0.016335127875208855, 0.9306349754333496, 0.8180779814720154, 0.08180779963731766, 0.09998730570077896, 0.9718071818351746, 0.2925122380256653, 0.3802659213542938, 0.13163051009178162, 0.1755073517560959, 0.007312805857509375, 0.9684939384460449, 0.09921367466449738, 0.13228490948677063, 0.06614245474338531, 0.6944957375526428, 0.0743362233042717, 0.2395278364419937, 0.3964598476886749, 0.13215328752994537, 0.11563412845134735, 0.041297901421785355, 0.8847957253456116, 0.8943409323692322, 0.9032735824584961, 0.16849493980407715, 0.3446487486362457, 0.24508355557918549, 0.12254177778959274, 0.07658860832452774, 0.045953165739774704, 0.19387058913707733, 0.23695294559001923, 0.2082313746213913, 0.31593725085258484, 0.035901959985494614, 0.840703547000885, 0.12454867362976074, 0.8744277358055115, 0.1055343821644783, 0.015076340176165104, 0.16871067881584167, 0.28118446469306946, 0.3149265944957733, 0.028118446469306946, 0.07310795783996582, 0.13496854901313782, 0.15703794360160828, 0.8165973424911499, 0.07498298585414886, 0.09997731447219849, 0.31242913007736206, 0.3749149441719055, 0.13746881484985352, 0.9031209945678711, 0.07224968075752258, 0.9648949503898621, 0.19977252185344696, 0.08656808733940125, 0.27302244305610657, 0.279681533575058, 0.1065453439950943, 0.03995450213551521, 0.013318167999386787, 0.36045515537261963, 0.4833376109600067, 0.1064981147646904, 0.04096081480383873, 0.168092742562294, 0.7844328284263611, 0.14630082249641418, 0.09753388166427612, 0.28447383642196655, 0.2438347041606903, 0.1625564694404602, 0.07315041124820709, 0.9175861477851868, 0.9289906620979309, 0.9052287340164185, 0.1260179579257965, 0.756107747554779, 0.16827969253063202, 0.20834627747535706, 0.33655938506126404, 0.09615982323884964, 0.1843063235282898, 0.008013318292796612, 0.3354807198047638, 0.06709614396095276, 0.6038653254508972, 0.9396224021911621, 0.9246928095817566, 0.9448737502098083, 0.9221711754798889, 0.06586936861276627, 0.9100505709648132, 0.9425293207168579, 0.2951405942440033, 0.06148762255907059, 0.17216534912586212, 0.3074381351470947, 0.06148762255907059, 0.0983802005648613, 0.9665971994400024, 0.8940771818161011, 0.9661977887153625, 0.9248514771461487, 0.4897949695587158, 0.04259086772799492, 0.2626436650753021, 0.14196956157684326, 0.06388629972934723, 0.4423237144947052, 0.5455325841903687, 0.8636437058448792, 0.37737536430358887, 0.45285046100616455, 0.16173230111598969, 0.09653612971305847, 0.026328034698963165, 0.3773685097694397, 0.49145665764808655, 0.15038153529167175, 0.8270984292030334, 0.23868638277053833, 0.19094909727573395, 0.572847306728363, 0.9071374535560608, 0.44433465600013733, 0.12900038063526154, 0.14333376288414001, 0.1218336969614029, 0.14333376288414001, 0.007166687864810228, 0.014333375729620457, 0.8956517577171326, 0.027834828943014145, 0.22267863154411316, 0.5984488129615784, 0.027834828943014145, 0.11133931577205658, 0.05768848955631256, 0.923015832901001, 0.9507332444190979, 0.11564212292432785, 0.8480422496795654, 0.9778117537498474, 0.9852579832077026, 0.969365119934082, 0.15925441682338715, 0.7962720990180969, 0.9533759951591492, 0.9683622717857361, 0.9385445713996887, 0.8200676441192627, 0.17572878301143646, 0.28493764996528625, 0.1852094680070877, 0.09972817450761795, 0.41315957903862, 0.9636397957801819, 0.9880843758583069, 0.9330212473869324, 0.26706358790397644, 0.7121695876121521, 0.9472355842590332, 0.9290999174118042, 0.15699589252471924, 0.7849794626235962, 0.052331965416669846, 0.976355254650116, 0.975226104259491, 0.9122477173805237, 0.03966294601559639, 0.811204731464386, 0.9565407633781433, 0.9951815605163574, 0.4701007008552551, 0.5128371119499207, 0.9583896994590759, 0.8486367464065552, 0.10585831850767136, 0.16190095245838165, 0.35493671894073486, 0.14944703876972198, 0.14944703876972198, 0.037361759692430496, 0.037361759692430496, 0.17943276464939117, 0.7177310585975647, 0.9479156136512756], \"Term\": [\"account\", \"add\", \"add\", \"add\", \"add\", \"add\", \"address\", \"alpha\", \"alsa\", \"alsa\", \"alsamixer\", \"alternate\", \"although\", \"amd\", \"amd\", \"apache\", \"apache\", \"app\", \"app\", \"app\", \"app\", \"app\", \"application\", \"application\", \"application\", \"apply\", \"apt\", \"aptitude\", \"aptitude\", \"archive\", \"archive\", \"area\", \"ask\", \"ask\", \"ask\", \"ask\", \"ask\", \"ask\", \"ask\", \"ati\", \"audacity\", \"audio\", \"audio\", \"audio\", \"awesome\", \"back\", \"back\", \"back\", \"back\", \"base\", \"base\", \"be\", \"be\", \"be\", \"be\", \"be\", \"be\", \"beryl\", \"beta\", \"beta\", \"bios\", \"bit\", \"blank\", \"blank\", \"blow\", \"bluetooth\", \"boot\", \"boot\", \"boot\", \"bootable\", \"bootloader\", \"br\", \"broken\", \"burn\", \"burn\", \"cache\", \"can\", \"can\", \"can\", \"can\", \"can\", \"card\", \"card\", \"card\", \"cat\", \"cd\", \"cd\", \"cd\", \"cdrom\", \"change\", \"change\", \"change\", \"change\", \"change\", \"change\", \"change\", \"check\", \"check\", \"check\", \"check\", \"check\", \"check\", \"claim\", \"classic\", \"cli\", \"click\", \"click\", \"click\", \"click\", \"click\", \"clonezilla\", \"close\", \"close\", \"close\", \"codecs\", \"color\", \"command\", \"command\", \"command\", \"command\", \"compatible\", \"compile\", \"compile\", \"compile\", \"compiz\", \"computer\", \"computer\", \"computer\", \"computer\", \"computer\", \"conf\", \"conf\", \"config\", \"config\", \"config\", \"config\", \"configure\", \"configure\", \"configure\", \"configure\", \"configure\", \"connect\", \"connect\", \"connect\", \"connect\", \"connect\", \"connect\", \"connection\", \"connection\", \"connection\", \"control\", \"control\", \"convert\", \"copy\", \"copy\", \"copy\", \"copy\", \"corrupt\", \"could\", \"could\", \"could\", \"could\", \"could\", \"could\", \"cp\", \"create\", \"create\", \"create\", \"create\", \"create\", \"cup\", \"daemon\", \"dalton\", \"database\", \"dd\", \"de\", \"deb\", \"deb\", \"deb\", \"deny\", \"desktop\", \"desktop\", \"desktop\", \"desktop\", \"desktop\", \"detect\", \"dev\", \"dev\", \"dev\", \"device\", \"device\", \"device\", \"dir\", \"dir\", \"dir\", \"directory\", \"directory\", \"directory\", \"directory\", \"disc\", \"disk\", \"disk\", \"dist\", \"dmesg\", \"dock\", \"document\", \"download\", \"download\", \"download\", \"download\", \"download\", \"dpkg\", \"dpkg\", \"drive\", \"drive\", \"driver\", \"driver\", \"dual\", \"dual\", \"due\", \"dvd\", \"dvd\", \"effect\", \"eject\", \"emacs\", \"email\", \"entry\", \"entry\", \"error\", \"error\", \"error\", \"error\", \"error\", \"error\", \"etc\", \"etc\", \"etc\", \"etc\", \"etc\", \"eth\", \"eth\", \"even\", \"even\", \"even\", \"even\", \"even\", \"everything\", \"everything\", \"everything\", \"everything\", \"evolution\", \"exactly\", \"exactly\", \"exactly\", \"exe\", \"experience\", \"experience\", \"experience\", \"ext\", \"external\", \"extra\", \"fat\", \"fdisk\", \"ffmpeg\", \"fglrx\", \"fine\", \"fine\", \"fine\", \"fine\", \"fine\", \"fingerprint\", \"firefox\", \"flag\", \"flash\", \"flash\", \"flood\", \"forgot\", \"forgot\", \"fresh\", \"front\", \"ftp\", \"gaim\", \"gb\", \"gcc\", \"gconf\", \"gdm\", \"gedit\", \"generic\", \"gksudo\", \"glx\", \"gnome\", \"gnome\", \"gnome\", \"gparte\", \"gpg\", \"graphic\", \"grep\", \"grep\", \"group\", \"group\", \"group\", \"grub\", \"grub\", \"grub\", \"gspcav\", \"gui\", \"gui\", \"gui\", \"gui\", \"gz\", \"hang\", \"hard\", \"hard\", \"hd\", \"hd\", \"hda\", \"hey\", \"hey\", \"hey\", \"hey\", \"hey\", \"hey\", \"high\", \"history\", \"home\", \"home\", \"home\", \"home\", \"huge\", \"ifconfig\", \"ignore\", \"increase\", \"insert\", \"installation\", \"installation\", \"installation\", \"installation\", \"installer\", \"installer\", \"interface\", \"interface\", \"interface\", \"ipod\", \"irc\", \"irc\", \"iso\", \"iso\", \"issue\", \"issue\", \"issue\", \"issue\", \"issue\", \"java\", \"java\", \"jre\", \"kde\", \"kde\", \"kde\", \"keep\", \"keep\", \"keep\", \"keep\", \"keyboard\", \"keyboard\", \"keyboard\", \"kubuntu\", \"less\", \"less\", \"light\", \"line\", \"line\", \"line\", \"line\", \"line\", \"list\", \"list\", \"list\", \"live\", \"live\", \"loading\", \"loading\", \"local\", \"local\", \"lock\", \"lock\", \"log\", \"log\", \"log\", \"log\", \"login\", \"look\", \"look\", \"look\", \"look\", \"look\", \"look\", \"look\", \"love\", \"love\", \"lt\", \"lt\", \"lucid\", \"mac\", \"mac\", \"mac\", \"machine\", \"machine\", \"machine\", \"machine\", \"machine\", \"machine\", \"madwifi\", \"manual\", \"mark\", \"maybe\", \"maybe\", \"maybe\", \"maybe\", \"maybe\", \"maybe\", \"maybe\", \"mbit\", \"mean\", \"mean\", \"mean\", \"mean\", \"mean\", \"mean\", \"mean\", \"memory\", \"menu\", \"menu\", \"menu\", \"menu\", \"menus\", \"mess\", \"mess\", \"min\", \"minute\", \"mnt\", \"mode\", \"mode\", \"mode\", \"monitor\", \"monitor\", \"monitor\", \"mount\", \"mount\", \"move\", \"move\", \"move\", \"mp\", \"mp\", \"mpeg\", \"mplayer\", \"mplayer\", \"mplayer\", \"msg\", \"msg\", \"much\", \"much\", \"much\", \"much\", \"much\", \"much\", \"mysql\", \"na\", \"name\", \"name\", \"name\", \"name\", \"name\", \"name\", \"nd\", \"ndiswrapper\", \"ne\", \"network\", \"network\", \"network\", \"new\", \"new\", \"new\", \"new\", \"new\", \"new\", \"nic\", \"nickserv\", \"ntfs\", \"nvidia\", \"official\", \"ok\", \"ok\", \"ok\", \"ok\", \"ok\", \"ok\", \"open\", \"open\", \"open\", \"open\", \"open\", \"openoffice\", \"option\", \"option\", \"option\", \"option\", \"option\", \"package\", \"package\", \"package\", \"page\", \"page\", \"page\", \"panel\", \"panel\", \"partition\", \"partition\", \"passwd\", \"password\", \"password\", \"past\", \"paste\", \"path\", \"path\", \"perl\", \"php\", \"pidgin\", \"play\", \"play\", \"play\", \"please\", \"please\", \"please\", \"please\", \"please\", \"please\", \"please\", \"plugin\", \"pointer\", \"pop\", \"port\", \"port\", \"port\", \"ppa\", \"pref\", \"prefer\", \"process\", \"process\", \"program\", \"program\", \"program\", \"program\", \"program\", \"prompt\", \"proprietary\", \"pulseaudio\", \"punctuation\", \"qt\", \"question\", \"question\", \"question\", \"question\", \"question\", \"question\", \"quote\", \"ram\", \"ram\", \"rar\", \"reach\", \"reconfigure\", \"register\", \"release\", \"release\", \"release\", \"relevant\", \"remote\", \"remove\", \"remove\", \"remove\", \"remove\", \"remove\", \"remove\", \"render\", \"repo\", \"repository\", \"repository\", \"resolution\", \"resource\", \"resource\", \"restart\", \"restart\", \"rip\", \"root\", \"root\", \"root\", \"root\", \"round\", \"router\", \"router\", \"router\", \"rpm\", \"safe\", \"sata\", \"scan\", \"screen\", \"screen\", \"sda\", \"sdb\", \"server\", \"server\", \"server\", \"server\", \"service\", \"service\", \"session\", \"session\", \"set\", \"set\", \"set\", \"set\", \"set\", \"set\", \"set\", \"share\", \"shortcut\", \"show\", \"show\", \"show\", \"show\", \"show\", \"shut\", \"side\", \"simply\", \"software\", \"software\", \"software\", \"someone\", \"someone\", \"someone\", \"someone\", \"someone\", \"someone\", \"something\", \"something\", \"something\", \"something\", \"something\", \"something\", \"something\", \"sound\", \"sound\", \"sound\", \"sound\", \"sound\", \"soundcard\", \"source\", \"source\", \"source\", \"splash\", \"start\", \"start\", \"start\", \"start\", \"start\", \"static\", \"stick\", \"stick\", \"stick\", \"stick\", \"still\", \"still\", \"still\", \"still\", \"still\", \"still\", \"stream\", \"successfully\", \"sun\", \"support\", \"support\", \"support\", \"support\", \"support\", \"support\", \"sure\", \"sure\", \"sure\", \"sure\", \"sure\", \"swap\", \"swap\", \"synaptic\", \"synaptic\", \"synaptic\", \"system\", \"system\", \"system\", \"system\", \"system\", \"system\", \"tab\", \"tab\", \"take\", \"take\", \"take\", \"take\", \"take\", \"tar\", \"tar\", \"technology\", \"tell\", \"tell\", \"tell\", \"tell\", \"tell\", \"tell\", \"tell\", \"terminal\", \"terminal\", \"terminal\", \"terminal\", \"there\", \"there\", \"thing\", \"thing\", \"thing\", \"thing\", \"thing\", \"thing\", \"thinkpad\", \"tho\", \"throw\", \"thru\", \"thru\", \"time\", \"time\", \"time\", \"time\", \"time\", \"time\", \"torrent\", \"torrent\", \"torrent\", \"totem\", \"touch\", \"touchpad\", \"trash\", \"trash\", \"tweak\", \"txt\", \"type\", \"type\", \"type\", \"type\", \"type\", \"type\", \"ubottu\", \"umount\", \"universe\", \"unrar\", \"update\", \"update\", \"update\", \"update\", \"update\", \"upgrade\", \"upgrade\", \"upload\", \"usb\", \"usb\", \"usb\", \"user\", \"user\", \"user\", \"user\", \"utility\", \"utility\", \"var\", \"var\", \"var\", \"vcd\", \"version\", \"version\", \"version\", \"version\", \"version\", \"version\", \"version\", \"vi\", \"video\", \"video\", \"video\", \"video\", \"video\", \"view\", \"view\", \"vim\", \"vlc\", \"vlc\", \"wan\", \"watch\", \"webcam\", \"website\", \"website\", \"wget\", \"white\", \"wich\", \"win\", \"win\", \"wine\", \"wine\", \"wine\", \"wine\", \"winxp\", \"wireless\", \"within\", \"wlan\", \"wlan\", \"wmv\", \"woo\", \"word\", \"word\", \"word\", \"wubi\", \"xchat\", \"xfce\", \"xfce\", \"xfree\", \"xine\", \"xorg\", \"xp\", \"xp\", \"xserver\", \"xx\", \"yes\", \"yes\", \"yes\", \"yes\", \"yes\", \"yes\", \"yes\", \"yesterday\", \"yesterday\", \"youtube\"]}, \"R\": 30, \"lambda.step\": 0.01, \"plot.opts\": {\"xlab\": \"PC1\", \"ylab\": \"PC2\"}, \"topic.order\": [7, 1, 4, 6, 2, 3, 5]};\n",
       "\n",
       "function LDAvis_load_lib(url, callback){\n",
       "  var s = document.createElement('script');\n",
       "  s.src = url;\n",
       "  s.async = true;\n",
       "  s.onreadystatechange = s.onload = callback;\n",
       "  s.onerror = function(){console.warn(\"failed to load library \" + url);};\n",
       "  document.getElementsByTagName(\"head\")[0].appendChild(s);\n",
       "}\n",
       "\n",
       "if(typeof(LDAvis) !== \"undefined\"){\n",
       "   // already loaded: just create the visualization\n",
       "   !function(LDAvis){\n",
       "       new LDAvis(\"#\" + \"ldavis_el3178140208379833944308596227\", ldavis_el3178140208379833944308596227_data);\n",
       "   }(LDAvis);\n",
       "}else if(typeof define === \"function\" && define.amd){\n",
       "   // require.js is available: use it to load d3/LDAvis\n",
       "   require.config({paths: {d3: \"https://cdnjs.cloudflare.com/ajax/libs/d3/3.5.5/d3.min\"}});\n",
       "   require([\"d3\"], function(d3){\n",
       "      window.d3 = d3;\n",
       "      LDAvis_load_lib(\"https://cdn.rawgit.com/bmabey/pyLDAvis/files/ldavis.v1.0.0.js\", function(){\n",
       "        new LDAvis(\"#\" + \"ldavis_el3178140208379833944308596227\", ldavis_el3178140208379833944308596227_data);\n",
       "      });\n",
       "    });\n",
       "}else{\n",
       "    // require.js not available: dynamically load d3 & LDAvis\n",
       "    LDAvis_load_lib(\"https://cdnjs.cloudflare.com/ajax/libs/d3/3.5.5/d3.min.js\", function(){\n",
       "         LDAvis_load_lib(\"https://cdn.rawgit.com/bmabey/pyLDAvis/files/ldavis.v1.0.0.js\", function(){\n",
       "                 new LDAvis(\"#\" + \"ldavis_el3178140208379833944308596227\", ldavis_el3178140208379833944308596227_data);\n",
       "            })\n",
       "         });\n",
       "}\n",
       "</script>"
      ],
      "text/plain": [
       "PreparedData(topic_coordinates=              x         y  topics  cluster       Freq\n",
       "topic                                                \n",
       "6      0.077276  0.014532       1        1  19.583113\n",
       "0      0.107298  0.030600       2        1  19.163965\n",
       "3      0.062142 -0.060633       3        1  18.193031\n",
       "5      0.058697 -0.059957       4        1  14.598568\n",
       "1      0.032646  0.184563       5        1  13.831747\n",
       "2     -0.068037 -0.161423       6        1   8.409318\n",
       "4     -0.270021  0.052319       7        1   6.220258, topic_info=     Category        Freq         Term       Total  loglift  logprob\n",
       "34    Default  224.000000          apt  224.000000  30.0000  30.0000\n",
       "98    Default  215.000000    partition  215.000000  29.0000  29.0000\n",
       "604   Default  131.000000      firefox  131.000000  28.0000  28.0000\n",
       "80    Default  194.000000           cd  194.000000  27.0000  27.0000\n",
       "43    Default  197.000000      package  197.000000  26.0000  26.0000\n",
       "279   Default  117.000000          bit  117.000000  25.0000  25.0000\n",
       "54    Default  142.000000        drive  142.000000  24.0000  24.0000\n",
       "9     Default  161.000000       driver  161.000000  23.0000  23.0000\n",
       "78    Default  242.000000         boot  242.000000  22.0000  22.0000\n",
       "339   Default  113.000000         user  113.000000  21.0000  21.0000\n",
       "780   Default  112.000000        mount  112.000000  20.0000  20.0000\n",
       "101   Default  117.000000         root  117.000000  19.0000  19.0000\n",
       "184   Default   95.000000          log   95.000000  18.0000  18.0000\n",
       "24    Default  112.000000       screen  112.000000  17.0000  17.0000\n",
       "205   Default  199.000000        gnome  199.000000  16.0000  16.0000\n",
       "4066  Default   51.000000       dalton   51.000000  15.0000  15.0000\n",
       "176   Default  170.000000      command  170.000000  14.0000  14.0000\n",
       "924   Default   60.000000     password   60.000000  13.0000  13.0000\n",
       "580   Default   78.000000       nvidia   78.000000  12.0000  12.0000\n",
       "627   Default  135.000000      upgrade  135.000000  11.0000  11.0000\n",
       "322   Default  147.000000         open  147.000000  10.0000  10.0000\n",
       "30    Default   69.000000         xorg   69.000000   9.0000   9.0000\n",
       "400   Default  110.000000       source  110.000000   8.0000   8.0000\n",
       "649   Default   70.000000     wireless   70.000000   7.0000   7.0000\n",
       "89    Default   83.000000         live   83.000000   6.0000   6.0000\n",
       "273   Default  107.000000      network  107.000000   5.0000   5.0000\n",
       "443   Default  116.000000         grub  116.000000   4.0000   4.0000\n",
       "4     Default  153.000000       change  153.000000   3.0000   3.0000\n",
       "392   Default  147.000000       server  147.000000   2.0000   2.0000\n",
       "324   Default   88.000000         play   88.000000   1.0000   1.0000\n",
       "...       ...         ...          ...         ...      ...      ...\n",
       "5749   Topic7    4.459005   clonezilla    5.207308   2.6222  -6.4755\n",
       "4402   Topic7    4.453567       render    5.204083   2.6216  -6.4767\n",
       "1902   Topic7    4.363327          gpg    5.111404   2.6191  -6.4972\n",
       "2041   Topic7    4.362461  fingerprint    5.110827   2.6190  -6.4974\n",
       "790    Topic7   20.089705      website   25.117043   2.5540  -4.9702\n",
       "2219   Topic7    6.471504         thru    7.935377   2.5734  -6.1030\n",
       "924    Topic7   39.521435     password   60.724258   2.3479  -4.2935\n",
       "931    Topic7   24.033295         lock   38.469379   2.3069  -4.7909\n",
       "2304   Topic7    6.055523       forgot    7.477535   2.5664  -6.1694\n",
       "184    Topic7   48.776695          log   95.560898   2.1048  -4.0831\n",
       "339    Topic7   56.147594         user  113.946976   2.0696  -3.9424\n",
       "1011   Topic7    8.245852    yesterday   11.146236   2.4760  -5.8607\n",
       "101    Topic7   49.678703         root  117.379013   1.9175  -4.0648\n",
       "1169   Topic7   18.057451    installer   31.026505   2.2361  -5.0768\n",
       "587    Topic7   20.492159      monitor   37.695972   2.1678  -4.9503\n",
       "1441   Topic7    9.799305        group   14.517496   2.3843  -5.6881\n",
       "1398   Topic7   13.244485        local   23.284254   2.2132  -5.3868\n",
       "340    Topic7   11.699482          var   20.947990   2.1949  -5.5108\n",
       "1407   Topic7   10.789041         grep   20.138531   2.1533  -5.5919\n",
       "238    Topic7    7.769737         wlan   11.233279   2.4087  -5.9202\n",
       "4      Topic7   28.395422       change  153.040466   1.0929  -4.6242\n",
       "1983   Topic7   11.943874          mac   30.697147   1.8334  -5.4902\n",
       "2333   Topic7    8.625287      torrent   14.903986   2.2304  -5.8157\n",
       "222    Topic7   13.506131       create   60.383957   1.2798  -5.3672\n",
       "1273   Topic7   10.592986         mode   34.403633   1.5994  -5.6102\n",
       "148    Topic7   15.819201         look  169.562744   0.4054  -5.2092\n",
       "336    Topic7   12.359066          new  155.833252   0.2430  -5.4560\n",
       "671    Topic7    9.350374       config   35.449806   1.4447  -5.7350\n",
       "938    Topic7   10.265304         name  104.189339   0.4599  -5.6416\n",
       "40     Topic7   10.256780         mean  127.286652   0.2589  -5.6424\n",
       "\n",
       "[467 rows x 6 columns], token_table=      Topic      Freq         Term\n",
       "term                              \n",
       "1200      7  0.972689      account\n",
       "31        1  0.582534          add\n",
       "31        2  0.071819          add\n",
       "31        3  0.047880          add\n",
       "31        4  0.271317          add\n",
       "31        7  0.023940          add\n",
       "3382      2  0.965606      address\n",
       "2068      6  0.940564        alpha\n",
       "1492      2  0.194195         alsa\n",
       "1492      6  0.776781         alsa\n",
       "2167      4  0.938052    alsamixer\n",
       "3695      4  0.943306    alternate\n",
       "1875      4  0.956251     although\n",
       "613       3  0.210396          amd\n",
       "613       5  0.771451          amd\n",
       "1322      1  0.893757       apache\n",
       "1322      2  0.095760       apache\n",
       "2         1  0.455556          app\n",
       "2         2  0.088889          app\n",
       "2         4  0.233334          app\n",
       "2         5  0.188889          app\n",
       "2         6  0.033333          app\n",
       "132       1  0.159918  application\n",
       "132       2  0.119939  application\n",
       "132       4  0.719631  application\n",
       "832       3  0.956385        apply\n",
       "34        1  0.997498          apt\n",
       "174       1  0.963040     aptitude\n",
       "174       4  0.033208     aptitude\n",
       "807       1  0.276971      archive\n",
       "...     ...       ...          ...\n",
       "649       2  0.988084     wireless\n",
       "1181      4  0.933021       within\n",
       "238       4  0.267064         wlan\n",
       "238       7  0.712170         wlan\n",
       "3304      6  0.947236          wmv\n",
       "4067      7  0.929100          woo\n",
       "1019      1  0.156996         word\n",
       "1019      5  0.784979         word\n",
       "1019      7  0.052332         word\n",
       "642       2  0.976355         wubi\n",
       "817       4  0.975226        xchat\n",
       "131       3  0.912248         xfce\n",
       "131       5  0.039663         xfce\n",
       "1856      7  0.811205        xfree\n",
       "2932      6  0.956541         xine\n",
       "30        3  0.995182         xorg\n",
       "253       2  0.470101           xp\n",
       "253       5  0.512837           xp\n",
       "1497      3  0.958390      xserver\n",
       "4372      7  0.848637           xx\n",
       "219       1  0.105858          yes\n",
       "219       2  0.161901          yes\n",
       "219       3  0.354937          yes\n",
       "219       4  0.149447          yes\n",
       "219       5  0.149447          yes\n",
       "219       6  0.037362          yes\n",
       "219       7  0.037362          yes\n",
       "1011      3  0.179433    yesterday\n",
       "1011      7  0.717731    yesterday\n",
       "728       4  0.947916      youtube\n",
       "\n",
       "[844 rows x 3 columns], R=30, lambda_step=0.01, plot_opts={'xlab': 'PC1', 'ylab': 'PC2'}, topic_order=[7, 1, 4, 6, 2, 3, 5])"
      ]
     },
     "execution_count": 255,
     "metadata": {},
     "output_type": "execute_result"
    }
   ],
   "source": [
    "pyLDAvis.enable_notebook()\n",
    "vis = pyLDAvis.gensim.prepare(lda_model, doc_term_matrix, dictionary)\n",
    "vis\n"
   ]
  },
  {
   "cell_type": "code",
   "execution_count": null,
   "metadata": {},
   "outputs": [],
   "source": []
  },
  {
   "cell_type": "markdown",
   "metadata": {},
   "source": [
    "# Analytics Vidhya"
   ]
  },
  {
   "cell_type": "code",
   "execution_count": 60,
   "metadata": {
    "ExecuteTime": {
     "end_time": "2019-11-19T05:06:49.352027Z",
     "start_time": "2019-11-19T05:06:49.346455Z"
    }
   },
   "outputs": [],
   "source": [
    "# function to plot most frequent terms\n",
    "def freq_words(x, terms = 30):\n",
    "  all_words = ' '.join([text for text in x])\n",
    "  all_words = all_words.split()\n",
    "\n",
    "  fdist = FreqDist(all_words)\n",
    "  words_df = pd.DataFrame({'word':list(fdist.keys()), 'count':list(fdist.values())})\n",
    "\n",
    "  # selecting top 20 most frequent words\n",
    "  d = words_df.nlargest(columns=\"count\", n = terms) \n",
    "  plt.figure(figsize=(20,5))\n",
    "  ax = sns.barplot(data=d, x= \"word\", y = \"count\")\n",
    "  ax.set(ylabel = 'Count')\n",
    "  plt.show()\n"
   ]
  },
  {
   "cell_type": "code",
   "execution_count": 61,
   "metadata": {
    "ExecuteTime": {
     "end_time": "2019-11-19T05:06:49.759981Z",
     "start_time": "2019-11-19T05:06:49.353506Z"
    }
   },
   "outputs": [
    {
     "data": {
      "image/png": "[encoded data removed]",
      "text/plain": [
       "<Figure size 1440x360 with 1 Axes>"
      ]
     },
     "metadata": {
      "needs_background": "light"
     },
     "output_type": "display_data"
    }
   ],
   "source": [
    "freq_words(df_raw['message'])\n"
   ]
  },
  {
   "cell_type": "code",
   "execution_count": 62,
   "metadata": {
    "ExecuteTime": {
     "end_time": "2019-11-19T05:06:49.771396Z",
     "start_time": "2019-11-19T05:06:49.761920Z"
    }
   },
   "outputs": [],
   "source": [
    "# remove unwanted characters, numbers and symbols\n",
    "df_raw['reviewText'] = df_raw['message'].str.replace(\"[^a-zA-Z#]\", \" \")\n"
   ]
  },
  {
   "cell_type": "code",
   "execution_count": null,
   "metadata": {},
   "outputs": [],
   "source": []
  },
  {
   "cell_type": "code",
   "execution_count": 63,
   "metadata": {
    "ExecuteTime": {
     "end_time": "2019-11-19T05:06:49.778081Z",
     "start_time": "2019-11-19T05:06:49.773033Z"
    }
   },
   "outputs": [],
   "source": [
    "from nltk.corpus import stopwords\n",
    "stop_words = stopwords.words('english')\n",
    "stop_words = stop_words + ['ubuntu','linux']"
   ]
  },
  {
   "cell_type": "code",
   "execution_count": 64,
   "metadata": {
    "ExecuteTime": {
     "end_time": "2019-11-19T05:06:49.804588Z",
     "start_time": "2019-11-19T05:06:49.779723Z"
    }
   },
   "outputs": [],
   "source": [
    "# function to remove stopwords\n",
    "def remove_stopwords(rev):\n",
    "    rev_new = \" \".join([i for i in rev if i not in stop_words])\n",
    "    return rev_new\n",
    "\n",
    "# remove short words (length < 3)\n",
    "df_raw['reviewText'] = df_raw['reviewText'].apply(lambda x: ' '.join([w for w in x.split() if len(w)>3]))\n",
    "\n",
    "# remove stopwords from the text\n",
    "reviews = [remove_stopwords(r.split()) for r in df_raw['reviewText']]\n",
    "\n",
    "# make entire text lowercase\n",
    "reviews = [r.lower() for r in reviews]\n"
   ]
  },
  {
   "cell_type": "code",
   "execution_count": 65,
   "metadata": {
    "ExecuteTime": {
     "end_time": "2019-11-19T05:06:50.252704Z",
     "start_time": "2019-11-19T05:06:49.806351Z"
    }
   },
   "outputs": [
    {
     "data": {
      "image/png": "[encoded data removed]",
      "text/plain": [
       "<Figure size 1440x360 with 1 Axes>"
      ]
     },
     "metadata": {
      "needs_background": "light"
     },
     "output_type": "display_data"
    }
   ],
   "source": [
    "freq_words(reviews, 35)\n"
   ]
  },
  {
   "cell_type": "code",
   "execution_count": 66,
   "metadata": {
    "ExecuteTime": {
     "end_time": "2019-11-19T05:06:50.256509Z",
     "start_time": "2019-11-19T05:06:50.254441Z"
    }
   },
   "outputs": [],
   "source": [
    "#!python -m spacy download en # one time run\n"
   ]
  },
  {
   "cell_type": "code",
   "execution_count": 67,
   "metadata": {
    "ExecuteTime": {
     "end_time": "2019-11-19T05:06:52.091917Z",
     "start_time": "2019-11-19T05:06:50.258407Z"
    }
   },
   "outputs": [],
   "source": [
    "# To further remove noise from the text we can use lemmatization from the spaCy library. It reduces any given word to its base form thereby reducing multiple forms of a word to a single word.\n",
    "\n",
    "nlp = spacy.load('en', disable=['parser', 'ner'])\n",
    "\n",
    "def lemmatization(texts, tags=['NOUN', 'ADJ']): # filter noun and adjective\n",
    "    output = []\n",
    "    for sent in texts:\n",
    "        doc = nlp(\" \".join(sent)) \n",
    "        output.append([token.lemma_ for token in doc if token.pos_ in tags])\n",
    "    return output\n"
   ]
  },
  {
   "cell_type": "code",
   "execution_count": 68,
   "metadata": {
    "ExecuteTime": {
     "end_time": "2019-11-19T05:06:52.105561Z",
     "start_time": "2019-11-19T05:06:52.100065Z"
    }
   },
   "outputs": [
    {
     "name": "stdout",
     "output_type": "stream",
     "text": [
      "['curious', 'many', 'apps', 'installable', 'remove', 'apps', 'examples', 'remove', 'meant', 'noob', 'version', 'synaptic', 'want', 'packages', 'synaptic', 'system', 'admin', 'synaptic', 'thanks']\n"
     ]
    }
   ],
   "source": [
    "# Let’s tokenize the reviews and then lemmatize the tokenized reviews.\n",
    "tokenized_reviews = pd.Series(reviews).apply(lambda x: x.split())\n",
    "print(tokenized_reviews[1])\n",
    "\n"
   ]
  },
  {
   "cell_type": "code",
   "execution_count": 82,
   "metadata": {
    "ExecuteTime": {
     "end_time": "2019-11-19T05:13:13.854840Z",
     "start_time": "2019-11-19T05:13:13.851522Z"
    }
   },
   "outputs": [
    {
     "name": "stdout",
     "output_type": "stream",
     "text": [
      "(300,)\n"
     ]
    }
   ],
   "source": [
    "print(tokenized_reviews.shape)\n",
    "\n"
   ]
  },
  {
   "cell_type": "code",
   "execution_count": 69,
   "metadata": {
    "ExecuteTime": {
     "end_time": "2019-11-19T05:06:53.210084Z",
     "start_time": "2019-11-19T05:06:52.108300Z"
    }
   },
   "outputs": [
    {
     "name": "stdout",
     "output_type": "stream",
     "text": [
      "['curious', 'many', 'app', 'installable', 'app', 'example', 'noob', 'version', 'synaptic', 'want', 'package', 'synaptic', 'system', 'admin', 'synaptic', 'thank']\n"
     ]
    }
   ],
   "source": [
    "reviews_2 = lemmatization(tokenized_reviews)\n",
    "print(reviews_2[1]) # print lemmatized review\n"
   ]
  },
  {
   "cell_type": "code",
   "execution_count": 84,
   "metadata": {
    "ExecuteTime": {
     "end_time": "2019-11-19T05:13:46.618437Z",
     "start_time": "2019-11-19T05:13:46.614411Z"
    }
   },
   "outputs": [
    {
     "name": "stdout",
     "output_type": "stream",
     "text": [
      "300\n"
     ]
    }
   ],
   "source": [
    "print(len(reviews_2))\n"
   ]
  },
  {
   "cell_type": "code",
   "execution_count": 70,
   "metadata": {
    "ExecuteTime": {
     "end_time": "2019-11-19T05:06:53.667831Z",
     "start_time": "2019-11-19T05:06:53.211761Z"
    }
   },
   "outputs": [
    {
     "data": {
      "image/png": "[encoded data removed]",
      "text/plain": [
       "<Figure size 1440x360 with 1 Axes>"
      ]
     },
     "metadata": {
      "needs_background": "light"
     },
     "output_type": "display_data"
    }
   ],
   "source": [
    "# As you can see, we have not just lemmatized the words but also filtered only nouns and adjectives. \n",
    "# Let’s de-tokenize the lemmatized reviews and plot the most common words.\n",
    "\n",
    "reviews_3 = []\n",
    "for i in range(len(reviews_2)):\n",
    "    reviews_3.append(' '.join(reviews_2[i]))\n",
    "\n",
    "df_raw['reviews'] = reviews_3\n",
    "\n",
    "freq_words(df_raw['reviews'], 35)\n"
   ]
  },
  {
   "cell_type": "code",
   "execution_count": 71,
   "metadata": {
    "ExecuteTime": {
     "end_time": "2019-11-19T05:07:00.599065Z",
     "start_time": "2019-11-19T05:06:53.669783Z"
    }
   },
   "outputs": [],
   "source": [
    "dictionary = corpora.Dictionary(reviews_2)\n",
    "doc_term_matrix = [dictionary.doc2bow(rev) for rev in reviews_2]\n",
    "# Creating the object for LDA model using gensim library\n",
    "LDA = gensim.models.ldamodel.LdaModel\n",
    "\n",
    "# Build LDA model\n",
    "lda_model = LDA(corpus=doc_term_matrix, id2word=dictionary, num_topics=7, random_state=100,\n",
    "                chunksize=1000, passes=50)\n"
   ]
  },
  {
   "cell_type": "code",
   "execution_count": 72,
   "metadata": {
    "ExecuteTime": {
     "end_time": "2019-11-19T05:07:00.607193Z",
     "start_time": "2019-11-19T05:07:00.601456Z"
    }
   },
   "outputs": [
    {
     "name": "stdout",
     "output_type": "stream",
     "text": [
      "(0, '0.032*\"window\" + 0.016*\"file\" + 0.014*\"good\"')\n",
      "(1, '0.025*\"work\" + 0.015*\"anyone\" + 0.013*\"compiz\"')\n",
      "(2, '0.013*\"guy\" + 0.011*\"thank\" + 0.011*\"website\"')\n",
      "(3, '0.021*\"file\" + 0.015*\"directory\" + 0.011*\"guy\"')\n",
      "(4, '0.023*\"file\" + 0.021*\"ubuntu\" + 0.018*\"system\"')\n",
      "(5, '0.021*\"boot\" + 0.012*\"anyone\" + 0.011*\"display\"')\n",
      "(6, '0.015*\"package\" + 0.013*\"anyone\" + 0.009*\"install\"')\n"
     ]
    }
   ],
   "source": [
    "topics = lda_model.print_topics(num_words=3)\n",
    "for topic in topics:\n",
    "    print(topic)\n"
   ]
  },
  {
   "cell_type": "code",
   "execution_count": 73,
   "metadata": {
    "ExecuteTime": {
     "end_time": "2019-11-19T05:07:17.065493Z",
     "start_time": "2019-11-19T05:07:00.609030Z"
    }
   },
   "outputs": [
    {
     "data": {
      "text/html": [
       "\n",
       "<link rel=\"stylesheet\" type=\"text/css\" href=\"https://cdn.rawgit.com/bmabey/pyLDAvis/files/ldavis.v1.0.0.css\">\n",
       "\n",
       "\n",
       "<div id=\"ldavis_el41111404934727315686563470805\"></div>\n",
       "<script type=\"text/javascript\">\n",
       "\n",
       "var ldavis_el41111404934727315686563470805_data = {\"mdsDat\": {\"x\": [-0.12130760061846611, 0.0685925844129563, 0.044908818267662236, -0.07628899952871324, -0.05697803711783241, 0.1117841894789307, 0.029289045105462597], \"y\": [0.003066627450203626, 0.014798165053168688, -0.1566608208849995, 0.0609160875030817, -0.02017955387242793, 0.085069009297011, 0.012990485453962307], \"topics\": [1, 2, 3, 4, 5, 6, 7], \"cluster\": [1, 1, 1, 1, 1, 1, 1], \"Freq\": [28.94715118408203, 15.041586875915527, 13.747130393981934, 12.423073768615723, 10.502096176147461, 10.420680046081543, 8.918282508850098]}, \"tinfo\": {\"Category\": [\"Default\", \"Default\", \"Default\", \"Default\", \"Default\", \"Default\", \"Default\", \"Default\", \"Default\", \"Default\", \"Default\", \"Default\", \"Default\", \"Default\", \"Default\", \"Default\", \"Default\", \"Default\", \"Default\", \"Default\", \"Default\", \"Default\", \"Default\", \"Default\", \"Default\", \"Default\", \"Default\", \"Default\", \"Default\", \"Default\", \"Topic1\", \"Topic1\", \"Topic1\", \"Topic1\", \"Topic1\", \"Topic1\", \"Topic1\", \"Topic1\", \"Topic1\", \"Topic1\", \"Topic1\", \"Topic1\", \"Topic1\", \"Topic1\", \"Topic1\", \"Topic1\", \"Topic1\", \"Topic1\", \"Topic1\", \"Topic1\", \"Topic1\", \"Topic1\", \"Topic1\", \"Topic1\", \"Topic1\", \"Topic1\", \"Topic1\", \"Topic1\", \"Topic1\", \"Topic1\", \"Topic1\", \"Topic1\", \"Topic1\", \"Topic1\", \"Topic1\", \"Topic1\", \"Topic1\", \"Topic1\", \"Topic1\", \"Topic1\", \"Topic1\", \"Topic1\", \"Topic1\", \"Topic1\", \"Topic1\", \"Topic1\", \"Topic1\", \"Topic1\", \"Topic1\", \"Topic1\", \"Topic1\", \"Topic1\", \"Topic1\", \"Topic1\", \"Topic1\", \"Topic1\", \"Topic1\", \"Topic1\", \"Topic1\", \"Topic1\", \"Topic1\", \"Topic1\", \"Topic1\", \"Topic2\", \"Topic2\", \"Topic2\", \"Topic2\", \"Topic2\", \"Topic2\", \"Topic2\", \"Topic2\", \"Topic2\", \"Topic2\", \"Topic2\", \"Topic2\", \"Topic2\", \"Topic2\", \"Topic2\", \"Topic2\", \"Topic2\", \"Topic2\", \"Topic2\", \"Topic2\", \"Topic2\", \"Topic2\", \"Topic2\", \"Topic2\", \"Topic2\", \"Topic2\", \"Topic2\", \"Topic2\", \"Topic2\", \"Topic2\", \"Topic2\", \"Topic2\", \"Topic2\", \"Topic2\", \"Topic2\", \"Topic2\", \"Topic2\", \"Topic2\", \"Topic2\", \"Topic2\", \"Topic2\", \"Topic2\", \"Topic2\", \"Topic2\", \"Topic2\", \"Topic2\", \"Topic2\", \"Topic2\", \"Topic2\", \"Topic2\", \"Topic2\", \"Topic2\", \"Topic2\", \"Topic2\", \"Topic2\", \"Topic2\", \"Topic2\", \"Topic2\", \"Topic2\", \"Topic3\", \"Topic3\", \"Topic3\", \"Topic3\", \"Topic3\", \"Topic3\", \"Topic3\", \"Topic3\", \"Topic3\", \"Topic3\", \"Topic3\", \"Topic3\", \"Topic3\", \"Topic3\", \"Topic3\", \"Topic3\", \"Topic3\", \"Topic3\", \"Topic3\", \"Topic3\", \"Topic3\", \"Topic3\", \"Topic3\", \"Topic3\", \"Topic3\", \"Topic3\", \"Topic3\", \"Topic3\", \"Topic3\", \"Topic3\", \"Topic3\", \"Topic3\", \"Topic3\", \"Topic3\", \"Topic3\", \"Topic3\", \"Topic3\", \"Topic3\", \"Topic3\", \"Topic3\", \"Topic3\", \"Topic3\", \"Topic3\", \"Topic3\", \"Topic3\", \"Topic3\", \"Topic3\", \"Topic3\", \"Topic3\", \"Topic3\", \"Topic3\", \"Topic3\", \"Topic3\", \"Topic4\", \"Topic4\", \"Topic4\", \"Topic4\", \"Topic4\", \"Topic4\", \"Topic4\", \"Topic4\", \"Topic4\", \"Topic4\", \"Topic4\", \"Topic4\", \"Topic4\", \"Topic4\", \"Topic4\", \"Topic4\", \"Topic4\", \"Topic4\", \"Topic4\", \"Topic4\", \"Topic4\", \"Topic4\", \"Topic4\", \"Topic4\", \"Topic4\", \"Topic4\", \"Topic4\", \"Topic4\", \"Topic4\", \"Topic4\", \"Topic4\", \"Topic4\", \"Topic4\", \"Topic4\", \"Topic4\", \"Topic4\", \"Topic4\", \"Topic4\", \"Topic4\", \"Topic4\", \"Topic4\", \"Topic4\", \"Topic4\", \"Topic4\", \"Topic4\", \"Topic4\", \"Topic4\", \"Topic4\", \"Topic4\", \"Topic4\", \"Topic4\", \"Topic4\", \"Topic4\", \"Topic4\", \"Topic4\", \"Topic4\", \"Topic4\", \"Topic4\", \"Topic4\", \"Topic4\", \"Topic4\", \"Topic4\", \"Topic4\", \"Topic4\", \"Topic4\", \"Topic4\", \"Topic5\", \"Topic5\", \"Topic5\", \"Topic5\", \"Topic5\", \"Topic5\", \"Topic5\", \"Topic5\", \"Topic5\", \"Topic5\", \"Topic5\", \"Topic5\", \"Topic5\", \"Topic5\", \"Topic5\", \"Topic5\", \"Topic5\", \"Topic5\", \"Topic5\", \"Topic5\", \"Topic5\", \"Topic5\", \"Topic5\", \"Topic5\", \"Topic5\", \"Topic5\", \"Topic5\", \"Topic5\", \"Topic5\", \"Topic5\", \"Topic5\", \"Topic5\", \"Topic5\", \"Topic5\", \"Topic5\", \"Topic5\", \"Topic5\", \"Topic5\", \"Topic5\", \"Topic5\", \"Topic5\", \"Topic5\", \"Topic5\", \"Topic5\", \"Topic5\", \"Topic5\", \"Topic5\", \"Topic5\", \"Topic5\", \"Topic5\", \"Topic5\", \"Topic5\", \"Topic5\", \"Topic5\", \"Topic5\", \"Topic5\", \"Topic5\", \"Topic5\", \"Topic6\", \"Topic6\", \"Topic6\", \"Topic6\", \"Topic6\", \"Topic6\", \"Topic6\", \"Topic6\", \"Topic6\", \"Topic6\", \"Topic6\", \"Topic6\", \"Topic6\", \"Topic6\", \"Topic6\", \"Topic6\", \"Topic6\", \"Topic6\", \"Topic6\", \"Topic6\", \"Topic6\", \"Topic6\", \"Topic6\", \"Topic6\", \"Topic6\", \"Topic6\", \"Topic6\", \"Topic6\", \"Topic6\", \"Topic6\", \"Topic6\", \"Topic6\", \"Topic6\", \"Topic6\", \"Topic6\", \"Topic6\", \"Topic6\", \"Topic6\", \"Topic6\", \"Topic6\", \"Topic6\", \"Topic6\", \"Topic6\", \"Topic6\", \"Topic6\", \"Topic6\", \"Topic6\", \"Topic6\", \"Topic6\", \"Topic6\", \"Topic6\", \"Topic6\", \"Topic6\", \"Topic6\", \"Topic6\", \"Topic6\", \"Topic7\", \"Topic7\", \"Topic7\", \"Topic7\", \"Topic7\", \"Topic7\", \"Topic7\", \"Topic7\", \"Topic7\", \"Topic7\", \"Topic7\", \"Topic7\", \"Topic7\", \"Topic7\", \"Topic7\", \"Topic7\", \"Topic7\", \"Topic7\", \"Topic7\", \"Topic7\", \"Topic7\", \"Topic7\", \"Topic7\", \"Topic7\", \"Topic7\", \"Topic7\", \"Topic7\", \"Topic7\", \"Topic7\", \"Topic7\", \"Topic7\", \"Topic7\", \"Topic7\", \"Topic7\", \"Topic7\", \"Topic7\", \"Topic7\", \"Topic7\", \"Topic7\", \"Topic7\", \"Topic7\", \"Topic7\", \"Topic7\", \"Topic7\", \"Topic7\", \"Topic7\", \"Topic7\", \"Topic7\", \"Topic7\", \"Topic7\", \"Topic7\", \"Topic7\", \"Topic7\", \"Topic7\", \"Topic7\", \"Topic7\", \"Topic7\", \"Topic7\", \"Topic7\", \"Topic7\", \"Topic7\", \"Topic7\", \"Topic7\", \"Topic7\", \"Topic7\", \"Topic7\", \"Topic7\", \"Topic7\", \"Topic7\", \"Topic7\"], \"Freq\": [28.0, 31.0, 24.0, 20.0, 15.0, 49.0, 11.0, 15.0, 10.0, 7.0, 11.0, 7.0, 18.0, 32.0, 7.0, 6.0, 9.0, 32.0, 15.0, 5.0, 10.0, 10.0, 23.0, 6.0, 17.0, 6.0, 11.0, 17.0, 4.0, 24.0, 5.923344135284424, 4.264655113220215, 3.4356436729431152, 3.4356470108032227, 3.4356470108032227, 3.435131788253784, 2.606313705444336, 2.606311559677124, 2.606311559677124, 2.6063120365142822, 2.6063101291656494, 2.6063053607940674, 2.6063039302825928, 2.6062991619110107, 2.604170083999634, 8.411140441894531, 5.094229221343994, 7.5822319984436035, 4.2645673751831055, 1.7769790887832642, 1.7769782543182373, 1.776977777481079, 1.776977777481079, 1.7769771814346313, 1.7769767045974731, 1.7769765853881836, 1.7769759893417358, 1.7769763469696045, 1.776975154876709, 1.7769756317138672, 22.512479782104492, 12.21633529663086, 10.89982795715332, 10.001180648803711, 16.496816635131836, 3.435758590698242, 3.4354045391082764, 19.37483787536621, 4.264526844024658, 7.432770252227783, 18.73015785217285, 24.312746047973633, 5.094718933105469, 11.828819274902344, 6.7523016929626465, 4.264986038208008, 8.411961555480957, 6.19366979598999, 5.923769474029541, 7.582390785217285, 5.0940327644348145, 7.0633320808410645, 10.134294509887695, 7.43327522277832, 6.5392351150512695, 7.166158199310303, 10.138686180114746, 6.75303316116333, 6.753294944763184, 6.101293563842773, 5.851086139678955, 6.245272636413574, 6.658217430114746, 2.3519299030303955, 2.3518126010894775, 2.351809501647949, 1.6035611629486084, 1.6035617589950562, 1.6035611629486084, 1.6035611629486084, 1.6035611629486084, 1.6035593748092651, 1.6035585403442383, 1.6035585403442383, 1.60355806350708, 1.60355806350708, 1.6035577058792114, 1.6035577058792114, 1.6035573482513428, 1.6035586595535278, 1.6035562753677368, 1.60355544090271, 1.60355544090271, 1.603554129600525, 1.603554129600525, 3.0970616340637207, 2.3520796298980713, 2.3520615100860596, 2.352243423461914, 17.32098388671875, 3.1002044677734375, 3.1005332469940186, 0.8551794290542603, 0.8551794290542603, 5.320981025695801, 7.42365026473999, 6.332850456237793, 5.346141338348389, 2.3522467613220215, 6.984894275665283, 8.672941207885742, 3.100400924682617, 2.895777702331543, 3.1014726161956787, 5.93269681930542, 5.763113498687744, 4.030910015106201, 2.3522846698760986, 4.642850399017334, 2.3530242443084717, 3.100576400756836, 2.352033853530884, 2.286081075668335, 3.1006710529327393, 2.9435062408447266, 3.100118398666382, 2.7691824436187744, 3.0994298458099365, 2.455756902694702, 2.4676308631896973, 2.352264881134033, 2.352247714996338, 3.0689735412597656, 3.0689730644226074, 5.291479110717773, 2.328169345855713, 2.3281679153442383, 2.3281679153442383, 2.3281657695770264, 2.3281664848327637, 2.328061580657959, 5.291444301605225, 1.5873621702194214, 1.5873621702194214, 1.587360143661499, 1.5873595476150513, 1.5873591899871826, 1.5873584747314453, 1.587357521057129, 1.5873568058013916, 1.587355136871338, 1.5873523950576782, 1.586972951889038, 1.5866477489471436, 3.069077968597412, 3.0693235397338867, 2.3282670974731445, 3.0685462951660156, 2.2554354667663574, 3.8100533485412598, 3.810140609741211, 0.8465448617935181, 3.810359477996826, 4.55131196975708, 10.297538757324219, 3.810223340988159, 4.5510969161987305, 3.810579776763916, 3.0696544647216797, 5.970694541931152, 2.3284289836883545, 2.328437328338623, 3.8100574016571045, 3.224167585372925, 3.0690436363220215, 4.732446670532227, 4.550472259521484, 3.069885730743408, 3.8094799518585205, 3.3751096725463867, 3.386758327484131, 2.745482921600342, 2.673743963241577, 2.4965484142303467, 2.3287370204925537, 3.7304821014404297, 2.279712438583374, 2.2797114849090576, 2.279710292816162, 2.2797110080718994, 1.5543242692947388, 1.5543242692947388, 1.554323673248291, 1.5543224811553955, 1.5543240308761597, 1.5543216466903687, 1.5543239116668701, 1.554323434829712, 1.554322600364685, 1.5542047023773193, 1.5541625022888184, 2.2799770832061768, 2.280042886734009, 2.2794532775878906, 2.279879331588745, 6.550338268280029, 0.8289293646812439, 0.8289287090301514, 0.8289287090301514, 0.8289284706115723, 0.8289284706115723, 0.8289284706115723, 0.8289284706115723, 0.8289284706115723, 0.8289292454719543, 0.8289284706115723, 0.8289284706115723, 0.8289284110069275, 0.8289284110069275, 0.8289284706115723, 2.279679775238037, 2.27994441986084, 1.5546565055847168, 1.554408073425293, 1.5543708801269531, 1.554363489151001, 1.55448317527771, 1.5543627738952637, 1.5544499158859253, 2.951413869857788, 3.0057849884033203, 4.456780433654785, 5.006554126739502, 2.280083417892456, 9.535715103149414, 4.456603050231934, 3.114368200302124, 3.7311949729919434, 3.0052433013916016, 2.2797861099243164, 3.6642510890960693, 2.280431032180786, 3.005394697189331, 3.005330801010132, 2.2809295654296875, 2.1840450763702393, 3.0055313110351562, 2.2798924446105957, 3.005119562149048, 2.4627864360809326, 2.2800545692443848, 2.88250994682312, 2.8787875175476074, 2.1867153644561768, 1.4909241199493408, 1.4909241199493408, 1.4909241199493408, 1.490923523902893, 1.490923523902893, 1.4909237623214722, 1.490923523902893, 1.490923523902893, 1.490923523902893, 1.4909230470657349, 1.490922451019287, 1.4909216165542603, 1.4909213781356812, 1.4909216165542603, 1.4909220933914185, 1.4909216165542603, 1.490919589996338, 1.490918517112732, 2.1869184970855713, 2.1866846084594727, 2.1868088245391846, 0.7951218485832214, 0.7951218485832214, 0.7951218485832214, 0.7951218485832214, 0.7951218485832214, 0.7951218485832214, 0.7951218485832214, 1.4910045862197876, 1.4909244775772095, 1.4902735948562622, 2.800668478012085, 5.667466640472412, 2.1869070529937744, 2.187103509902954, 4.971014976501465, 2.187434434890747, 3.526134729385376, 2.8837716579437256, 2.1867992877960205, 3.5784313678741455, 2.1873738765716553, 2.1868908405303955, 2.3671393394470215, 2.882944107055664, 2.078143835067749, 2.186495542526245, 2.2654244899749756, 1.660078763961792, 1.5993863344192505, 1.6230436563491821, 1.4915897846221924, 1.491489052772522, 1.4912488460540771, 1.4912445545196533, 2.874297857284546, 2.1805310249328613, 2.180532932281494, 2.180532455444336, 1.4867075681686401, 1.4867075681686401, 1.4867069721221924, 1.4867069721221924, 1.4867051839828491, 1.4867068529129028, 1.4867044687271118, 1.4867029190063477, 1.4865806102752686, 1.4864822626113892, 1.4864822626113892, 2.874508857727051, 4.954730033874512, 2.1807198524475098, 0.7928733825683594, 0.7928733825683594, 0.7928733825683594, 0.7928733825683594, 0.7928733825683594, 0.7928733825683594, 0.7928733825683594, 0.7928733825683594, 0.7928733229637146, 0.7928732633590698, 0.7928732633590698, 0.7928732633590698, 2.1807761192321777, 1.4868299961090088, 2.180628776550293, 1.4868746995925903, 1.4867777824401855, 4.158512115478516, 9.590785026550293, 3.5688796043395996, 2.8748202323913574, 3.553511381149292, 4.262825965881348, 2.180894136428833, 4.851025581359863, 2.8279271125793457, 5.651395797729492, 4.262459754943848, 2.180449962615967, 2.1808536052703857, 2.035454273223877, 2.1806609630584717, 3.005019187927246, 2.084591865539551, 1.9228568077087402, 2.1804521083831787, 2.1805527210235596, 2.179766893386841, 2.081831216812134, 1.4194128513336182, 1.41941237449646, 1.41941237449646, 1.4194121360778809, 1.419413685798645, 1.4194130897521973, 1.4194083213806152, 1.419409990310669, 1.4194068908691406, 3.407089948654175, 2.082695960998535, 0.7569888830184937, 0.7569887042045593, 0.7569887042045593, 0.7569887042045593, 0.7569887042045593, 0.7569882869720459, 0.7569886445999146, 0.7569885849952698, 0.7569885849952698, 0.7569885849952698, 0.7569885849952698, 0.7569885849952698, 0.7569882273674011, 0.7569881081581116, 0.7569881081581116, 0.7569870948791504, 0.7569870948791504, 0.7569870948791504, 0.7569870948791504, 0.7569870948791504, 0.7569870948791504, 0.7569870948791504, 0.7569870948791504, 2.0820155143737793, 0.7569870948791504, 0.7569870948791504, 0.7569870948791504, 0.7569870948791504, 3.4067554473876953, 2.7447614669799805, 1.4194875955581665, 2.744694471359253, 3.15680193901062, 2.0804455280303955, 4.070563316345215, 2.082026958465576, 1.419639229774475, 2.7447357177734375, 2.7449839115142822, 3.407029867172241, 2.7446200847625732, 2.082563638687134, 3.644731044769287, 1.4195551872253418, 1.4198070764541626, 2.082408905029297, 2.1743674278259277, 3.0023226737976074, 2.74493408203125, 2.0818755626678467, 2.081681728363037, 2.081038475036621, 2.0822434425354004, 2.0816972255706787, 2.0815815925598145, 2.081044912338257, 1.514384150505066, 1.4203307628631592], \"Term\": [\"window\", \"work\", \"boot\", \"good\", \"guy\", \"file\", \"directory\", \"http\", \"software\", \"compiz\", \"desktop\", \"device\", \"package\", \"ubuntu\", \"line\", \"display\", \"program\", \"install\", \"driver\", \"website\", \"people\", \"synaptic\", \"help\", \"password\", \"question\", \"well\", \"thing\", \"error\", \"josh\", \"sudo\", \"installation\", \"fresh\", \"egrep\", \"dpkg\", \"demo\", \"general\", \"instance\", \"group\", \"black\", \"bridge\", \"beta\", \"broken\", \"thumb\", \"everyone\", \"burner\", \"xorg\", \"folder\", \"screen\", \"laptop\", \"envy\", \"prompt\", \"host\", \"dir\", \"applied\", \"certain\", \"nano\", \"selection\", \"save\", \"html\", \"rest\", \"ubuntu\", \"error\", \"driver\", \"copy\", \"sudo\", \"binary\", \"second\", \"system\", \"wrong\", \"command\", \"install\", \"file\", \"root\", \"help\", \"desktop\", \"game\", \"user\", \"conf\", \"grub\", \"partition\", \"option\", \"fine\", \"boot\", \"home\", \"terminal\", \"change\", \"anyone\", \"kernel\", \"package\", \"question\", \"problem\", \"thank\", \"work\", \"glxgear\", \"test\", \"shell\", \"domain\", \"seller\", \"nohz\", \"amavi\", \"insecure\", \"arch\", \"amazing\", \"whois\", \"symbol\", \"insert\", \"xfce\", \"wonder\", \"pentium\", \"dilema\", \"hehe\", \"minecraft\", \"secure\", \"article\", \"francais\", \"script\", \"slow\", \"mirror\", \"mode\", \"window\", \"access\", \"great\", \"debs\", \"choosen\", \"drive\", \"good\", \"question\", \"kernel\", \"library\", \"work\", \"file\", \"source\", \"nautilus\", \"gnome\", \"system\", \"install\", \"guy\", \"beryl\", \"help\", \"keyboard\", \"video\", \"music\", \"place\", \"issue\", \"possible\", \"partition\", \"fine\", \"anyone\", \"able\", \"program\", \"player\", \"sure\", \"motion\", \"opengl\", \"display\", \"cairo\", \"extension\", \"xlib\", \"external\", \"cdrdao\", \"bio\", \"device\", \"increase\", \"performance\", \"topic\", \"bios\", \"modem\", \"static\", \"gvfs\", \"recive\", \"audacious\", \"chrome\", \"proxy\", \"recommend\", \"browser\", \"somebody\", \"date\", \"much\", \"livecd\", \"username\", \"simple\", \"scii\", \"name\", \"disk\", \"boot\", \"manager\", \"thing\", \"time\", \"default\", \"anyone\", \"weird\", \"nothing\", \"change\", \"server\", \"grub\", \"work\", \"ubuntu\", \"issue\", \"window\", \"error\", \"help\", \"problem\", \"good\", \"something\", \"network\", \"josh\", \"documentation\", \"warty\", \"cron\", \"visual\", \"transmission\", \"headless\", \"gstreamer\", \"athlon\", \"lzdz\", \"keystroke\", \"configuration\", \"panel\", \"conversation\", \"rescue\", \"recent\", \"gaim\", \"kubuntu\", \"clean\", \"backup\", \"directory\", \"property\", \"description\", \"docs\", \"choice\", \"burninghand\", \"complete\", \"content\", \"usermod\", \"codec\", \"nerd\", \"ownership\", \"advice\", \"analyze\", \"merge\", \"call\", \"hoary\", \"language\", \"wireless\", \"click\", \"process\", \"none\", \"breezy\", \"mozilla\", \"filesystem\", \"edit\", \"version\", \"guy\", \"mplayer\", \"file\", \"home\", \"software\", \"user\", \"synaptic\", \"wget\", \"good\", \"open\", \"something\", \"change\", \"anybody\", \"reason\", \"package\", \"source\", \"install\", \"thank\", \"terminal\", \"shad\", \"normal\", \"wiki\", \"power\", \"sata\", \"management\", \"kurre\", \"credit\", \"offical\", \"diamondcard\", \"operation\", \"order\", \"beep\", \"volume\", \"autologin\", \"ubuntulinux\", \"login\", \"vfat\", \"conflict\", \"difficult\", \"tackle\", \"upgrade\", \"youtube\", \"disable\", \"digg\", \"unique\", \"familar\", \"harddrive\", \"hdparm\", \"trashing\", \"hparm\", \"code\", \"english\", \"fusion\", \"type\", \"package\", \"password\", \"paste\", \"anyone\", \"open\", \"thank\", \"something\", \"nvidia\", \"install\", \"right\", \"update\", \"terminal\", \"system\", \"program\", \"http\", \"sudo\", \"able\", \"home\", \"file\", \"gnome\", \"linux\", \"sound\", \"card\", \"antivirus\", \"virtual\", \"realtime\", \"usage\", \"nexus\", \"galaxy\", \"incoming\", \"outgoing\", \"aoss\", \"chuck\", \"lunch\", \"flag\", \"workin\", \"gconf\", \"fglrx\", \"compile\", \"compiz\", \"traffic\", \"apology\", \"android\", \"transfer\", \"sandwich\", \"omgubuntu\", \"askubuntu\", \"obvious\", \"cream\", \"naaa\", \"utility\", \"bfxs\", \"conky\", \"wubi\", \"virus\", \"debian\", \"teamspeak\", \"care\", \"software\", \"work\", \"program\", \"application\", \"desktop\", \"http\", \"first\", \"good\", \"check\", \"anyone\", \"window\", \"paste\", \"machine\", \"info\", \"people\", \"file\", \"many\", \"anything\", \"question\", \"thank\", \"boot\", \"reachable\", \"note\", \"setup\", \"grammar\", \"gnomebaker\", \"dialogue\", \"side\", \"aircrack\", \"printer\", \"backtrack\", \"website\", \"distro\", \"aspect\", \"dialgoue\", \"familiar\", \"give\", \"true\", \"response\", \"trackpad\", \"bummer\", \"dependency\", \"zoom\", \"relie\", \"unity\", \"allway\", \"informative\", \"bussine\", \"sparrow\", \"resoltion\", \"refresh\", \"tonight\", \"underwear\", \"follow\", \"knopw\", \"onboard\", \"select\", \"impossible\", \"poor\", \"haven\", \"awhile\", \"line\", \"password\", \"way\", \"well\", \"channel\", \"need\", \"guy\", \"gksudo\", \"menu\", \"synaptic\", \"people\", \"http\", \"thing\", \"different\", \"thank\", \"search\", \"answer\", \"check\", \"many\", \"help\", \"work\", \"driver\", \"kernel\", \"good\", \"sudo\", \"ubuntu\", \"anyone\", \"file\", \"command\", \"gnome\"], \"Total\": [28.0, 31.0, 24.0, 20.0, 15.0, 49.0, 11.0, 15.0, 10.0, 7.0, 11.0, 7.0, 18.0, 32.0, 7.0, 6.0, 9.0, 32.0, 15.0, 5.0, 10.0, 10.0, 23.0, 6.0, 17.0, 6.0, 11.0, 17.0, 4.0, 24.0, 6.533087253570557, 4.874417781829834, 4.0451555252075195, 4.045158863067627, 4.045159339904785, 4.045032024383545, 3.2158255577087402, 3.2158236503601074, 3.2158236503601074, 3.2158241271972656, 3.215822219848633, 3.21581768989563, 3.2158162593841553, 3.2158119678497314, 3.2152905464172363, 10.412556648254395, 6.429096221923828, 9.612798690795898, 5.536750793457031, 2.3864905834198, 2.3864898681640625, 2.3864893913269043, 2.3864893913269043, 2.386488676071167, 2.386488199234009, 2.386488437652588, 2.3864877223968506, 2.386488199234009, 2.3864870071411133, 2.3864877223968506, 32.438053131103516, 17.538434982299805, 15.628546714782715, 14.314126014709473, 24.259265899658203, 4.738920211791992, 4.738863468170166, 33.60410690307617, 6.265924453735352, 11.68077564239502, 32.85761260986328, 49.336402893066406, 7.902801036834717, 23.858434677124023, 11.493098258972168, 6.316505432128906, 16.265409469604492, 10.898214340209961, 10.2445707321167, 14.858247756958008, 8.498336791992188, 13.927785873413086, 24.637170791625977, 16.142608642578125, 12.994516372680664, 15.423020362854004, 33.46561050415039, 16.734647750854492, 18.7298583984375, 17.363096237182617, 15.158563613891602, 21.30191421508789, 31.63715362548828, 2.9730076789855957, 2.972991466522217, 2.9729883670806885, 2.2246389389038086, 2.224639415740967, 2.2246389389038086, 2.2246389389038086, 2.2246389389038086, 2.224637031555176, 2.2246363162994385, 2.2246363162994385, 2.2246360778808594, 2.2246360778808594, 2.224635601043701, 2.224635601043701, 2.224635124206543, 2.224637031555176, 2.2246344089508057, 2.2246334552764893, 2.2246334552764893, 2.2246322631835938, 2.2246322631835938, 4.446264266967773, 3.6353793144226074, 3.6687376499176025, 3.713709831237793, 28.29467010498047, 5.108956336975098, 5.291196823120117, 1.4762574434280396, 1.4762574434280396, 9.59290885925293, 20.911582946777344, 17.363096237182617, 16.734647750854492, 4.362497806549072, 31.63715362548828, 49.336402893066406, 7.55592679977417, 7.451835632324219, 8.68549633026123, 33.60410690307617, 32.85761260986328, 15.867337226867676, 5.105199337005615, 23.858434677124023, 5.356832504272461, 10.271990776062012, 5.460834980010986, 5.1653242111206055, 11.122176170349121, 9.839984893798828, 14.858247756958008, 13.927785873413086, 33.46561050415039, 8.46730899810791, 9.862277030944824, 6.897221088409424, 9.371978759765625, 3.691131830215454, 3.691131353378296, 6.607295036315918, 2.9503273963928223, 2.9503262042999268, 2.9503262042999268, 2.950324058532715, 2.9503250122070312, 2.9503097534179688, 7.305068492889404, 2.2095203399658203, 2.2095203399658203, 2.2095184326171875, 2.20951771736145, 2.209517478942871, 2.209516763687134, 2.2095158100128174, 2.20951509475708, 2.2095136642456055, 2.2095110416412354, 2.2094693183898926, 2.2094171047210693, 4.416430473327637, 4.439390182495117, 3.6756255626678467, 5.047189712524414, 3.7881531715393066, 6.517230033874512, 6.548767566680908, 1.4687031507492065, 6.752751350402832, 8.172927856445312, 24.637170791625977, 7.982493877410889, 11.433760643005371, 10.147970199584961, 7.467499256134033, 33.46561050415039, 5.117649078369141, 5.137538909912109, 15.423020362854004, 11.339055061340332, 10.2445707321167, 31.63715362548828, 32.438053131103516, 11.122176170349121, 28.29467010498047, 17.538434982299805, 23.858434677124023, 15.158563613891602, 20.911582946777344, 14.865612030029297, 7.937540054321289, 4.3548431396484375, 2.904073476791382, 2.9040725231170654, 2.90407133102417, 2.9040732383728027, 2.178685426712036, 2.178685426712036, 2.178684711456299, 2.1786837577819824, 2.1786863803863525, 2.178682804107666, 2.1786859035491943, 2.178687334060669, 2.17868709564209, 2.178670644760132, 2.1786649227142334, 3.597834348678589, 3.644770860671997, 3.6447560787200928, 3.7331905364990234, 11.044254302978516, 1.4532907009124756, 1.4532898664474487, 1.4532898664474487, 1.4532896280288696, 1.4532896280288696, 1.4532896280288696, 1.4532896280288696, 1.4532896280288696, 1.4532908201217651, 1.4532896280288696, 1.4532896280288696, 1.4532896280288696, 1.4532896280288696, 1.4532898664474487, 4.295595169067383, 4.340510368347168, 2.8744022846221924, 2.8744072914123535, 2.87441086769104, 2.8744051456451416, 2.919382095336914, 2.919398307800293, 2.9269473552703857, 6.037899494171143, 6.56295108795166, 12.691238403320312, 15.867337226867676, 5.088784694671631, 49.336402893066406, 16.142608642578125, 10.284713745117188, 16.265409469604492, 10.00556468963623, 5.391897201538086, 20.911582946777344, 6.568649768829346, 14.865612030029297, 15.423020362854004, 7.327422618865967, 6.413540363311768, 18.7298583984375, 7.55592679977417, 32.85761260986328, 21.30191421508789, 12.994516372680664, 3.511098861694336, 3.511063575744629, 2.8153038024902344, 2.1195125579833984, 2.1195125579833984, 2.1195125579833984, 2.1195120811462402, 2.1195120811462402, 2.1195123195648193, 2.1195120811462402, 2.1195120811462402, 2.1195120811462402, 2.119511604309082, 2.1195108890533447, 2.1195101737976074, 2.1195099353790283, 2.1195101737976074, 2.1195106506347656, 2.1195101737976074, 2.1195082664489746, 2.119507312774658, 3.477667808532715, 3.5090584754943848, 3.563567638397217, 1.4237104654312134, 1.4237104654312134, 1.4237104654312134, 1.4237104654312134, 1.4237104654312134, 1.4237104654312134, 1.4237104654312134, 2.813265085220337, 2.813244342803955, 2.867713212966919, 7.150177955627441, 18.7298583984375, 6.190162658691406, 6.221502304077148, 33.46561050415039, 6.568649768829346, 21.30191421508789, 14.865612030029297, 6.961752891540527, 32.85761260986328, 7.269327163696289, 9.137847900390625, 12.994516372680664, 33.60410690307617, 9.862277030944824, 15.16188907623291, 24.259265899658203, 8.46730899810791, 16.142608642578125, 49.336402893066406, 8.68549633026123, 5.165638446807861, 6.806269645690918, 6.01793098449707, 3.503222942352295, 2.809400796890259, 2.8094029426574707, 2.809403419494629, 2.115577220916748, 2.115577220916748, 2.11557674407959, 2.11557674407959, 2.115574836730957, 2.115577459335327, 2.115574359893799, 2.115572929382324, 2.1155669689178467, 2.115567684173584, 2.115567684173584, 4.332325458526611, 7.743677139282227, 3.5501010417938232, 1.4217431545257568, 1.4217431545257568, 1.4217431545257568, 1.4217431545257568, 1.4217431545257568, 1.4217431545257568, 1.4217431545257568, 1.4217431545257568, 1.421743392944336, 1.421743631362915, 1.4217435121536255, 1.4217435121536255, 4.200917720794678, 2.8112947940826416, 4.306046009063721, 2.944679021835327, 2.9447057247161865, 10.284713745117188, 31.63715362548828, 9.862277030944824, 7.4724955558776855, 11.493098258972168, 15.16188907623291, 5.918549537658691, 20.911582946777344, 9.223318099975586, 33.46561050415039, 28.29467010498047, 6.221502304077148, 6.788811206817627, 7.466564178466797, 10.1689453125, 49.336402893066406, 10.092742919921875, 8.361647605895996, 17.363096237182617, 21.30191421508789, 24.637170791625977, 2.7151877880096436, 2.052769422531128, 2.0527689456939697, 2.0527689456939697, 2.0527687072753906, 2.0527708530426025, 2.0527703762054443, 2.052764892578125, 2.0527679920196533, 2.0527637004852295, 5.505969047546387, 3.45577335357666, 1.3903456926345825, 1.3903456926345825, 1.3903456926345825, 1.3903456926345825, 1.390345573425293, 1.3903448581695557, 1.390345573425293, 1.390345573425293, 1.390345573425293, 1.390345573425293, 1.390345573425293, 1.390345573425293, 1.3903450965881348, 1.3903450965881348, 1.3903450965881348, 1.3903436660766602, 1.3903436660766602, 1.3903436660766602, 1.3903436660766602, 1.3903436660766602, 1.3903436660766602, 1.3903436660766602, 1.3903436660766602, 4.136198997497559, 1.3903436660766602, 1.3903436660766602, 1.3903436660766602, 1.3903436660766602, 7.735718250274658, 6.190162658691406, 2.8818912506103516, 6.219770431518555, 7.944297790527344, 4.854902267456055, 15.867337226867676, 6.032192230224609, 3.4891791343688965, 10.00556468963623, 10.1689453125, 15.16188907623291, 11.433760643005371, 7.380153656005859, 21.30191421508789, 4.199179649353027, 4.302855491638184, 9.223318099975586, 10.092742919921875, 23.858434677124023, 31.63715362548828, 15.628546714782715, 16.734647750854492, 20.911582946777344, 24.259265899658203, 32.438053131103516, 33.46561050415039, 49.336402893066406, 11.68077564239502, 8.68549633026123], \"loglift\": [30.0, 29.0, 28.0, 27.0, 26.0, 25.0, 24.0, 23.0, 22.0, 21.0, 20.0, 19.0, 18.0, 17.0, 16.0, 15.0, 14.0, 13.0, 12.0, 11.0, 10.0, 9.0, 8.0, 7.0, 6.0, 5.0, 4.0, 3.0, 2.0, 1.0, 1.141700029373169, 1.1060999631881714, 1.0764000415802002, 1.0764000415802002, 1.0764000415802002, 1.076300024986267, 1.0296000242233276, 1.0296000242233276, 1.0296000242233276, 1.0296000242233276, 1.0296000242233276, 1.0296000242233276, 1.0296000242233276, 1.0295000076293945, 1.0289000272750854, 1.0262000560760498, 1.0069999694824219, 1.0024000406265259, 0.978600025177002, 0.9448000192642212, 0.9448000192642212, 0.9448000192642212, 0.9448000192642212, 0.9448000192642212, 0.9448000192642212, 0.9448000192642212, 0.9448000192642212, 0.9448000192642212, 0.9448000192642212, 0.9448000192642212, 0.8744000196456909, 0.8780999779701233, 0.8792999982833862, 0.8812000155448914, 0.8540999889373779, 0.9180999994277954, 0.9179999828338623, 0.6890000104904175, 0.8549000024795532, 0.7876999974250793, 0.6776000261306763, 0.5320000052452087, 0.8007000088691711, 0.538100004196167, 0.7077999711036682, 0.847000002861023, 0.580299973487854, 0.6746000051498413, 0.6919000148773193, 0.5669999718666077, 0.7279000282287598, 0.560699999332428, 0.3513999879360199, 0.4641999900341034, 0.5529999732971191, 0.4731999933719635, 0.045499999076128006, 0.33219999074935913, 0.21960000693798065, 0.193900004029274, 0.28780001401901245, 0.01269999984651804, -0.3188000023365021, 1.659999966621399, 1.659999966621399, 1.659999966621399, 1.5670000314712524, 1.5670000314712524, 1.5670000314712524, 1.5670000314712524, 1.5670000314712524, 1.5670000314712524, 1.5670000314712524, 1.5670000314712524, 1.5670000314712524, 1.5670000314712524, 1.5670000314712524, 1.5670000314712524, 1.5670000314712524, 1.5670000314712524, 1.5670000314712524, 1.5670000314712524, 1.5670000314712524, 1.5670000314712524, 1.5670000314712524, 1.5326999425888062, 1.458899974822998, 1.4498000144958496, 1.4377000331878662, 1.4035999774932861, 1.3947999477386475, 1.3598999977111816, 1.3483999967575073, 1.3483999967575073, 1.3049999475479126, 0.8586999773979187, 0.8858000040054321, 0.7531999945640564, 1.2767000198364258, 0.3837999999523163, 0.1559000015258789, 1.003600001335144, 0.9491000175476074, 0.8646000027656555, 0.16019999980926514, 0.15360000729560852, 0.5241000056266785, 1.1195000410079956, 0.2574999928474426, 1.0716999769210815, 0.6965000033378601, 1.0520000457763672, 1.079200029373169, 0.6169999837875366, 0.6875, 0.3271999955177307, 0.27900001406669617, -0.48489999771118164, 0.6565999984741211, 0.508899986743927, 0.8185999989509583, 0.5120000243186951, 1.7998000383377075, 1.7998000383377075, 1.7623000144958496, 1.747499942779541, 1.747499942779541, 1.747499942779541, 1.747499942779541, 1.747499942779541, 1.747499942779541, 1.6619000434875488, 1.6535999774932861, 1.6535999774932861, 1.6535999774932861, 1.6535999774932861, 1.6535999774932861, 1.6535999774932861, 1.6535999774932861, 1.6535999774932861, 1.6535999774932861, 1.6535999774932861, 1.65339994430542, 1.6532000303268433, 1.6203999519348145, 1.6153000593185425, 1.5276999473571777, 1.4867000579833984, 1.4658000469207764, 1.4474999904632568, 1.4427000284194946, 1.43340003490448, 1.4120999574661255, 1.398900032043457, 1.1119999885559082, 1.2447999715805054, 1.063099980354309, 1.0047999620437622, 1.0952999591827393, 0.260699987411499, 1.1967999935150146, 1.1929999589920044, 0.5860999822616577, 0.7268000245094299, 0.7789999842643738, 0.08449999988079071, 0.02019999921321869, 0.6970000267028809, -0.020800000056624413, 0.33640000224113464, 0.032099999487400055, 0.27570000290870667, -0.07249999791383743, 0.20020000636577606, 0.7580999732017517, 1.930899977684021, 1.843500018119812, 1.843500018119812, 1.843500018119812, 1.843500018119812, 1.7479000091552734, 1.7479000091552734, 1.7479000091552734, 1.7479000091552734, 1.7479000091552734, 1.7479000091552734, 1.7479000091552734, 1.7479000091552734, 1.7479000091552734, 1.7479000091552734, 1.7477999925613403, 1.6294000148773193, 1.6165000200271606, 1.6162999868392944, 1.5924999713897705, 1.5631999969482422, 1.5241999626159668, 1.5241999626159668, 1.5241999626159668, 1.5241999626159668, 1.5241999626159668, 1.5241999626159668, 1.5241999626159668, 1.5241999626159668, 1.5241999626159668, 1.5241999626159668, 1.5241999626159668, 1.5241999626159668, 1.5241999626159668, 1.5241999626159668, 1.4521000385284424, 1.4417999982833862, 1.4709999561309814, 1.470900058746338, 1.4708000421524048, 1.4708000421524048, 1.455399990081787, 1.455299973487854, 1.4528000354766846, 1.3697999715805054, 1.3047000169754028, 1.0391000509262085, 0.9320999979972839, 1.2827999591827393, 0.44200000166893005, 0.7985000014305115, 0.890999972820282, 0.6133000254631042, 0.8827999830245972, 1.2247999906539917, 0.34389999508857727, 1.0276999473571777, 0.4869999885559082, 0.45010000467300415, 0.9186000227928162, 1.0083999633789062, 0.25600001215934753, 0.8873999714851379, -0.30630001425743103, -0.07190000265836716, 0.34529998898506165, 2.056299924850464, 2.055000066757202, 2.0009000301361084, 1.9018000364303589, 1.9018000364303589, 1.9018000364303589, 1.9018000364303589, 1.9018000364303589, 1.9018000364303589, 1.9018000364303589, 1.9018000364303589, 1.9018000364303589, 1.9018000364303589, 1.9018000364303589, 1.9018000364303589, 1.9018000364303589, 1.9018000364303589, 1.9018000364303589, 1.9018000364303589, 1.9018000364303589, 1.9018000364303589, 1.7897000312805176, 1.7805999517440796, 1.7653000354766846, 1.6711000204086304, 1.6711000204086304, 1.6711000204086304, 1.6711000204086304, 1.6711000204086304, 1.6711000204086304, 1.6711000204086304, 1.6187000274658203, 1.6187000274658203, 1.5989999771118164, 1.3163000345230103, 1.0582000017166138, 1.2130999565124512, 1.2081999778747559, 0.3467000126838684, 1.1540000438690186, 0.45500001311302185, 0.6136000156402588, 1.0956000089645386, 0.03629999980330467, 1.0526000261306763, 0.8237000107765198, 0.5508000254631042, -0.2021999955177307, 0.696399986743927, 0.31709998846054077, -0.11739999800920486, 0.6241999864578247, -0.05820000171661377, -1.1607999801635742, 0.4918000102043152, 1.011299967765808, 0.7354000210762024, 0.8585000038146973, 2.063499927520752, 2.007999897003174, 2.007999897003174, 2.007999897003174, 1.9085999727249146, 1.9085999727249146, 1.9085999727249146, 1.9085999727249146, 1.9085999727249146, 1.9085999727249146, 1.9085999727249146, 1.9085999727249146, 1.9084999561309814, 1.9084999561309814, 1.9084999561309814, 1.851199984550476, 1.8148000240325928, 1.7740999460220337, 1.67739999294281, 1.67739999294281, 1.67739999294281, 1.67739999294281, 1.67739999294281, 1.67739999294281, 1.67739999294281, 1.67739999294281, 1.67739999294281, 1.67739999294281, 1.67739999294281, 1.67739999294281, 1.6058000326156616, 1.624400019645691, 1.5809999704360962, 1.5780999660491943, 1.5779999494552612, 1.3559000492095947, 1.0678000450134277, 1.2448999881744385, 1.3061000108718872, 1.0875999927520752, 0.9925000071525574, 1.2630000114440918, 0.8003000020980835, 1.079200029373169, 0.4828000068664551, 0.3686000108718872, 1.2129000425338745, 1.1258000135421753, 0.9617000222206116, 0.7217000126838684, -0.5370000004768372, 0.6840999722480774, 0.7914999723434448, 0.186599999666214, -0.017799999564886093, -0.16369999945163727, 2.1514999866485596, 2.048099994659424, 2.048099994659424, 2.048099994659424, 2.048099994659424, 2.048099994659424, 2.048099994659424, 2.048099994659424, 2.048099994659424, 2.048099994659424, 1.9371000528335571, 1.9106999635696411, 1.8091000318527222, 1.8091000318527222, 1.8091000318527222, 1.8091000318527222, 1.8091000318527222, 1.8091000318527222, 1.8091000318527222, 1.8091000318527222, 1.8091000318527222, 1.8091000318527222, 1.8091000318527222, 1.8091000318527222, 1.8091000318527222, 1.8091000318527222, 1.8091000318527222, 1.8091000318527222, 1.8091000318527222, 1.8091000318527222, 1.8091000318527222, 1.8091000318527222, 1.8091000318527222, 1.8091000318527222, 1.8091000318527222, 1.7305999994277954, 1.8091000318527222, 1.8091000318527222, 1.8091000318527222, 1.8091000318527222, 1.597000002861023, 1.6038000583648682, 1.708899974822998, 1.5989999771118164, 1.4941999912261963, 1.569700002670288, 1.0565999746322632, 1.3532999753952026, 1.517799973487854, 1.1236000061035156, 1.1074999570846558, 0.9240999817848206, 0.9901000261306763, 1.151900053024292, 0.6516000032424927, 1.3324999809265137, 1.3083000183105469, 0.9289000034332275, 0.8820000290870667, 0.3443000018596649, -0.027499999850988388, 0.40119999647140503, 0.3328000009059906, 0.1096000000834465, -0.03830000013113022, -0.32910001277923584, -0.3603000044822693, -0.7487000226974487, 0.374099999666214, 0.6062999963760376], \"logprob\": [30.0, 29.0, 28.0, 27.0, 26.0, 25.0, 24.0, 23.0, 22.0, 21.0, 20.0, 19.0, 18.0, 17.0, 16.0, 15.0, 14.0, 13.0, 12.0, 11.0, 10.0, 9.0, 8.0, 7.0, 6.0, 5.0, 4.0, 3.0, 2.0, 1.0, -5.177599906921387, -5.506100177764893, -5.722300052642822, -5.722300052642822, -5.722300052642822, -5.722400188446045, -5.998499870300293, -5.998499870300293, -5.998499870300293, -5.998499870300293, -5.998499870300293, -5.998499870300293, -5.998499870300293, -5.998499870300293, -5.999300003051758, -4.826900005340576, -5.328400135040283, -4.930699825286865, -5.506100177764893, -6.381499767303467, -6.381499767303467, -6.381499767303467, -6.381499767303467, -6.381499767303467, -6.381499767303467, -6.381499767303467, -6.381499767303467, -6.381499767303467, -6.3815999031066895, -6.3815999031066895, -3.842400074005127, -4.453700065612793, -4.567699909210205, -4.653800010681152, -4.153299808502197, -5.7221999168396, -5.722300052642822, -3.992500066757202, -5.506100177764893, -4.9506001472473145, -4.026299953460693, -3.765500068664551, -5.3282999992370605, -4.485899925231934, -5.046599864959717, -5.50600004196167, -4.8267998695373535, -5.132900238037109, -5.177499771118164, -4.930600166320801, -5.328400135040283, -5.001500129699707, -4.640500068664551, -4.950500011444092, -5.07859992980957, -4.987100124359131, -4.640100002288818, -5.046500205993652, -5.04640007019043, -5.1479997634887695, -5.189799785614014, -5.124599933624268, -5.0605998039245605, -5.446599960327148, -5.446599960327148, -5.446599960327148, -5.829599857330322, -5.829599857330322, -5.829599857330322, -5.829599857330322, -5.829599857330322, -5.829599857330322, -5.829599857330322, -5.829599857330322, -5.829599857330322, -5.829599857330322, -5.829599857330322, -5.829599857330322, -5.829599857330322, -5.829599857330322, -5.829599857330322, -5.829599857330322, -5.829599857330322, -5.829599857330322, -5.829599857330322, -5.17140007019043, -5.446499824523926, -5.446499824523926, -5.446400165557861, -3.449899911880493, -5.170300006866455, -5.170199871063232, -6.4583001136779785, -6.4583001136779785, -4.630199909210205, -4.297100067138672, -4.456099987030029, -4.625400066375732, -5.446400165557861, -4.358099937438965, -4.141600131988525, -5.170300006866455, -5.23859977722168, -5.169899940490723, -4.521299839019775, -4.550300121307373, -4.907800197601318, -5.446400165557861, -4.766499996185303, -5.446100234985352, -5.170199871063232, -5.446499824523926, -5.474999904632568, -5.170199871063232, -5.2221999168396, -5.170400142669678, -5.283299922943115, -5.170599937438965, -5.40339994430542, -5.398600101470947, -5.446400165557861, -5.446400165557861, -5.0904998779296875, -5.0904998779296875, -4.5457000732421875, -5.366700172424316, -5.366700172424316, -5.366700172424316, -5.366700172424316, -5.366700172424316, -5.366799831390381, -4.5457000732421875, -5.74970006942749, -5.74970006942749, -5.74970006942749, -5.74970006942749, -5.74970006942749, -5.74970006942749, -5.749800205230713, -5.749800205230713, -5.749800205230713, -5.749800205230713, -5.75, -5.750199794769287, -5.090400218963623, -5.090400218963623, -5.366700172424316, -5.09060001373291, -5.398499965667725, -4.874199867248535, -4.874199867248535, -6.378399848937988, -4.874100208282471, -4.696400165557861, -3.8798999786376953, -4.874100208282471, -4.696499824523926, -4.874000072479248, -5.0903000831604, -4.425000190734863, -5.366600036621094, -5.366600036621094, -4.874199867248535, -5.041100025177002, -5.0904998779296875, -4.657400131225586, -4.696599960327148, -5.090199947357178, -4.874300003051758, -4.9953999519348145, -4.9918999671936035, -5.201900005340576, -5.228300094604492, -5.296899795532227, -5.366499900817871, -4.794000148773193, -5.286499977111816, -5.286499977111816, -5.286499977111816, -5.286499977111816, -5.66949987411499, -5.66949987411499, -5.66949987411499, -5.66949987411499, -5.66949987411499, -5.66949987411499, -5.66949987411499, -5.66949987411499, -5.66949987411499, -5.669600009918213, -5.669600009918213, -5.286399841308594, -5.286399841308594, -5.286600112915039, -5.286399841308594, -4.230999946594238, -6.2982001304626465, -6.2982001304626465, -6.2982001304626465, -6.2982001304626465, -6.2982001304626465, -6.2982001304626465, -6.2982001304626465, -6.2982001304626465, -6.2982001304626465, -6.2982001304626465, -6.2982001304626465, -6.2982001304626465, -6.2982001304626465, -6.2982001304626465, -5.286499977111816, -5.286399841308594, -5.669300079345703, -5.66949987411499, -5.66949987411499, -5.66949987411499, -5.669400215148926, -5.66949987411499, -5.669400215148926, -5.028299808502197, -5.010000228881836, -4.616099834442139, -4.499800205230713, -5.286300182342529, -3.8554999828338623, -4.616199970245361, -4.9745001792907715, -4.793799877166748, -5.010200023651123, -5.286499977111816, -4.8119001388549805, -5.286200046539307, -5.0100998878479, -5.010200023651123, -5.285999774932861, -5.329400062561035, -5.0100998878479, -5.286399841308594, -5.010200023651123, -5.2093000411987305, -5.286300182342529, -4.883900165557861, -4.885200023651123, -5.160200119018555, -5.5432000160217285, -5.5432000160217285, -5.5432000160217285, -5.5432000160217285, -5.5432000160217285, -5.5432000160217285, -5.5432000160217285, -5.5432000160217285, -5.5432000160217285, -5.5432000160217285, -5.5432000160217285, -5.5432000160217285, -5.5432000160217285, -5.5432000160217285, -5.5432000160217285, -5.5432000160217285, -5.5432000160217285, -5.5432000160217285, -5.160099983215332, -5.160200119018555, -5.160099983215332, -6.171800136566162, -6.171800136566162, -6.171800136566162, -6.171800136566162, -6.171800136566162, -6.171800136566162, -6.171800136566162, -5.543099880218506, -5.5432000160217285, -5.543600082397461, -4.912700176239014, -4.207799911499023, -5.160099983215332, -5.159999847412109, -4.338900089263916, -5.159800052642822, -4.682400226593018, -4.883500099182129, -5.160099983215332, -4.667600154876709, -5.159900188446045, -5.160099983215332, -5.080900192260742, -4.883800029754639, -5.211100101470947, -5.160299777984619, -5.124800205230713, -5.435699939727783, -5.472899913787842, -5.4583001136779785, -5.542699813842773, -5.542799949645996, -5.543000221252441, -5.543000221252441, -4.879000186920166, -5.155200004577637, -5.155200004577637, -5.155200004577637, -5.5381999015808105, -5.5381999015808105, -5.5381999015808105, -5.5381999015808105, -5.5381999015808105, -5.5381999015808105, -5.5381999015808105, -5.5381999015808105, -5.538300037384033, -5.538400173187256, -5.538400173187256, -4.878900051116943, -4.334400177001953, -5.155099868774414, -6.166900157928467, -6.166900157928467, -6.166900157928467, -6.166900157928467, -6.166900157928467, -6.166900157928467, -6.166900157928467, -6.166900157928467, -6.166900157928467, -6.166900157928467, -6.166900157928467, -6.166900157928467, -5.155099868774414, -5.538099765777588, -5.155200004577637, -5.538099765777588, -5.5381999015808105, -4.5096001625061035, -3.6740000247955322, -4.662499904632568, -4.878799915313721, -4.666800022125244, -4.484899997711182, -5.15500020980835, -4.355599880218506, -4.895199775695801, -4.202899932861328, -4.484899997711182, -5.155300140380859, -5.155099868774414, -5.224100112915039, -5.155200004577637, -4.834499835968018, -5.200200080871582, -5.281000137329102, -5.155300140380859, -5.155200004577637, -5.155600070953369, -5.04580020904541, -5.428899765014648, -5.428899765014648, -5.428899765014648, -5.428899765014648, -5.428800106048584, -5.428899765014648, -5.428899765014648, -5.428899765014648, -5.428899765014648, -4.553199768066406, -5.045400142669678, -6.057499885559082, -6.057499885559082, -6.057499885559082, -6.057499885559082, -6.057499885559082, -6.057499885559082, -6.057499885559082, -6.057499885559082, -6.057499885559082, -6.057499885559082, -6.057499885559082, -6.057499885559082, -6.057499885559082, -6.057499885559082, -6.057499885559082, -6.057499885559082, -6.057499885559082, -6.057499885559082, -6.057499885559082, -6.057499885559082, -6.057499885559082, -6.057499885559082, -6.057499885559082, -5.04580020904541, -6.057499885559082, -6.057499885559082, -6.057499885559082, -6.057499885559082, -4.553299903869629, -4.769400119781494, -5.428800106048584, -4.769400119781494, -4.629499912261963, -5.046500205993652, -4.37529993057251, -5.04580020904541, -5.428699970245361, -4.769400119781494, -4.7692999839782715, -4.553299903869629, -4.769499778747559, -5.045499801635742, -4.485799789428711, -5.428800106048584, -5.428599834442139, -5.045599937438965, -5.002399921417236, -4.679699897766113, -4.7692999839782715, -5.04580020904541, -5.045899868011475, -5.046199798583984, -5.045599937438965, -5.045899868011475, -5.046000003814697, -5.046199798583984, -5.364099979400635, -5.428199768066406]}, \"token.table\": {\"Topic\": [1, 2, 5, 2, 6, 4, 7, 7, 2, 2, 4, 6, 1, 4, 5, 7, 6, 1, 2, 3, 4, 5, 6, 1, 2, 3, 4, 5, 6, 7, 1, 2, 3, 5, 6, 6, 6, 1, 3, 6, 1, 2, 2, 6, 7, 4, 3, 5, 7, 7, 1, 4, 5, 2, 3, 5, 1, 6, 1, 6, 3, 3, 1, 1, 2, 3, 6, 3, 4, 1, 1, 3, 4, 7, 1, 4, 7, 3, 4, 5, 1, 2, 5, 7, 1, 6, 3, 1, 1, 3, 4, 6, 1, 2, 3, 6, 7, 1, 2, 4, 5, 6, 7, 4, 2, 3, 6, 3, 4, 4, 5, 5, 6, 4, 1, 3, 4, 7, 1, 6, 2, 6, 7, 4, 1, 2, 3, 5, 7, 4, 5, 6, 4, 4, 1, 2, 4, 6, 6, 5, 4, 3, 4, 2, 6, 2, 1, 2, 3, 4, 1, 7, 4, 1, 6, 7, 3, 5, 7, 7, 5, 1, 3, 5, 7, 5, 5, 2, 1, 1, 2, 4, 6, 2, 5, 1, 2, 3, 7, 3, 6, 3, 7, 4, 4, 2, 1, 1, 2, 3, 5, 7, 1, 3, 5, 7, 1, 2, 4, 6, 7, 1, 5, 6, 1, 1, 2, 3, 5, 1, 3, 3, 5, 7, 6, 1, 2, 4, 5, 6, 7, 1, 2, 4, 1, 2, 3, 4, 6, 7, 1, 4, 6, 6, 1, 4, 7, 2, 1, 2, 5, 4, 6, 6, 1, 2, 6, 6, 1, 7, 1, 7, 2, 1, 2, 4, 5, 6, 7, 7, 2, 3, 4, 6, 7, 7, 1, 2, 3, 1, 1, 2, 3, 4, 1, 2, 3, 4, 7, 3, 5, 7, 5, 4, 2, 1, 2, 3, 5, 7, 3, 4, 5, 1, 2, 3, 4, 5, 1, 5, 1, 1, 4, 5, 6, 7, 7, 6, 3, 1, 2, 4, 6, 7, 2, 2, 1, 2, 3, 4, 5, 1, 1, 1, 2, 3, 4, 5, 7, 4, 1, 2, 4, 5, 7, 1, 2, 4, 4, 7, 3, 4, 5, 4, 5, 1, 7, 2, 5, 6, 2, 4, 7, 1, 4, 5, 7, 1, 3, 5, 6, 4, 1, 6, 7, 5, 2, 3, 5, 7, 1, 2, 3, 4, 6, 7, 3, 5, 7, 4, 2, 2, 5, 2, 3, 3, 3, 2, 4, 2, 3, 4, 5, 3, 6, 7, 1, 2, 6, 1, 3, 7, 1, 1, 2, 4, 7, 2, 5, 7, 4, 1, 2, 3, 5, 6, 7, 6, 2, 3, 4, 5, 7, 1, 3, 5, 7, 1, 5, 6, 5, 6, 7, 1, 2, 4, 5, 3, 5, 1, 3, 5, 7, 5, 6, 4, 1, 2, 3, 4, 5, 7, 4, 1, 2, 3, 4, 4, 5, 7, 5, 6, 7, 2, 1, 3, 6, 7, 3, 1, 2, 6, 7, 1, 2, 3, 5, 7, 1, 2, 3, 5, 5, 7, 1, 2, 3, 4, 5, 6, 7, 4, 5, 2, 5, 6, 7, 1, 4, 3, 1, 2, 5, 6, 7, 7, 6, 2, 3, 4, 6, 7, 4, 3, 3, 7, 7, 4, 7, 7, 1, 1, 2, 3, 4, 5, 7, 1, 2, 4, 6, 5, 1, 3, 1, 4, 5, 2, 4, 4, 5, 7, 1, 6, 2, 4, 5, 7, 1, 2, 1, 2, 3, 5, 7, 7, 5, 2, 7, 3, 4, 5, 2, 7, 1, 4, 6, 2, 3, 1, 2, 3, 4, 5, 6, 7, 1, 2, 4, 5, 1, 2, 4, 7, 3, 1, 3, 4, 5, 6, 7, 1, 2, 3, 4, 5, 6, 7, 2, 2, 3, 4, 7, 1, 2, 3, 4, 5, 6, 7, 5, 1, 6, 1, 3, 4, 5, 7, 2, 1, 2, 3, 4, 5, 6, 7, 2, 3, 4, 5, 6, 7, 1, 2, 3, 4, 5, 6, 7, 7, 3, 7, 3, 6, 6, 4, 5, 7, 2, 3, 5, 7, 1, 2, 3, 5, 6, 7, 5, 7, 5, 7, 1, 4, 5, 5, 7, 6, 1, 2, 3, 4, 6, 4, 3, 5, 6, 6, 1, 2, 4, 5, 7, 5, 1, 2, 4, 5, 6, 7, 6, 5, 6, 4, 5, 4, 1, 7, 3, 4, 7, 2, 3, 4, 6, 4, 5, 7, 1, 4, 2, 5, 1, 2, 3, 6, 4, 5, 2, 1, 2, 3, 4, 6, 7, 6, 1, 5, 5, 6, 2, 3, 1, 5, 5, 6, 7], \"Freq\": [0.4724051058292389, 0.23620255291461945, 0.23620255291461945, 0.587204098701477, 0.19573469460010529, 0.6880940794944763, 0.48714783787727356, 0.7192459106445312, 0.8990222811698914, 0.8990233540534973, 0.6880940794944763, 0.7033619284629822, 0.23240381479263306, 0.23240381479263306, 0.23240381479263306, 0.23240381479263306, 0.856354296207428, 0.1364736407995224, 0.1364736407995224, 0.1364736407995224, 0.2729472815990448, 0.1364736407995224, 0.1364736407995224, 0.29881420731544495, 0.08964426070451736, 0.17928852140903473, 0.05976284295320511, 0.14940710365772247, 0.17928852140903473, 0.05976284295320511, 0.4783746302127838, 0.11959365755319595, 0.11959365755319595, 0.11959365755319595, 0.2391873151063919, 0.472684770822525, 0.7033619284629822, 0.4014723002910614, 0.26764819025993347, 0.4014723002910614, 0.8380513191223145, 0.8990230560302734, 0.8990249633789062, 0.7033619284629822, 0.7192456126213074, 0.9179854393005371, 0.90517657995224, 0.4718071222305298, 0.7192466259002686, 0.48714813590049744, 0.26786738634109497, 0.5357347726821899, 0.4718067944049835, 0.3917574882507324, 0.1958787441253662, 0.1958787441253662, 0.9328873753547668, 0.7033617496490479, 0.6330556273460388, 0.21101853251457214, 0.6778949499130249, 0.9051749110221863, 0.9328869581222534, 0.4058907628059387, 0.08117815107107162, 0.4058907628059387, 0.08117815107107162, 0.3425363302230835, 0.685072660446167, 0.9328868389129639, 0.9328886866569519, 0.6792815923690796, 0.22642719745635986, 0.7192456722259521, 0.9330416321754456, 0.6880940794944763, 0.7192459106445312, 0.6778908967971802, 0.46559321880340576, 0.23279660940170288, 0.4985102117061615, 0.16617006063461304, 0.16617006063461304, 0.16617006063461304, 0.33959251642227173, 0.33959251642227173, 0.6778914332389832, 0.8380514979362488, 0.45386698842048645, 0.25935256481170654, 0.1945144236087799, 0.06483814120292664, 0.25175291299819946, 0.12587645649909973, 0.12587645649909973, 0.12587645649909973, 0.3776293396949768, 0.10842084884643555, 0.10842084884643555, 0.2168416976928711, 0.10842084884643555, 0.32526254653930664, 0.2168416976928711, 0.6880940794944763, 0.677388608455658, 0.905177652835846, 0.47268417477607727, 0.2743667960166931, 0.5487335920333862, 0.6957947611808777, 0.34789738059043884, 0.3554588556289673, 0.3554588556289673, 0.6880935430526733, 0.5992752909660339, 0.0856107547879219, 0.1712215095758438, 0.1712215095758438, 0.23082292079925537, 0.6924687623977661, 0.25827524065971375, 0.6456880569458008, 0.12913762032985687, 0.6880940794944763, 0.5505489110946655, 0.18351630866527557, 0.09175815433263779, 0.09175815433263779, 0.09175815433263779, 0.9179845452308655, 0.4718071222305298, 0.7033617496490479, 0.6880940794944763, 0.9179840683937073, 0.6986106038093567, 0.13972212374210358, 0.13972212374210358, 0.06986106187105179, 0.7033619284629822, 0.47180670499801636, 0.688688337802887, 0.5441250801086426, 0.2720625400543213, 0.4644632339477539, 0.4644632339477539, 0.677388608455658, 0.13391363620758057, 0.26782727241516113, 0.4017409086227417, 0.26782727241516113, 0.7416271567344666, 0.7192456722259521, 0.6880939602851868, 0.6090611815452576, 0.34803494811058044, 0.08700873702764511, 0.6844562888145447, 0.13689126074314117, 0.7192456126213074, 0.48714643716812134, 0.47180670499801636, 0.406495600938797, 0.2709970772266388, 0.1354985386133194, 0.2709970772266388, 0.4718075394630432, 0.7023900151252747, 0.8990230560302734, 0.8380510807037354, 0.09054481983184814, 0.1810896396636963, 0.633813738822937, 0.09054481983184814, 0.2806176543235779, 0.5612353086471558, 0.12235517054796219, 0.12235517054796219, 0.6117758750915527, 0.12235517054796219, 0.7567393183708191, 0.15134786069393158, 0.2893708348274231, 0.5787416696548462, 0.6880939602851868, 0.688687801361084, 0.8990222811698914, 0.7416272163391113, 0.10424366593360901, 0.5212183594703674, 0.10424366593360901, 0.10424366593360901, 0.10424366593360901, 0.7038402557373047, 0.06398547440767288, 0.06398547440767288, 0.12797094881534576, 0.15237048268318176, 0.15237048268318176, 0.4571114480495453, 0.15237048268318176, 0.15237048268318176, 0.7416278719902039, 0.3554614782333374, 0.3554614782333374, 0.8380506634712219, 0.6842115521430969, 0.05701763182878494, 0.17105288803577423, 0.05701763182878494, 0.9328903555870056, 0.6778911352157593, 0.6778916120529175, 0.7023900151252747, 0.7192456126213074, 0.47268638014793396, 0.4864562153816223, 0.18242108821868896, 0.20269009470939636, 0.04053801670670509, 0.06080702692270279, 0.04053801670670509, 0.33124101161956787, 0.16562050580978394, 0.4968615472316742, 0.5025924444198608, 0.21539676189422607, 0.07179892063140869, 0.14359784126281738, 0.07179892063140869, 0.07179892063140869, 0.3379206359386444, 0.3379206359386444, 0.3379206359386444, 0.47268518805503845, 0.7777143120765686, 0.15554285049438477, 0.7192466259002686, 0.8990249633789062, 0.8206108212471008, 0.34870991110801697, 0.34870991110801697, 0.5558899641036987, 0.27794498205184937, 0.47268423438072205, 0.6332615613937378, 0.15831539034843445, 0.15831539034843445, 0.47268638014793396, 0.7416505217552185, 0.7192456126213074, 0.4973316192626953, 0.3315544128417969, 0.672719419002533, 0.11513447016477585, 0.34540340304374695, 0.11513447016477585, 0.11513447016477585, 0.11513447016477585, 0.11513447016477585, 0.48714694380760193, 0.3347427248954773, 0.1434611678123474, 0.19128155708312988, 0.23910193145275116, 0.09564077854156494, 0.48714688420295715, 0.1889931559562683, 0.5669794678688049, 0.1889931559562683, 0.9328869581222534, 0.5856760740280151, 0.09761267900466919, 0.29283803701400757, 0.9179850816726685, 0.06302254647016525, 0.252090185880661, 0.06302254647016525, 0.31511273980140686, 0.252090185880661, 0.9051756858825684, 0.7023900151252747, 0.7192466259002686, 0.7023900151252747, 0.9179847240447998, 0.8990241289138794, 0.5029667615890503, 0.20956948399543762, 0.12574169039726257, 0.041913896799087524, 0.12574169039726257, 0.23038765788078308, 0.46077531576156616, 0.23038765788078308, 0.43363499641418457, 0.06194785609841347, 0.12389571219682693, 0.24779142439365387, 0.12389571219682693, 0.8380510807037354, 0.7023900151252747, 0.8380519151687622, 0.2638193666934967, 0.06595484167337418, 0.13190968334674835, 0.2638193666934967, 0.19786453247070312, 0.7192466259002686, 0.4726843535900116, 0.9051738381385803, 0.2678608298301697, 0.2678608298301697, 0.13393041491508484, 0.2678608298301697, 0.7192459106445312, 0.8990222811698914, 0.8990234732627869, 0.5782526135444641, 0.18260608613491058, 0.06086869537830353, 0.09130304306745529, 0.12173739075660706, 0.9184019565582275, 0.9328864216804504, 0.1798209249973297, 0.2697313725948334, 0.2697313725948334, 0.08991046249866486, 0.08991046249866486, 0.08991046249866486, 0.9185175895690918, 0.418293833732605, 0.29878130555152893, 0.11951252818107605, 0.059756264090538025, 0.11951252818107605, 0.373354971408844, 0.373354971408844, 0.186677485704422, 0.9179858565330505, 0.7192466259002686, 0.2743656635284424, 0.5487313270568848, 0.47180670499801636, 0.6957968473434448, 0.3478984236717224, 0.7224453687667847, 0.18061134219169617, 0.4584529399871826, 0.2292264699935913, 0.2292264699935913, 0.25854095816612244, 0.25854095816612244, 0.38781142234802246, 0.3871738314628601, 0.19358691573143005, 0.19358691573143005, 0.19358691573143005, 0.2639808654785156, 0.5279617309570312, 0.4718071222305298, 0.4726848602294922, 0.9179843664169312, 0.44190359115600586, 0.2946023941040039, 0.14730119705200195, 0.4718065857887268, 0.25054827332496643, 0.5010965466499329, 0.12527413666248322, 0.12527413666248322, 0.09908109158277512, 0.19816218316555023, 0.19816218316555023, 0.09908109158277512, 0.19816218316555023, 0.19816218316555023, 0.28660035133361816, 0.28660035133361816, 0.28660035133361816, 0.6880939602851868, 0.899024486541748, 0.545146644115448, 0.272573322057724, 0.5385450124740601, 0.26927250623703003, 0.9051750302314758, 0.8127588629722595, 0.34165287017822266, 0.6833057403564453, 0.19651056826114655, 0.19651056826114655, 0.3930211365222931, 0.19651056826114655, 0.5943901538848877, 0.1981300562620163, 0.1981300562620163, 0.5493665337562561, 0.3662443459033966, 0.7033618092536926, 0.2961755692958832, 0.5923511385917664, 0.1480877846479416, 0.838051438331604, 0.2683902382850647, 0.40258535742759705, 0.13419511914253235, 0.13419511914253235, 0.20597736537456512, 0.20597736537456512, 0.41195473074913025, 0.6880940794944763, 0.1259836107492447, 0.1259836107492447, 0.2519672214984894, 0.1259836107492447, 0.1259836107492447, 0.1259836107492447, 0.47268423438072205, 0.8990222811698914, 0.3425382375717163, 0.6850764751434326, 0.8544419407844543, 0.4871467649936676, 0.1946457326412201, 0.3892914652824402, 0.1946457326412201, 0.1946457326412201, 0.5745679140090942, 0.2872839570045471, 0.7033619284629822, 0.4718066453933716, 0.7033619284629822, 0.7192466259002686, 0.15223829448223114, 0.15223829448223114, 0.3044765889644623, 0.3044765889644623, 0.8127589225769043, 0.47180670499801636, 0.5883504152297974, 0.11767008155584335, 0.11767008155584335, 0.11767008155584335, 0.47180670499801636, 0.4726843535900116, 0.6880940794944763, 0.37373480200767517, 0.10678137093782425, 0.053390685468912125, 0.16017206013202667, 0.32034412026405334, 0.053390685468912125, 0.9179839491844177, 0.5384215116500854, 0.20190806686878204, 0.13460537791252136, 0.13460537791252136, 0.16154664754867554, 0.3230932950973511, 0.4846399426460266, 0.32146576046943665, 0.32146576046943665, 0.16073288023471832, 0.8990238308906555, 0.2950158417224884, 0.19667723774909973, 0.19667723774909973, 0.2950158417224884, 0.9051738381385803, 0.1935986876487732, 0.3871973752975464, 0.1935986876487732, 0.1935986876487732, 0.4349577724933624, 0.28997185826301575, 0.14498592913150787, 0.14498592913150787, 0.7192466259002686, 0.30487850308418274, 0.30487850308418274, 0.20325234532356262, 0.10162617266178131, 0.4718065857887268, 0.48714712262153625, 0.3958158791065216, 0.1319386214017868, 0.1979079395532608, 0.1319386214017868, 0.0659693107008934, 0.1319386214017868, 0.0659693107008934, 0.6957961320877075, 0.34789806604385376, 0.2027929276227951, 0.2027929276227951, 0.4055858552455902, 0.10139646381139755, 0.838050901889801, 0.6880936026573181, 0.9051947593688965, 0.3455604910850525, 0.3455604910850525, 0.057593416422605515, 0.11518683284521103, 0.057593416422605515, 0.7365972995758057, 0.7118950486183167, 0.1559201180934906, 0.1559201180934906, 0.3118402361869812, 0.1559201180934906, 0.1559201180934906, 0.9179933667182922, 0.9051759839057922, 0.9052161574363708, 0.7192466259002686, 0.7192456722259521, 0.9179909825325012, 0.7192466259002686, 0.7192460298538208, 0.8380516767501831, 0.13756431639194489, 0.27512863278388977, 0.13756431639194489, 0.13756431639194489, 0.27512863278388977, 0.13756431639194489, 0.6326870918273926, 0.12653741240501404, 0.2530748248100281, 0.7033619284629822, 0.4718065857887268, 0.8380514979362488, 0.6808727979660034, 0.8322238326072693, 0.10402797907590866, 0.10402797907590866, 0.674723744392395, 0.22490790486335754, 0.4762834906578064, 0.2381417453289032, 0.2381417453289032, 0.6330631971359253, 0.2110210657119751, 0.899024486541748, 0.24176786839962006, 0.24176786839962006, 0.4835357367992401, 0.8380516767501831, 0.899022102355957, 0.3527630865573883, 0.17638154327869415, 0.2645723223686218, 0.08819077163934708, 0.08819077163934708, 0.48714688420295715, 0.8544333577156067, 0.6727237701416016, 0.4871465563774109, 0.6108019351959229, 0.1527004837989807, 0.1527004837989807, 0.5501489043235779, 0.27507445216178894, 0.2916950285434723, 0.2916950285434723, 0.3889267146587372, 0.22525615990161896, 0.6757684946060181, 0.2690773904323578, 0.06726934760808945, 0.1345386952161789, 0.20180803537368774, 0.20180803537368774, 0.06726934760808945, 0.06726934760808945, 0.44077008962631226, 0.14692336320877075, 0.2938467264175415, 0.14692336320877075, 0.26469287276268005, 0.3970393240451813, 0.26469287276268005, 0.7192466259002686, 0.9051753282546997, 0.6595417857170105, 0.08244272321462631, 0.041221361607313156, 0.08244272321462631, 0.041221361607313156, 0.08244272321462631, 0.10670105367898941, 0.21340210735797882, 0.10670105367898941, 0.10670105367898941, 0.10670105367898941, 0.10670105367898941, 0.10670105367898941, 0.8990234732627869, 0.19988876581192017, 0.19988876581192017, 0.29983314871788025, 0.29983314871788025, 0.5654070973396301, 0.1785496026277542, 0.059516534209251404, 0.059516534209251404, 0.0892748013138771, 0.029758267104625702, 0.029758267104625702, 0.4718077480792999, 0.33959558606147766, 0.33959558606147766, 0.5386887788772583, 0.07695553451776505, 0.1539110690355301, 0.1539110690355301, 0.07695553451776505, 0.672723114490509, 0.28166481852531433, 0.046944137662649155, 0.09388827532529831, 0.09388827532529831, 0.18777655065059662, 0.09388827532529831, 0.18777655065059662, 0.17492057383060455, 0.4373014271259308, 0.08746028691530228, 0.08746028691530228, 0.08746028691530228, 0.2623808681964874, 0.9328891038894653, 0.1970837414264679, 0.3941674828529358, 0.09854187071323395, 0.09854187071323395, 0.09854187071323395, 0.09854187071323395, 0.7192466259002686, 0.9051746129989624, 0.7192456722259521, 0.2816821336746216, 0.5633642673492432, 0.7033619284629822, 0.9179847240447998, 0.7023900151252747, 0.7192456722259521, 0.13985666632652283, 0.27971333265304565, 0.4195699691772461, 0.13985666632652283, 0.7090438008308411, 0.061655979603528976, 0.1541399508714676, 0.030827989801764488, 0.030827989801764488, 0.061655979603528976, 0.47180718183517456, 0.7192466259002686, 0.7023900151252747, 0.7192456722259521, 0.4377398192882538, 0.2188699096441269, 0.2188699096441269, 0.5750980377197266, 0.2875490188598633, 0.7118949294090271, 0.49184128642082214, 0.06148016080260277, 0.12296032160520554, 0.24592064321041107, 0.06148016080260277, 0.6880940794944763, 0.6137576699256897, 0.15343941748142242, 0.15343941748142242, 0.7033616900444031, 0.3151780664920807, 0.07879451662302017, 0.3151780664920807, 0.07879451662302017, 0.07879451662302017, 0.4718070328235626, 0.19470421969890594, 0.2920563519001007, 0.19470421969890594, 0.09735210984945297, 0.09735210984945297, 0.09735210984945297, 0.7118955850601196, 0.35570797324180603, 0.35570797324180603, 0.6886878609657288, 0.47180697321891785, 0.6886880397796631, 0.3469943702220917, 0.3469943702220917, 0.18162107467651367, 0.18162107467651367, 0.544863224029541, 0.19540221989154816, 0.3908044397830963, 0.19540221989154816, 0.19540221989154816, 0.3215552866458893, 0.16077764332294464, 0.48233291506767273, 0.5563904047012329, 0.37092694640159607, 0.8990233540534973, 0.7104029059410095, 0.1060270369052887, 0.6008198857307434, 0.14136938750743866, 0.14136938750743866, 0.6957955956459045, 0.34789779782295227, 0.8990236520767212, 0.22125884890556335, 0.22125884890556335, 0.1580420285463333, 0.03160840645432472, 0.3160840570926666, 0.09482521563768387, 0.4726865291595459, 0.6383734941482544, 0.1595933735370636, 0.23804321885108948, 0.47608643770217896, 0.8990236520767212, 0.6778911352157593, 0.7683031558990479, 0.09603789448738098, 0.569953441619873, 0.2849767208099365, 0.7192456722259521], \"Term\": [\"able\", \"able\", \"able\", \"access\", \"access\", \"advice\", \"aircrack\", \"allway\", \"amavi\", \"amazing\", \"analyze\", \"android\", \"answer\", \"answer\", \"answer\", \"answer\", \"antivirus\", \"anybody\", \"anybody\", \"anybody\", \"anybody\", \"anybody\", \"anybody\", \"anyone\", \"anyone\", \"anyone\", \"anyone\", \"anyone\", \"anyone\", \"anyone\", \"anything\", \"anything\", \"anything\", \"anything\", \"anything\", \"aoss\", \"apology\", \"application\", \"application\", \"application\", \"applied\", \"arch\", \"article\", \"askubuntu\", \"aspect\", \"athlon\", \"audacious\", \"autologin\", \"awhile\", \"backtrack\", \"backup\", \"backup\", \"beep\", \"beryl\", \"beryl\", \"beryl\", \"beta\", \"bfxs\", \"binary\", \"binary\", \"bio\", \"bios\", \"black\", \"boot\", \"boot\", \"boot\", \"boot\", \"breezy\", \"breezy\", \"bridge\", \"broken\", \"browser\", \"browser\", \"bummer\", \"burner\", \"burninghand\", \"bussine\", \"cairo\", \"call\", \"call\", \"card\", \"card\", \"card\", \"card\", \"care\", \"care\", \"cdrdao\", \"certain\", \"change\", \"change\", \"change\", \"change\", \"channel\", \"channel\", \"channel\", \"channel\", \"channel\", \"check\", \"check\", \"check\", \"check\", \"check\", \"check\", \"choice\", \"choosen\", \"chrome\", \"chuck\", \"clean\", \"clean\", \"click\", \"click\", \"code\", \"code\", \"codec\", \"command\", \"command\", \"command\", \"command\", \"compile\", \"compile\", \"compiz\", \"compiz\", \"compiz\", \"complete\", \"conf\", \"conf\", \"conf\", \"conf\", \"conf\", \"configuration\", \"conflict\", \"conky\", \"content\", \"conversation\", \"copy\", \"copy\", \"copy\", \"copy\", \"cream\", \"credit\", \"cron\", \"date\", \"date\", \"debian\", \"debian\", \"debs\", \"default\", \"default\", \"default\", \"default\", \"demo\", \"dependency\", \"description\", \"desktop\", \"desktop\", \"desktop\", \"device\", \"device\", \"dialgoue\", \"dialogue\", \"diamondcard\", \"different\", \"different\", \"different\", \"different\", \"difficult\", \"digg\", \"dilema\", \"dir\", \"directory\", \"directory\", \"directory\", \"directory\", \"disable\", \"disable\", \"disk\", \"disk\", \"disk\", \"disk\", \"display\", \"display\", \"distro\", \"distro\", \"docs\", \"documentation\", \"domain\", \"dpkg\", \"drive\", \"drive\", \"drive\", \"drive\", \"drive\", \"driver\", \"driver\", \"driver\", \"driver\", \"edit\", \"edit\", \"edit\", \"edit\", \"edit\", \"egrep\", \"english\", \"english\", \"envy\", \"error\", \"error\", \"error\", \"error\", \"everyone\", \"extension\", \"external\", \"familar\", \"familiar\", \"fglrx\", \"file\", \"file\", \"file\", \"file\", \"file\", \"file\", \"filesystem\", \"filesystem\", \"filesystem\", \"fine\", \"fine\", \"fine\", \"fine\", \"fine\", \"fine\", \"first\", \"first\", \"first\", \"flag\", \"folder\", \"folder\", \"follow\", \"francais\", \"fresh\", \"fusion\", \"fusion\", \"gaim\", \"gaim\", \"galaxy\", \"game\", \"game\", \"game\", \"gconf\", \"general\", \"give\", \"gksudo\", \"gksudo\", \"glxgear\", \"gnome\", \"gnome\", \"gnome\", \"gnome\", \"gnome\", \"gnome\", \"gnomebaker\", \"good\", \"good\", \"good\", \"good\", \"good\", \"grammar\", \"great\", \"great\", \"great\", \"group\", \"grub\", \"grub\", \"grub\", \"gstreamer\", \"guy\", \"guy\", \"guy\", \"guy\", \"guy\", \"gvfs\", \"harddrive\", \"haven\", \"hdparm\", \"headless\", \"hehe\", \"help\", \"help\", \"help\", \"help\", \"help\", \"hoary\", \"hoary\", \"hoary\", \"home\", \"home\", \"home\", \"home\", \"home\", \"host\", \"hparm\", \"html\", \"http\", \"http\", \"http\", \"http\", \"http\", \"impossible\", \"incoming\", \"increase\", \"info\", \"info\", \"info\", \"info\", \"informative\", \"insecure\", \"insert\", \"install\", \"install\", \"install\", \"install\", \"install\", \"installation\", \"instance\", \"issue\", \"issue\", \"issue\", \"issue\", \"issue\", \"issue\", \"josh\", \"kernel\", \"kernel\", \"kernel\", \"kernel\", \"kernel\", \"keyboard\", \"keyboard\", \"keyboard\", \"keystroke\", \"knopw\", \"kubuntu\", \"kubuntu\", \"kurre\", \"language\", \"language\", \"laptop\", \"laptop\", \"library\", \"library\", \"library\", \"line\", \"line\", \"line\", \"linux\", \"linux\", \"linux\", \"linux\", \"livecd\", \"livecd\", \"login\", \"lunch\", \"lzdz\", \"machine\", \"machine\", \"machine\", \"management\", \"manager\", \"manager\", \"manager\", \"manager\", \"many\", \"many\", \"many\", \"many\", \"many\", \"many\", \"menu\", \"menu\", \"menu\", \"merge\", \"minecraft\", \"mirror\", \"mirror\", \"mode\", \"mode\", \"modem\", \"motion\", \"mozilla\", \"mozilla\", \"mplayer\", \"mplayer\", \"mplayer\", \"mplayer\", \"much\", \"much\", \"much\", \"music\", \"music\", \"naaa\", \"name\", \"name\", \"name\", \"nano\", \"nautilus\", \"nautilus\", \"nautilus\", \"nautilus\", \"need\", \"need\", \"need\", \"nerd\", \"network\", \"network\", \"network\", \"network\", \"network\", \"network\", \"nexus\", \"nohz\", \"none\", \"none\", \"normal\", \"note\", \"nothing\", \"nothing\", \"nothing\", \"nothing\", \"nvidia\", \"nvidia\", \"obvious\", \"offical\", \"omgubuntu\", \"onboard\", \"open\", \"open\", \"open\", \"open\", \"opengl\", \"operation\", \"option\", \"option\", \"option\", \"option\", \"order\", \"outgoing\", \"ownership\", \"package\", \"package\", \"package\", \"package\", \"package\", \"package\", \"panel\", \"partition\", \"partition\", \"partition\", \"partition\", \"password\", \"password\", \"password\", \"paste\", \"paste\", \"paste\", \"pentium\", \"people\", \"people\", \"people\", \"people\", \"performance\", \"place\", \"place\", \"place\", \"place\", \"player\", \"player\", \"player\", \"player\", \"poor\", \"possible\", \"possible\", \"possible\", \"possible\", \"power\", \"printer\", \"problem\", \"problem\", \"problem\", \"problem\", \"problem\", \"problem\", \"problem\", \"process\", \"process\", \"program\", \"program\", \"program\", \"program\", \"prompt\", \"property\", \"proxy\", \"question\", \"question\", \"question\", \"question\", \"question\", \"reachable\", \"realtime\", \"reason\", \"reason\", \"reason\", \"reason\", \"reason\", \"recent\", \"recive\", \"recommend\", \"refresh\", \"relie\", \"rescue\", \"resoltion\", \"response\", \"rest\", \"right\", \"right\", \"right\", \"right\", \"right\", \"right\", \"root\", \"root\", \"root\", \"sandwich\", \"sata\", \"save\", \"scii\", \"screen\", \"screen\", \"screen\", \"script\", \"script\", \"search\", \"search\", \"search\", \"second\", \"second\", \"secure\", \"select\", \"select\", \"select\", \"selection\", \"seller\", \"server\", \"server\", \"server\", \"server\", \"server\", \"setup\", \"shad\", \"shell\", \"side\", \"simple\", \"simple\", \"simple\", \"slow\", \"slow\", \"software\", \"software\", \"software\", \"somebody\", \"somebody\", \"something\", \"something\", \"something\", \"something\", \"something\", \"something\", \"something\", \"sound\", \"sound\", \"sound\", \"sound\", \"source\", \"source\", \"source\", \"sparrow\", \"static\", \"sudo\", \"sudo\", \"sudo\", \"sudo\", \"sudo\", \"sudo\", \"sure\", \"sure\", \"sure\", \"sure\", \"sure\", \"sure\", \"sure\", \"symbol\", \"synaptic\", \"synaptic\", \"synaptic\", \"synaptic\", \"system\", \"system\", \"system\", \"system\", \"system\", \"system\", \"system\", \"tackle\", \"teamspeak\", \"teamspeak\", \"terminal\", \"terminal\", \"terminal\", \"terminal\", \"terminal\", \"test\", \"thank\", \"thank\", \"thank\", \"thank\", \"thank\", \"thank\", \"thank\", \"thing\", \"thing\", \"thing\", \"thing\", \"thing\", \"thing\", \"thumb\", \"time\", \"time\", \"time\", \"time\", \"time\", \"time\", \"tonight\", \"topic\", \"trackpad\", \"traffic\", \"traffic\", \"transfer\", \"transmission\", \"trashing\", \"true\", \"type\", \"type\", \"type\", \"type\", \"ubuntu\", \"ubuntu\", \"ubuntu\", \"ubuntu\", \"ubuntu\", \"ubuntu\", \"ubuntulinux\", \"underwear\", \"unique\", \"unity\", \"update\", \"update\", \"update\", \"upgrade\", \"upgrade\", \"usage\", \"user\", \"user\", \"user\", \"user\", \"user\", \"usermod\", \"username\", \"username\", \"username\", \"utility\", \"version\", \"version\", \"version\", \"version\", \"version\", \"vfat\", \"video\", \"video\", \"video\", \"video\", \"video\", \"video\", \"virtual\", \"virus\", \"virus\", \"visual\", \"volume\", \"warty\", \"way\", \"way\", \"website\", \"website\", \"website\", \"weird\", \"weird\", \"weird\", \"weird\", \"well\", \"well\", \"well\", \"wget\", \"wget\", \"whois\", \"wiki\", \"window\", \"window\", \"window\", \"window\", \"wireless\", \"wireless\", \"wonder\", \"work\", \"work\", \"work\", \"work\", \"work\", \"work\", \"workin\", \"wrong\", \"wrong\", \"wubi\", \"wubi\", \"xfce\", \"xlib\", \"xorg\", \"xorg\", \"youtube\", \"youtube\", \"zoom\"]}, \"R\": 30, \"lambda.step\": 0.01, \"plot.opts\": {\"xlab\": \"PC1\", \"ylab\": \"PC2\"}, \"topic.order\": [5, 1, 6, 4, 7, 2, 3]};\n",
       "\n",
       "function LDAvis_load_lib(url, callback){\n",
       "  var s = document.createElement('script');\n",
       "  s.src = url;\n",
       "  s.async = true;\n",
       "  s.onreadystatechange = s.onload = callback;\n",
       "  s.onerror = function(){console.warn(\"failed to load library \" + url);};\n",
       "  document.getElementsByTagName(\"head\")[0].appendChild(s);\n",
       "}\n",
       "\n",
       "if(typeof(LDAvis) !== \"undefined\"){\n",
       "   // already loaded: just create the visualization\n",
       "   !function(LDAvis){\n",
       "       new LDAvis(\"#\" + \"ldavis_el41111404934727315686563470805\", ldavis_el41111404934727315686563470805_data);\n",
       "   }(LDAvis);\n",
       "}else if(typeof define === \"function\" && define.amd){\n",
       "   // require.js is available: use it to load d3/LDAvis\n",
       "   require.config({paths: {d3: \"https://cdnjs.cloudflare.com/ajax/libs/d3/3.5.5/d3.min\"}});\n",
       "   require([\"d3\"], function(d3){\n",
       "      window.d3 = d3;\n",
       "      LDAvis_load_lib(\"https://cdn.rawgit.com/bmabey/pyLDAvis/files/ldavis.v1.0.0.js\", function(){\n",
       "        new LDAvis(\"#\" + \"ldavis_el41111404934727315686563470805\", ldavis_el41111404934727315686563470805_data);\n",
       "      });\n",
       "    });\n",
       "}else{\n",
       "    // require.js not available: dynamically load d3 & LDAvis\n",
       "    LDAvis_load_lib(\"https://cdnjs.cloudflare.com/ajax/libs/d3/3.5.5/d3.min.js\", function(){\n",
       "         LDAvis_load_lib(\"https://cdn.rawgit.com/bmabey/pyLDAvis/files/ldavis.v1.0.0.js\", function(){\n",
       "                 new LDAvis(\"#\" + \"ldavis_el41111404934727315686563470805\", ldavis_el41111404934727315686563470805_data);\n",
       "            })\n",
       "         });\n",
       "}\n",
       "</script>"
      ],
      "text/plain": [
       "PreparedData(topic_coordinates=              x         y  topics  cluster       Freq\n",
       "topic                                                \n",
       "4     -0.121308  0.003067       1        1  28.947151\n",
       "0      0.068593  0.014798       2        1  15.041587\n",
       "5      0.044909 -0.156661       3        1  13.747130\n",
       "3     -0.076289  0.060916       4        1  12.423074\n",
       "6     -0.056978 -0.020180       5        1  10.502096\n",
       "1      0.111784  0.085069       6        1  10.420680\n",
       "2      0.029289  0.012990       7        1   8.918283, topic_info=     Category       Freq       Term      Total  loglift  logprob\n",
       "168   Default  28.000000     window  28.000000  30.0000  30.0000\n",
       "24    Default  31.000000       work  31.000000  29.0000  29.0000\n",
       "59    Default  24.000000       boot  24.000000  28.0000  28.0000\n",
       "78    Default  20.000000       good  20.000000  27.0000  27.0000\n",
       "349   Default  15.000000        guy  15.000000  26.0000  26.0000\n",
       "61    Default  49.000000       file  49.000000  25.0000  25.0000\n",
       "149   Default  11.000000  directory  11.000000  24.0000  24.0000\n",
       "412   Default  15.000000       http  15.000000  23.0000  23.0000\n",
       "189   Default  10.000000   software  10.000000  22.0000  22.0000\n",
       "3     Default   7.000000     compiz   7.000000  21.0000  21.0000\n",
       "204   Default  11.000000    desktop  11.000000  20.0000  20.0000\n",
       "40    Default   7.000000     device   7.000000  19.0000  19.0000\n",
       "32    Default  18.000000    package  18.000000  18.0000  18.0000\n",
       "57    Default  32.000000     ubuntu  32.000000  17.0000  17.0000\n",
       "153   Default   7.000000       line   7.000000  16.0000  16.0000\n",
       "93    Default   6.000000    display   6.000000  15.0000  15.0000\n",
       "235   Default   9.000000    program   9.000000  14.0000  14.0000\n",
       "14    Default  32.000000    install  32.000000  13.0000  13.0000\n",
       "6     Default  15.000000     driver  15.000000  12.0000  12.0000\n",
       "574   Default   5.000000    website   5.000000  11.0000  11.0000\n",
       "481   Default  10.000000     people  10.000000  10.0000  10.0000\n",
       "33    Default  10.000000   synaptic  10.000000   9.0000   9.0000\n",
       "13    Default  23.000000       help  23.000000   8.0000   8.0000\n",
       "673   Default   6.000000   password   6.000000   7.0000   7.0000\n",
       "125   Default  17.000000   question  17.000000   6.0000   6.0000\n",
       "575   Default   6.000000       well   6.000000   5.0000   5.0000\n",
       "274   Default  11.000000      thing  11.000000   4.0000   4.0000\n",
       "119   Default  17.000000      error  17.000000   3.0000   3.0000\n",
       "675   Default   4.000000       josh   4.000000   2.0000   2.0000\n",
       "74    Default  24.000000       sudo  24.000000   1.0000   1.0000\n",
       "...       ...        ...        ...        ...      ...      ...\n",
       "153    Topic7   3.406755       line   7.735718   1.5970  -4.5533\n",
       "673    Topic7   2.744761   password   6.190163   1.6038  -4.7694\n",
       "1042   Topic7   1.419488        way   2.881891   1.7089  -5.4288\n",
       "575    Topic7   2.744694       well   6.219770   1.5990  -4.7694\n",
       "487    Topic7   3.156802    channel   7.944298   1.4942  -4.6295\n",
       "165    Topic7   2.080446       need   4.854902   1.5697  -5.0465\n",
       "349    Topic7   4.070563        guy  15.867337   1.0566  -4.3753\n",
       "289    Topic7   2.082027     gksudo   6.032192   1.3533  -5.0458\n",
       "952    Topic7   1.419639       menu   3.489179   1.5178  -5.4287\n",
       "33     Topic7   2.744736   synaptic  10.005565   1.1236  -4.7694\n",
       "481    Topic7   2.744984     people  10.168945   1.1075  -4.7693\n",
       "412    Topic7   3.407030       http  15.161889   0.9241  -4.5533\n",
       "274    Topic7   2.744620      thing  11.433761   0.9901  -4.7695\n",
       "685    Topic7   2.082564  different   7.380154   1.1519  -5.0455\n",
       "35     Topic7   3.644731      thank  21.301914   0.6516  -4.4858\n",
       "219    Topic7   1.419555     search   4.199180   1.3325  -5.4288\n",
       "186    Topic7   1.419807     answer   4.302855   1.3083  -5.4286\n",
       "264    Topic7   2.082409      check   9.223318   0.9289  -5.0456\n",
       "30     Topic7   2.174367       many  10.092743   0.8820  -5.0024\n",
       "13     Topic7   3.002323       help  23.858435   0.3443  -4.6797\n",
       "24     Topic7   2.744934       work  31.637154  -0.0275  -4.7693\n",
       "6      Topic7   2.081876     driver  15.628547   0.4012  -5.0458\n",
       "111    Topic7   2.081682     kernel  16.734648   0.3328  -5.0459\n",
       "78     Topic7   2.081038       good  20.911583   0.1096  -5.0462\n",
       "74     Topic7   2.082243       sudo  24.259266  -0.0383  -5.0456\n",
       "57     Topic7   2.081697     ubuntu  32.438053  -0.3291  -5.0459\n",
       "39     Topic7   2.081582     anyone  33.465611  -0.3603  -5.0460\n",
       "61     Topic7   2.081045       file  49.336403  -0.7487  -5.0462\n",
       "117    Topic7   1.514384    command  11.680776   0.3741  -5.3641\n",
       "140    Topic7   1.420331      gnome   8.685496   0.6063  -5.4282\n",
       "\n",
       "[455 rows x 6 columns], token_table=      Topic      Freq       Term\n",
       "term                            \n",
       "75        1  0.472405       able\n",
       "75        2  0.236203       able\n",
       "75        5  0.236203       able\n",
       "160       2  0.587204     access\n",
       "160       6  0.195735     access\n",
       "1024      4  0.688094     advice\n",
       "1045      7  0.487148   aircrack\n",
       "266       7  0.719246     allway\n",
       "1187      2  0.899022      amavi\n",
       "576       2  0.899023    amazing\n",
       "1025      4  0.688094    analyze\n",
       "906       6  0.703362    android\n",
       "186       1  0.232404     answer\n",
       "186       4  0.232404     answer\n",
       "186       5  0.232404     answer\n",
       "186       7  0.232404     answer\n",
       "1054      6  0.856354  antivirus\n",
       "201       1  0.136474    anybody\n",
       "201       2  0.136474    anybody\n",
       "201       3  0.136474    anybody\n",
       "201       4  0.272947    anybody\n",
       "201       5  0.136474    anybody\n",
       "201       6  0.136474    anybody\n",
       "39        1  0.298814     anyone\n",
       "39        2  0.089644     anyone\n",
       "39        3  0.179289     anyone\n",
       "39        4  0.059763     anyone\n",
       "39        5  0.149407     anyone\n",
       "39        6  0.179289     anyone\n",
       "39        7  0.059763     anyone\n",
       "...     ...       ...        ...\n",
       "575       7  0.482333       well\n",
       "683       1  0.556390       wget\n",
       "683       4  0.370927       wget\n",
       "1101      2  0.899023      whois\n",
       "221       5  0.710403       wiki\n",
       "168       1  0.106027     window\n",
       "168       2  0.600820     window\n",
       "168       3  0.141369     window\n",
       "168       6  0.141369     window\n",
       "455       4  0.695796   wireless\n",
       "455       5  0.347898   wireless\n",
       "87        2  0.899024     wonder\n",
       "24        1  0.221259       work\n",
       "24        2  0.221259       work\n",
       "24        3  0.158042       work\n",
       "24        4  0.031608       work\n",
       "24        6  0.316084       work\n",
       "24        7  0.094825       work\n",
       "213       6  0.472687     workin\n",
       "519       1  0.638373      wrong\n",
       "519       5  0.159593      wrong\n",
       "446       5  0.238043       wubi\n",
       "446       6  0.476086       wubi\n",
       "88        2  0.899024       xfce\n",
       "688       3  0.677891       xlib\n",
       "25        1  0.768303       xorg\n",
       "25        5  0.096038       xorg\n",
       "520       5  0.569953    youtube\n",
       "520       6  0.284977    youtube\n",
       "603       7  0.719246       zoom\n",
       "\n",
       "[737 rows x 3 columns], R=30, lambda_step=0.01, plot_opts={'xlab': 'PC1', 'ylab': 'PC2'}, topic_order=[5, 1, 6, 4, 7, 2, 3])"
      ]
     },
     "execution_count": 73,
     "metadata": {},
     "output_type": "execute_result"
    }
   ],
   "source": [
    "# Visualize the topics\n",
    "pyLDAvis.enable_notebook()\n",
    "vis = pyLDAvis.gensim.prepare(lda_model, doc_term_matrix, dictionary)\n",
    "vis\n"
   ]
  },
  {
   "cell_type": "markdown",
   "metadata": {},
   "source": [
    "# MonkeyLearn\n",
    "#https://monkeylearn.com/blog/introduction-to-topic-modeling/"
   ]
  },
  {
   "cell_type": "code",
   "execution_count": 74,
   "metadata": {
    "ExecuteTime": {
     "end_time": "2019-11-19T05:07:17.069804Z",
     "start_time": "2019-11-19T05:07:17.067364Z"
    }
   },
   "outputs": [],
   "source": [
    "#! curl -o \"monkeylearn_reviews.csv\" https://monkeylearn.com/blog/wp-content/uploads/2019/04/reviews.csv"
   ]
  },
  {
   "cell_type": "code",
   "execution_count": 75,
   "metadata": {
    "ExecuteTime": {
     "end_time": "2019-11-19T05:07:17.116987Z",
     "start_time": "2019-11-19T05:07:17.071412Z"
    }
   },
   "outputs": [],
   "source": [
    "reviews = [row for row in csv.reader(open('monkeylearn_reviews.csv'))]\n"
   ]
  },
  {
   "cell_type": "code",
   "execution_count": 76,
   "metadata": {
    "ExecuteTime": {
     "end_time": "2019-11-19T05:07:17.131967Z",
     "start_time": "2019-11-19T05:07:17.118645Z"
    }
   },
   "outputs": [
    {
     "data": {
      "text/plain": [
       "[['Text', 'Sentiment', 'Topic'],\n",
       " ['The rooms are extremely small, practically only a bed.',\n",
       "  'negative',\n",
       "  'Comfort'],\n",
       " ['Room safe did not work.', 'negative', 'Facilities'],\n",
       " ['Mattress very comfortable.', 'positive', 'Comfort'],\n",
       " ['Very uncomfortable, thin mattress, with plastic cover that rustles every time you move.',\n",
       "  'negative',\n",
       "  'Comfort'],\n",
       " ['No bathroom in room', 'negative', 'Facilities'],\n",
       " ['The bed was soooo comfy.', 'positive', 'Comfort'],\n",
       " ['someone must have been smoking in the room next door.',\n",
       "  'negative',\n",
       "  'Cleanliness'],\n",
       " ['The bed is very comfortable.', 'positive', 'Comfort'],\n",
       " ['Very spacious rooms, quiet and very comfortable.', 'positive', 'Comfort'],\n",
       " ['For 3 people in a bedroom the sofa bed is a bit unconfortable.',\n",
       "  'negative',\n",
       "  'Comfort'],\n",
       " ['Lights in the common room were too dim.', 'negative', 'Facilities'],\n",
       " ['Air conditioning working fine.', 'positive', 'Comfort'],\n",
       " [\"So if you're the type that likes to let water run a bit before getting wet or it takes a minute to figure out how to make it hot, you're gonna get wet.\",\n",
       "  'negative',\n",
       "  'Facilities'],\n",
       " ['the windows are only single glazed so the heat could escape- although to be fair it was -6 outside!',\n",
       "  'negative',\n",
       "  'Comfort'],\n",
       " ['Terrible, small cubbyholes, which are marketed as rooms.',\n",
       "  'negative',\n",
       "  'Facilities'],\n",
       " ['Corridors filthy\\nRoom filthy\\nElectrical cables in room not safe\\nWhole building smelly\\nShower repulsive',\n",
       "  'negative',\n",
       "  'Cleanliness'],\n",
       " ['walls seem to have no sound insulation', 'negative', 'Facilities'],\n",
       " ['The gym was very small and basic', 'negative', 'Facilities'],\n",
       " ['The mattresses were too \"springy\" and uncomfortable.',\n",
       "  'negative',\n",
       "  'Comfort'],\n",
       " ['very light and the comfy of the bed was unbeatable.',\n",
       "  'negative',\n",
       "  'Comfort'],\n",
       " ['Shows some wear and tear.', 'negative', 'Facilities'],\n",
       " ['Some thinks didnt work well : air, tv , open windows,',\n",
       "  'negative',\n",
       "  'Facilities'],\n",
       " ['Microwave needed!', 'negative', 'Facilities'],\n",
       " [\"Room wasn't cleaned or bed made up\", 'negative', 'Cleanliness'],\n",
       " ['The room had cable TV, a safe, an iron, a hairdryer and free coffee & tea in the downstairs area.',\n",
       "  'positive',\n",
       "  'Facilities'],\n",
       " ['The heat in the room fluctuated -- at times it felt a little draft, and on my last night, the fan was really loud.',\n",
       "  'negative',\n",
       "  'Comfort'],\n",
       " ['- The room was cold.', 'negative', 'Comfort'],\n",
       " ['The building was under renovation,', 'positive', 'Facilities'],\n",
       " ['The water pressure was not that strong in the shower.',\n",
       "  'negative',\n",
       "  'Facilities'],\n",
       " ['Room too small to open suitcase.', 'negative', 'Facilities'],\n",
       " ['no elevator might be a challenge for some people',\n",
       "  'negative',\n",
       "  'Facilities'],\n",
       " ['Pay extra.. :( Room was tiny', 'negative', 'Facilities'],\n",
       " ['and hip and CLEAN!', 'positive', 'Cleanliness'],\n",
       " ['Comfortable bed and selection of pillows.', 'positive', 'Comfort'],\n",
       " ['The TV was not working.', 'negative', 'Facilities'],\n",
       " ['The walk up 4 stories', 'negative', 'Facilities'],\n",
       " [\"Hallways to room stale and didn't feel clean.\", 'negative', 'Cleanliness'],\n",
       " ['there was a building under construction across the road which was extremely noisy throughout the day.',\n",
       "  'negative',\n",
       "  'Comfort'],\n",
       " ['Bathtub not clean.', 'negative', 'Facilities'],\n",
       " ['Hot water was abundant and the A/C (window unit) was ice cold - Excellent!',\n",
       "  'positive',\n",
       "  'Facilities'],\n",
       " ['Access to fitness facilities, especially the pool was a real value added.',\n",
       "  'positive',\n",
       "  'Facilities'],\n",
       " ['Barely room for anything else than sleep.', 'negative', 'Comfort'],\n",
       " ['Lift was a bit of a pain with card access.', 'negative', 'Facilities'],\n",
       " [\"Could have used a little more counter room in bath and we didn't think the restaurant looked very inviting compared to the rest of the hotel.\",\n",
       "  'negative',\n",
       "  'Facilities'],\n",
       " ['The bed was highly uncomfortable, although the engineer fixed it',\n",
       "  'negative',\n",
       "  'Comfort'],\n",
       " [\"The memory foam mattress - we all agreed the best night's sleep in a hotel EVER...\",\n",
       "  'positive',\n",
       "  'Comfort'],\n",
       " [\"Toilet paper wasn't replaced everyday!\", 'negative', 'Comfort'],\n",
       " ['The extra beds are not the greatest (a futon and a sleeper couch)',\n",
       "  'negative',\n",
       "  'Comfort'],\n",
       " ['Room was extremely cramped.', 'negative', 'Comfort'],\n",
       " ['Shower cap n sanitary bags not available in the room.',\n",
       "  'negative',\n",
       "  'Facilities'],\n",
       " ['it was freezing cold in my room for the night I stayed.',\n",
       "  'negative',\n",
       "  'Comfort'],\n",
       " ['Outside seating was lovely', 'negative', 'Comfort'],\n",
       " ['The heating was unbelievably noisy during the night.',\n",
       "  'negative',\n",
       "  'Comfort'],\n",
       " ['bed, smell.', 'negative', 'Cleanliness'],\n",
       " ['Bathroom area large would have been nice with a bathtub.',\n",
       "  'positive',\n",
       "  'Facilities'],\n",
       " ['Shared restrooms do not support many rooms and/or many people.',\n",
       "  'negative',\n",
       "  'Comfort'],\n",
       " ['Stiff feel to the place- no amenities.', 'negative', 'Facilities'],\n",
       " ['Lovely room, bed was so comfortable!', 'positive', 'Comfort'],\n",
       " ['Every 15 minutes door were slamming & lights on.', 'negative', 'Comfort'],\n",
       " ['After that time, mostly quiet apart from some door slamming by other guests.',\n",
       "  'negative',\n",
       "  'Comfort'],\n",
       " ['The top of the window was then covered by the dirty blind.',\n",
       "  'negative',\n",
       "  'Cleanliness'],\n",
       " ['Detest the glass \"door\" if shower/tub .. with?', 'negative', 'Facilities'],\n",
       " ['this was expected, clean towels and room cleaned every day.',\n",
       "  'positive',\n",
       "  'Cleanliness'],\n",
       " ['Barely a few degrees warmer than outside during winter, so I had to rug up and wear shoes to use the toilet.',\n",
       "  'negative',\n",
       "  'Facilities'],\n",
       " ['ac was terrible', 'negative', 'Facilities'],\n",
       " ['More plug outlets with surge protectors.', 'negative', 'Facilities'],\n",
       " ['Just to give you an idea: the shutters of the windows were not working, did not go neither up or down - just hanging down only one side and the other up....',\n",
       "  'negative',\n",
       "  'Facilities'],\n",
       " ['The phone in my room was not working.', 'negative', 'Facilities'],\n",
       " ['Elevators are slow, very long lines.', 'negative', 'Facilities'],\n",
       " ['Location anda facilities', 'positive', 'Facilities'],\n",
       " ['There was also  garbage in our kitchen - there were isntant coffee packages left from previous customers.',\n",
       "  'negative',\n",
       "  'Cleanliness'],\n",
       " ['Amazing facilities.', 'positive', 'Facilities'],\n",
       " ['Only one elevator ,', 'negative', 'Facilities'],\n",
       " ['Room was very spacious', 'positive', 'Comfort'],\n",
       " ['The bathroom is dirty.', 'negative', 'Cleanliness'],\n",
       " ['Roof terrace great', 'negative', 'Facilities'],\n",
       " ['No tea or coffee making facilities in the rooms', 'negative', 'Facilities'],\n",
       " ['the room had aircon and we had earplugs and slept soundly.',\n",
       "  'positive',\n",
       "  'Comfort'],\n",
       " ['Also, when the bright bathroom lights are turned on, it lights up the whole hotel room, shining thru the frosted glass panels.',\n",
       "  'negative',\n",
       "  'Facilities'],\n",
       " ['The Bed was SUPER COMFY !', 'positive', 'Facilities'],\n",
       " ['Bathroom was extra small,', 'negative', 'Facilities'],\n",
       " ['Rooms are cosy with great temperature control.', 'positive', 'Comfort'],\n",
       " ['Facilities were very clean.', 'positive', 'Facilities'],\n",
       " [\"only if you don't mind stains in your bed sheets or cockroaches in your (shared) bathroom.\",\n",
       "  'negative',\n",
       "  'Cleanliness'],\n",
       " ['The bathroom functioned o.k.', 'negative', 'Facilities'],\n",
       " ['Poor TV picture and channel selection.', 'negative', 'Facilities'],\n",
       " ['No elevator.', 'negative', 'Facilities'],\n",
       " ['essential gym to allow for some workout.', 'positive', 'Facilities'],\n",
       " ['Rooms quite small for price, especially if you use a travel cot.',\n",
       "  'negative',\n",
       "  'Facilities'],\n",
       " ['room was not at all inviting.', 'negative', 'Comfort'],\n",
       " ['Wifi connected', 'negative', 'Facilities'],\n",
       " ['Everything was very clean.', 'positive', 'Cleanliness'],\n",
       " [\"Windows haven't been cleaned for years (if ever).\",\n",
       "  'negative',\n",
       "  'Cleanliness'],\n",
       " ['Showers could do with some renovations - they seem clean,',\n",
       "  'negative',\n",
       "  'Facilities'],\n",
       " ['Only cold water came out.', 'negative', 'Comfort'],\n",
       " [\"the Persian decor is so half-hearted it - I'd take down the 5 lengths of Turkish bunting lanterns above the glass roofed bar or cover the whole area with them - 30 more (!)\",\n",
       "  'negative',\n",
       "  'Facilities'],\n",
       " ['The toilet ran until you jiggled the handle.', 'negative', 'Facilities'],\n",
       " ['The bed was terrible and not comfortable at all', 'negative', 'Comfort'],\n",
       " ['Mattresses and linens were all great.', 'positive', 'Comfort'],\n",
       " ['No wardrobe, no space for luggage, no towel change, walls are not sound proof thus very noisy.',\n",
       "  'negative',\n",
       "  'Comfort'],\n",
       " ['The elevators were fast - never we had to wait long for a one.On 15th floor the city noise was not bothering at all and after the whole day walking around we were sleeping execellent.',\n",
       "  'positive',\n",
       "  'Facilities'],\n",
       " ['Has most things you need.', 'positive', 'Comfort'],\n",
       " ['Bed was not a full size 2,40 cm long bed, they were smaller.',\n",
       "  'negative',\n",
       "  'Facilities'],\n",
       " ['very spartan.', 'negative', 'Comfort'],\n",
       " ['Room extremely small.', 'negative', 'Comfort'],\n",
       " ['No walls mean oher guests being loud at all hrs.', 'negative', 'Comfort'],\n",
       " ['Very nice rooftop terrace, and gym.', 'positive', 'Facilities'],\n",
       " ['Wallpaper is peeking off in places.', 'negative', 'Facilities'],\n",
       " ['Insufficient and hard to reach plugs to charge devices.',\n",
       "  'negative',\n",
       "  'Comfort'],\n",
       " [\"Mouse in the room,\\nNo Wifi,\\nNo cleaning service in 3 days,\\nNo elevators,\\nDoors to outside of hotel didn't lock anymore,\\nOn main avenue, with constructions, one of our room was pretty loud.\",\n",
       "  'negative',\n",
       "  'Facilities'],\n",
       " ['No bath, only a shower, and I requested 2 queen size beds',\n",
       "  'negative',\n",
       "  'Facilities'],\n",
       " [\"I called and they just hadn't received the shipment of clean towels.\",\n",
       "  'negative',\n",
       "  'Cleanliness'],\n",
       " ['The room was clean.', 'positive', 'Facilities'],\n",
       " ['I don\\'t mind the small space,\\njust would have liked a bit more \"style.\"',\n",
       "  'negative',\n",
       "  'Comfort'],\n",
       " ['King Room was spacious with plenty of room to spread out and unpack, especially awesome for an extended stay.',\n",
       "  'positive',\n",
       "  'Comfort'],\n",
       " ['Hotel was very clean and had character.', 'positive', 'Cleanliness'],\n",
       " ['on HVAC vent.', 'negative', 'Facilities'],\n",
       " ['We just had to place our luggage on the floor.', 'negative', 'Comfort'],\n",
       " ['Unclean bathrooms.', 'negative', 'Cleanliness'],\n",
       " ['Only negative was the old and very loud air conditioning in the rooms.',\n",
       "  'negative',\n",
       "  'Facilities'],\n",
       " ['there was dust and tissue under the bed.', 'negative', 'Cleanliness'],\n",
       " ['The bed was very comfy & the room spacious.', 'positive', 'Comfort'],\n",
       " ['No air conditioning.', 'negative', 'Comfort'],\n",
       " [\"Bath and shower were in poor condition and didn''t hold the water.\",\n",
       "  'negative',\n",
       "  'Facilities'],\n",
       " ['I was told I would have two double beds.', 'negative', 'Comfort'],\n",
       " ['Bathroom and shower were very good!, lighting as well.',\n",
       "  'positive',\n",
       "  'Cleanliness'],\n",
       " ['Rooms too small.', 'negative', 'Comfort'],\n",
       " ['Our room had left over garbage from whomever stayed there prior.',\n",
       "  'negative',\n",
       "  'Cleanliness'],\n",
       " ['The floor was not very clean.', 'negative', 'Cleanliness'],\n",
       " ['Very comfortable beds.', 'positive', 'Comfort'],\n",
       " ['The only area of improvement would be the fitness center.',\n",
       "  'negative',\n",
       "  'Facilities'],\n",
       " ['The pool is the best!', 'positive', 'Facilities'],\n",
       " ['good soundproofing to windows), great showerroom with excellent hot shower, good air con, free wifi and coffee maker.',\n",
       "  'positive',\n",
       "  'Comfort'],\n",
       " ['5 star qualiity towels and linen.', 'positive', 'Comfort'],\n",
       " ['we only had 7 channels which four of them werent in english.',\n",
       "  'negative',\n",
       "  'Facilities'],\n",
       " [\"It's much more potent and pleasant than\\nany Febreeze scent.\\n\",\n",
       "  'positive',\n",
       "  'Cleanliness'],\n",
       " [\"Some have small televisions, flat screen, or the old 1990's tube, as well as, some of the rooms do not have that amenity.I usually book a double room, which thus far comes with a window and is a bit more spacious.The single rooms are much smaller, yet comfortable.\",\n",
       "  'positive',\n",
       "  'Facilities'],\n",
       " ['Room was large for my family of 4 adults.', 'positive', 'Facilities'],\n",
       " ['My room was pretty soulless, although it did have a great view.',\n",
       "  'negative',\n",
       "  'Facilities'],\n",
       " ['The room itself was very clean.', 'positive', 'Cleanliness'],\n",
       " ['My room was immaculate and smelled so fresh and clean.',\n",
       "  'positive',\n",
       "  'Cleanliness'],\n",
       " ['quiet place.', 'positive', 'Comfort'],\n",
       " [\"The room was a nice size, big enough for both my and my friend's huge suitcases to fit on the floor and for us to still move around.\",\n",
       "  'positive',\n",
       "  'Comfort'],\n",
       " ['The hotel was very clean.', 'positive', 'Cleanliness'],\n",
       " ['No kettle, had to use a coffee maker to boil water for tea which was tricky as it had to be rinsed through many times.',\n",
       "  'negative',\n",
       "  'Facilities'],\n",
       " ['Rooms were spotless and classy.', 'positive', 'Cleanliness'],\n",
       " ['The front entrance could use some curb appeal.', 'negative', 'Facilities'],\n",
       " ['Bathroom was way too retro.......shower was very poor... no hand shower, poor water pressure and way too narrow.......It also had a plastic curtain which for a $650 dollar hotel room is way too nasty.',\n",
       "  'negative',\n",
       "  'Comfort'],\n",
       " ['extra small rooms.', 'negative', 'Facilities'],\n",
       " ['Poor beds quality, very very noisy : would have been the same if we would have no windows.',\n",
       "  'negative',\n",
       "  'Comfort'],\n",
       " ['The bathrooms have frosted glass walls,not private at all.',\n",
       "  'negative',\n",
       "  'Facilities'],\n",
       " [\"Rooms are cold and you can't adjust the temperature and also heating works only a few hours in the morning.\",\n",
       "  'negative',\n",
       "  'Comfort'],\n",
       " ['very loud construction noise out front of our window.',\n",
       "  'negative',\n",
       "  'Comfort'],\n",
       " ['The room was interior so no traffic noise.', 'positive', 'Facilities'],\n",
       " ['Room was noisy and cold.', 'negative', 'Comfort'],\n",
       " ['The air-con was too noisy to leave on for too long.',\n",
       "  'negative',\n",
       "  'Facilities'],\n",
       " ['still easy to reach.', 'positive', 'Comfort'],\n",
       " [\"The front door didn't work so we had to pry it open.\",\n",
       "  'negative',\n",
       "  'Facilities'],\n",
       " ['clean and tidy.\\n', 'negative', 'Cleanliness'],\n",
       " ['The bed is really terrible,especially the blanket is heavy and terrible terrible quality.',\n",
       "  'negative',\n",
       "  'Comfort'],\n",
       " [\"Bathroom sink tap leaked and aircon didn't work properly\",\n",
       "  'negative',\n",
       "  'Facilities'],\n",
       " [\"We didn't like the mouse in the room.\", 'negative', 'Cleanliness'],\n",
       " ['Decent room', 'positive', 'Facilities'],\n",
       " ['Loved the elegant art deco ambience.', 'positive', 'Facilities'],\n",
       " ['Broken tiles in shower.', 'negative', 'Facilities'],\n",
       " ['In the shower it was turned down as cold as it could be and it was still hotter than I would usually have it.',\n",
       "  'negative',\n",
       "  'Facilities'],\n",
       " ['Bed was hard and sheets were rough.', 'negative', 'Comfort'],\n",
       " ['I loved that there was a coffee shop\\nunderneath, and it closed at 12am every night, so that I can get my late\\nnight coffee, if I wanted.',\n",
       "  'positive',\n",
       "  'Facilities'],\n",
       " ['Dimly lit.', 'negative', 'Facilities'],\n",
       " ['The towels had holes in them.', 'negative', 'Cleanliness'],\n",
       " ['The hotel  advertised AC as one of its amenities in its booking.com descriptions!',\n",
       "  'negative',\n",
       "  'Facilities'],\n",
       " ['The bed was super comfortable and the bathtub with jets was awesome too.',\n",
       "  'positive',\n",
       "  'Facilities'],\n",
       " ['We actually enjoyed how small our room was because we knew about it ahead of time and wanted to try something really different.',\n",
       "  'positive',\n",
       "  'Comfort'],\n",
       " ['Bedding was changed once,', 'negative', 'Cleanliness'],\n",
       " ['The same counts for the bathroom, especially the shower was great.',\n",
       "  'positive',\n",
       "  'Facilities'],\n",
       " ['The hotel has a rooftop with a hot tub which has an awesome view.',\n",
       "  'positive',\n",
       "  'Facilities'],\n",
       " ['It was quiet.', 'positive', 'Comfort'],\n",
       " ['Rooms are small,', 'negative', 'Facilities'],\n",
       " ['The drapes could have fit the window.', 'negative', 'Facilities'],\n",
       " ['It was very not comfortable.', 'positive', 'Comfort'],\n",
       " ['Facilities were great.', 'positive', 'Facilities'],\n",
       " ['Just one bed so in your room you always have to sit on the bed.',\n",
       "  'negative',\n",
       "  'Comfort'],\n",
       " ['So there could have been more convenient outlets.',\n",
       "  'negative',\n",
       "  'Facilities'],\n",
       " ['The exercise room closest to my floor was filled with big screen TVs and sheets covering them.',\n",
       "  'negative',\n",
       "  'Facilities'],\n",
       " ['a bit tight to make people either pay or leave yr room.',\n",
       "  'negative',\n",
       "  'Comfort'],\n",
       " ['Shower was intense.', 'positive', 'Facilities'],\n",
       " ['The bed was very comfortable, and room minimalist',\n",
       "  'positive',\n",
       "  'Facilities'],\n",
       " [\"Rooms aren't very sound proof from hallway sounds.\",\n",
       "  'negative',\n",
       "  'Facilities'],\n",
       " ['Cool design.', 'positive', 'Facilities'],\n",
       " ['Our room was very spacious, especially for NYC.', 'positive', 'Comfort'],\n",
       " ['The main lobby is nice', 'positive', 'Facilities'],\n",
       " ['Carpets are coming unstitched.', 'negative', 'Facilities'],\n",
       " ['It was bigger so that was nice!', 'negative', 'Comfort'],\n",
       " ['Room was not cleaned even once during our stay.',\n",
       "  'negative',\n",
       "  'Cleanliness'],\n",
       " ['Room not what we ordered or prepaid for.', 'negative', 'Facilities'],\n",
       " ['The room needed to be painted,', 'negative', 'Cleanliness'],\n",
       " ['Sep 5-8 room 302\\nRoom was too small, the shower pressure was good.',\n",
       "  'negative',\n",
       "  'Facilities'],\n",
       " ['Very large for Manhattan with good sized bed, flat screen TV & ample closet.',\n",
       "  'positive',\n",
       "  'Comfort'],\n",
       " ['-There was no heating or air conditioning for the bathroom, which left you very cold when walking in or getting out of the shower.',\n",
       "  'negative',\n",
       "  'Comfort'],\n",
       " ['Waited over 40 minutes to use shower.', 'negative', 'Facilities'],\n",
       " ['The lifts worked!', 'positive', 'Facilities'],\n",
       " ['Elevators tend to be slow...', 'negative', 'Facilities'],\n",
       " ['Crumbs from snacks were not cleaned up for 3 days!!',\n",
       "  'negative',\n",
       "  'Cleanliness'],\n",
       " ['the bathroom was a little dirty with hair at the walls',\n",
       "  'negative',\n",
       "  'Cleanliness'],\n",
       " ['We had requested two queen beds and got a room with 1 queen and 2 twins, we were advised that there were not any other rooms and could put the (2) beds together, which we did and it was no issue as far as sleeping.',\n",
       "  'negative',\n",
       "  'Facilities'],\n",
       " ['Noisy noisy suite on 4th floor.', 'negative', 'Comfort'],\n",
       " ['no way to lock the door.', 'negative', 'Facilities']]"
      ]
     },
     "execution_count": 76,
     "metadata": {},
     "output_type": "execute_result"
    }
   ],
   "source": [
    "reviews"
   ]
  },
  {
   "cell_type": "code",
   "execution_count": 77,
   "metadata": {
    "ExecuteTime": {
     "end_time": "2019-11-19T05:07:17.136495Z",
     "start_time": "2019-11-19T05:07:17.133635Z"
    }
   },
   "outputs": [],
   "source": [
    "texts = [row[0] for row in reviews]\n"
   ]
  },
  {
   "cell_type": "code",
   "execution_count": 85,
   "metadata": {
    "ExecuteTime": {
     "end_time": "2019-11-19T05:15:18.226149Z",
     "start_time": "2019-11-19T05:15:18.219605Z"
    }
   },
   "outputs": [
    {
     "data": {
      "text/plain": [
       "['Text',\n",
       " 'The rooms are extremely small, practically only a bed.',\n",
       " 'Room safe did not work.',\n",
       " 'Mattress very comfortable.',\n",
       " 'Very uncomfortable, thin mattress, with plastic cover that rustles every time you move.',\n",
       " 'No bathroom in room',\n",
       " 'The bed was soooo comfy.',\n",
       " 'someone must have been smoking in the room next door.',\n",
       " 'The bed is very comfortable.',\n",
       " 'Very spacious rooms, quiet and very comfortable.',\n",
       " 'For 3 people in a bedroom the sofa bed is a bit unconfortable.',\n",
       " 'Lights in the common room were too dim.',\n",
       " 'Air conditioning working fine.',\n",
       " \"So if you're the type that likes to let water run a bit before getting wet or it takes a minute to figure out how to make it hot, you're gonna get wet.\",\n",
       " 'the windows are only single glazed so the heat could escape- although to be fair it was -6 outside!',\n",
       " 'Terrible, small cubbyholes, which are marketed as rooms.',\n",
       " 'Corridors filthy\\nRoom filthy\\nElectrical cables in room not safe\\nWhole building smelly\\nShower repulsive',\n",
       " 'walls seem to have no sound insulation',\n",
       " 'The gym was very small and basic',\n",
       " 'The mattresses were too \"springy\" and uncomfortable.',\n",
       " 'very light and the comfy of the bed was unbeatable.',\n",
       " 'Shows some wear and tear.',\n",
       " 'Some thinks didnt work well : air, tv , open windows,',\n",
       " 'Microwave needed!',\n",
       " \"Room wasn't cleaned or bed made up\",\n",
       " 'The room had cable TV, a safe, an iron, a hairdryer and free coffee & tea in the downstairs area.',\n",
       " 'The heat in the room fluctuated -- at times it felt a little draft, and on my last night, the fan was really loud.',\n",
       " '- The room was cold.',\n",
       " 'The building was under renovation,',\n",
       " 'The water pressure was not that strong in the shower.',\n",
       " 'Room too small to open suitcase.',\n",
       " 'no elevator might be a challenge for some people',\n",
       " 'Pay extra.. :( Room was tiny',\n",
       " 'and hip and CLEAN!',\n",
       " 'Comfortable bed and selection of pillows.',\n",
       " 'The TV was not working.',\n",
       " 'The walk up 4 stories',\n",
       " \"Hallways to room stale and didn't feel clean.\",\n",
       " 'there was a building under construction across the road which was extremely noisy throughout the day.',\n",
       " 'Bathtub not clean.',\n",
       " 'Hot water was abundant and the A/C (window unit) was ice cold - Excellent!',\n",
       " 'Access to fitness facilities, especially the pool was a real value added.',\n",
       " 'Barely room for anything else than sleep.',\n",
       " 'Lift was a bit of a pain with card access.',\n",
       " \"Could have used a little more counter room in bath and we didn't think the restaurant looked very inviting compared to the rest of the hotel.\",\n",
       " 'The bed was highly uncomfortable, although the engineer fixed it',\n",
       " \"The memory foam mattress - we all agreed the best night's sleep in a hotel EVER...\",\n",
       " \"Toilet paper wasn't replaced everyday!\",\n",
       " 'The extra beds are not the greatest (a futon and a sleeper couch)',\n",
       " 'Room was extremely cramped.',\n",
       " 'Shower cap n sanitary bags not available in the room.',\n",
       " 'it was freezing cold in my room for the night I stayed.',\n",
       " 'Outside seating was lovely',\n",
       " 'The heating was unbelievably noisy during the night.',\n",
       " 'bed, smell.',\n",
       " 'Bathroom area large would have been nice with a bathtub.',\n",
       " 'Shared restrooms do not support many rooms and/or many people.',\n",
       " 'Stiff feel to the place- no amenities.',\n",
       " 'Lovely room, bed was so comfortable!',\n",
       " 'Every 15 minutes door were slamming & lights on.',\n",
       " 'After that time, mostly quiet apart from some door slamming by other guests.',\n",
       " 'The top of the window was then covered by the dirty blind.',\n",
       " 'Detest the glass \"door\" if shower/tub .. with?',\n",
       " 'this was expected, clean towels and room cleaned every day.',\n",
       " 'Barely a few degrees warmer than outside during winter, so I had to rug up and wear shoes to use the toilet.',\n",
       " 'ac was terrible',\n",
       " 'More plug outlets with surge protectors.',\n",
       " 'Just to give you an idea: the shutters of the windows were not working, did not go neither up or down - just hanging down only one side and the other up....',\n",
       " 'The phone in my room was not working.',\n",
       " 'Elevators are slow, very long lines.',\n",
       " 'Location anda facilities',\n",
       " 'There was also  garbage in our kitchen - there were isntant coffee packages left from previous customers.',\n",
       " 'Amazing facilities.',\n",
       " 'Only one elevator ,',\n",
       " 'Room was very spacious',\n",
       " 'The bathroom is dirty.',\n",
       " 'Roof terrace great',\n",
       " 'No tea or coffee making facilities in the rooms',\n",
       " 'the room had aircon and we had earplugs and slept soundly.',\n",
       " 'Also, when the bright bathroom lights are turned on, it lights up the whole hotel room, shining thru the frosted glass panels.',\n",
       " 'The Bed was SUPER COMFY !',\n",
       " 'Bathroom was extra small,',\n",
       " 'Rooms are cosy with great temperature control.',\n",
       " 'Facilities were very clean.',\n",
       " \"only if you don't mind stains in your bed sheets or cockroaches in your (shared) bathroom.\",\n",
       " 'The bathroom functioned o.k.',\n",
       " 'Poor TV picture and channel selection.',\n",
       " 'No elevator.',\n",
       " 'essential gym to allow for some workout.',\n",
       " 'Rooms quite small for price, especially if you use a travel cot.',\n",
       " 'room was not at all inviting.',\n",
       " 'Wifi connected',\n",
       " 'Everything was very clean.',\n",
       " \"Windows haven't been cleaned for years (if ever).\",\n",
       " 'Showers could do with some renovations - they seem clean,',\n",
       " 'Only cold water came out.',\n",
       " \"the Persian decor is so half-hearted it - I'd take down the 5 lengths of Turkish bunting lanterns above the glass roofed bar or cover the whole area with them - 30 more (!)\",\n",
       " 'The toilet ran until you jiggled the handle.',\n",
       " 'The bed was terrible and not comfortable at all',\n",
       " 'Mattresses and linens were all great.',\n",
       " 'No wardrobe, no space for luggage, no towel change, walls are not sound proof thus very noisy.',\n",
       " 'The elevators were fast - never we had to wait long for a one.On 15th floor the city noise was not bothering at all and after the whole day walking around we were sleeping execellent.',\n",
       " 'Has most things you need.',\n",
       " 'Bed was not a full size 2,40 cm long bed, they were smaller.',\n",
       " 'very spartan.',\n",
       " 'Room extremely small.',\n",
       " 'No walls mean oher guests being loud at all hrs.',\n",
       " 'Very nice rooftop terrace, and gym.',\n",
       " 'Wallpaper is peeking off in places.',\n",
       " 'Insufficient and hard to reach plugs to charge devices.',\n",
       " \"Mouse in the room,\\nNo Wifi,\\nNo cleaning service in 3 days,\\nNo elevators,\\nDoors to outside of hotel didn't lock anymore,\\nOn main avenue, with constructions, one of our room was pretty loud.\",\n",
       " 'No bath, only a shower, and I requested 2 queen size beds',\n",
       " \"I called and they just hadn't received the shipment of clean towels.\",\n",
       " 'The room was clean.',\n",
       " 'I don\\'t mind the small space,\\njust would have liked a bit more \"style.\"',\n",
       " 'King Room was spacious with plenty of room to spread out and unpack, especially awesome for an extended stay.',\n",
       " 'Hotel was very clean and had character.',\n",
       " 'on HVAC vent.',\n",
       " 'We just had to place our luggage on the floor.',\n",
       " 'Unclean bathrooms.',\n",
       " 'Only negative was the old and very loud air conditioning in the rooms.',\n",
       " 'there was dust and tissue under the bed.',\n",
       " 'The bed was very comfy & the room spacious.',\n",
       " 'No air conditioning.',\n",
       " \"Bath and shower were in poor condition and didn''t hold the water.\",\n",
       " 'I was told I would have two double beds.',\n",
       " 'Bathroom and shower were very good!, lighting as well.',\n",
       " 'Rooms too small.',\n",
       " 'Our room had left over garbage from whomever stayed there prior.',\n",
       " 'The floor was not very clean.',\n",
       " 'Very comfortable beds.',\n",
       " 'The only area of improvement would be the fitness center.',\n",
       " 'The pool is the best!',\n",
       " 'good soundproofing to windows), great showerroom with excellent hot shower, good air con, free wifi and coffee maker.',\n",
       " '5 star qualiity towels and linen.',\n",
       " 'we only had 7 channels which four of them werent in english.',\n",
       " \"It's much more potent and pleasant than\\nany Febreeze scent.\\n\",\n",
       " \"Some have small televisions, flat screen, or the old 1990's tube, as well as, some of the rooms do not have that amenity.I usually book a double room, which thus far comes with a window and is a bit more spacious.The single rooms are much smaller, yet comfortable.\",\n",
       " 'Room was large for my family of 4 adults.',\n",
       " 'My room was pretty soulless, although it did have a great view.',\n",
       " 'The room itself was very clean.',\n",
       " 'My room was immaculate and smelled so fresh and clean.',\n",
       " 'quiet place.',\n",
       " \"The room was a nice size, big enough for both my and my friend's huge suitcases to fit on the floor and for us to still move around.\",\n",
       " 'The hotel was very clean.',\n",
       " 'No kettle, had to use a coffee maker to boil water for tea which was tricky as it had to be rinsed through many times.',\n",
       " 'Rooms were spotless and classy.',\n",
       " 'The front entrance could use some curb appeal.',\n",
       " 'Bathroom was way too retro.......shower was very poor... no hand shower, poor water pressure and way too narrow.......It also had a plastic curtain which for a $650 dollar hotel room is way too nasty.',\n",
       " 'extra small rooms.',\n",
       " 'Poor beds quality, very very noisy : would have been the same if we would have no windows.',\n",
       " 'The bathrooms have frosted glass walls,not private at all.',\n",
       " \"Rooms are cold and you can't adjust the temperature and also heating works only a few hours in the morning.\",\n",
       " 'very loud construction noise out front of our window.',\n",
       " 'The room was interior so no traffic noise.',\n",
       " 'Room was noisy and cold.',\n",
       " 'The air-con was too noisy to leave on for too long.',\n",
       " 'still easy to reach.',\n",
       " \"The front door didn't work so we had to pry it open.\",\n",
       " 'clean and tidy.\\n',\n",
       " 'The bed is really terrible,especially the blanket is heavy and terrible terrible quality.',\n",
       " \"Bathroom sink tap leaked and aircon didn't work properly\",\n",
       " \"We didn't like the mouse in the room.\",\n",
       " 'Decent room',\n",
       " 'Loved the elegant art deco ambience.',\n",
       " 'Broken tiles in shower.',\n",
       " 'In the shower it was turned down as cold as it could be and it was still hotter than I would usually have it.',\n",
       " 'Bed was hard and sheets were rough.',\n",
       " 'I loved that there was a coffee shop\\nunderneath, and it closed at 12am every night, so that I can get my late\\nnight coffee, if I wanted.',\n",
       " 'Dimly lit.',\n",
       " 'The towels had holes in them.',\n",
       " 'The hotel  advertised AC as one of its amenities in its booking.com descriptions!',\n",
       " 'The bed was super comfortable and the bathtub with jets was awesome too.',\n",
       " 'We actually enjoyed how small our room was because we knew about it ahead of time and wanted to try something really different.',\n",
       " 'Bedding was changed once,',\n",
       " 'The same counts for the bathroom, especially the shower was great.',\n",
       " 'The hotel has a rooftop with a hot tub which has an awesome view.',\n",
       " 'It was quiet.',\n",
       " 'Rooms are small,',\n",
       " 'The drapes could have fit the window.',\n",
       " 'It was very not comfortable.',\n",
       " 'Facilities were great.',\n",
       " 'Just one bed so in your room you always have to sit on the bed.',\n",
       " 'So there could have been more convenient outlets.',\n",
       " 'The exercise room closest to my floor was filled with big screen TVs and sheets covering them.',\n",
       " 'a bit tight to make people either pay or leave yr room.',\n",
       " 'Shower was intense.',\n",
       " 'The bed was very comfortable, and room minimalist',\n",
       " \"Rooms aren't very sound proof from hallway sounds.\",\n",
       " 'Cool design.',\n",
       " 'Our room was very spacious, especially for NYC.',\n",
       " 'The main lobby is nice',\n",
       " 'Carpets are coming unstitched.',\n",
       " 'It was bigger so that was nice!',\n",
       " 'Room was not cleaned even once during our stay.',\n",
       " 'Room not what we ordered or prepaid for.',\n",
       " 'The room needed to be painted,',\n",
       " 'Sep 5-8 room 302\\nRoom was too small, the shower pressure was good.',\n",
       " 'Very large for Manhattan with good sized bed, flat screen TV & ample closet.',\n",
       " '-There was no heating or air conditioning for the bathroom, which left you very cold when walking in or getting out of the shower.',\n",
       " 'Waited over 40 minutes to use shower.',\n",
       " 'The lifts worked!',\n",
       " 'Elevators tend to be slow...',\n",
       " 'Crumbs from snacks were not cleaned up for 3 days!!',\n",
       " 'the bathroom was a little dirty with hair at the walls',\n",
       " 'We had requested two queen beds and got a room with 1 queen and 2 twins, we were advised that there were not any other rooms and could put the (2) beds together, which we did and it was no issue as far as sleeping.',\n",
       " 'Noisy noisy suite on 4th floor.',\n",
       " 'no way to lock the door.']"
      ]
     },
     "execution_count": 85,
     "metadata": {},
     "output_type": "execute_result"
    }
   ],
   "source": [
    "texts"
   ]
  },
  {
   "cell_type": "code",
   "execution_count": 86,
   "metadata": {
    "ExecuteTime": {
     "end_time": "2019-11-19T05:15:18.232928Z",
     "start_time": "2019-11-19T05:15:18.228400Z"
    }
   },
   "outputs": [],
   "source": [
    "stemmer = PorterStemmer()\n",
    "\n",
    "def process_text(text):\n",
    "    # Make all the strings lowercase and remove non alphabetic characters\n",
    "    text = re.sub('[^A-Za-z]', ' ', text.lower())\n",
    "\n",
    "    # Tokenize the text; this is, separate every sentence into a list of words\n",
    "    # Since the text is already split into sentences you don't have to call sent_tokenize\n",
    "    tokenized_text = word_tokenize(text)\n",
    "\n",
    "    # Remove the stopwords and stem each word to its root\n",
    "    clean_text = [\n",
    "        stemmer.stem(word) for word in tokenized_text\n",
    "        if word not in stopwords.words('english')\n",
    "    ]\n",
    "\n",
    "    # Remember, this final output is a list of words\n",
    "    return clean_text"
   ]
  },
  {
   "cell_type": "code",
   "execution_count": 87,
   "metadata": {
    "ExecuteTime": {
     "end_time": "2019-11-19T05:15:20.254671Z",
     "start_time": "2019-11-19T05:15:18.235054Z"
    }
   },
   "outputs": [],
   "source": [
    "df_raw['ML_message_processed'] = df_raw['message'].apply(process_text)"
   ]
  },
  {
   "cell_type": "code",
   "execution_count": 88,
   "metadata": {
    "ExecuteTime": {
     "end_time": "2019-11-19T05:15:20.274324Z",
     "start_time": "2019-11-19T05:15:20.256996Z"
    }
   },
   "outputs": [
    {
     "data": {
      "text/plain": [
       "0      [hello, tri, instal, glx, dapper, ati, mobil, ibm, laptop, follow, guid, ubuntuforum, org, work, describ, will, help, think, anyth, except, chang, driver, xorg, conf, ati, fglrx, forum, tell, star...\n",
       "1                   [curiou, mani, app, instal, via, apt, get, add, remov, app, exampl, zsh, mpd, add, remov, meant, noob, version, synapt, want, gui, packag, use, synapt, system, admin, synapt, aha, thank]\n",
       "2      [anyon, familar, digg, post, gutsi, feisti, overwork, harddriv, workaround, supposedli, set, advanc, power, manag, drive, hparm, b, devic, tri, set, drive, get, io, error, use, regular, ide, sata,...\n",
       "3      [hey, someon, help, prob, mean, find, solut, prob, laptop, die, took, hdd, usb, hddcase, tri, copi, file, anoth, ubuntu, machin, machn, old, dont, boot, usb, permiss, copi, file, way, login, ubunt...\n",
       "4      [slow, zsh, better, anyway, use, abl, work, wonder, zsh, gotten, lazi, feel, come, wrote, zsh, script, organ, music, cuz, renam, packag, xfce, segfault, one, time, hop, bunch, speed, though, sound...\n",
       "5      [look, use, web, browser, view, webcam, either, local, connect, via, internet, might, worth, look, app, call, motion, use, motion, detect, movement, thank, much, tipp, motion, great, would, like, ...\n",
       "6                                                           [updat, kernel, gener, use, adept, manag, system, slow, compiz, slow, help, still, use, acceler, video, find, slow, system, pleas, acceler, video]\n",
       "7      [hey, got, question, ubuntu, instal, instal, ubuntu, comput, post, get, direct, text, log, prompt, log, tell, mani, packag, date, seem, like, error, messag, say, intel, ae, ni, instruct, detect, a...\n",
       "8                                                                                                                                  [join, blender, sorri, tryign, type, join, pleas, advertis, chan, ah, okay]\n",
       "9                                                                                                                                                              [use, pocket, pc, ubuntu, sync, pleas, possibl]\n",
       "10                                                                         [wonder, well, ubuntu, would, run, pentium, mb, ram, mb, hd, heh, xfce, depend, great, instal, gnome, kde, stick, minimalistix, wm]\n",
       "11                                                                                                                               [hi, ubuntu, support, serial, port, need, help, pleas, far, know, ye, reason]\n",
       "12                            [transmiss, default, download, believ, thank, creat, directori, cli, command, line, interfac, run, transmiss, daemon, headless, comput, use, browser, connect, headless, comput]\n",
       "13                                                                                                          [support, ubuntu, commerci, pay, dont, understand, work, net, book, bunch, issu, wlan, card, issu]\n",
       "14     [question, though, also, like, access, window, ubuntu, via, virtualbox, two, question, window, slower, much, slower, need, leav, empti, partit, window, instal, somewher, like, home, run, vb, creat...\n",
       "15                                                                        [help, canon, printer, pleas, model, also, cannon, provid, driver, ip, seri, printer, www, turboprint, de, low, set, free, tri, bjc]\n",
       "16                     [connect, internet, use, pppoe, connect, ubuntu, give, error, say, anyth, click, network, icon, near, clock, select, dsl, connect, tri, connect, fail, termin, execut, sudo, pppoeconf]\n",
       "17                                                                                                                         [ned, firewal, wiht, ubuntu, need, firewal, softwar, instal, ubuntu, short, answer]\n",
       "18     [hello, instal, ubuntu, extern, hdd, cant, bbot, chang, bio, set, boot, remov, dev, there, noth, els, intern, hdd, dont, wan, na, boot, doesnt, boot, boot, window, instead, window, boot, edbian, e...\n",
       "19                                                                                                                  [pinpoint, problem, tri, w, www, googl, com, text, base, browser, dont, good, luck, thank]\n",
       "20                                                                                                                   [anyon, help, still, issu, skype, minecraft, issu, minecraft, network, issu, site, block]\n",
       "21     [hey, anybodi, know, make, window, titl, bar, transpar, im, run, feisti, sinc, desktop, effect, workin, good, thot, myt, tri, make, border, look, nicer, alt, scroll, mous, wheel, desktop, effect, ...\n",
       "22                                        [play, mp, file, need, instal, http, www, ubuntulinux, org, wiki, restrictedformat, thx, could, use, search, function, ubuntulinux, org, prob, url, open, cut, past]\n",
       "23     [hello, problem, open, new, session, anoth, user, ubuntu, screen, goe, black, linux, keep, work, go, first, sessino, use, ctrl, alt, f, see, anyth, new, termin, mous, idea, log, could, check, anyw...\n",
       "24                                                                                                                                               [what, good, ftp, client, nautilu, commandlin, lftp, nautilu]\n",
       "25     [instal, window, program, use, wine, problem, run, said, program, hint, depend, applic, one, everi, window, prog, run, wine, look, www, winehq, org, applic, page, tell, work, often, someon, post, ...\n",
       "26     [broken, instal, ubuntu, boot, window, instal, anoth, sidk, danger, format, ubunu, disk, reinstal, ubuntu, alway, recommend, backup, inform, anyth, partit, fine, use, ubuntu, partit, alway, back, ...\n",
       "27                                                                                                [hey, anyon, point, direct, need, java, look, wiki, look, http, wiki, ubuntu, com, java, use, method, thank]\n",
       "28                                                                                             [unabl, enabl, compiz, intel, use, work, perfectli, intel, integr, video, yeah, use, fine, year, jaunti, broke]\n",
       "29                                                                    [hey, anybodi, know, get, dvd, burner, work, ubuntu, get, dvd, burner, workin, ubuntu, check, ubuntu, info, ubuntu, recogn, dvd, burner]\n",
       "                                                                                                        ...                                                                                                   \n",
       "270                                                                                             [tri, reboot, connect, disk, format, ext, read, doc, ubuntu, websit, gpart, format, extern, disk, eras, thank]\n",
       "271    [anyon, know, fix, start, amavisd, error, config, file, etc, amavi, conf, domain, id, insecur, directori, env, path, run, switch, etc, amavi, conf, domain, id, line, look, referencv, line, work, t...\n",
       "272                                                                   [gvf, grand, find, annoi, fail, work, time, dont, see, need, hide, gvf, instead, home, usernam, network, type, name, imagin, ssh, close]\n",
       "273                                                                                 [long, guy, think, till, ff, bit, avail, repositori, avail, ppa, mozilla, team, msg, ubottu, ff, inform, bit, version, ye]\n",
       "274                                                                                                                                                                            [hello, need, help, pleas, ask]\n",
       "275                                                                                                 [hi, want, know, configur, boot, manag, boot, manag, boot, window, xp, default, go, boot, grub, menu, lst]\n",
       "276                                                                  [tri, wine, easi, reason, keep, one, around, make, sure, launch, gksudo, app, name, use, menu, editor, add, skgudo, command, line, entri]\n",
       "277    [system, act, want, fresh, instal, would, configur, next, system, would, lose, stuff, like, movi, download, year, well, ubuntu, let, make, home, partit, say, gb, say, rest, stuff, partit, etc, bin...\n",
       "278    [hi, anybodi, tri, clean, instal, vlc, mplayer, plugin, codec, still, miss, visual, sound, play, ok, hi, anybodi, tri, clean, instal, vlc, mplayer, plugin, codec, still, miss, visual, sound, play,...\n",
       "279                                                                      [exactli, ubuntu, rather, someth, let, talk, one, person, irc, client, use, msg, nick, queri, nick, even, q, cours, without, charact]\n",
       "280                                                             [anyon, know, upgrad, safe, upgrad, one, comput, horribl, result, exampl, termin, refresh, correctli, defin, safe, habit, wait, month, two, p]\n",
       "281                                                                                             [antiporn, ye, funni, may, sound, father, alot, site, im, tri, get, app, put, togeth, alreadi, keyword, stuff]\n",
       "282                                                                                                                 [hello, good, mornin, someon, help, get, applcat, switcher, work, use, gnome, classic, hi]\n",
       "283                                                                                                                                            [wont, su, work, ubuntu, ok, know, sudo, use, sudo, passwd, su]\n",
       "284                                                                                                      [worth, gb, ram, ye, oft, issu, beacaus, mani, bit, driver, bit, driver, soundcard, never, work, bit]\n",
       "285                                                                              [instal, latest, smp, kernel, system, instal, latest, smp, kernel, system, instal, latest, smp, kernel, system, repeat, help]\n",
       "286                                                                                                                                 [notic, ubuntu, request, restart, interest, kernel, upgrad, c, make, sens]\n",
       "287                                                                                                   [one, want, tackl, network, issu, p, tackl, want, es, licuadora, tackl, would, fix, problem, sure, hehe]\n",
       "288                                                                                        [command, output, mani, letter, word, like, count, abc, output, echo, supercalifragilisticexpialidoci, wc, c, cool]\n",
       "289                                                         [make, real, player, work, firefox, instal, opt, realplay, believ, ubuntuguid, explain, one, found, noth, sorri, thought, saw, might, wiki, unsur]\n",
       "290                                                                                               [anybodi, use, xchat, systray, plugin, tri, remov, xchat, bu, apt, tell, ubuntu, desktop, remov, import, ye]\n",
       "291                                                                                              [keystrok, kill, process, termin, keystrok, kill, process, termin, ctrl, c, gener, ctrl, z, send, background]\n",
       "292                                                                                         [anyon, know, program, mount, daa, format, poweriso, make, linux, mount, tool, mayb, modul, yah, convert, job, np]\n",
       "293                 [one, tell, set, screen, resolut, ubuntu, beta, boot, one, tell, set, screen, resolut, ubuntu, beta, boot, one, pleas, tell, set, screen, resolut, ubuntu, beta, boot, get, resolut, work]\n",
       "294                                                                                                                                   [pleas, flood, use, http, past, ubuntu, com, past, use, enter, punctuat]\n",
       "295                                                             [ok, upgrad, hope, produc, better, result, upgrad, maverick, sec, updat, manag, seem, say, someth, rc, also, expect, everi, mirror, hold, yet]\n",
       "296                  [gon, na, ask, latest, virtual, box, run, autocad, photoshop, accept, speed, thu, support, direct, thank, im, quit, hard, time, choos, virtual, machin, box, ive, heard, ubuntu, good, p]\n",
       "297                                                                                                                                                         [dholbert, cool, yup, languag, program, c, mostli]\n",
       "298                                                                                                                      [hi, turkey, talk, join, ubuntu, offtop, gener, chat, ubuntu, help, support, channel]\n",
       "299                                                                                                                      [mine, amd, k, special, circumst, fine, gener, fine, said, special, circumst, differ]\n",
       "Name: ML_message_processed, Length: 300, dtype: object"
      ]
     },
     "execution_count": 88,
     "metadata": {},
     "output_type": "execute_result"
    }
   ],
   "source": [
    "df_raw['ML_message_processed']"
   ]
  },
  {
   "cell_type": "code",
   "execution_count": 89,
   "metadata": {
    "ExecuteTime": {
     "end_time": "2019-11-19T05:15:20.279134Z",
     "start_time": "2019-11-19T05:15:20.275905Z"
    }
   },
   "outputs": [],
   "source": [
    "#Dont run\n",
    "##df_raw['ML_message_processed_2'] = df_raw['ML_message_processed'].apply(lambda x : [' '.join(x)])"
   ]
  },
  {
   "cell_type": "code",
   "execution_count": 90,
   "metadata": {
    "ExecuteTime": {
     "end_time": "2019-11-19T05:15:20.286987Z",
     "start_time": "2019-11-19T05:15:20.280719Z"
    }
   },
   "outputs": [],
   "source": [
    "ML_message_processed_3 = [text for text in df_raw['ML_message_processed']]"
   ]
  },
  {
   "cell_type": "code",
   "execution_count": 93,
   "metadata": {
    "ExecuteTime": {
     "end_time": "2019-11-19T05:15:39.303582Z",
     "start_time": "2019-11-19T05:15:39.301008Z"
    }
   },
   "outputs": [],
   "source": [
    "#TESTING\n",
    "# texts_processed = [process_text(text) for text in texts]\n",
    "# dictionary = corpora.Dictionary(texts_processed)\n",
    "# corpus = [dictionary.doc2bow(text) for text in texts_processed]"
   ]
  },
  {
   "cell_type": "code",
   "execution_count": 94,
   "metadata": {
    "ExecuteTime": {
     "end_time": "2019-11-19T05:15:39.361863Z",
     "start_time": "2019-11-19T05:15:39.308220Z"
    }
   },
   "outputs": [],
   "source": [
    "dictionary = corpora.Dictionary(ML_message_processed_3)\n",
    "corpus = [dictionary.doc2bow(text) for text in ML_message_processed_3]"
   ]
  },
  {
   "cell_type": "code",
   "execution_count": 95,
   "metadata": {
    "ExecuteTime": {
     "end_time": "2019-11-19T05:15:50.321428Z",
     "start_time": "2019-11-19T05:15:39.363899Z"
    }
   },
   "outputs": [
    {
     "name": "stdout",
     "output_type": "stream",
     "text": [
      "(0, '0.013*\"use\" + 0.013*\"file\" + 0.011*\"work\"')\n",
      "(1, '0.028*\"ubuntu\" + 0.015*\"instal\" + 0.013*\"use\"')\n",
      "(2, '0.014*\"instal\" + 0.013*\"get\" + 0.012*\"use\"')\n"
     ]
    }
   ],
   "source": [
    "# model = Lda(corpus, num_topics=3, id2word=dictionary, passes=15)\n",
    "\n",
    "LDA = gensim.models.ldamodel.LdaModel\n",
    "\n",
    "# Build LDA model\n",
    "model = LDA(corpus=corpus, id2word=dictionary, num_topics=3, random_state=100,\n",
    "                 passes=50)\n",
    "\n",
    "topics = model.print_topics(num_words=3)\n",
    "for topic in topics:\n",
    "    print(topic)"
   ]
  },
  {
   "cell_type": "markdown",
   "metadata": {},
   "source": [
    "# STACK ABUSE"
   ]
  },
  {
   "cell_type": "code",
   "execution_count": null,
   "metadata": {},
   "outputs": [],
   "source": []
  },
  {
   "cell_type": "code",
   "execution_count": null,
   "metadata": {},
   "outputs": [],
   "source": []
  },
  {
   "cell_type": "code",
   "execution_count": 96,
   "metadata": {
    "ExecuteTime": {
     "end_time": "2019-11-19T05:15:50.415789Z",
     "start_time": "2019-11-19T05:15:50.323769Z"
    }
   },
   "outputs": [],
   "source": [
    "from sklearn.feature_extraction.text import CountVectorizer\n",
    "count_vect = CountVectorizer(max_df=0.8, min_df=2, stop_words=stop_words)\n",
    "doc_term_matrix = count_vect.fit_transform(df_raw['message'].values.astype('U'))\n"
   ]
  },
  {
   "cell_type": "code",
   "execution_count": 97,
   "metadata": {
    "ExecuteTime": {
     "end_time": "2019-11-19T05:15:50.421654Z",
     "start_time": "2019-11-19T05:15:50.417796Z"
    }
   },
   "outputs": [
    {
     "data": {
      "text/plain": [
       "<300x836 sparse matrix of type '<class 'numpy.int64'>'\n",
       "\twith 4362 stored elements in Compressed Sparse Row format>"
      ]
     },
     "execution_count": 97,
     "metadata": {},
     "output_type": "execute_result"
    }
   ],
   "source": [
    "doc_term_matrix "
   ]
  },
  {
   "cell_type": "code",
   "execution_count": 98,
   "metadata": {
    "ExecuteTime": {
     "end_time": "2019-11-19T05:15:51.159310Z",
     "start_time": "2019-11-19T05:15:50.423445Z"
    }
   },
   "outputs": [
    {
     "data": {
      "text/plain": [
       "LatentDirichletAllocation(batch_size=128, doc_topic_prior=None,\n",
       "                          evaluate_every=-1, learning_decay=0.7,\n",
       "                          learning_method='batch', learning_offset=10.0,\n",
       "                          max_doc_update_iter=100, max_iter=10,\n",
       "                          mean_change_tol=0.001, n_components=5, n_jobs=None,\n",
       "                          perp_tol=0.1, random_state=42, topic_word_prior=None,\n",
       "                          total_samples=1000000.0, verbose=0)"
      ]
     },
     "execution_count": 98,
     "metadata": {},
     "output_type": "execute_result"
    }
   ],
   "source": [
    "from sklearn.decomposition import LatentDirichletAllocation\n",
    "\n",
    "LDA = LatentDirichletAllocation(n_components=5, random_state=42)\n",
    "LDA.fit(doc_term_matrix)\n"
   ]
  },
  {
   "cell_type": "code",
   "execution_count": 99,
   "metadata": {
    "ExecuteTime": {
     "end_time": "2019-11-19T05:15:51.173852Z",
     "start_time": "2019-11-19T05:15:51.160992Z"
    }
   },
   "outputs": [
    {
     "name": "stdout",
     "output_type": "stream",
     "text": [
      "patch\n",
      "hardware\n",
      "size\n",
      "yet\n",
      "defaults\n",
      "jsut\n",
      "write\n",
      "thank\n",
      "game\n",
      "away\n"
     ]
    }
   ],
   "source": [
    "import random\n",
    "\n",
    "for i in range(10):\n",
    "    random_id = random.randint(0,len(count_vect.get_feature_names()))\n",
    "    print(count_vect.get_feature_names()[random_id])\n"
   ]
  },
  {
   "cell_type": "code",
   "execution_count": 100,
   "metadata": {
    "ExecuteTime": {
     "end_time": "2019-11-19T05:15:51.179188Z",
     "start_time": "2019-11-19T05:15:51.175523Z"
    }
   },
   "outputs": [],
   "source": [
    "first_topic = LDA.components_[0]\n"
   ]
  },
  {
   "cell_type": "code",
   "execution_count": 101,
   "metadata": {
    "ExecuteTime": {
     "end_time": "2019-11-19T05:15:51.184705Z",
     "start_time": "2019-11-19T05:15:51.181775Z"
    }
   },
   "outputs": [],
   "source": [
    "top_topic_words = first_topic.argsort()[-10:]\n"
   ]
  },
  {
   "cell_type": "code",
   "execution_count": 102,
   "metadata": {
    "ExecuteTime": {
     "end_time": "2019-11-19T05:15:51.196369Z",
     "start_time": "2019-11-19T05:15:51.187017Z"
    }
   },
   "outputs": [
    {
     "name": "stdout",
     "output_type": "stream",
     "text": [
      "good\n",
      "want\n",
      "install\n",
      "would\n",
      "one\n",
      "home\n",
      "work\n",
      "anyone\n",
      "use\n",
      "know\n"
     ]
    }
   ],
   "source": [
    "for i in top_topic_words:\n",
    "    print(count_vect.get_feature_names()[i])\n"
   ]
  },
  {
   "cell_type": "code",
   "execution_count": 103,
   "metadata": {
    "ExecuteTime": {
     "end_time": "2019-11-19T05:15:51.225173Z",
     "start_time": "2019-11-19T05:15:51.197975Z"
    }
   },
   "outputs": [
    {
     "name": "stdout",
     "output_type": "stream",
     "text": [
      "Top 10 words for topic #0:\n",
      "['good', 'want', 'install', 'would', 'one', 'home', 'work', 'anyone', 'use', 'know']\n",
      "\n",
      "\n",
      "Top 10 words for topic #1:\n",
      "['anyone', 'know', 'hi', 'work', 'install', 'help', 'like', 'kernel', 'get', 'system']\n",
      "\n",
      "\n",
      "Top 10 words for topic #2:\n",
      "['fine', 'run', 'bit', 'boot', 'copy', 'hi', 'like', 'home', 'install', 'help']\n",
      "\n",
      "\n",
      "Top 10 words for topic #3:\n",
      "['gui', 'thanks', 'hi', 'help', '04', 'www', 'hey', 'file', 'one', 'use']\n",
      "\n",
      "\n",
      "Top 10 words for topic #4:\n",
      "['apt', 'xorg', 'etc', 'need', 'sudo', '10', 'file', 'get', 'install', 'use']\n",
      "\n",
      "\n"
     ]
    }
   ],
   "source": [
    "for i,topic in enumerate(LDA.components_):\n",
    "    print(f'Top 10 words for topic #{i}:')\n",
    "    print([count_vect.get_feature_names()[i] for i in topic.argsort()[-10:]])\n",
    "    print('\\n')\n"
   ]
  },
  {
   "cell_type": "code",
   "execution_count": 104,
   "metadata": {
    "ExecuteTime": {
     "end_time": "2019-11-19T05:15:51.271876Z",
     "start_time": "2019-11-19T05:15:51.226793Z"
    }
   },
   "outputs": [
    {
     "data": {
      "text/plain": [
       "(300, 5)"
      ]
     },
     "execution_count": 104,
     "metadata": {},
     "output_type": "execute_result"
    }
   ],
   "source": [
    "topic_values = LDA.transform(doc_term_matrix)\n",
    "topic_values.shape\n"
   ]
  },
  {
   "cell_type": "code",
   "execution_count": 105,
   "metadata": {
    "ExecuteTime": {
     "end_time": "2019-11-19T05:15:51.277379Z",
     "start_time": "2019-11-19T05:15:51.273595Z"
    }
   },
   "outputs": [],
   "source": [
    "df_raw['Topic'] = topic_values.argmax(axis=1)\n"
   ]
  },
  {
   "cell_type": "code",
   "execution_count": 106,
   "metadata": {
    "ExecuteTime": {
     "end_time": "2019-11-19T05:15:51.290530Z",
     "start_time": "2019-11-19T05:15:51.279069Z"
    }
   },
   "outputs": [
    {
     "data": {
      "text/html": [
       "<div>\n",
       "<style scoped>\n",
       "    .dataframe tbody tr th:only-of-type {\n",
       "        vertical-align: middle;\n",
       "    }\n",
       "\n",
       "    .dataframe tbody tr th {\n",
       "        vertical-align: top;\n",
       "    }\n",
       "\n",
       "    .dataframe thead th {\n",
       "        text-align: right;\n",
       "    }\n",
       "</style>\n",
       "<table border=\"1\" class=\"dataframe\">\n",
       "  <thead>\n",
       "    <tr style=\"text-align: right;\">\n",
       "      <th></th>\n",
       "      <th>message</th>\n",
       "      <th>reviews</th>\n",
       "      <th>Topic</th>\n",
       "    </tr>\n",
       "  </thead>\n",
       "  <tbody>\n",
       "    <tr>\n",
       "      <th>0</th>\n",
       "      <td>hello there. I am trying to install GLX on my Dapper (ATI 9200 mobile; IBM T42 laptop). I am following the guide that is on the Ubuntuforum.org, but it does not work as described. Who is willing t...</td>\n",
       "      <td>install dapper mobile laptop guide ubuntuforum work willing help anything change driver xorg conf fglrx forum gconf editor app compiz general screen option section app compiz gconf fglrx strange p...</td>\n",
       "      <td>4</td>\n",
       "    </tr>\n",
       "    <tr>\n",
       "      <th>1</th>\n",
       "      <td>curious:  why are many apps installable via apt-get but not Add/Remove Apps?. examples - zsh, mpd. because add/remove the meant to be the noob-version of synaptic, if you want a gui for packages u...</td>\n",
       "      <td>curious many app installable app example noob version synaptic want package synaptic system admin synaptic thank</td>\n",
       "      <td>4</td>\n",
       "    </tr>\n",
       "  </tbody>\n",
       "</table>\n",
       "</div>"
      ],
      "text/plain": [
       "                                                                                                                                                                                                   message  \\\n",
       "0  hello there. I am trying to install GLX on my Dapper (ATI 9200 mobile; IBM T42 laptop). I am following the guide that is on the Ubuntuforum.org, but it does not work as described. Who is willing t...   \n",
       "1  curious:  why are many apps installable via apt-get but not Add/Remove Apps?. examples - zsh, mpd. because add/remove the meant to be the noob-version of synaptic, if you want a gui for packages u...   \n",
       "\n",
       "                                                                                                                                                                                                   reviews  \\\n",
       "0  install dapper mobile laptop guide ubuntuforum work willing help anything change driver xorg conf fglrx forum gconf editor app compiz general screen option section app compiz gconf fglrx strange p...   \n",
       "1                                                                                         curious many app installable app example noob version synaptic want package synaptic system admin synaptic thank   \n",
       "\n",
       "   Topic  \n",
       "0      4  \n",
       "1      4  "
      ]
     },
     "execution_count": 106,
     "metadata": {},
     "output_type": "execute_result"
    }
   ],
   "source": [
    "df_raw[['message','reviews','Topic']].head(2)"
   ]
  },
  {
   "cell_type": "markdown",
   "metadata": {},
   "source": [
    "# STACKABUSE - NMF"
   ]
  },
  {
   "cell_type": "code",
   "execution_count": 107,
   "metadata": {
    "ExecuteTime": {
     "end_time": "2019-11-19T05:15:51.432811Z",
     "start_time": "2019-11-19T05:15:51.291997Z"
    }
   },
   "outputs": [],
   "source": [
    "tfidf_vect = TfidfVectorizer(max_df=0.8, min_df=20, stop_words=stop_words)\n",
    "doc_term_matrix = tfidf_vect.fit_transform(df_raw['message'].values.astype('U'))\n"
   ]
  },
  {
   "cell_type": "code",
   "execution_count": 108,
   "metadata": {
    "ExecuteTime": {
     "end_time": "2019-11-19T05:15:51.889691Z",
     "start_time": "2019-11-19T05:15:51.434428Z"
    }
   },
   "outputs": [
    {
     "data": {
      "text/plain": [
       "NMF(alpha=0.0, beta_loss='frobenius', init=None, l1_ratio=0.0, max_iter=200,\n",
       "    n_components=5, random_state=42, shuffle=False, solver='cd', tol=0.0001,\n",
       "    verbose=0)"
      ]
     },
     "execution_count": 108,
     "metadata": {},
     "output_type": "execute_result"
    }
   ],
   "source": [
    "from sklearn.decomposition import NMF\n",
    "\n",
    "nmf = NMF(n_components=5, random_state=42)\n",
    "nmf.fit(doc_term_matrix )\n"
   ]
  },
  {
   "cell_type": "code",
   "execution_count": 110,
   "metadata": {
    "ExecuteTime": {
     "end_time": "2019-11-19T05:16:22.715427Z",
     "start_time": "2019-11-19T05:16:22.710003Z"
    }
   },
   "outputs": [
    {
     "name": "stdout",
     "output_type": "stream",
     "text": [
      "yes\n",
      "file\n",
      "help\n",
      "hi\n",
      "system\n",
      "try\n",
      "need\n",
      "hi\n",
      "like\n",
      "one\n"
     ]
    }
   ],
   "source": [
    "import random\n",
    "\n",
    "for i in range(10):\n",
    "    random_id = random.randint(0,len(tfidf_vect.get_feature_names()))\n",
    "    print(tfidf_vect.get_feature_names()[random_id])\n"
   ]
  },
  {
   "cell_type": "code",
   "execution_count": 111,
   "metadata": {
    "ExecuteTime": {
     "end_time": "2019-11-19T05:16:22.749337Z",
     "start_time": "2019-11-19T05:16:22.717622Z"
    }
   },
   "outputs": [],
   "source": [
    "first_topic = nmf.components_[0]\n",
    "top_topic_words = first_topic.argsort()[-10:]\n"
   ]
  },
  {
   "cell_type": "code",
   "execution_count": 112,
   "metadata": {
    "ExecuteTime": {
     "end_time": "2019-11-19T05:16:22.756420Z",
     "start_time": "2019-11-19T05:16:22.751591Z"
    }
   },
   "outputs": [
    {
     "name": "stdout",
     "output_type": "stream",
     "text": [
      "make\n",
      "file\n",
      "want\n",
      "try\n",
      "system\n",
      "sudo\n",
      "10\n",
      "like\n",
      "install\n",
      "get\n"
     ]
    }
   ],
   "source": [
    "for i in top_topic_words:\n",
    "    print(tfidf_vect.get_feature_names()[i])\n"
   ]
  },
  {
   "cell_type": "code",
   "execution_count": 113,
   "metadata": {
    "ExecuteTime": {
     "end_time": "2019-11-19T05:16:22.764904Z",
     "start_time": "2019-11-19T05:16:22.758434Z"
    }
   },
   "outputs": [
    {
     "name": "stdout",
     "output_type": "stream",
     "text": [
      "Top 10 words for topic #0:\n",
      "['make', 'file', 'want', 'try', 'system', 'sudo', '10', 'like', 'install', 'get']\n",
      "\n",
      "\n",
      "Top 10 words for topic #1:\n",
      "['one', 'boot', 'work', 'like', 'yes', 'make', 'need', 'file', 'want', 'use']\n",
      "\n",
      "\n",
      "Top 10 words for topic #2:\n",
      "['install', 'hey', 'thanks', 'anyone', 'try', 'sudo', 'boot', 'like', 'need', 'help']\n",
      "\n",
      "\n",
      "Top 10 words for topic #3:\n",
      "['need', 'good', 'using', 'want', 'boot', 'know', 'system', 'thanks', 'yes', 'hi']\n",
      "\n",
      "\n",
      "Top 10 words for topic #4:\n",
      "['thanks', 'good', 'make', 'file', 'using', 'hey', 'one', 'know', 'work', 'anyone']\n",
      "\n",
      "\n"
     ]
    }
   ],
   "source": [
    "for i,topic in enumerate(nmf.components_):\n",
    "    print(f'Top 10 words for topic #{i}:')\n",
    "    print([tfidf_vect.get_feature_names()[i] for i in topic.argsort()[-10:]])\n",
    "    print('\\n')\n"
   ]
  },
  {
   "cell_type": "code",
   "execution_count": 114,
   "metadata": {
    "ExecuteTime": {
     "end_time": "2019-11-19T05:16:22.771382Z",
     "start_time": "2019-11-19T05:16:22.766566Z"
    }
   },
   "outputs": [],
   "source": [
    "topic_values = nmf.transform(doc_term_matrix)\n",
    "df_raw['Topic_NMF'] = topic_values.argmax(axis=1)\n",
    "\n"
   ]
  },
  {
   "cell_type": "code",
   "execution_count": 115,
   "metadata": {
    "ExecuteTime": {
     "end_time": "2019-11-19T05:16:22.784640Z",
     "start_time": "2019-11-19T05:16:22.773412Z"
    }
   },
   "outputs": [
    {
     "data": {
      "text/html": [
       "<div>\n",
       "<style scoped>\n",
       "    .dataframe tbody tr th:only-of-type {\n",
       "        vertical-align: middle;\n",
       "    }\n",
       "\n",
       "    .dataframe tbody tr th {\n",
       "        vertical-align: top;\n",
       "    }\n",
       "\n",
       "    .dataframe thead th {\n",
       "        text-align: right;\n",
       "    }\n",
       "</style>\n",
       "<table border=\"1\" class=\"dataframe\">\n",
       "  <thead>\n",
       "    <tr style=\"text-align: right;\">\n",
       "      <th></th>\n",
       "      <th>message</th>\n",
       "      <th>reviews</th>\n",
       "      <th>Topic_NMF</th>\n",
       "    </tr>\n",
       "  </thead>\n",
       "  <tbody>\n",
       "    <tr>\n",
       "      <th>0</th>\n",
       "      <td>hello there. I am trying to install GLX on my Dapper (ATI 9200 mobile; IBM T42 laptop). I am following the guide that is on the Ubuntuforum.org, but it does not work as described. Who is willing t...</td>\n",
       "      <td>install dapper mobile laptop guide ubuntuforum work willing help anything change driver xorg conf fglrx forum gconf editor app compiz general screen option section app compiz gconf fglrx strange p...</td>\n",
       "      <td>2</td>\n",
       "    </tr>\n",
       "    <tr>\n",
       "      <th>1</th>\n",
       "      <td>curious:  why are many apps installable via apt-get but not Add/Remove Apps?. examples - zsh, mpd. because add/remove the meant to be the noob-version of synaptic, if you want a gui for packages u...</td>\n",
       "      <td>curious many app installable app example noob version synaptic want package synaptic system admin synaptic thank</td>\n",
       "      <td>1</td>\n",
       "    </tr>\n",
       "  </tbody>\n",
       "</table>\n",
       "</div>"
      ],
      "text/plain": [
       "                                                                                                                                                                                                   message  \\\n",
       "0  hello there. I am trying to install GLX on my Dapper (ATI 9200 mobile; IBM T42 laptop). I am following the guide that is on the Ubuntuforum.org, but it does not work as described. Who is willing t...   \n",
       "1  curious:  why are many apps installable via apt-get but not Add/Remove Apps?. examples - zsh, mpd. because add/remove the meant to be the noob-version of synaptic, if you want a gui for packages u...   \n",
       "\n",
       "                                                                                                                                                                                                   reviews  \\\n",
       "0  install dapper mobile laptop guide ubuntuforum work willing help anything change driver xorg conf fglrx forum gconf editor app compiz general screen option section app compiz gconf fglrx strange p...   \n",
       "1                                                                                         curious many app installable app example noob version synaptic want package synaptic system admin synaptic thank   \n",
       "\n",
       "   Topic_NMF  \n",
       "0          2  \n",
       "1          1  "
      ]
     },
     "execution_count": 115,
     "metadata": {},
     "output_type": "execute_result"
    }
   ],
   "source": [
    "df_raw[['message','reviews','Topic_NMF']].head(2)"
   ]
  },
  {
   "cell_type": "code",
   "execution_count": null,
   "metadata": {},
   "outputs": [],
   "source": []
  },
  {
   "cell_type": "markdown",
   "metadata": {},
   "source": [
    "# Kaggle\n",
    "#https://www.kaggle.com/akashram/topic-modeling-intro-implementation"
   ]
  },
  {
   "cell_type": "code",
   "execution_count": 116,
   "metadata": {
    "ExecuteTime": {
     "end_time": "2019-11-19T05:16:23.059393Z",
     "start_time": "2019-11-19T05:16:22.808780Z"
    }
   },
   "outputs": [
    {
     "name": "stdout",
     "output_type": "stream",
     "text": [
      "(300, 4)\n"
     ]
    }
   ],
   "source": [
    "NUM_TOPICS = 4\n",
    "\n",
    "# Converting the document to a matrix of token counts\n",
    "\n",
    "vectorizer = CountVectorizer(min_df=5, max_df=0.9, \n",
    "                             stop_words=stop_words, lowercase=True, \n",
    "                             token_pattern='[a-zA-Z\\-][a-zA-Z\\-]{2,}')\n",
    "data_vectorized = vectorizer.fit_transform(df_raw['message'])\n",
    " \n",
    "# Build a Latent Semantic Indexing Model using SVD\n",
    "\n",
    "lsi_model = TruncatedSVD(n_components=NUM_TOPICS)\n",
    "lsi_Z = lsi_model.fit_transform(data_vectorized)\n",
    "print(lsi_Z.shape)"
   ]
  },
  {
   "cell_type": "code",
   "execution_count": 117,
   "metadata": {
    "ExecuteTime": {
     "end_time": "2019-11-19T05:16:23.073088Z",
     "start_time": "2019-11-19T05:16:23.061441Z"
    }
   },
   "outputs": [
    {
     "name": "stdout",
     "output_type": "stream",
     "text": [
      "LSI Model:\n",
      "Topic 0:\n",
      "[('install', 0.30367397486605635), ('use', 0.2651794829899074), ('file', 0.22369934028583152), ('help', 0.22058872201235313), ('like', 0.18161438488672255), ('anyone', 0.16802696549546964), ('get', 0.1661184657499606), ('system', 0.1651918976904261), ('know', 0.15614448287684582), ('need', 0.15482335698962596)]\n",
      "Topic 1:\n",
      "[('file', 0.6005204465473809), ('copy', 0.2120377207585475), ('home', 0.17919850957520886), ('etc', 0.1339748838758941), ('windows', 0.12803934012028298), ('files', 0.11691810799670051), ('use', 0.10951098323016466), ('http', 0.10868285918924148), ('www', 0.10060618450913364), ('conf', 0.07878344547150845)]\n",
      "Topic 2:\n",
      "[('anyone', 0.2904950794644361), ('http', 0.23549259846372955), ('www', 0.22179745550344346), ('com', 0.18297408663555043), ('help', 0.18279909719656975), ('one', 0.18105806613227446), ('know', 0.17438460610305073), ('tell', 0.1626051329693126), ('error', 0.1359164543407499), ('etc', 0.1279286166380831)]\n",
      "Topic 3:\n",
      "[('copy', 0.2850163536858888), ('system', 0.252175700349965), ('get', 0.2060056292668583), ('home', 0.17216377016936688), ('back', 0.16509047664928814), ('know', 0.15361029609545038), ('help', 0.14186574910421895), ('new', 0.13934463981665496), ('one', 0.13079619165452952), ('work', 0.12479349306920272)]\n",
      "====================\n"
     ]
    }
   ],
   "source": [
    "def print_topics(model, vectorizer, top_n=10):\n",
    "    for idx, topic in enumerate(model.components_):\n",
    "        print(\"Topic %d:\" % (idx))\n",
    "        print([(vectorizer.get_feature_names()[i], topic[i])\n",
    "                        for i in topic.argsort()[:-top_n - 1:-1]])\n",
    "print(\"LSI Model:\")\n",
    "print_topics(lsi_model, vectorizer)\n",
    "print(\"=\" * 20)"
   ]
  },
  {
   "cell_type": "code",
   "execution_count": 118,
   "metadata": {
    "ExecuteTime": {
     "end_time": "2019-11-19T05:16:23.099140Z",
     "start_time": "2019-11-19T05:16:23.075374Z"
    }
   },
   "outputs": [
    {
     "data": {
      "text/html": [
       "\n",
       "    <div class=\"bk-root\">\n",
       "        <a href=\"https://bokeh.pydata.org\" target=\"_blank\" class=\"bk-logo bk-logo-small bk-logo-notebook\"></a>\n",
       "        <span id=\"1505\">Loading BokehJS ...</span>\n",
       "    </div>"
      ]
     },
     "metadata": {},
     "output_type": "display_data"
    },
    {
     "data": {
      "application/javascript": [
       "\n",
       "(function(root) {\n",
       "  function now() {\n",
       "    return new Date();\n",
       "  }\n",
       "\n",
       "  var force = true;\n",
       "\n",
       "  if (typeof root._bokeh_onload_callbacks === \"undefined\" || force === true) {\n",
       "    root._bokeh_onload_callbacks = [];\n",
       "    root._bokeh_is_loading = undefined;\n",
       "  }\n",
       "\n",
       "  var JS_MIME_TYPE = 'application/javascript';\n",
       "  var HTML_MIME_TYPE = 'text/html';\n",
       "  var EXEC_MIME_TYPE = 'application/vnd.bokehjs_exec.v0+json';\n",
       "  var CLASS_NAME = 'output_bokeh rendered_html';\n",
       "\n",
       "  /**\n",
       "   * Render data to the DOM node\n",
       "   */\n",
       "  function render(props, node) {\n",
       "    var script = document.createElement(\"script\");\n",
       "    node.appendChild(script);\n",
       "  }\n",
       "\n",
       "  /**\n",
       "   * Handle when an output is cleared or removed\n",
       "   */\n",
       "  function handleClearOutput(event, handle) {\n",
       "    var cell = handle.cell;\n",
       "\n",
       "    var id = cell.output_area._bokeh_element_id;\n",
       "    var server_id = cell.output_area._bokeh_server_id;\n",
       "    // Clean up Bokeh references\n",
       "    if (id != null && id in Bokeh.index) {\n",
       "      Bokeh.index[id].model.document.clear();\n",
       "      delete Bokeh.index[id];\n",
       "    }\n",
       "\n",
       "    if (server_id !== undefined) {\n",
       "      // Clean up Bokeh references\n",
       "      var cmd = \"from bokeh.io.state import curstate; print(curstate().uuid_to_server['\" + server_id + \"'].get_sessions()[0].document.roots[0]._id)\";\n",
       "      cell.notebook.kernel.execute(cmd, {\n",
       "        iopub: {\n",
       "          output: function(msg) {\n",
       "            var id = msg.content.text.trim();\n",
       "            if (id in Bokeh.index) {\n",
       "              Bokeh.index[id].model.document.clear();\n",
       "              delete Bokeh.index[id];\n",
       "            }\n",
       "          }\n",
       "        }\n",
       "      });\n",
       "      // Destroy server and session\n",
       "      var cmd = \"import bokeh.io.notebook as ion; ion.destroy_server('\" + server_id + \"')\";\n",
       "      cell.notebook.kernel.execute(cmd);\n",
       "    }\n",
       "  }\n",
       "\n",
       "  /**\n",
       "   * Handle when a new output is added\n",
       "   */\n",
       "  function handleAddOutput(event, handle) {\n",
       "    var output_area = handle.output_area;\n",
       "    var output = handle.output;\n",
       "\n",
       "    // limit handleAddOutput to display_data with EXEC_MIME_TYPE content only\n",
       "    if ((output.output_type != \"display_data\") || (!output.data.hasOwnProperty(EXEC_MIME_TYPE))) {\n",
       "      return\n",
       "    }\n",
       "\n",
       "    var toinsert = output_area.element.find(\".\" + CLASS_NAME.split(' ')[0]);\n",
       "\n",
       "    if (output.metadata[EXEC_MIME_TYPE][\"id\"] !== undefined) {\n",
       "      toinsert[toinsert.length - 1].firstChild.textContent = output.data[JS_MIME_TYPE];\n",
       "      // store reference to embed id on output_area\n",
       "      output_area._bokeh_element_id = output.metadata[EXEC_MIME_TYPE][\"id\"];\n",
       "    }\n",
       "    if (output.metadata[EXEC_MIME_TYPE][\"server_id\"] !== undefined) {\n",
       "      var bk_div = document.createElement(\"div\");\n",
       "      bk_div.innerHTML = output.data[HTML_MIME_TYPE];\n",
       "      var script_attrs = bk_div.children[0].attributes;\n",
       "      for (var i = 0; i < script_attrs.length; i++) {\n",
       "        toinsert[toinsert.length - 1].firstChild.setAttribute(script_attrs[i].name, script_attrs[i].value);\n",
       "      }\n",
       "      // store reference to server id on output_area\n",
       "      output_area._bokeh_server_id = output.metadata[EXEC_MIME_TYPE][\"server_id\"];\n",
       "    }\n",
       "  }\n",
       "\n",
       "  function register_renderer(events, OutputArea) {\n",
       "\n",
       "    function append_mime(data, metadata, element) {\n",
       "      // create a DOM node to render to\n",
       "      var toinsert = this.create_output_subarea(\n",
       "        metadata,\n",
       "        CLASS_NAME,\n",
       "        EXEC_MIME_TYPE\n",
       "      );\n",
       "      this.keyboard_manager.register_events(toinsert);\n",
       "      // Render to node\n",
       "      var props = {data: data, metadata: metadata[EXEC_MIME_TYPE]};\n",
       "      render(props, toinsert[toinsert.length - 1]);\n",
       "      element.append(toinsert);\n",
       "      return toinsert\n",
       "    }\n",
       "\n",
       "    /* Handle when an output is cleared or removed */\n",
       "    events.on('clear_output.CodeCell', handleClearOutput);\n",
       "    events.on('delete.Cell', handleClearOutput);\n",
       "\n",
       "    /* Handle when a new output is added */\n",
       "    events.on('output_added.OutputArea', handleAddOutput);\n",
       "\n",
       "    /**\n",
       "     * Register the mime type and append_mime function with output_area\n",
       "     */\n",
       "    OutputArea.prototype.register_mime_type(EXEC_MIME_TYPE, append_mime, {\n",
       "      /* Is output safe? */\n",
       "      safe: true,\n",
       "      /* Index of renderer in `output_area.display_order` */\n",
       "      index: 0\n",
       "    });\n",
       "  }\n",
       "\n",
       "  // register the mime type if in Jupyter Notebook environment and previously unregistered\n",
       "  if (root.Jupyter !== undefined) {\n",
       "    var events = require('base/js/events');\n",
       "    var OutputArea = require('notebook/js/outputarea').OutputArea;\n",
       "\n",
       "    if (OutputArea.prototype.mime_types().indexOf(EXEC_MIME_TYPE) == -1) {\n",
       "      register_renderer(events, OutputArea);\n",
       "    }\n",
       "  }\n",
       "\n",
       "  \n",
       "  if (typeof (root._bokeh_timeout) === \"undefined\" || force === true) {\n",
       "    root._bokeh_timeout = Date.now() + 5000;\n",
       "    root._bokeh_failed_load = false;\n",
       "  }\n",
       "\n",
       "  var NB_LOAD_WARNING = {'data': {'text/html':\n",
       "     \"<div style='background-color: #fdd'>\\n\"+\n",
       "     \"<p>\\n\"+\n",
       "     \"BokehJS does not appear to have successfully loaded. If loading BokehJS from CDN, this \\n\"+\n",
       "     \"may be due to a slow or bad network connection. Possible fixes:\\n\"+\n",
       "     \"</p>\\n\"+\n",
       "     \"<ul>\\n\"+\n",
       "     \"<li>re-rerun `output_notebook()` to attempt to load from CDN again, or</li>\\n\"+\n",
       "     \"<li>use INLINE resources instead, as so:</li>\\n\"+\n",
       "     \"</ul>\\n\"+\n",
       "     \"<code>\\n\"+\n",
       "     \"from bokeh.resources import INLINE\\n\"+\n",
       "     \"output_notebook(resources=INLINE)\\n\"+\n",
       "     \"</code>\\n\"+\n",
       "     \"</div>\"}};\n",
       "\n",
       "  function display_loaded() {\n",
       "    var el = document.getElementById(\"1505\");\n",
       "    if (el != null) {\n",
       "      el.textContent = \"BokehJS is loading...\";\n",
       "    }\n",
       "    if (root.Bokeh !== undefined) {\n",
       "      if (el != null) {\n",
       "        el.textContent = \"BokehJS \" + root.Bokeh.version + \" successfully loaded.\";\n",
       "      }\n",
       "    } else if (Date.now() < root._bokeh_timeout) {\n",
       "      setTimeout(display_loaded, 100)\n",
       "    }\n",
       "  }\n",
       "\n",
       "\n",
       "  function run_callbacks() {\n",
       "    try {\n",
       "      root._bokeh_onload_callbacks.forEach(function(callback) {\n",
       "        if (callback != null)\n",
       "          callback();\n",
       "      });\n",
       "    } finally {\n",
       "      delete root._bokeh_onload_callbacks\n",
       "    }\n",
       "    console.debug(\"Bokeh: all callbacks have finished\");\n",
       "  }\n",
       "\n",
       "  function load_libs(css_urls, js_urls, callback) {\n",
       "    if (css_urls == null) css_urls = [];\n",
       "    if (js_urls == null) js_urls = [];\n",
       "\n",
       "    root._bokeh_onload_callbacks.push(callback);\n",
       "    if (root._bokeh_is_loading > 0) {\n",
       "      console.debug(\"Bokeh: BokehJS is being loaded, scheduling callback at\", now());\n",
       "      return null;\n",
       "    }\n",
       "    if (js_urls == null || js_urls.length === 0) {\n",
       "      run_callbacks();\n",
       "      return null;\n",
       "    }\n",
       "    console.debug(\"Bokeh: BokehJS not loaded, scheduling load and callback at\", now());\n",
       "    root._bokeh_is_loading = css_urls.length + js_urls.length;\n",
       "\n",
       "    function on_load() {\n",
       "      root._bokeh_is_loading--;\n",
       "      if (root._bokeh_is_loading === 0) {\n",
       "        console.debug(\"Bokeh: all BokehJS libraries/stylesheets loaded\");\n",
       "        run_callbacks()\n",
       "      }\n",
       "    }\n",
       "\n",
       "    function on_error() {\n",
       "      console.error(\"failed to load \" + url);\n",
       "    }\n",
       "\n",
       "    for (var i = 0; i < css_urls.length; i++) {\n",
       "      var url = css_urls[i];\n",
       "      const element = document.createElement(\"link\");\n",
       "      element.onload = on_load;\n",
       "      element.onerror = on_error;\n",
       "      element.rel = \"stylesheet\";\n",
       "      element.type = \"text/css\";\n",
       "      element.href = url;\n",
       "      console.debug(\"Bokeh: injecting link tag for BokehJS stylesheet: \", url);\n",
       "      document.body.appendChild(element);\n",
       "    }\n",
       "\n",
       "    for (var i = 0; i < js_urls.length; i++) {\n",
       "      var url = js_urls[i];\n",
       "      var element = document.createElement('script');\n",
       "      element.onload = on_load;\n",
       "      element.onerror = on_error;\n",
       "      element.async = false;\n",
       "      element.src = url;\n",
       "      console.debug(\"Bokeh: injecting script tag for BokehJS library: \", url);\n",
       "      document.head.appendChild(element);\n",
       "    }\n",
       "  };var element = document.getElementById(\"1505\");\n",
       "  if (element == null) {\n",
       "    console.error(\"Bokeh: ERROR: autoload.js configured with elementid '1505' but no matching script tag was found. \")\n",
       "    return false;\n",
       "  }\n",
       "\n",
       "  function inject_raw_css(css) {\n",
       "    const element = document.createElement(\"style\");\n",
       "    element.appendChild(document.createTextNode(css));\n",
       "    document.body.appendChild(element);\n",
       "  }\n",
       "\n",
       "  var js_urls = [\"https://cdn.pydata.org/bokeh/release/bokeh-1.3.4.min.js\", \"https://cdn.pydata.org/bokeh/release/bokeh-widgets-1.3.4.min.js\", \"https://cdn.pydata.org/bokeh/release/bokeh-tables-1.3.4.min.js\", \"https://cdn.pydata.org/bokeh/release/bokeh-gl-1.3.4.min.js\"];\n",
       "  var css_urls = [];\n",
       "\n",
       "  var inline_js = [\n",
       "    function(Bokeh) {\n",
       "      Bokeh.set_log_level(\"info\");\n",
       "    },\n",
       "    \n",
       "    function(Bokeh) {\n",
       "      \n",
       "    },\n",
       "    function(Bokeh) {} // ensure no trailing comma for IE\n",
       "  ];\n",
       "\n",
       "  function run_inline_js() {\n",
       "    \n",
       "    if ((root.Bokeh !== undefined) || (force === true)) {\n",
       "      for (var i = 0; i < inline_js.length; i++) {\n",
       "        inline_js[i].call(root, root.Bokeh);\n",
       "      }if (force === true) {\n",
       "        display_loaded();\n",
       "      }} else if (Date.now() < root._bokeh_timeout) {\n",
       "      setTimeout(run_inline_js, 100);\n",
       "    } else if (!root._bokeh_failed_load) {\n",
       "      console.log(\"Bokeh: BokehJS failed to load within specified timeout.\");\n",
       "      root._bokeh_failed_load = true;\n",
       "    } else if (force !== true) {\n",
       "      var cell = $(document.getElementById(\"1505\")).parents('.cell').data().cell;\n",
       "      cell.output_area.append_execute_result(NB_LOAD_WARNING)\n",
       "    }\n",
       "\n",
       "  }\n",
       "\n",
       "  if (root._bokeh_is_loading === 0) {\n",
       "    console.debug(\"Bokeh: BokehJS loaded, going straight to plotting\");\n",
       "    run_inline_js();\n",
       "  } else {\n",
       "    load_libs(css_urls, js_urls, function() {\n",
       "      console.debug(\"Bokeh: BokehJS plotting callback run at\", now());\n",
       "      run_inline_js();\n",
       "    });\n",
       "  }\n",
       "}(window));"
      ],
      "application/vnd.bokehjs_load.v0+json": "\n(function(root) {\n  function now() {\n    return new Date();\n  }\n\n  var force = true;\n\n  if (typeof root._bokeh_onload_callbacks === \"undefined\" || force === true) {\n    root._bokeh_onload_callbacks = [];\n    root._bokeh_is_loading = undefined;\n  }\n\n  \n\n  \n  if (typeof (root._bokeh_timeout) === \"undefined\" || force === true) {\n    root._bokeh_timeout = Date.now() + 5000;\n    root._bokeh_failed_load = false;\n  }\n\n  var NB_LOAD_WARNING = {'data': {'text/html':\n     \"<div style='background-color: #fdd'>\\n\"+\n     \"<p>\\n\"+\n     \"BokehJS does not appear to have successfully loaded. If loading BokehJS from CDN, this \\n\"+\n     \"may be due to a slow or bad network connection. Possible fixes:\\n\"+\n     \"</p>\\n\"+\n     \"<ul>\\n\"+\n     \"<li>re-rerun `output_notebook()` to attempt to load from CDN again, or</li>\\n\"+\n     \"<li>use INLINE resources instead, as so:</li>\\n\"+\n     \"</ul>\\n\"+\n     \"<code>\\n\"+\n     \"from bokeh.resources import INLINE\\n\"+\n     \"output_notebook(resources=INLINE)\\n\"+\n     \"</code>\\n\"+\n     \"</div>\"}};\n\n  function display_loaded() {\n    var el = document.getElementById(\"1505\");\n    if (el != null) {\n      el.textContent = \"BokehJS is loading...\";\n    }\n    if (root.Bokeh !== undefined) {\n      if (el != null) {\n        el.textContent = \"BokehJS \" + root.Bokeh.version + \" successfully loaded.\";\n      }\n    } else if (Date.now() < root._bokeh_timeout) {\n      setTimeout(display_loaded, 100)\n    }\n  }\n\n\n  function run_callbacks() {\n    try {\n      root._bokeh_onload_callbacks.forEach(function(callback) {\n        if (callback != null)\n          callback();\n      });\n    } finally {\n      delete root._bokeh_onload_callbacks\n    }\n    console.debug(\"Bokeh: all callbacks have finished\");\n  }\n\n  function load_libs(css_urls, js_urls, callback) {\n    if (css_urls == null) css_urls = [];\n    if (js_urls == null) js_urls = [];\n\n    root._bokeh_onload_callbacks.push(callback);\n    if (root._bokeh_is_loading > 0) {\n      console.debug(\"Bokeh: BokehJS is being loaded, scheduling callback at\", now());\n      return null;\n    }\n    if (js_urls == null || js_urls.length === 0) {\n      run_callbacks();\n      return null;\n    }\n    console.debug(\"Bokeh: BokehJS not loaded, scheduling load and callback at\", now());\n    root._bokeh_is_loading = css_urls.length + js_urls.length;\n\n    function on_load() {\n      root._bokeh_is_loading--;\n      if (root._bokeh_is_loading === 0) {\n        console.debug(\"Bokeh: all BokehJS libraries/stylesheets loaded\");\n        run_callbacks()\n      }\n    }\n\n    function on_error() {\n      console.error(\"failed to load \" + url);\n    }\n\n    for (var i = 0; i < css_urls.length; i++) {\n      var url = css_urls[i];\n      const element = document.createElement(\"link\");\n      element.onload = on_load;\n      element.onerror = on_error;\n      element.rel = \"stylesheet\";\n      element.type = \"text/css\";\n      element.href = url;\n      console.debug(\"Bokeh: injecting link tag for BokehJS stylesheet: \", url);\n      document.body.appendChild(element);\n    }\n\n    for (var i = 0; i < js_urls.length; i++) {\n      var url = js_urls[i];\n      var element = document.createElement('script');\n      element.onload = on_load;\n      element.onerror = on_error;\n      element.async = false;\n      element.src = url;\n      console.debug(\"Bokeh: injecting script tag for BokehJS library: \", url);\n      document.head.appendChild(element);\n    }\n  };var element = document.getElementById(\"1505\");\n  if (element == null) {\n    console.error(\"Bokeh: ERROR: autoload.js configured with elementid '1505' but no matching script tag was found. \")\n    return false;\n  }\n\n  function inject_raw_css(css) {\n    const element = document.createElement(\"style\");\n    element.appendChild(document.createTextNode(css));\n    document.body.appendChild(element);\n  }\n\n  var js_urls = [\"https://cdn.pydata.org/bokeh/release/bokeh-1.3.4.min.js\", \"https://cdn.pydata.org/bokeh/release/bokeh-widgets-1.3.4.min.js\", \"https://cdn.pydata.org/bokeh/release/bokeh-tables-1.3.4.min.js\", \"https://cdn.pydata.org/bokeh/release/bokeh-gl-1.3.4.min.js\"];\n  var css_urls = [];\n\n  var inline_js = [\n    function(Bokeh) {\n      Bokeh.set_log_level(\"info\");\n    },\n    \n    function(Bokeh) {\n      \n    },\n    function(Bokeh) {} // ensure no trailing comma for IE\n  ];\n\n  function run_inline_js() {\n    \n    if ((root.Bokeh !== undefined) || (force === true)) {\n      for (var i = 0; i < inline_js.length; i++) {\n        inline_js[i].call(root, root.Bokeh);\n      }if (force === true) {\n        display_loaded();\n      }} else if (Date.now() < root._bokeh_timeout) {\n      setTimeout(run_inline_js, 100);\n    } else if (!root._bokeh_failed_load) {\n      console.log(\"Bokeh: BokehJS failed to load within specified timeout.\");\n      root._bokeh_failed_load = true;\n    } else if (force !== true) {\n      var cell = $(document.getElementById(\"1505\")).parents('.cell').data().cell;\n      cell.output_area.append_execute_result(NB_LOAD_WARNING)\n    }\n\n  }\n\n  if (root._bokeh_is_loading === 0) {\n    console.debug(\"Bokeh: BokehJS loaded, going straight to plotting\");\n    run_inline_js();\n  } else {\n    load_libs(css_urls, js_urls, function() {\n      console.debug(\"Bokeh: BokehJS plotting callback run at\", now());\n      run_inline_js();\n    });\n  }\n}(window));"
     },
     "metadata": {},
     "output_type": "display_data"
    }
   ],
   "source": [
    "# NLTK\n",
    "from nltk.tokenize import RegexpTokenizer\n",
    "from nltk.stem.snowball import SnowballStemmer\n",
    "from nltk.corpus import stopwords\n",
    "import re\n",
    "\n",
    "# Visualization\n",
    "import matplotlib.pyplot as plt\n",
    "import matplotlib.patches as mpatches\n",
    "import matplotlib\n",
    "%matplotlib inline\n",
    "import seaborn as sns\n",
    "\n",
    "# Bokeh\n",
    "from bokeh.io import output_notebook\n",
    "from bokeh.plotting import figure, show\n",
    "from bokeh.models import HoverTool, CustomJS, ColumnDataSource, Slider\n",
    "from bokeh.layouts import column\n",
    "from bokeh.palettes import all_palettes\n",
    "output_notebook()"
   ]
  },
  {
   "cell_type": "code",
   "execution_count": 119,
   "metadata": {
    "ExecuteTime": {
     "end_time": "2019-11-19T05:16:23.741159Z",
     "start_time": "2019-11-19T05:16:23.102042Z"
    }
   },
   "outputs": [
    {
     "data": {
      "text/html": [
       "\n",
       "    <div class=\"bk-root\">\n",
       "        <a href=\"https://bokeh.pydata.org\" target=\"_blank\" class=\"bk-logo bk-logo-small bk-logo-notebook\"></a>\n",
       "        <span id=\"1506\">Loading BokehJS ...</span>\n",
       "    </div>"
      ]
     },
     "metadata": {},
     "output_type": "display_data"
    },
    {
     "data": {
      "application/javascript": [
       "\n",
       "(function(root) {\n",
       "  function now() {\n",
       "    return new Date();\n",
       "  }\n",
       "\n",
       "  var force = true;\n",
       "\n",
       "  if (typeof root._bokeh_onload_callbacks === \"undefined\" || force === true) {\n",
       "    root._bokeh_onload_callbacks = [];\n",
       "    root._bokeh_is_loading = undefined;\n",
       "  }\n",
       "\n",
       "  var JS_MIME_TYPE = 'application/javascript';\n",
       "  var HTML_MIME_TYPE = 'text/html';\n",
       "  var EXEC_MIME_TYPE = 'application/vnd.bokehjs_exec.v0+json';\n",
       "  var CLASS_NAME = 'output_bokeh rendered_html';\n",
       "\n",
       "  /**\n",
       "   * Render data to the DOM node\n",
       "   */\n",
       "  function render(props, node) {\n",
       "    var script = document.createElement(\"script\");\n",
       "    node.appendChild(script);\n",
       "  }\n",
       "\n",
       "  /**\n",
       "   * Handle when an output is cleared or removed\n",
       "   */\n",
       "  function handleClearOutput(event, handle) {\n",
       "    var cell = handle.cell;\n",
       "\n",
       "    var id = cell.output_area._bokeh_element_id;\n",
       "    var server_id = cell.output_area._bokeh_server_id;\n",
       "    // Clean up Bokeh references\n",
       "    if (id != null && id in Bokeh.index) {\n",
       "      Bokeh.index[id].model.document.clear();\n",
       "      delete Bokeh.index[id];\n",
       "    }\n",
       "\n",
       "    if (server_id !== undefined) {\n",
       "      // Clean up Bokeh references\n",
       "      var cmd = \"from bokeh.io.state import curstate; print(curstate().uuid_to_server['\" + server_id + \"'].get_sessions()[0].document.roots[0]._id)\";\n",
       "      cell.notebook.kernel.execute(cmd, {\n",
       "        iopub: {\n",
       "          output: function(msg) {\n",
       "            var id = msg.content.text.trim();\n",
       "            if (id in Bokeh.index) {\n",
       "              Bokeh.index[id].model.document.clear();\n",
       "              delete Bokeh.index[id];\n",
       "            }\n",
       "          }\n",
       "        }\n",
       "      });\n",
       "      // Destroy server and session\n",
       "      var cmd = \"import bokeh.io.notebook as ion; ion.destroy_server('\" + server_id + \"')\";\n",
       "      cell.notebook.kernel.execute(cmd);\n",
       "    }\n",
       "  }\n",
       "\n",
       "  /**\n",
       "   * Handle when a new output is added\n",
       "   */\n",
       "  function handleAddOutput(event, handle) {\n",
       "    var output_area = handle.output_area;\n",
       "    var output = handle.output;\n",
       "\n",
       "    // limit handleAddOutput to display_data with EXEC_MIME_TYPE content only\n",
       "    if ((output.output_type != \"display_data\") || (!output.data.hasOwnProperty(EXEC_MIME_TYPE))) {\n",
       "      return\n",
       "    }\n",
       "\n",
       "    var toinsert = output_area.element.find(\".\" + CLASS_NAME.split(' ')[0]);\n",
       "\n",
       "    if (output.metadata[EXEC_MIME_TYPE][\"id\"] !== undefined) {\n",
       "      toinsert[toinsert.length - 1].firstChild.textContent = output.data[JS_MIME_TYPE];\n",
       "      // store reference to embed id on output_area\n",
       "      output_area._bokeh_element_id = output.metadata[EXEC_MIME_TYPE][\"id\"];\n",
       "    }\n",
       "    if (output.metadata[EXEC_MIME_TYPE][\"server_id\"] !== undefined) {\n",
       "      var bk_div = document.createElement(\"div\");\n",
       "      bk_div.innerHTML = output.data[HTML_MIME_TYPE];\n",
       "      var script_attrs = bk_div.children[0].attributes;\n",
       "      for (var i = 0; i < script_attrs.length; i++) {\n",
       "        toinsert[toinsert.length - 1].firstChild.setAttribute(script_attrs[i].name, script_attrs[i].value);\n",
       "      }\n",
       "      // store reference to server id on output_area\n",
       "      output_area._bokeh_server_id = output.metadata[EXEC_MIME_TYPE][\"server_id\"];\n",
       "    }\n",
       "  }\n",
       "\n",
       "  function register_renderer(events, OutputArea) {\n",
       "\n",
       "    function append_mime(data, metadata, element) {\n",
       "      // create a DOM node to render to\n",
       "      var toinsert = this.create_output_subarea(\n",
       "        metadata,\n",
       "        CLASS_NAME,\n",
       "        EXEC_MIME_TYPE\n",
       "      );\n",
       "      this.keyboard_manager.register_events(toinsert);\n",
       "      // Render to node\n",
       "      var props = {data: data, metadata: metadata[EXEC_MIME_TYPE]};\n",
       "      render(props, toinsert[toinsert.length - 1]);\n",
       "      element.append(toinsert);\n",
       "      return toinsert\n",
       "    }\n",
       "\n",
       "    /* Handle when an output is cleared or removed */\n",
       "    events.on('clear_output.CodeCell', handleClearOutput);\n",
       "    events.on('delete.Cell', handleClearOutput);\n",
       "\n",
       "    /* Handle when a new output is added */\n",
       "    events.on('output_added.OutputArea', handleAddOutput);\n",
       "\n",
       "    /**\n",
       "     * Register the mime type and append_mime function with output_area\n",
       "     */\n",
       "    OutputArea.prototype.register_mime_type(EXEC_MIME_TYPE, append_mime, {\n",
       "      /* Is output safe? */\n",
       "      safe: true,\n",
       "      /* Index of renderer in `output_area.display_order` */\n",
       "      index: 0\n",
       "    });\n",
       "  }\n",
       "\n",
       "  // register the mime type if in Jupyter Notebook environment and previously unregistered\n",
       "  if (root.Jupyter !== undefined) {\n",
       "    var events = require('base/js/events');\n",
       "    var OutputArea = require('notebook/js/outputarea').OutputArea;\n",
       "\n",
       "    if (OutputArea.prototype.mime_types().indexOf(EXEC_MIME_TYPE) == -1) {\n",
       "      register_renderer(events, OutputArea);\n",
       "    }\n",
       "  }\n",
       "\n",
       "  \n",
       "  if (typeof (root._bokeh_timeout) === \"undefined\" || force === true) {\n",
       "    root._bokeh_timeout = Date.now() + 5000;\n",
       "    root._bokeh_failed_load = false;\n",
       "  }\n",
       "\n",
       "  var NB_LOAD_WARNING = {'data': {'text/html':\n",
       "     \"<div style='background-color: #fdd'>\\n\"+\n",
       "     \"<p>\\n\"+\n",
       "     \"BokehJS does not appear to have successfully loaded. If loading BokehJS from CDN, this \\n\"+\n",
       "     \"may be due to a slow or bad network connection. Possible fixes:\\n\"+\n",
       "     \"</p>\\n\"+\n",
       "     \"<ul>\\n\"+\n",
       "     \"<li>re-rerun `output_notebook()` to attempt to load from CDN again, or</li>\\n\"+\n",
       "     \"<li>use INLINE resources instead, as so:</li>\\n\"+\n",
       "     \"</ul>\\n\"+\n",
       "     \"<code>\\n\"+\n",
       "     \"from bokeh.resources import INLINE\\n\"+\n",
       "     \"output_notebook(resources=INLINE)\\n\"+\n",
       "     \"</code>\\n\"+\n",
       "     \"</div>\"}};\n",
       "\n",
       "  function display_loaded() {\n",
       "    var el = document.getElementById(\"1506\");\n",
       "    if (el != null) {\n",
       "      el.textContent = \"BokehJS is loading...\";\n",
       "    }\n",
       "    if (root.Bokeh !== undefined) {\n",
       "      if (el != null) {\n",
       "        el.textContent = \"BokehJS \" + root.Bokeh.version + \" successfully loaded.\";\n",
       "      }\n",
       "    } else if (Date.now() < root._bokeh_timeout) {\n",
       "      setTimeout(display_loaded, 100)\n",
       "    }\n",
       "  }\n",
       "\n",
       "\n",
       "  function run_callbacks() {\n",
       "    try {\n",
       "      root._bokeh_onload_callbacks.forEach(function(callback) {\n",
       "        if (callback != null)\n",
       "          callback();\n",
       "      });\n",
       "    } finally {\n",
       "      delete root._bokeh_onload_callbacks\n",
       "    }\n",
       "    console.debug(\"Bokeh: all callbacks have finished\");\n",
       "  }\n",
       "\n",
       "  function load_libs(css_urls, js_urls, callback) {\n",
       "    if (css_urls == null) css_urls = [];\n",
       "    if (js_urls == null) js_urls = [];\n",
       "\n",
       "    root._bokeh_onload_callbacks.push(callback);\n",
       "    if (root._bokeh_is_loading > 0) {\n",
       "      console.debug(\"Bokeh: BokehJS is being loaded, scheduling callback at\", now());\n",
       "      return null;\n",
       "    }\n",
       "    if (js_urls == null || js_urls.length === 0) {\n",
       "      run_callbacks();\n",
       "      return null;\n",
       "    }\n",
       "    console.debug(\"Bokeh: BokehJS not loaded, scheduling load and callback at\", now());\n",
       "    root._bokeh_is_loading = css_urls.length + js_urls.length;\n",
       "\n",
       "    function on_load() {\n",
       "      root._bokeh_is_loading--;\n",
       "      if (root._bokeh_is_loading === 0) {\n",
       "        console.debug(\"Bokeh: all BokehJS libraries/stylesheets loaded\");\n",
       "        run_callbacks()\n",
       "      }\n",
       "    }\n",
       "\n",
       "    function on_error() {\n",
       "      console.error(\"failed to load \" + url);\n",
       "    }\n",
       "\n",
       "    for (var i = 0; i < css_urls.length; i++) {\n",
       "      var url = css_urls[i];\n",
       "      const element = document.createElement(\"link\");\n",
       "      element.onload = on_load;\n",
       "      element.onerror = on_error;\n",
       "      element.rel = \"stylesheet\";\n",
       "      element.type = \"text/css\";\n",
       "      element.href = url;\n",
       "      console.debug(\"Bokeh: injecting link tag for BokehJS stylesheet: \", url);\n",
       "      document.body.appendChild(element);\n",
       "    }\n",
       "\n",
       "    for (var i = 0; i < js_urls.length; i++) {\n",
       "      var url = js_urls[i];\n",
       "      var element = document.createElement('script');\n",
       "      element.onload = on_load;\n",
       "      element.onerror = on_error;\n",
       "      element.async = false;\n",
       "      element.src = url;\n",
       "      console.debug(\"Bokeh: injecting script tag for BokehJS library: \", url);\n",
       "      document.head.appendChild(element);\n",
       "    }\n",
       "  };var element = document.getElementById(\"1506\");\n",
       "  if (element == null) {\n",
       "    console.error(\"Bokeh: ERROR: autoload.js configured with elementid '1506' but no matching script tag was found. \")\n",
       "    return false;\n",
       "  }\n",
       "\n",
       "  function inject_raw_css(css) {\n",
       "    const element = document.createElement(\"style\");\n",
       "    element.appendChild(document.createTextNode(css));\n",
       "    document.body.appendChild(element);\n",
       "  }\n",
       "\n",
       "  var js_urls = [\"https://cdn.pydata.org/bokeh/release/bokeh-1.3.4.min.js\", \"https://cdn.pydata.org/bokeh/release/bokeh-widgets-1.3.4.min.js\", \"https://cdn.pydata.org/bokeh/release/bokeh-tables-1.3.4.min.js\", \"https://cdn.pydata.org/bokeh/release/bokeh-gl-1.3.4.min.js\"];\n",
       "  var css_urls = [];\n",
       "\n",
       "  var inline_js = [\n",
       "    function(Bokeh) {\n",
       "      Bokeh.set_log_level(\"info\");\n",
       "    },\n",
       "    \n",
       "    function(Bokeh) {\n",
       "      \n",
       "    },\n",
       "    function(Bokeh) {} // ensure no trailing comma for IE\n",
       "  ];\n",
       "\n",
       "  function run_inline_js() {\n",
       "    \n",
       "    if ((root.Bokeh !== undefined) || (force === true)) {\n",
       "      for (var i = 0; i < inline_js.length; i++) {\n",
       "        inline_js[i].call(root, root.Bokeh);\n",
       "      }if (force === true) {\n",
       "        display_loaded();\n",
       "      }} else if (Date.now() < root._bokeh_timeout) {\n",
       "      setTimeout(run_inline_js, 100);\n",
       "    } else if (!root._bokeh_failed_load) {\n",
       "      console.log(\"Bokeh: BokehJS failed to load within specified timeout.\");\n",
       "      root._bokeh_failed_load = true;\n",
       "    } else if (force !== true) {\n",
       "      var cell = $(document.getElementById(\"1506\")).parents('.cell').data().cell;\n",
       "      cell.output_area.append_execute_result(NB_LOAD_WARNING)\n",
       "    }\n",
       "\n",
       "  }\n",
       "\n",
       "  if (root._bokeh_is_loading === 0) {\n",
       "    console.debug(\"Bokeh: BokehJS loaded, going straight to plotting\");\n",
       "    run_inline_js();\n",
       "  } else {\n",
       "    load_libs(css_urls, js_urls, function() {\n",
       "      console.debug(\"Bokeh: BokehJS plotting callback run at\", now());\n",
       "      run_inline_js();\n",
       "    });\n",
       "  }\n",
       "}(window));"
      ],
      "application/vnd.bokehjs_load.v0+json": "\n(function(root) {\n  function now() {\n    return new Date();\n  }\n\n  var force = true;\n\n  if (typeof root._bokeh_onload_callbacks === \"undefined\" || force === true) {\n    root._bokeh_onload_callbacks = [];\n    root._bokeh_is_loading = undefined;\n  }\n\n  \n\n  \n  if (typeof (root._bokeh_timeout) === \"undefined\" || force === true) {\n    root._bokeh_timeout = Date.now() + 5000;\n    root._bokeh_failed_load = false;\n  }\n\n  var NB_LOAD_WARNING = {'data': {'text/html':\n     \"<div style='background-color: #fdd'>\\n\"+\n     \"<p>\\n\"+\n     \"BokehJS does not appear to have successfully loaded. If loading BokehJS from CDN, this \\n\"+\n     \"may be due to a slow or bad network connection. Possible fixes:\\n\"+\n     \"</p>\\n\"+\n     \"<ul>\\n\"+\n     \"<li>re-rerun `output_notebook()` to attempt to load from CDN again, or</li>\\n\"+\n     \"<li>use INLINE resources instead, as so:</li>\\n\"+\n     \"</ul>\\n\"+\n     \"<code>\\n\"+\n     \"from bokeh.resources import INLINE\\n\"+\n     \"output_notebook(resources=INLINE)\\n\"+\n     \"</code>\\n\"+\n     \"</div>\"}};\n\n  function display_loaded() {\n    var el = document.getElementById(\"1506\");\n    if (el != null) {\n      el.textContent = \"BokehJS is loading...\";\n    }\n    if (root.Bokeh !== undefined) {\n      if (el != null) {\n        el.textContent = \"BokehJS \" + root.Bokeh.version + \" successfully loaded.\";\n      }\n    } else if (Date.now() < root._bokeh_timeout) {\n      setTimeout(display_loaded, 100)\n    }\n  }\n\n\n  function run_callbacks() {\n    try {\n      root._bokeh_onload_callbacks.forEach(function(callback) {\n        if (callback != null)\n          callback();\n      });\n    } finally {\n      delete root._bokeh_onload_callbacks\n    }\n    console.debug(\"Bokeh: all callbacks have finished\");\n  }\n\n  function load_libs(css_urls, js_urls, callback) {\n    if (css_urls == null) css_urls = [];\n    if (js_urls == null) js_urls = [];\n\n    root._bokeh_onload_callbacks.push(callback);\n    if (root._bokeh_is_loading > 0) {\n      console.debug(\"Bokeh: BokehJS is being loaded, scheduling callback at\", now());\n      return null;\n    }\n    if (js_urls == null || js_urls.length === 0) {\n      run_callbacks();\n      return null;\n    }\n    console.debug(\"Bokeh: BokehJS not loaded, scheduling load and callback at\", now());\n    root._bokeh_is_loading = css_urls.length + js_urls.length;\n\n    function on_load() {\n      root._bokeh_is_loading--;\n      if (root._bokeh_is_loading === 0) {\n        console.debug(\"Bokeh: all BokehJS libraries/stylesheets loaded\");\n        run_callbacks()\n      }\n    }\n\n    function on_error() {\n      console.error(\"failed to load \" + url);\n    }\n\n    for (var i = 0; i < css_urls.length; i++) {\n      var url = css_urls[i];\n      const element = document.createElement(\"link\");\n      element.onload = on_load;\n      element.onerror = on_error;\n      element.rel = \"stylesheet\";\n      element.type = \"text/css\";\n      element.href = url;\n      console.debug(\"Bokeh: injecting link tag for BokehJS stylesheet: \", url);\n      document.body.appendChild(element);\n    }\n\n    for (var i = 0; i < js_urls.length; i++) {\n      var url = js_urls[i];\n      var element = document.createElement('script');\n      element.onload = on_load;\n      element.onerror = on_error;\n      element.async = false;\n      element.src = url;\n      console.debug(\"Bokeh: injecting script tag for BokehJS library: \", url);\n      document.head.appendChild(element);\n    }\n  };var element = document.getElementById(\"1506\");\n  if (element == null) {\n    console.error(\"Bokeh: ERROR: autoload.js configured with elementid '1506' but no matching script tag was found. \")\n    return false;\n  }\n\n  function inject_raw_css(css) {\n    const element = document.createElement(\"style\");\n    element.appendChild(document.createTextNode(css));\n    document.body.appendChild(element);\n  }\n\n  var js_urls = [\"https://cdn.pydata.org/bokeh/release/bokeh-1.3.4.min.js\", \"https://cdn.pydata.org/bokeh/release/bokeh-widgets-1.3.4.min.js\", \"https://cdn.pydata.org/bokeh/release/bokeh-tables-1.3.4.min.js\", \"https://cdn.pydata.org/bokeh/release/bokeh-gl-1.3.4.min.js\"];\n  var css_urls = [];\n\n  var inline_js = [\n    function(Bokeh) {\n      Bokeh.set_log_level(\"info\");\n    },\n    \n    function(Bokeh) {\n      \n    },\n    function(Bokeh) {} // ensure no trailing comma for IE\n  ];\n\n  function run_inline_js() {\n    \n    if ((root.Bokeh !== undefined) || (force === true)) {\n      for (var i = 0; i < inline_js.length; i++) {\n        inline_js[i].call(root, root.Bokeh);\n      }if (force === true) {\n        display_loaded();\n      }} else if (Date.now() < root._bokeh_timeout) {\n      setTimeout(run_inline_js, 100);\n    } else if (!root._bokeh_failed_load) {\n      console.log(\"Bokeh: BokehJS failed to load within specified timeout.\");\n      root._bokeh_failed_load = true;\n    } else if (force !== true) {\n      var cell = $(document.getElementById(\"1506\")).parents('.cell').data().cell;\n      cell.output_area.append_execute_result(NB_LOAD_WARNING)\n    }\n\n  }\n\n  if (root._bokeh_is_loading === 0) {\n    console.debug(\"Bokeh: BokehJS loaded, going straight to plotting\");\n    run_inline_js();\n  } else {\n    load_libs(css_urls, js_urls, function() {\n      console.debug(\"Bokeh: BokehJS plotting callback run at\", now());\n      run_inline_js();\n    });\n  }\n}(window));"
     },
     "metadata": {},
     "output_type": "display_data"
    },
    {
     "data": {
      "text/html": [
       "\n",
       "\n",
       "\n",
       "\n",
       "\n",
       "\n",
       "  <div class=\"bk-root\" id=\"558239f3-7f98-4ce0-8b24-1315ab2aa8e0\" data-root-id=\"1510\"></div>\n"
      ]
     },
     "metadata": {},
     "output_type": "display_data"
    },
    {
     "data": {
      "application/javascript": [
       "(function(root) {\n",
       "  function embed_document(root) {\n",
       "    \n",
       "  var docs_json = {\"6e773a0c-5323-4693-856f-970b738b93fe\":{\"roots\":{\"references\":[{\"attributes\":{\"below\":[{\"id\":\"1519\",\"type\":\"LinearAxis\"}],\"center\":[{\"id\":\"1523\",\"type\":\"Grid\"},{\"id\":\"1528\",\"type\":\"Grid\"},{\"id\":\"1508\",\"type\":\"LabelSet\"}],\"left\":[{\"id\":\"1524\",\"type\":\"LinearAxis\"}],\"renderers\":[{\"id\":\"1545\",\"type\":\"GlyphRenderer\"}],\"title\":{\"id\":\"1571\",\"type\":\"Title\"},\"toolbar\":{\"id\":\"1535\",\"type\":\"Toolbar\"},\"x_range\":{\"id\":\"1511\",\"type\":\"DataRange1d\"},\"x_scale\":{\"id\":\"1515\",\"type\":\"LinearScale\"},\"y_range\":{\"id\":\"1513\",\"type\":\"DataRange1d\"},\"y_scale\":{\"id\":\"1517\",\"type\":\"LinearScale\"}},\"id\":\"1510\",\"subtype\":\"Figure\",\"type\":\"Plot\"},{\"attributes\":{\"ticker\":{\"id\":\"1520\",\"type\":\"BasicTicker\"}},\"id\":\"1523\",\"type\":\"Grid\"},{\"attributes\":{},\"id\":\"1576\",\"type\":\"BasicTickFormatter\"},{\"attributes\":{\"formatter\":{\"id\":\"1576\",\"type\":\"BasicTickFormatter\"},\"ticker\":{\"id\":\"1525\",\"type\":\"BasicTicker\"}},\"id\":\"1524\",\"type\":\"LinearAxis\"},{\"attributes\":{\"bottom_units\":\"screen\",\"fill_alpha\":{\"value\":0.5},\"fill_color\":{\"value\":\"lightgrey\"},\"left_units\":\"screen\",\"level\":\"overlay\",\"line_alpha\":{\"value\":1.0},\"line_color\":{\"value\":\"black\"},\"line_dash\":[4,4],\"line_width\":{\"value\":2},\"render_mode\":\"css\",\"right_units\":\"screen\",\"top_units\":\"screen\"},\"id\":\"1577\",\"type\":\"BoxAnnotation\"},{\"attributes\":{},\"id\":\"1525\",\"type\":\"BasicTicker\"},{\"attributes\":{\"dimension\":1,\"ticker\":{\"id\":\"1525\",\"type\":\"BasicTicker\"}},\"id\":\"1528\",\"type\":\"Grid\"},{\"attributes\":{},\"id\":\"1579\",\"type\":\"Selection\"},{\"attributes\":{\"fill_alpha\":{\"value\":0.1},\"fill_color\":{\"value\":\"#1f77b4\"},\"line_alpha\":{\"value\":0.1},\"line_color\":{\"value\":\"#1f77b4\"},\"size\":{\"units\":\"screen\",\"value\":12},\"x\":{\"field\":\"x\"},\"y\":{\"field\":\"y\"}},\"id\":\"1544\",\"type\":\"Circle\"},{\"attributes\":{\"fill_alpha\":{\"value\":0.8},\"fill_color\":{\"value\":\"#1f77b4\"},\"size\":{\"units\":\"screen\",\"value\":12},\"x\":{\"field\":\"x\"},\"y\":{\"field\":\"y\"}},\"id\":\"1543\",\"type\":\"Circle\"},{\"attributes\":{},\"id\":\"1578\",\"type\":\"UnionRenderers\"},{\"attributes\":{\"active_drag\":\"auto\",\"active_inspect\":\"auto\",\"active_multi\":null,\"active_scroll\":\"auto\",\"active_tap\":\"auto\",\"tools\":[{\"id\":\"1529\",\"type\":\"PanTool\"},{\"id\":\"1530\",\"type\":\"WheelZoomTool\"},{\"id\":\"1531\",\"type\":\"BoxZoomTool\"},{\"id\":\"1532\",\"type\":\"SaveTool\"},{\"id\":\"1533\",\"type\":\"ResetTool\"},{\"id\":\"1534\",\"type\":\"HelpTool\"}]},\"id\":\"1535\",\"type\":\"Toolbar\"},{\"attributes\":{},\"id\":\"1529\",\"type\":\"PanTool\"},{\"attributes\":{\"callback\":null},\"id\":\"1513\",\"type\":\"DataRange1d\"},{\"attributes\":{},\"id\":\"1530\",\"type\":\"WheelZoomTool\"},{\"attributes\":{\"overlay\":{\"id\":\"1577\",\"type\":\"BoxAnnotation\"}},\"id\":\"1531\",\"type\":\"BoxZoomTool\"},{\"attributes\":{\"callback\":null},\"id\":\"1511\",\"type\":\"DataRange1d\"},{\"attributes\":{\"source\":{\"id\":\"1507\",\"type\":\"ColumnDataSource\"},\"text\":{\"field\":\"document\"},\"text_align\":\"center\",\"text_color\":{\"value\":\"#555555\"},\"text_font_size\":{\"value\":\"8pt\"},\"x\":{\"field\":\"x\"},\"y\":{\"field\":\"y\"},\"y_offset\":{\"value\":8}},\"id\":\"1508\",\"type\":\"LabelSet\"},{\"attributes\":{},\"id\":\"1532\",\"type\":\"SaveTool\"},{\"attributes\":{\"callback\":null,\"data\":{\"document\":[0,1,2,3,4,5,6,7,8,9,10,11,12,13,14,15,16,17,18,19,20,21,22,23,24,25,26,27,28,29,30,31,32,33,34,35,36,37,38,39,40,41,42,43,44,45,46,47,48,49,50,51,52,53,54,55,56,57,58,59,60,61,62,63,64,65,66,67,68,69,70,71,72,73,74,75,76,77,78,79,80,81,82,83,84,85,86,87,88,89,90,91,92,93,94,95,96,97,98,99,100,101,102,103,104,105,106,107,108,109,110,111,112,113,114,115,116,117,118,119,120,121,122,123,124,125,126,127,128,129,130,131,132,133,134,135,136,137,138,139,140,141,142,143,144,145,146,147,148,149,150,151,152,153,154,155,156,157,158,159,160,161,162,163,164,165,166,167,168,169,170,171,172,173,174,175,176,177,178,179,180,181,182,183,184,185,186,187,188,189,190,191,192,193,194,195,196,197,198,199,200,201,202,203,204,205,206,207,208,209,210,211,212,213,214,215,216,217,218,219,220,221,222,223,224,225,226,227,228,229,230,231,232,233,234,235,236,237,238,239,240,241,242,243,244,245,246,247,248,249,250,251,252,253,254,255,256,257,258,259,260,261,262,263,264,265,266,267,268,269,270,271,272,273,274,275,276,277,278,279,280,281,282,283,284,285,286,287,288,289,290,291,292,293,294,295,296,297,298,299],\"index\":[0,1,2,3,4,5,6,7,8,9,10,11,12,13,14,15,16,17,18,19,20,21,22,23,24,25,26,27,28,29,30,31,32,33,34,35,36,37,38,39,40,41,42,43,44,45,46,47,48,49,50,51,52,53,54,55,56,57,58,59,60,61,62,63,64,65,66,67,68,69,70,71,72,73,74,75,76,77,78,79,80,81,82,83,84,85,86,87,88,89,90,91,92,93,94,95,96,97,98,99,100,101,102,103,104,105,106,107,108,109,110,111,112,113,114,115,116,117,118,119,120,121,122,123,124,125,126,127,128,129,130,131,132,133,134,135,136,137,138,139,140,141,142,143,144,145,146,147,148,149,150,151,152,153,154,155,156,157,158,159,160,161,162,163,164,165,166,167,168,169,170,171,172,173,174,175,176,177,178,179,180,181,182,183,184,185,186,187,188,189,190,191,192,193,194,195,196,197,198,199,200,201,202,203,204,205,206,207,208,209,210,211,212,213,214,215,216,217,218,219,220,221,222,223,224,225,226,227,228,229,230,231,232,233,234,235,236,237,238,239,240,241,242,243,244,245,246,247,248,249,250,251,252,253,254,255,256,257,258,259,260,261,262,263,264,265,266,267,268,269,270,271,272,273,274,275,276,277,278,279,280,281,282,283,284,285,286,287,288,289,290,291,292,293,294,295,296,297,298,299],\"x\":{\"__ndarray__\":\"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\",\"dtype\":\"float64\",\"shape\":[300]},\"y\":{\"__ndarray__\":\"0UmAanNu3b/pw1DXKTPkv8Cs/CKljNa/B+ekJkwJ1j8iBirnIna1v5cwXIH3dsY/kivdvnu/27+Lm4E3gLn3v9X+cnxL5a0/UzOfYhkDuz9C1r1uwhDhv3txApq0EdS/1CWpusqixz85M1mSoMu0v86Y2XpF6/U/AjlMHVmvcr+1izsk1hugP7oSuSjzgMK/bkeQEUWewj93E/M86qLGP9QgB2HqpNG/pETihUZSwL+35/zhA5bVvwx4Edq4SM6/U1Ad89c5wD955MC2V32WP7UawvcD3tS/xGyXykjnqL8MCM5aiGe/v7KQN9g1AcK/oN5NKJwrpT89Umj0t2zzvwYsn7pxUa2/fdvEaecU+D85uyjiIKzbvwQ8noaxnpa/weijiTjH4L+78no4yMPKv323j7RYzcE/EfBeCp2v/r/1SERn3+TKP9S+Y6/P4ba/ievYVvGO1780j7nKsH72v7o4DzhTk56/EHx3DlG8678lAxcF/Y7iv6EzlDRNpfK/lTRfgRke7z9MVmYT7lyov3U67bbS6L2/R3yhXx8Rtr9/5+cza1Psv5DSK+v6NfK/TZi/IX7n4D9A9wPB7lu6P0jOaIftreG/9iFwfKpTw78a4wgVh8zjPyifSWGw7O4/9wwkqXm62L9erudzuxGwv1f4GECoRN+/EheiXUvp0z9cXXGyiebUvwcrLrwjpdG/fNyPpjB3wD9M65TJMATLP5eOgcO0K9C/5rQ2CN6Fy79OeGK99X3AP9yJBSA3lLI/KkVDLire3L98xZq4MmjpPw+ejjUZaZm/mvQ1GalX0T/XVkwUJVTnP+JIpQuWd9G/id87jlHivr9Fsq6azhXfv7U8cgnMv/U/jCPp5eFtj79nMoit/kjTv257vQapnqC/ysrPxJLU1L+91Zg7rfjXv1Aw66GSk9S7LLF0y/PVYb8Ti1pn7u+Sv41KfzdWuPI/dnC1VByH8z/N9bT/8MjOv85ipMkgK8e/LOO0hvEABED6oLH6O8TFv0/g/uBExs0/bWLYHuV50L9oBOtceqXiv6+mDjRoYXC/0UoElYaHwj/VaoZmRpX2v0HVizhn5tC/46enIDeQwz9U4vns5VXDP3f/i4DGKZO/lquepLnbEED0hZc+z0PZv4Zq1e7F4LW/QIhNLirrtT/vJn2HZvQAwBYQ79xK4eE/N110h5Q0C0Ds7A2fwKnAv8wBeu8Bfa+/tRdh5+ei0r8Ckwmw/Fnwv+wVkN8dNcy/brzHlLoy0L8hXRNGj1biP7QfSP68Nsu/ZsFfdAWduT9tgg3l9iI4vxz/W+ILd+u/nXMd+/KA0L8P9DWidRGZP+b1RCWMAs6/9XkvDoLCoD+CsSetlkzBPwSvCD3QHOa/NQF+LKt51j9NoRPdRiapP32Rjjazlse/1Sy2U7Apqr8rfyht+ur+P8D2+tcm6YU/8GLxt+zaxb8QbJjl+1m9P1pqbBsnZdO/CTIjDeXccL+1pjM9+jzgP26G5RCSJ8w/zQdnQ+K5hL/vFyKWnZvIv3ry7ES5rq2/3F79g38VtD9f3lKeJXXVv9Ct96TJ+OK/IYpmZcMVoT/PgBwffvPFvwAAAAAAAACAFlPvrFd84r91yf7kZtTDv2oSmniJlNm/8tJQxLc92j/hwyYLJfHuP2tD4vARH8C/VdrHuXv08r8XAF2mK3LFv/Gd9O9AT+U/6CvoKAM90b/uJujcx4QGwOo+1Bg7PMO/uoWE7UNr6D8qHs20AtOyv/TWJ0qK4wBAHo7YwHGq4j+zRb26lZKdPxP3L7jjUWK/wwaMxJAzyr9pc6IpJlDdP+r/VY3c+bA/cAW3pCCGyL9TT2fxBTu8v75UL8tOB+C/+oZRguNz0j8rrMu8xfupP8vfTUhsHmY/8VRLtLAe2z+pKr6ffofOPzVh9xkQZbe/nSbXNQ3ysr9hfBeKyTTkv0G9kPnZeApA8kpQji4jcz8g5w/RtPaRv0wnWDusK+u/CnhLOTQQ0j/WOMBIj1SzP837ZwM5wsk/q2ntG6ZVw78bYY2WVPTSv5m4p3Q/Pqk/9FAPIAtowr+x6UcMlVzcv7LPTmid5Li/mT5gRhgoyL9jqd5LmdS3PyGrJYQbTdy/GPovLUvzn7/L2TnGkPv3P9J47nSjOs8/QxyMlJl/v78RKS8Xl8l4PwRzE+L3+9u/n77/UsfcyD890SuUqMLevxtklV8Lg9+/5+PykNvRkT+QXFZKTGyGv5CA7cnP9bQ/cs2W+IsAwr91WmqwQSa7v3MtX7x2XeY/l6SDk7P2mT9EGlFlXwfwvz2bhyUAhfK/OfMkX5xfnL8x2buIMwa3vyqSYIYwTs8/IEz3JRF72L9xKGgfya/rv15QfIT5dOO/I3hc40tXrz+COhK1PrD/P8mruLwBhuw/5KdkaLWAp78iHyLHISe3v4dKa3jcK+W/gO19XVdGpT8pPP0f4L7zv9BpIDQDyPc/KX2Fb2RsuT8594IVgKjwv5s5+zAGyoM/mhVirsvarD89U2cZqsd+v0duPqa3v9K/OpshqISitr9/MQ5PLkTSv+RX/951JtC/6WrQueuXob8lUpNRli/CP9jIChu77aY/nHfIL61gqb9DL76yHD6+Py3KGzh1U8w/08+tpjVlz79sah5oX0vLP2kZy1aBk+C/7eFkotA4oT8gsoznGqG0v+eP8lFpJ3G/sZlxZesVpD/D1ugYySagvyl8RpTYtrO/mMy26PtH07/vm6HGglTbvzE59ulyXeQ/sOLx5oWTuz+HffYOKiHePzNSMThtHrW/oXC6Ja6s0r8l0RhZMYelP+iwP+Ks8eE/9rnCbljelb/mZOuduv2gPwAAAAAAAACABP2sNeTQvD9cAYwrTC6aPyQs3KOKsWM/jaTCVuiAnj9XnNwHCwPvPwY4QwOkKcQ/zOjWnZCFob/0Q1CHeynEv1DH/IrxSdK/LaUCH3f9zT8eIOAwGeLWv3ZwrMF/ItK/uvi6I73Bob/uaqPgId7Dv6LFlpCHoIo/+GnR+7/Mvr/lidobqHPAP30XGAMk6cG/udJEtHiTA8CK3HzUjR69v2VjjOeZC9C/s5hcpuMZlD+yBIsbF0y9v8Z+vEtKJLg/QdRwqUyjhj/Ih+xk+nTPv2ogiNpT4qe/eWxlDoGv3j8Da8+AN9Sov8UGtrQ428i/dTbX/Za8l79JEHVCpM7Dv/Vsesghs72/\",\"dtype\":\"float64\",\"shape\":[300]}},\"selected\":{\"id\":\"1579\",\"type\":\"Selection\"},\"selection_policy\":{\"id\":\"1578\",\"type\":\"UnionRenderers\"}},\"id\":\"1507\",\"type\":\"ColumnDataSource\"},{\"attributes\":{},\"id\":\"1533\",\"type\":\"ResetTool\"},{\"attributes\":{},\"id\":\"1534\",\"type\":\"HelpTool\"},{\"attributes\":{\"data_source\":{\"id\":\"1507\",\"type\":\"ColumnDataSource\"},\"glyph\":{\"id\":\"1543\",\"type\":\"Circle\"},\"hover_glyph\":null,\"muted_glyph\":null,\"nonselection_glyph\":{\"id\":\"1544\",\"type\":\"Circle\"},\"selection_glyph\":null,\"view\":{\"id\":\"1546\",\"type\":\"CDSView\"}},\"id\":\"1545\",\"type\":\"GlyphRenderer\"},{\"attributes\":{\"source\":{\"id\":\"1507\",\"type\":\"ColumnDataSource\"}},\"id\":\"1546\",\"type\":\"CDSView\"},{\"attributes\":{},\"id\":\"1515\",\"type\":\"LinearScale\"},{\"attributes\":{},\"id\":\"1517\",\"type\":\"LinearScale\"},{\"attributes\":{\"formatter\":{\"id\":\"1574\",\"type\":\"BasicTickFormatter\"},\"ticker\":{\"id\":\"1520\",\"type\":\"BasicTicker\"}},\"id\":\"1519\",\"type\":\"LinearAxis\"},{\"attributes\":{\"text\":\"\"},\"id\":\"1571\",\"type\":\"Title\"},{\"attributes\":{},\"id\":\"1520\",\"type\":\"BasicTicker\"},{\"attributes\":{},\"id\":\"1574\",\"type\":\"BasicTickFormatter\"}],\"root_ids\":[\"1510\"]},\"title\":\"Bokeh Application\",\"version\":\"1.3.4\"}};\n",
       "  var render_items = [{\"docid\":\"6e773a0c-5323-4693-856f-970b738b93fe\",\"notebook_comms_target\":\"1580\",\"roots\":{\"1510\":\"558239f3-7f98-4ce0-8b24-1315ab2aa8e0\"}}];\n",
       "  root.Bokeh.embed.embed_items_notebook(docs_json, render_items);\n",
       "\n",
       "  }\n",
       "  if (root.Bokeh !== undefined) {\n",
       "    embed_document(root);\n",
       "  } else {\n",
       "    var attempts = 0;\n",
       "    var timer = setInterval(function(root) {\n",
       "      if (root.Bokeh !== undefined) {\n",
       "        embed_document(root);\n",
       "        clearInterval(timer);\n",
       "      }\n",
       "      attempts++;\n",
       "      if (attempts > 100) {\n",
       "        console.log(\"Bokeh: ERROR: Unable to run BokehJS code because BokehJS library is missing\");\n",
       "        clearInterval(timer);\n",
       "      }\n",
       "    }, 10, root)\n",
       "  }\n",
       "})(window);"
      ],
      "application/vnd.bokehjs_exec.v0+json": ""
     },
     "metadata": {
      "application/vnd.bokehjs_exec.v0+json": {
       "id": "1510"
      }
     },
     "output_type": "display_data"
    },
    {
     "data": {
      "text/html": [
       "<p><code>&lt;Bokeh Notebook handle for <strong>In[119]</strong>&gt;</code></p>"
      ],
      "text/plain": [
       "<bokeh.io.notebook.CommsHandle at 0x7fc71cd32908>"
      ]
     },
     "execution_count": 119,
     "metadata": {},
     "output_type": "execute_result"
    }
   ],
   "source": [
    "import pandas as pd\n",
    "from bokeh.io import push_notebook, show, output_notebook\n",
    "from bokeh.plotting import figure\n",
    "from bokeh.models import ColumnDataSource, LabelSet\n",
    "output_notebook()\n",
    "\n",
    "svd = TruncatedSVD(n_components=100)\n",
    "documents_2d = svd.fit_transform(data_vectorized)\n",
    " \n",
    "df = pd.DataFrame(columns=['x', 'y', 'document'])\n",
    "df['x'], df['y'], df['document'] = documents_2d[:,0], documents_2d[:,1], range(len(df_raw))\n",
    " \n",
    "source = ColumnDataSource(ColumnDataSource.from_df(df))\n",
    "labels = LabelSet(x=\"x\", y=\"y\", text=\"document\", y_offset=8,\n",
    "                  text_font_size=\"8pt\", text_color=\"#555555\",\n",
    "                  source=source, text_align='center')\n",
    " \n",
    "plot = figure(plot_width=600, plot_height=600)\n",
    "plot.circle(\"x\", \"y\", size=12, source=source, line_color=\"black\", fill_alpha=0.8)\n",
    "plot.add_layout(labels)\n",
    "show(plot, notebook_handle=True)\n"
   ]
  },
  {
   "cell_type": "code",
   "execution_count": 120,
   "metadata": {
    "ExecuteTime": {
     "end_time": "2019-11-19T05:16:23.890474Z",
     "start_time": "2019-11-19T05:16:23.743710Z"
    }
   },
   "outputs": [
    {
     "data": {
      "text/html": [
       "\n",
       "    <div class=\"bk-root\">\n",
       "        <a href=\"https://bokeh.pydata.org\" target=\"_blank\" class=\"bk-logo bk-logo-small bk-logo-notebook\"></a>\n",
       "        <span id=\"1726\">Loading BokehJS ...</span>\n",
       "    </div>"
      ]
     },
     "metadata": {},
     "output_type": "display_data"
    },
    {
     "data": {
      "application/javascript": [
       "\n",
       "(function(root) {\n",
       "  function now() {\n",
       "    return new Date();\n",
       "  }\n",
       "\n",
       "  var force = true;\n",
       "\n",
       "  if (typeof root._bokeh_onload_callbacks === \"undefined\" || force === true) {\n",
       "    root._bokeh_onload_callbacks = [];\n",
       "    root._bokeh_is_loading = undefined;\n",
       "  }\n",
       "\n",
       "  var JS_MIME_TYPE = 'application/javascript';\n",
       "  var HTML_MIME_TYPE = 'text/html';\n",
       "  var EXEC_MIME_TYPE = 'application/vnd.bokehjs_exec.v0+json';\n",
       "  var CLASS_NAME = 'output_bokeh rendered_html';\n",
       "\n",
       "  /**\n",
       "   * Render data to the DOM node\n",
       "   */\n",
       "  function render(props, node) {\n",
       "    var script = document.createElement(\"script\");\n",
       "    node.appendChild(script);\n",
       "  }\n",
       "\n",
       "  /**\n",
       "   * Handle when an output is cleared or removed\n",
       "   */\n",
       "  function handleClearOutput(event, handle) {\n",
       "    var cell = handle.cell;\n",
       "\n",
       "    var id = cell.output_area._bokeh_element_id;\n",
       "    var server_id = cell.output_area._bokeh_server_id;\n",
       "    // Clean up Bokeh references\n",
       "    if (id != null && id in Bokeh.index) {\n",
       "      Bokeh.index[id].model.document.clear();\n",
       "      delete Bokeh.index[id];\n",
       "    }\n",
       "\n",
       "    if (server_id !== undefined) {\n",
       "      // Clean up Bokeh references\n",
       "      var cmd = \"from bokeh.io.state import curstate; print(curstate().uuid_to_server['\" + server_id + \"'].get_sessions()[0].document.roots[0]._id)\";\n",
       "      cell.notebook.kernel.execute(cmd, {\n",
       "        iopub: {\n",
       "          output: function(msg) {\n",
       "            var id = msg.content.text.trim();\n",
       "            if (id in Bokeh.index) {\n",
       "              Bokeh.index[id].model.document.clear();\n",
       "              delete Bokeh.index[id];\n",
       "            }\n",
       "          }\n",
       "        }\n",
       "      });\n",
       "      // Destroy server and session\n",
       "      var cmd = \"import bokeh.io.notebook as ion; ion.destroy_server('\" + server_id + \"')\";\n",
       "      cell.notebook.kernel.execute(cmd);\n",
       "    }\n",
       "  }\n",
       "\n",
       "  /**\n",
       "   * Handle when a new output is added\n",
       "   */\n",
       "  function handleAddOutput(event, handle) {\n",
       "    var output_area = handle.output_area;\n",
       "    var output = handle.output;\n",
       "\n",
       "    // limit handleAddOutput to display_data with EXEC_MIME_TYPE content only\n",
       "    if ((output.output_type != \"display_data\") || (!output.data.hasOwnProperty(EXEC_MIME_TYPE))) {\n",
       "      return\n",
       "    }\n",
       "\n",
       "    var toinsert = output_area.element.find(\".\" + CLASS_NAME.split(' ')[0]);\n",
       "\n",
       "    if (output.metadata[EXEC_MIME_TYPE][\"id\"] !== undefined) {\n",
       "      toinsert[toinsert.length - 1].firstChild.textContent = output.data[JS_MIME_TYPE];\n",
       "      // store reference to embed id on output_area\n",
       "      output_area._bokeh_element_id = output.metadata[EXEC_MIME_TYPE][\"id\"];\n",
       "    }\n",
       "    if (output.metadata[EXEC_MIME_TYPE][\"server_id\"] !== undefined) {\n",
       "      var bk_div = document.createElement(\"div\");\n",
       "      bk_div.innerHTML = output.data[HTML_MIME_TYPE];\n",
       "      var script_attrs = bk_div.children[0].attributes;\n",
       "      for (var i = 0; i < script_attrs.length; i++) {\n",
       "        toinsert[toinsert.length - 1].firstChild.setAttribute(script_attrs[i].name, script_attrs[i].value);\n",
       "      }\n",
       "      // store reference to server id on output_area\n",
       "      output_area._bokeh_server_id = output.metadata[EXEC_MIME_TYPE][\"server_id\"];\n",
       "    }\n",
       "  }\n",
       "\n",
       "  function register_renderer(events, OutputArea) {\n",
       "\n",
       "    function append_mime(data, metadata, element) {\n",
       "      // create a DOM node to render to\n",
       "      var toinsert = this.create_output_subarea(\n",
       "        metadata,\n",
       "        CLASS_NAME,\n",
       "        EXEC_MIME_TYPE\n",
       "      );\n",
       "      this.keyboard_manager.register_events(toinsert);\n",
       "      // Render to node\n",
       "      var props = {data: data, metadata: metadata[EXEC_MIME_TYPE]};\n",
       "      render(props, toinsert[toinsert.length - 1]);\n",
       "      element.append(toinsert);\n",
       "      return toinsert\n",
       "    }\n",
       "\n",
       "    /* Handle when an output is cleared or removed */\n",
       "    events.on('clear_output.CodeCell', handleClearOutput);\n",
       "    events.on('delete.Cell', handleClearOutput);\n",
       "\n",
       "    /* Handle when a new output is added */\n",
       "    events.on('output_added.OutputArea', handleAddOutput);\n",
       "\n",
       "    /**\n",
       "     * Register the mime type and append_mime function with output_area\n",
       "     */\n",
       "    OutputArea.prototype.register_mime_type(EXEC_MIME_TYPE, append_mime, {\n",
       "      /* Is output safe? */\n",
       "      safe: true,\n",
       "      /* Index of renderer in `output_area.display_order` */\n",
       "      index: 0\n",
       "    });\n",
       "  }\n",
       "\n",
       "  // register the mime type if in Jupyter Notebook environment and previously unregistered\n",
       "  if (root.Jupyter !== undefined) {\n",
       "    var events = require('base/js/events');\n",
       "    var OutputArea = require('notebook/js/outputarea').OutputArea;\n",
       "\n",
       "    if (OutputArea.prototype.mime_types().indexOf(EXEC_MIME_TYPE) == -1) {\n",
       "      register_renderer(events, OutputArea);\n",
       "    }\n",
       "  }\n",
       "\n",
       "  \n",
       "  if (typeof (root._bokeh_timeout) === \"undefined\" || force === true) {\n",
       "    root._bokeh_timeout = Date.now() + 5000;\n",
       "    root._bokeh_failed_load = false;\n",
       "  }\n",
       "\n",
       "  var NB_LOAD_WARNING = {'data': {'text/html':\n",
       "     \"<div style='background-color: #fdd'>\\n\"+\n",
       "     \"<p>\\n\"+\n",
       "     \"BokehJS does not appear to have successfully loaded. If loading BokehJS from CDN, this \\n\"+\n",
       "     \"may be due to a slow or bad network connection. Possible fixes:\\n\"+\n",
       "     \"</p>\\n\"+\n",
       "     \"<ul>\\n\"+\n",
       "     \"<li>re-rerun `output_notebook()` to attempt to load from CDN again, or</li>\\n\"+\n",
       "     \"<li>use INLINE resources instead, as so:</li>\\n\"+\n",
       "     \"</ul>\\n\"+\n",
       "     \"<code>\\n\"+\n",
       "     \"from bokeh.resources import INLINE\\n\"+\n",
       "     \"output_notebook(resources=INLINE)\\n\"+\n",
       "     \"</code>\\n\"+\n",
       "     \"</div>\"}};\n",
       "\n",
       "  function display_loaded() {\n",
       "    var el = document.getElementById(\"1726\");\n",
       "    if (el != null) {\n",
       "      el.textContent = \"BokehJS is loading...\";\n",
       "    }\n",
       "    if (root.Bokeh !== undefined) {\n",
       "      if (el != null) {\n",
       "        el.textContent = \"BokehJS \" + root.Bokeh.version + \" successfully loaded.\";\n",
       "      }\n",
       "    } else if (Date.now() < root._bokeh_timeout) {\n",
       "      setTimeout(display_loaded, 100)\n",
       "    }\n",
       "  }\n",
       "\n",
       "\n",
       "  function run_callbacks() {\n",
       "    try {\n",
       "      root._bokeh_onload_callbacks.forEach(function(callback) {\n",
       "        if (callback != null)\n",
       "          callback();\n",
       "      });\n",
       "    } finally {\n",
       "      delete root._bokeh_onload_callbacks\n",
       "    }\n",
       "    console.debug(\"Bokeh: all callbacks have finished\");\n",
       "  }\n",
       "\n",
       "  function load_libs(css_urls, js_urls, callback) {\n",
       "    if (css_urls == null) css_urls = [];\n",
       "    if (js_urls == null) js_urls = [];\n",
       "\n",
       "    root._bokeh_onload_callbacks.push(callback);\n",
       "    if (root._bokeh_is_loading > 0) {\n",
       "      console.debug(\"Bokeh: BokehJS is being loaded, scheduling callback at\", now());\n",
       "      return null;\n",
       "    }\n",
       "    if (js_urls == null || js_urls.length === 0) {\n",
       "      run_callbacks();\n",
       "      return null;\n",
       "    }\n",
       "    console.debug(\"Bokeh: BokehJS not loaded, scheduling load and callback at\", now());\n",
       "    root._bokeh_is_loading = css_urls.length + js_urls.length;\n",
       "\n",
       "    function on_load() {\n",
       "      root._bokeh_is_loading--;\n",
       "      if (root._bokeh_is_loading === 0) {\n",
       "        console.debug(\"Bokeh: all BokehJS libraries/stylesheets loaded\");\n",
       "        run_callbacks()\n",
       "      }\n",
       "    }\n",
       "\n",
       "    function on_error() {\n",
       "      console.error(\"failed to load \" + url);\n",
       "    }\n",
       "\n",
       "    for (var i = 0; i < css_urls.length; i++) {\n",
       "      var url = css_urls[i];\n",
       "      const element = document.createElement(\"link\");\n",
       "      element.onload = on_load;\n",
       "      element.onerror = on_error;\n",
       "      element.rel = \"stylesheet\";\n",
       "      element.type = \"text/css\";\n",
       "      element.href = url;\n",
       "      console.debug(\"Bokeh: injecting link tag for BokehJS stylesheet: \", url);\n",
       "      document.body.appendChild(element);\n",
       "    }\n",
       "\n",
       "    for (var i = 0; i < js_urls.length; i++) {\n",
       "      var url = js_urls[i];\n",
       "      var element = document.createElement('script');\n",
       "      element.onload = on_load;\n",
       "      element.onerror = on_error;\n",
       "      element.async = false;\n",
       "      element.src = url;\n",
       "      console.debug(\"Bokeh: injecting script tag for BokehJS library: \", url);\n",
       "      document.head.appendChild(element);\n",
       "    }\n",
       "  };var element = document.getElementById(\"1726\");\n",
       "  if (element == null) {\n",
       "    console.error(\"Bokeh: ERROR: autoload.js configured with elementid '1726' but no matching script tag was found. \")\n",
       "    return false;\n",
       "  }\n",
       "\n",
       "  function inject_raw_css(css) {\n",
       "    const element = document.createElement(\"style\");\n",
       "    element.appendChild(document.createTextNode(css));\n",
       "    document.body.appendChild(element);\n",
       "  }\n",
       "\n",
       "  var js_urls = [\"https://cdn.pydata.org/bokeh/release/bokeh-1.3.4.min.js\", \"https://cdn.pydata.org/bokeh/release/bokeh-widgets-1.3.4.min.js\", \"https://cdn.pydata.org/bokeh/release/bokeh-tables-1.3.4.min.js\", \"https://cdn.pydata.org/bokeh/release/bokeh-gl-1.3.4.min.js\"];\n",
       "  var css_urls = [];\n",
       "\n",
       "  var inline_js = [\n",
       "    function(Bokeh) {\n",
       "      Bokeh.set_log_level(\"info\");\n",
       "    },\n",
       "    \n",
       "    function(Bokeh) {\n",
       "      \n",
       "    },\n",
       "    function(Bokeh) {} // ensure no trailing comma for IE\n",
       "  ];\n",
       "\n",
       "  function run_inline_js() {\n",
       "    \n",
       "    if ((root.Bokeh !== undefined) || (force === true)) {\n",
       "      for (var i = 0; i < inline_js.length; i++) {\n",
       "        inline_js[i].call(root, root.Bokeh);\n",
       "      }if (force === true) {\n",
       "        display_loaded();\n",
       "      }} else if (Date.now() < root._bokeh_timeout) {\n",
       "      setTimeout(run_inline_js, 100);\n",
       "    } else if (!root._bokeh_failed_load) {\n",
       "      console.log(\"Bokeh: BokehJS failed to load within specified timeout.\");\n",
       "      root._bokeh_failed_load = true;\n",
       "    } else if (force !== true) {\n",
       "      var cell = $(document.getElementById(\"1726\")).parents('.cell').data().cell;\n",
       "      cell.output_area.append_execute_result(NB_LOAD_WARNING)\n",
       "    }\n",
       "\n",
       "  }\n",
       "\n",
       "  if (root._bokeh_is_loading === 0) {\n",
       "    console.debug(\"Bokeh: BokehJS loaded, going straight to plotting\");\n",
       "    run_inline_js();\n",
       "  } else {\n",
       "    load_libs(css_urls, js_urls, function() {\n",
       "      console.debug(\"Bokeh: BokehJS plotting callback run at\", now());\n",
       "      run_inline_js();\n",
       "    });\n",
       "  }\n",
       "}(window));"
      ],
      "application/vnd.bokehjs_load.v0+json": "\n(function(root) {\n  function now() {\n    return new Date();\n  }\n\n  var force = true;\n\n  if (typeof root._bokeh_onload_callbacks === \"undefined\" || force === true) {\n    root._bokeh_onload_callbacks = [];\n    root._bokeh_is_loading = undefined;\n  }\n\n  \n\n  \n  if (typeof (root._bokeh_timeout) === \"undefined\" || force === true) {\n    root._bokeh_timeout = Date.now() + 5000;\n    root._bokeh_failed_load = false;\n  }\n\n  var NB_LOAD_WARNING = {'data': {'text/html':\n     \"<div style='background-color: #fdd'>\\n\"+\n     \"<p>\\n\"+\n     \"BokehJS does not appear to have successfully loaded. If loading BokehJS from CDN, this \\n\"+\n     \"may be due to a slow or bad network connection. Possible fixes:\\n\"+\n     \"</p>\\n\"+\n     \"<ul>\\n\"+\n     \"<li>re-rerun `output_notebook()` to attempt to load from CDN again, or</li>\\n\"+\n     \"<li>use INLINE resources instead, as so:</li>\\n\"+\n     \"</ul>\\n\"+\n     \"<code>\\n\"+\n     \"from bokeh.resources import INLINE\\n\"+\n     \"output_notebook(resources=INLINE)\\n\"+\n     \"</code>\\n\"+\n     \"</div>\"}};\n\n  function display_loaded() {\n    var el = document.getElementById(\"1726\");\n    if (el != null) {\n      el.textContent = \"BokehJS is loading...\";\n    }\n    if (root.Bokeh !== undefined) {\n      if (el != null) {\n        el.textContent = \"BokehJS \" + root.Bokeh.version + \" successfully loaded.\";\n      }\n    } else if (Date.now() < root._bokeh_timeout) {\n      setTimeout(display_loaded, 100)\n    }\n  }\n\n\n  function run_callbacks() {\n    try {\n      root._bokeh_onload_callbacks.forEach(function(callback) {\n        if (callback != null)\n          callback();\n      });\n    } finally {\n      delete root._bokeh_onload_callbacks\n    }\n    console.debug(\"Bokeh: all callbacks have finished\");\n  }\n\n  function load_libs(css_urls, js_urls, callback) {\n    if (css_urls == null) css_urls = [];\n    if (js_urls == null) js_urls = [];\n\n    root._bokeh_onload_callbacks.push(callback);\n    if (root._bokeh_is_loading > 0) {\n      console.debug(\"Bokeh: BokehJS is being loaded, scheduling callback at\", now());\n      return null;\n    }\n    if (js_urls == null || js_urls.length === 0) {\n      run_callbacks();\n      return null;\n    }\n    console.debug(\"Bokeh: BokehJS not loaded, scheduling load and callback at\", now());\n    root._bokeh_is_loading = css_urls.length + js_urls.length;\n\n    function on_load() {\n      root._bokeh_is_loading--;\n      if (root._bokeh_is_loading === 0) {\n        console.debug(\"Bokeh: all BokehJS libraries/stylesheets loaded\");\n        run_callbacks()\n      }\n    }\n\n    function on_error() {\n      console.error(\"failed to load \" + url);\n    }\n\n    for (var i = 0; i < css_urls.length; i++) {\n      var url = css_urls[i];\n      const element = document.createElement(\"link\");\n      element.onload = on_load;\n      element.onerror = on_error;\n      element.rel = \"stylesheet\";\n      element.type = \"text/css\";\n      element.href = url;\n      console.debug(\"Bokeh: injecting link tag for BokehJS stylesheet: \", url);\n      document.body.appendChild(element);\n    }\n\n    for (var i = 0; i < js_urls.length; i++) {\n      var url = js_urls[i];\n      var element = document.createElement('script');\n      element.onload = on_load;\n      element.onerror = on_error;\n      element.async = false;\n      element.src = url;\n      console.debug(\"Bokeh: injecting script tag for BokehJS library: \", url);\n      document.head.appendChild(element);\n    }\n  };var element = document.getElementById(\"1726\");\n  if (element == null) {\n    console.error(\"Bokeh: ERROR: autoload.js configured with elementid '1726' but no matching script tag was found. \")\n    return false;\n  }\n\n  function inject_raw_css(css) {\n    const element = document.createElement(\"style\");\n    element.appendChild(document.createTextNode(css));\n    document.body.appendChild(element);\n  }\n\n  var js_urls = [\"https://cdn.pydata.org/bokeh/release/bokeh-1.3.4.min.js\", \"https://cdn.pydata.org/bokeh/release/bokeh-widgets-1.3.4.min.js\", \"https://cdn.pydata.org/bokeh/release/bokeh-tables-1.3.4.min.js\", \"https://cdn.pydata.org/bokeh/release/bokeh-gl-1.3.4.min.js\"];\n  var css_urls = [];\n\n  var inline_js = [\n    function(Bokeh) {\n      Bokeh.set_log_level(\"info\");\n    },\n    \n    function(Bokeh) {\n      \n    },\n    function(Bokeh) {} // ensure no trailing comma for IE\n  ];\n\n  function run_inline_js() {\n    \n    if ((root.Bokeh !== undefined) || (force === true)) {\n      for (var i = 0; i < inline_js.length; i++) {\n        inline_js[i].call(root, root.Bokeh);\n      }if (force === true) {\n        display_loaded();\n      }} else if (Date.now() < root._bokeh_timeout) {\n      setTimeout(run_inline_js, 100);\n    } else if (!root._bokeh_failed_load) {\n      console.log(\"Bokeh: BokehJS failed to load within specified timeout.\");\n      root._bokeh_failed_load = true;\n    } else if (force !== true) {\n      var cell = $(document.getElementById(\"1726\")).parents('.cell').data().cell;\n      cell.output_area.append_execute_result(NB_LOAD_WARNING)\n    }\n\n  }\n\n  if (root._bokeh_is_loading === 0) {\n    console.debug(\"Bokeh: BokehJS loaded, going straight to plotting\");\n    run_inline_js();\n  } else {\n    load_libs(css_urls, js_urls, function() {\n      console.debug(\"Bokeh: BokehJS plotting callback run at\", now());\n      run_inline_js();\n    });\n  }\n}(window));"
     },
     "metadata": {},
     "output_type": "display_data"
    },
    {
     "data": {
      "text/html": [
       "\n",
       "\n",
       "\n",
       "\n",
       "\n",
       "\n",
       "  <div class=\"bk-root\" id=\"ebb6da06-28e9-45a8-ae6a-a4637cbabd7e\" data-root-id=\"1730\"></div>\n"
      ]
     },
     "metadata": {},
     "output_type": "display_data"
    },
    {
     "data": {
      "application/javascript": [
       "(function(root) {\n",
       "  function embed_document(root) {\n",
       "    \n",
       "  var docs_json = {\"15693fb8-bdd2-4e2d-971d-beda057c35bb\":{\"roots\":{\"references\":[{\"attributes\":{\"below\":[{\"id\":\"1739\",\"type\":\"LinearAxis\"}],\"center\":[{\"id\":\"1743\",\"type\":\"Grid\"},{\"id\":\"1748\",\"type\":\"Grid\"},{\"id\":\"1728\",\"type\":\"LabelSet\"}],\"left\":[{\"id\":\"1744\",\"type\":\"LinearAxis\"}],\"renderers\":[{\"id\":\"1765\",\"type\":\"GlyphRenderer\"}],\"title\":{\"id\":\"1800\",\"type\":\"Title\"},\"toolbar\":{\"id\":\"1755\",\"type\":\"Toolbar\"},\"x_range\":{\"id\":\"1731\",\"type\":\"DataRange1d\"},\"x_scale\":{\"id\":\"1735\",\"type\":\"LinearScale\"},\"y_range\":{\"id\":\"1733\",\"type\":\"DataRange1d\"},\"y_scale\":{\"id\":\"1737\",\"type\":\"LinearScale\"}},\"id\":\"1730\",\"subtype\":\"Figure\",\"type\":\"Plot\"},{\"attributes\":{\"bottom_units\":\"screen\",\"fill_alpha\":{\"value\":0.5},\"fill_color\":{\"value\":\"lightgrey\"},\"left_units\":\"screen\",\"level\":\"overlay\",\"line_alpha\":{\"value\":1.0},\"line_color\":{\"value\":\"black\"},\"line_dash\":[4,4],\"line_width\":{\"value\":2},\"render_mode\":\"css\",\"right_units\":\"screen\",\"top_units\":\"screen\"},\"id\":\"1806\",\"type\":\"BoxAnnotation\"},{\"attributes\":{\"source\":{\"id\":\"1727\",\"type\":\"ColumnDataSource\"}},\"id\":\"1766\",\"type\":\"CDSView\"},{\"attributes\":{\"callback\":null},\"id\":\"1731\",\"type\":\"DataRange1d\"},{\"attributes\":{},\"id\":\"1735\",\"type\":\"LinearScale\"},{\"attributes\":{\"formatter\":{\"id\":\"1803\",\"type\":\"BasicTickFormatter\"},\"ticker\":{\"id\":\"1740\",\"type\":\"BasicTicker\"}},\"id\":\"1739\",\"type\":\"LinearAxis\"},{\"attributes\":{\"text\":\"\"},\"id\":\"1800\",\"type\":\"Title\"},{\"attributes\":{},\"id\":\"1803\",\"type\":\"BasicTickFormatter\"},{\"attributes\":{\"callback\":null},\"id\":\"1733\",\"type\":\"DataRange1d\"},{\"attributes\":{},\"id\":\"1745\",\"type\":\"BasicTicker\"},{\"attributes\":{\"callback\":null,\"data\":{\"document\":[0,1,2,3,4,5,6,7,8,9,10,11,12,13,14,15,16,17,18,19,20,21,22,23,24,25,26,27,28,29,30,31,32,33,34,35,36,37,38,39,40,41,42,43,44,45,46,47,48,49,50,51,52,53,54,55,56,57,58,59,60,61,62,63,64,65,66,67,68,69,70,71,72,73,74,75,76,77,78,79,80,81,82,83,84,85,86,87,88,89,90,91,92,93,94,95,96,97,98,99,100,101,102,103,104,105,106,107,108,109,110,111,112,113,114,115,116,117,118,119,120,121,122,123,124,125,126,127,128,129,130,131,132,133,134,135,136,137,138,139,140,141,142,143,144,145,146,147,148,149,150,151,152,153,154,155,156,157,158,159,160,161,162,163,164,165,166,167,168,169,170,171,172,173,174,175,176,177,178,179,180,181,182,183,184,185,186,187,188,189,190,191,192,193,194,195,196,197,198,199,200,201,202,203,204,205,206,207,208,209,210,211,212,213,214,215,216,217,218,219,220,221,222,223,224,225,226,227,228,229,230,231,232,233,234,235,236,237,238,239,240,241,242,243,244,245,246,247,248,249,250,251,252,253,254,255,256,257,258,259,260,261,262,263,264,265,266,267,268,269,270,271,272,273,274,275,276,277,278,279,280,281,282,283,284,285,286,287,288,289,290,291,292,293,294,295,296,297,298,299],\"index\":[0,1,2,3,4,5,6,7,8,9,10,11,12,13,14,15,16,17,18,19,20,21,22,23,24,25,26,27,28,29,30,31,32,33,34,35,36,37,38,39,40,41,42,43,44,45,46,47,48,49,50,51,52,53,54,55,56,57,58,59,60,61,62,63,64,65,66,67,68,69,70,71,72,73,74,75,76,77,78,79,80,81,82,83,84,85,86,87,88,89,90,91,92,93,94,95,96,97,98,99,100,101,102,103,104,105,106,107,108,109,110,111,112,113,114,115,116,117,118,119,120,121,122,123,124,125,126,127,128,129,130,131,132,133,134,135,136,137,138,139,140,141,142,143,144,145,146,147,148,149,150,151,152,153,154,155,156,157,158,159,160,161,162,163,164,165,166,167,168,169,170,171,172,173,174,175,176,177,178,179,180,181,182,183,184,185,186,187,188,189,190,191,192,193,194,195,196,197,198,199,200,201,202,203,204,205,206,207,208,209,210,211,212,213,214,215,216,217,218,219,220,221,222,223,224,225,226,227,228,229,230,231,232,233,234,235,236,237,238,239,240,241,242,243,244,245,246,247,248,249,250,251,252,253,254,255,256,257,258,259,260,261,262,263,264,265,266,267,268,269,270,271,272,273,274,275,276,277,278,279,280,281,282,283,284,285,286,287,288,289,290,291,292,293,294,295,296,297,298,299],\"x\":{\"__ndarray__\":\"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\",\"dtype\":\"float64\",\"shape\":[300]},\"y\":{\"__ndarray__\":\"mlNq63Ju3b+HXeBmKTPkv95ptValjNa/p3OHME0J1j+it9HMJHa1vzZgiYn1dsY/7ALkkH2/27/ZYCt2gLn3v+q4t8ZO5a0/T96aoxIDuz/PfjnOwRDhvxObR+y0EdS/zaqktMmixz+qHlksnsu0v3IrPthF6/U/Xc2vgjqvcr/5SAey4hugP8EMVqvzgMK/i5iIRkWewj8kKbLK6qLGP+Wxi5bppNG/bYsQcEdSwL/Hjcc+BJbVv4pL0Ua5SM6/9M1fpNU5wD9r3mIaWn2WP/wevLQE3tS/4cwEuT7nqL9Mwr8KjGe/v1uGke8yAcK/z6N5x4YrpT8c3DcVuGzzv6vQbmZtUa2/0UVeXecU+D/nvvOqI6zbv2P+iC2enpa/dCCBHTjH4L/ski3sx8PKv6LN6bxYzcE/6kO+DJ2v/r9kVICL3uTKP7q03xXR4ba/1zeBGfSO17+zd8TpsH72v7FOlE9vk56/OeDlAlK867802irh/I7iv4uixX1NpfK/X5++eBge7z97TFqv51yov1urBoLS6L2/J/KEwB0Rtr9cYhTYalPsv+wMu0b7NfK/fc8SC33n4D9vZZYh51u6P0VwDVrtreG/ycLVQaRTw7/pPrj1h8zjP4wMFNev7O4//Pnhi3q62L8hSqKmtRGwv21xfY2oRN+/g6ly/Erp0z8bSqFnhubUv5dr1lokpdG/HjMaCDN3wD+qUL5xLgTLP/rqMv+0K9C/VQdQxt6Fy78/d8hF9H3AP2V1SJU9lLI/WibOQCfe3L+Eof7sMWjpP0t+83gZaZm/f1EYpahX0T+tGYEdJFTnP7wFYH6Vd9G/rPF19Uzivr8UcLgI0BXfv64Q8+TLv/U/+8j/zxBuj79vmYfR/UjTvzuYuamknqC/kdhxQpPU1L/LoZRXrvjXv3GRyhjen+E74IudTb/UYb/TXX5p2u+Sv/nrzRBWuPI/W8FHPxyH8z+adT+j9MjOvwY4u64gK8e/S3LwlvEABEAglJ0yPcTFv4375v9Gxs0/ulIVT+R50L93llNBeaXiv4OAhVeJYXC/HADlG4aHwj8FrPuDRpX2v2bYEdNm5tC/QG6cqjmQwz+3SJ6x5VXDPy9naLytKZO/g6hho7nbEECoQWDt0UPZvxl49nDI4LW/eVr2JizrtT/UlrzgZvQAwDo8fhlM4eE/33G6c5Q0C0CfsqoZxKnAv54DwUT8fK+/zc2A9eai0r+GgID3/Fnwv4c2A18fNcy/kG5WcLsy0L+mLwtFj1biPylAC129Nsu/22HOqAWduT8MWHnNWio4v2Ba4TcLd+u/6Sr57/SA0L/JZ6n3WxGZP51iszuHAs6/DeeBT3nCoD9lf10BmEzBP/+oh8DQHOa/wQZc5ax51j+lkI4uRiapP35n0h+4lse/hUz2HrUpqr8cnwRu+ur+P9dL8e0g6YU/0nupOPHaxb8T4HjNAlq9P/3pdR0pZdO/rtYS3jndcL8YSPa/+jzgPymM9g6WJ8w/m3Gtp++5hL8dpN8hoZvIv747I4u4rq2/IxVG2IUVtD9v9WG5I3XVv6nVJpzJ+OK//Rcxc8AVoT9KQg9pevPFv8byqiOUVRe7Pbo7yVd84r/kV5ota9TDv6JDRC6JlNm/h8nrrrk92j9AkcO7JPHuP89uORITH8C/dN5BEHv08r+KHgfnK3LFv1SCyB9AT+U/auCepAA90b+pfPjYx4QGwJCXKSQ6PMO/MNMF3EJr6D/aFuGTAdOyv9LNyWeK4wBAuzXaz3Gq4j9CmjIHnpKdPxTWgCoRUmK/y3A5E5Izyr+/EtH7JlDdP4KNRU/Q+bA/5H17Nx6GyL+FHl/9/jq8vzlVwLhOB+C/C1FeQuBz0j+J2pJvy/upP9Zkms86HmY/XyDwpbIe2z9L8HOgf4fOP2LBiyIKZbe/yr192APysr/UVrfHyDTkvwYi5QXaeApA3T/ypQYjcz+1Fnk1ufaRvzMdzousK+u/20IBFzUQ0j9kVnTcllSzP6pwrPI4wsk/9+xJtKRVw79i7paRV/TSv7dK8Mg3Pqk/jYECKgNowr/3Cc4al1zcvyWwXWig5Li/HJBeexUoyL8ro8qBldS3P6FpuEccTdy/nT+Lfkfzn7+GdNHFkPv3Pxwds66hOs8/6WTLSqB/v79o9XJbc8l4P3b05cD3+9u/TzTL7sbcyD84/y/YpMLev8WHXocJg9+/ZQlFeJvRkT8cjm5BSmyGvzWjoBzT9bQ/imLhWY0Awr8oa0xfNya7v/wxBqZ3XeY/W3BCH9n2mT9XjLPLXwfwv7oE88f/hPK/EVW5rnxfnL/OEHkVNwa3vwrbwFsyTs8/P7iR2RB72L+1TPDmyK/rv2Oh8uT5dOO/oBGGgkJXrz8lk+WnPrD/P6uflecBhuw/N3iCG7mAp78lAMb7KSe3v3j2FBzcK+W/fawbDUtGpT/4d1M14L7zv5C81R0DyPc/IuopEmNsuT+dI2k0gKjwv9NTdnsZyoM/NshqOdTarD91DsCqbMd+v9xsK523v9K/K77+MoGitr9DzG/ML0TSv3UuHCl1JtC/6gp8s/GXob/kUSgJlC/CP38uj4m67aY/nenYgKlgqb9okL3HGT6+P+u7BNN4U8w/SCYs/Tdlz79zPEgLXUvLP5dWLhCAk+C/7MlAH8Q4oT9DwxqbGqG0vwzLjkBeJ3G/Pq/+uPAVpD8NqnLrwCagvzd9FJ3htrO/FrcWV/1H078Vo+GSgVTbv/2fRVFzXeQ/3ZGteoKTuz8tBJ8HKiHeP1YuUvJsHrW/uH8OLq+s0r+8YW9RIIelP0wJshyt8eE/gcCKsUrelb/OoMHQr/2gPwAAAAAAAAAA9sXdxN/QvD/l6WssXC6aP8BFrX6asGM/n3QnmcqAnj9GpxcTCwPvP0xax5GlKcQ/DQMlO5CFob8lOv5ofSnEvxZfMYLxSdK/ud8DKX79zT/GBSzCF+LWv+R6gwZ/ItK/ZEWkzLfBob9P3HhRId7DvzOlA2FXoIo/EgO8sLbMvr+78h27pnPAPyIqS2Uj6cG/tQpee3iTA8AqZ0mqjh69vzdjFPqZC9C/2bHrkdUZlD/VpGGoF0y9v/y492FKJLg/nwI8J2Kjhj+aEfpk+HTPv2PXEB1O4qe/dwp0xn+v3j//2kuiQdSov6y+XsMw28i/7/ISzJa8l7/1hBs4o87DvwyVnG8es72/\",\"dtype\":\"float64\",\"shape\":[300]}},\"selected\":{\"id\":\"1808\",\"type\":\"Selection\"},\"selection_policy\":{\"id\":\"1807\",\"type\":\"UnionRenderers\"}},\"id\":\"1727\",\"type\":\"ColumnDataSource\"},{\"attributes\":{},\"id\":\"1737\",\"type\":\"LinearScale\"},{\"attributes\":{},\"id\":\"1754\",\"type\":\"HelpTool\"},{\"attributes\":{},\"id\":\"1740\",\"type\":\"BasicTicker\"},{\"attributes\":{\"active_drag\":\"auto\",\"active_inspect\":\"auto\",\"active_multi\":null,\"active_scroll\":\"auto\",\"active_tap\":\"auto\",\"tools\":[{\"id\":\"1749\",\"type\":\"PanTool\"},{\"id\":\"1750\",\"type\":\"WheelZoomTool\"},{\"id\":\"1751\",\"type\":\"BoxZoomTool\"},{\"id\":\"1752\",\"type\":\"SaveTool\"},{\"id\":\"1753\",\"type\":\"ResetTool\"},{\"id\":\"1754\",\"type\":\"HelpTool\"}]},\"id\":\"1755\",\"type\":\"Toolbar\"},{\"attributes\":{\"overlay\":{\"id\":\"1806\",\"type\":\"BoxAnnotation\"}},\"id\":\"1751\",\"type\":\"BoxZoomTool\"},{\"attributes\":{\"source\":{\"id\":\"1727\",\"type\":\"ColumnDataSource\"},\"text\":{\"field\":\"document\"},\"text_align\":\"center\",\"text_color\":{\"value\":\"#555555\"},\"text_font_size\":{\"value\":\"8pt\"},\"x\":{\"field\":\"x\"},\"y\":{\"field\":\"y\"},\"y_offset\":{\"value\":8}},\"id\":\"1728\",\"type\":\"LabelSet\"},{\"attributes\":{\"formatter\":{\"id\":\"1805\",\"type\":\"BasicTickFormatter\"},\"ticker\":{\"id\":\"1745\",\"type\":\"BasicTicker\"}},\"id\":\"1744\",\"type\":\"LinearAxis\"},{\"attributes\":{\"ticker\":{\"id\":\"1740\",\"type\":\"BasicTicker\"}},\"id\":\"1743\",\"type\":\"Grid\"},{\"attributes\":{\"data_source\":{\"id\":\"1727\",\"type\":\"ColumnDataSource\"},\"glyph\":{\"id\":\"1763\",\"type\":\"Circle\"},\"hover_glyph\":null,\"muted_glyph\":null,\"nonselection_glyph\":{\"id\":\"1764\",\"type\":\"Circle\"},\"selection_glyph\":null,\"view\":{\"id\":\"1766\",\"type\":\"CDSView\"}},\"id\":\"1765\",\"type\":\"GlyphRenderer\"},{\"attributes\":{\"dimension\":1,\"ticker\":{\"id\":\"1745\",\"type\":\"BasicTicker\"}},\"id\":\"1748\",\"type\":\"Grid\"},{\"attributes\":{\"fill_alpha\":{\"value\":0.8},\"fill_color\":{\"value\":\"#1f77b4\"},\"size\":{\"units\":\"screen\",\"value\":12},\"x\":{\"field\":\"x\"},\"y\":{\"field\":\"y\"}},\"id\":\"1763\",\"type\":\"Circle\"},{\"attributes\":{\"fill_alpha\":{\"value\":0.1},\"fill_color\":{\"value\":\"#1f77b4\"},\"line_alpha\":{\"value\":0.1},\"line_color\":{\"value\":\"#1f77b4\"},\"size\":{\"units\":\"screen\",\"value\":12},\"x\":{\"field\":\"x\"},\"y\":{\"field\":\"y\"}},\"id\":\"1764\",\"type\":\"Circle\"},{\"attributes\":{},\"id\":\"1749\",\"type\":\"PanTool\"},{\"attributes\":{},\"id\":\"1750\",\"type\":\"WheelZoomTool\"},{\"attributes\":{},\"id\":\"1805\",\"type\":\"BasicTickFormatter\"},{\"attributes\":{},\"id\":\"1808\",\"type\":\"Selection\"},{\"attributes\":{},\"id\":\"1753\",\"type\":\"ResetTool\"},{\"attributes\":{},\"id\":\"1807\",\"type\":\"UnionRenderers\"},{\"attributes\":{},\"id\":\"1752\",\"type\":\"SaveTool\"}],\"root_ids\":[\"1730\"]},\"title\":\"Bokeh Application\",\"version\":\"1.3.4\"}};\n",
       "  var render_items = [{\"docid\":\"15693fb8-bdd2-4e2d-971d-beda057c35bb\",\"notebook_comms_target\":\"1809\",\"roots\":{\"1730\":\"ebb6da06-28e9-45a8-ae6a-a4637cbabd7e\"}}];\n",
       "  root.Bokeh.embed.embed_items_notebook(docs_json, render_items);\n",
       "\n",
       "  }\n",
       "  if (root.Bokeh !== undefined) {\n",
       "    embed_document(root);\n",
       "  } else {\n",
       "    var attempts = 0;\n",
       "    var timer = setInterval(function(root) {\n",
       "      if (root.Bokeh !== undefined) {\n",
       "        embed_document(root);\n",
       "        clearInterval(timer);\n",
       "      }\n",
       "      attempts++;\n",
       "      if (attempts > 100) {\n",
       "        console.log(\"Bokeh: ERROR: Unable to run BokehJS code because BokehJS library is missing\");\n",
       "        clearInterval(timer);\n",
       "      }\n",
       "    }, 10, root)\n",
       "  }\n",
       "})(window);"
      ],
      "application/vnd.bokehjs_exec.v0+json": ""
     },
     "metadata": {
      "application/vnd.bokehjs_exec.v0+json": {
       "id": "1730"
      }
     },
     "output_type": "display_data"
    },
    {
     "data": {
      "text/html": [
       "<p><code>&lt;Bokeh Notebook handle for <strong>In[120]</strong>&gt;</code></p>"
      ],
      "text/plain": [
       "<bokeh.io.notebook.CommsHandle at 0x7fc71cd4d3c8>"
      ]
     },
     "execution_count": 120,
     "metadata": {},
     "output_type": "execute_result"
    }
   ],
   "source": [
    "import pandas as pd\n",
    "from bokeh.io import push_notebook, show, output_notebook\n",
    "from bokeh.plotting import figure\n",
    "from bokeh.models import ColumnDataSource, LabelSet\n",
    "output_notebook()\n",
    "\n",
    "svd = TruncatedSVD(n_components=200)\n",
    "documents_2d = svd.fit_transform(data_vectorized)\n",
    " \n",
    "df = pd.DataFrame(columns=['x', 'y', 'document'])\n",
    "df['x'], df['y'], df['document'] = documents_2d[:,0], documents_2d[:,1], range(len(df_raw))\n",
    " \n",
    "source = ColumnDataSource(ColumnDataSource.from_df(df))\n",
    "labels = LabelSet(x=\"x\", y=\"y\", text=\"document\", y_offset=8,\n",
    "                  text_font_size=\"8pt\", text_color=\"#555555\",\n",
    "                  source=source, text_align='center')\n",
    " \n",
    "plot = figure(plot_width=600, plot_height=600)\n",
    "plot.circle(\"x\", \"y\", size=12, source=source, line_color=\"black\", fill_alpha=0.8)\n",
    "plot.add_layout(labels)\n",
    "show(plot, notebook_handle=True)\n"
   ]
  },
  {
   "cell_type": "code",
   "execution_count": 121,
   "metadata": {
    "ExecuteTime": {
     "end_time": "2019-11-19T05:16:24.004425Z",
     "start_time": "2019-11-19T05:16:23.892210Z"
    }
   },
   "outputs": [
    {
     "data": {
      "text/html": [
       "\n",
       "\n",
       "\n",
       "\n",
       "\n",
       "\n",
       "  <div class=\"bk-root\" id=\"1782f6e5-4613-441b-81ca-91a3680b2b25\" data-root-id=\"1958\"></div>\n"
      ]
     },
     "metadata": {},
     "output_type": "display_data"
    },
    {
     "data": {
      "application/javascript": [
       "(function(root) {\n",
       "  function embed_document(root) {\n",
       "    \n",
       "  var docs_json = {\"dedf8b64-800d-49d0-8e72-4b9f243df181\":{\"roots\":{\"references\":[{\"attributes\":{\"below\":[{\"id\":\"1967\",\"type\":\"LinearAxis\"}],\"center\":[{\"id\":\"1971\",\"type\":\"Grid\"},{\"id\":\"1976\",\"type\":\"Grid\"},{\"id\":\"1956\",\"type\":\"LabelSet\"}],\"left\":[{\"id\":\"1972\",\"type\":\"LinearAxis\"}],\"renderers\":[{\"id\":\"1993\",\"type\":\"GlyphRenderer\"}],\"title\":{\"id\":\"2037\",\"type\":\"Title\"},\"toolbar\":{\"id\":\"1983\",\"type\":\"Toolbar\"},\"x_range\":{\"id\":\"1959\",\"type\":\"DataRange1d\"},\"x_scale\":{\"id\":\"1963\",\"type\":\"LinearScale\"},\"y_range\":{\"id\":\"1961\",\"type\":\"DataRange1d\"},\"y_scale\":{\"id\":\"1965\",\"type\":\"LinearScale\"}},\"id\":\"1958\",\"subtype\":\"Figure\",\"type\":\"Plot\"},{\"attributes\":{\"ticker\":{\"id\":\"1968\",\"type\":\"BasicTicker\"}},\"id\":\"1971\",\"type\":\"Grid\"},{\"attributes\":{},\"id\":\"2042\",\"type\":\"BasicTickFormatter\"},{\"attributes\":{},\"id\":\"2040\",\"type\":\"BasicTickFormatter\"},{\"attributes\":{},\"id\":\"1973\",\"type\":\"BasicTicker\"},{\"attributes\":{},\"id\":\"1978\",\"type\":\"WheelZoomTool\"},{\"attributes\":{\"text\":\"\"},\"id\":\"2037\",\"type\":\"Title\"},{\"attributes\":{\"source\":{\"id\":\"1955\",\"type\":\"ColumnDataSource\"},\"text\":{\"field\":\"word\"},\"text_align\":\"center\",\"text_color\":{\"value\":\"#555555\"},\"text_font_size\":{\"value\":\"8pt\"},\"x\":{\"field\":\"x\"},\"y\":{\"field\":\"y\"},\"y_offset\":{\"value\":8}},\"id\":\"1956\",\"type\":\"LabelSet\"},{\"attributes\":{},\"id\":\"1982\",\"type\":\"HelpTool\"},{\"attributes\":{},\"id\":\"2045\",\"type\":\"Selection\"},{\"attributes\":{\"formatter\":{\"id\":\"2042\",\"type\":\"BasicTickFormatter\"},\"ticker\":{\"id\":\"1973\",\"type\":\"BasicTicker\"}},\"id\":\"1972\",\"type\":\"LinearAxis\"},{\"attributes\":{\"callback\":null},\"id\":\"1959\",\"type\":\"DataRange1d\"},{\"attributes\":{\"active_drag\":\"auto\",\"active_inspect\":\"auto\",\"active_multi\":null,\"active_scroll\":\"auto\",\"active_tap\":\"auto\",\"tools\":[{\"id\":\"1977\",\"type\":\"PanTool\"},{\"id\":\"1978\",\"type\":\"WheelZoomTool\"},{\"id\":\"1979\",\"type\":\"BoxZoomTool\"},{\"id\":\"1980\",\"type\":\"SaveTool\"},{\"id\":\"1981\",\"type\":\"ResetTool\"},{\"id\":\"1982\",\"type\":\"HelpTool\"}]},\"id\":\"1983\",\"type\":\"Toolbar\"},{\"attributes\":{},\"id\":\"1977\",\"type\":\"PanTool\"},{\"attributes\":{},\"id\":\"1965\",\"type\":\"LinearScale\"},{\"attributes\":{\"callback\":null,\"data\":{\"index\":[0,1,2,3,4,5,6,7,8,9,10,11,12,13,14,15,16,17,18,19,20,21,22,23,24,25,26,27,28,29,30,31,32,33,34,35,36,37,38,39,40,41,42,43,44,45,46,47,48,49,50,51,52,53,54,55,56,57,58,59,60,61,62,63,64,65,66,67,68,69,70,71,72,73,74,75,76,77,78,79,80,81,82,83,84,85,86,87,88,89,90,91,92,93,94,95,96,97,98,99,100,101,102,103,104,105,106,107,108,109,110,111,112,113,114,115,116,117,118,119,120,121,122,123,124,125,126,127,128,129,130,131,132,133,134,135,136,137,138,139,140,141,142,143,144,145,146,147,148,149,150,151,152,153,154,155,156,157,158,159,160,161,162,163,164,165,166,167,168,169,170,171,172,173,174,175,176,177,178,179,180,181,182,183,184,185,186,187,188,189,190,191,192,193,194,195,196,197,198,199,200,201,202,203,204,205,206,207,208,209,210,211,212,213,214,215,216,217,218,219,220,221,222,223,224,225,226,227,228,229,230,231,232,233,234,235,236,237,238,239,240,241,242,243,244,245,246,247,248,249,250,251,252,253,254,255,256,257,258,259,260],\"word\":[\"able\",\"access\",\"add\",\"also\",\"alt\",\"always\",\"amd\",\"another\",\"anybody\",\"anyone\",\"anything\",\"anyway\",\"app\",\"application\",\"apt-get\",\"around\",\"ask\",\"available\",\"back\",\"bad\",\"bar\",\"believe\",\"best\",\"better\",\"bit\",\"boot\",\"browser\",\"bug\",\"burn\",\"called\",\"cant\",\"change\",\"channel\",\"check\",\"cli\",\"click\",\"com\",\"comes\",\"command\",\"compiz\",\"computer\",\"conf\",\"configure\",\"connect\",\"copy\",\"could\",\"cpu\",\"ctrl\",\"dapper\",\"default\",\"desktop\",\"dev\",\"different\",\"directory\",\"disk\",\"dont\",\"download\",\"drive\",\"driver\",\"drivers\",\"edit\",\"else\",\"error\",\"etc\",\"even\",\"every\",\"example\",\"file\",\"files\",\"find\",\"fine\",\"firefox\",\"first\",\"fix\",\"flash\",\"folder\",\"format\",\"found\",\"free\",\"get\",\"give\",\"gksudo\",\"gnome\",\"going\",\"good\",\"google\",\"got\",\"great\",\"grub\",\"guess\",\"gui\",\"guys\",\"heard\",\"hello\",\"help\",\"hey\",\"home\",\"http\",\"idea\",\"info\",\"install\",\"installation\",\"installed\",\"installing\",\"instead\",\"intel\",\"internet\",\"iso\",\"issue\",\"join\",\"kde\",\"keep\",\"kernel\",\"keyboard\",\"know\",\"knows\",\"laptop\",\"latest\",\"let\",\"like\",\"line\",\"link\",\"live\",\"load\",\"log\",\"lol\",\"look\",\"looking\",\"machine\",\"make\",\"man\",\"manager\",\"many\",\"may\",\"maybe\",\"mean\",\"means\",\"menu\",\"might\",\"monitor\",\"mount\",\"much\",\"name\",\"nautilus\",\"need\",\"network\",\"never\",\"new\",\"nothing\",\"nvidia\",\"older\",\"one\",\"open\",\"option\",\"org\",\"package\",\"packages\",\"page\",\"partition\",\"paste\",\"path\",\"people\",\"play\",\"player\",\"please\",\"point\",\"possible\",\"post\",\"problem\",\"program\",\"put\",\"question\",\"ram\",\"rather\",\"read\",\"really\",\"reason\",\"reinstall\",\"remove\",\"resolution\",\"restart\",\"right\",\"root\",\"run\",\"running\",\"say\",\"says\",\"screen\",\"script\",\"see\",\"seems\",\"select\",\"server\",\"set\",\"settings\",\"simple\",\"since\",\"software\",\"solution\",\"someone\",\"something\",\"sorry\",\"sound\",\"space\",\"start\",\"stick\",\"still\",\"stuff\",\"sudo\",\"support\",\"sure\",\"switch\",\"synaptic\",\"system\",\"tell\",\"tells\",\"terminal\",\"thank\",\"thanks\",\"thing\",\"things\",\"think\",\"though\",\"time\",\"tool\",\"top\",\"tried\",\"try\",\"trying\",\"two\",\"type\",\"update\",\"usb\",\"use\",\"used\",\"user\",\"using\",\"version\",\"via\",\"video\",\"want\",\"way\",\"well\",\"whats\",\"win\",\"window\",\"windows\",\"wine\",\"without\",\"wondering\",\"work\",\"worked\",\"working\",\"works\",\"would\",\"write\",\"wrong\",\"www\",\"xorg\",\"yeah\",\"yes\"],\"x\":{\"__ndarray__\":\"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\",\"dtype\":\"float64\",\"shape\":[261]},\"y\":{\"__ndarray__\":\"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\",\"dtype\":\"float64\",\"shape\":[261]}},\"selected\":{\"id\":\"2045\",\"type\":\"Selection\"},\"selection_policy\":{\"id\":\"2044\",\"type\":\"UnionRenderers\"}},\"id\":\"1955\",\"type\":\"ColumnDataSource\"},{\"attributes\":{\"fill_alpha\":{\"value\":0.8},\"fill_color\":{\"value\":\"#1f77b4\"},\"size\":{\"units\":\"screen\",\"value\":12},\"x\":{\"field\":\"x\"},\"y\":{\"field\":\"y\"}},\"id\":\"1991\",\"type\":\"Circle\"},{\"attributes\":{},\"id\":\"1963\",\"type\":\"LinearScale\"},{\"attributes\":{},\"id\":\"1980\",\"type\":\"SaveTool\"},{\"attributes\":{\"callback\":null},\"id\":\"1961\",\"type\":\"DataRange1d\"},{\"attributes\":{\"dimension\":1,\"ticker\":{\"id\":\"1973\",\"type\":\"BasicTicker\"}},\"id\":\"1976\",\"type\":\"Grid\"},{\"attributes\":{\"bottom_units\":\"screen\",\"fill_alpha\":{\"value\":0.5},\"fill_color\":{\"value\":\"lightgrey\"},\"left_units\":\"screen\",\"level\":\"overlay\",\"line_alpha\":{\"value\":1.0},\"line_color\":{\"value\":\"black\"},\"line_dash\":[4,4],\"line_width\":{\"value\":2},\"render_mode\":\"css\",\"right_units\":\"screen\",\"top_units\":\"screen\"},\"id\":\"2043\",\"type\":\"BoxAnnotation\"},{\"attributes\":{},\"id\":\"2044\",\"type\":\"UnionRenderers\"},{\"attributes\":{\"overlay\":{\"id\":\"2043\",\"type\":\"BoxAnnotation\"}},\"id\":\"1979\",\"type\":\"BoxZoomTool\"},{\"attributes\":{\"formatter\":{\"id\":\"2040\",\"type\":\"BasicTickFormatter\"},\"ticker\":{\"id\":\"1968\",\"type\":\"BasicTicker\"}},\"id\":\"1967\",\"type\":\"LinearAxis\"},{\"attributes\":{\"fill_alpha\":{\"value\":0.1},\"fill_color\":{\"value\":\"#1f77b4\"},\"line_alpha\":{\"value\":0.1},\"line_color\":{\"value\":\"#1f77b4\"},\"size\":{\"units\":\"screen\",\"value\":12},\"x\":{\"field\":\"x\"},\"y\":{\"field\":\"y\"}},\"id\":\"1992\",\"type\":\"Circle\"},{\"attributes\":{},\"id\":\"1968\",\"type\":\"BasicTicker\"},{\"attributes\":{\"data_source\":{\"id\":\"1955\",\"type\":\"ColumnDataSource\"},\"glyph\":{\"id\":\"1991\",\"type\":\"Circle\"},\"hover_glyph\":null,\"muted_glyph\":null,\"nonselection_glyph\":{\"id\":\"1992\",\"type\":\"Circle\"},\"selection_glyph\":null,\"view\":{\"id\":\"1994\",\"type\":\"CDSView\"}},\"id\":\"1993\",\"type\":\"GlyphRenderer\"},{\"attributes\":{},\"id\":\"1981\",\"type\":\"ResetTool\"},{\"attributes\":{\"source\":{\"id\":\"1955\",\"type\":\"ColumnDataSource\"}},\"id\":\"1994\",\"type\":\"CDSView\"}],\"root_ids\":[\"1958\"]},\"title\":\"Bokeh Application\",\"version\":\"1.3.4\"}};\n",
       "  var render_items = [{\"docid\":\"dedf8b64-800d-49d0-8e72-4b9f243df181\",\"notebook_comms_target\":\"2046\",\"roots\":{\"1958\":\"1782f6e5-4613-441b-81ca-91a3680b2b25\"}}];\n",
       "  root.Bokeh.embed.embed_items_notebook(docs_json, render_items);\n",
       "\n",
       "  }\n",
       "  if (root.Bokeh !== undefined) {\n",
       "    embed_document(root);\n",
       "  } else {\n",
       "    var attempts = 0;\n",
       "    var timer = setInterval(function(root) {\n",
       "      if (root.Bokeh !== undefined) {\n",
       "        embed_document(root);\n",
       "        clearInterval(timer);\n",
       "      }\n",
       "      attempts++;\n",
       "      if (attempts > 100) {\n",
       "        console.log(\"Bokeh: ERROR: Unable to run BokehJS code because BokehJS library is missing\");\n",
       "        clearInterval(timer);\n",
       "      }\n",
       "    }, 10, root)\n",
       "  }\n",
       "})(window);"
      ],
      "application/vnd.bokehjs_exec.v0+json": ""
     },
     "metadata": {
      "application/vnd.bokehjs_exec.v0+json": {
       "id": "1958"
      }
     },
     "output_type": "display_data"
    },
    {
     "data": {
      "text/html": [
       "<p><code>&lt;Bokeh Notebook handle for <strong>In[121]</strong>&gt;</code></p>"
      ],
      "text/plain": [
       "<bokeh.io.notebook.CommsHandle at 0x7fc71d13b518>"
      ]
     },
     "execution_count": 121,
     "metadata": {},
     "output_type": "execute_result"
    }
   ],
   "source": [
    "svd = TruncatedSVD(n_components=100)\n",
    "words_2d = svd.fit_transform(data_vectorized.T)\n",
    " \n",
    "df = pd.DataFrame(columns=['x', 'y', 'word'])\n",
    "df['x'], df['y'], df['word'] = words_2d[:,0], words_2d[:,1], vectorizer.get_feature_names()\n",
    " \n",
    "source = ColumnDataSource(ColumnDataSource.from_df(df))\n",
    "labels = LabelSet(x=\"x\", y=\"y\", text=\"word\", y_offset=8,\n",
    "                  text_font_size=\"8pt\", text_color=\"#555555\",\n",
    "                  source=source, text_align='center')\n",
    " \n",
    "plot = figure(plot_width=600, plot_height=600)\n",
    "plot.circle(\"x\", \"y\", size=12, source=source, line_color=\"black\", fill_alpha=0.8)\n",
    "plot.add_layout(labels)\n",
    "show(plot, notebook_handle=True)"
   ]
  },
  {
   "cell_type": "markdown",
   "metadata": {},
   "source": [
    "# KAGGLE-LDA"
   ]
  },
  {
   "cell_type": "code",
   "execution_count": 122,
   "metadata": {
    "ExecuteTime": {
     "end_time": "2019-11-19T05:16:24.020363Z",
     "start_time": "2019-11-19T05:16:24.006094Z"
    }
   },
   "outputs": [
    {
     "name": "stdout",
     "output_type": "stream",
     "text": [
      "['hello there. I am trying to install GLX on my Dapper (ATI 9200 mobile; IBM T42 laptop). I am following the guide that is on the Ubuntuforum.org, but it does not work as described. Who is willing to help me?. i think i didnt have to do anything except change driver from xorg.conf from ati to fglrx. The forum tells me: \"Start gconf-editor and go to \"apps/compiz/general/all screens/options\"\", but there is no section \"apps/compiz\" in gconf. I always use the fglrx driver, but there is some other strange problem']\n"
     ]
    }
   ],
   "source": [
    "# Convert to list\n",
    "df = df_raw.message.values.tolist()\n",
    "\n",
    "df = [re.sub('\\S*@\\S*\\s?', '', sent) for sent in df]\n",
    "\n",
    "# Remove new line characters\n",
    "df = [re.sub('\\s+', ' ', sent) for sent in df]\n",
    "\n",
    "# Remove distracting single quotes\n",
    "df = [re.sub(\"\\'\", \"\", sent) for sent in df]\n",
    "\n",
    "print(df[:1])"
   ]
  },
  {
   "cell_type": "code",
   "execution_count": 123,
   "metadata": {
    "ExecuteTime": {
     "end_time": "2019-11-19T05:16:24.027827Z",
     "start_time": "2019-11-19T05:16:24.022051Z"
    }
   },
   "outputs": [
    {
     "name": "stdout",
     "output_type": "stream",
     "text": [
      "['hello there. I am trying to install GLX on my Dapper (ATI 9200 mobile; IBM T42 laptop). I am following the guide that is on the Ubuntuforum.org, but it does not work as described. Who is willing to help me?. i think i didnt have to do anything except change driver from xorg.conf from ati to fglrx. The forum tells me \"Start gconf editor and go to \"apps/compiz/general/all screens/options\"\", but there is no section \"apps/compiz\" in gconf. I always use the fglrx driver, but there is some other strange problem']\n"
     ]
    }
   ],
   "source": [
    "df = [re.sub(\"-\", \" \", sent) for sent in df]\n",
    "df = [re.sub(\":\", \"\", sent) for sent in df]\n",
    "print(df[:1])"
   ]
  },
  {
   "cell_type": "code",
   "execution_count": 124,
   "metadata": {
    "ExecuteTime": {
     "end_time": "2019-11-19T05:16:24.073766Z",
     "start_time": "2019-11-19T05:16:24.029419Z"
    }
   },
   "outputs": [],
   "source": [
    "def sent_to_words(sentences):\n",
    "    for sentence in sentences:\n",
    "        yield(gensim.utils.simple_preprocess(str(sentence), deacc=True))\n",
    "\n",
    "df_words = list(sent_to_words(df))"
   ]
  },
  {
   "cell_type": "code",
   "execution_count": 125,
   "metadata": {
    "ExecuteTime": {
     "end_time": "2019-11-19T05:16:24.079967Z",
     "start_time": "2019-11-19T05:16:24.075385Z"
    }
   },
   "outputs": [
    {
     "data": {
      "text/plain": [
       "(['hello',\n",
       "  'there',\n",
       "  'am',\n",
       "  'trying',\n",
       "  'to',\n",
       "  'install',\n",
       "  'glx',\n",
       "  'on',\n",
       "  'my',\n",
       "  'dapper'],\n",
       " ['curious',\n",
       "  'why',\n",
       "  'are',\n",
       "  'many',\n",
       "  'apps',\n",
       "  'installable',\n",
       "  'via',\n",
       "  'apt',\n",
       "  'get',\n",
       "  'but'])"
      ]
     },
     "execution_count": 125,
     "metadata": {},
     "output_type": "execute_result"
    }
   ],
   "source": [
    "df_words[0][:10], df_words[1][:10],"
   ]
  },
  {
   "cell_type": "code",
   "execution_count": 126,
   "metadata": {
    "ExecuteTime": {
     "end_time": "2019-11-19T05:16:24.375457Z",
     "start_time": "2019-11-19T05:16:24.081541Z"
    }
   },
   "outputs": [],
   "source": [
    "# Build the bigram and trigram models\n",
    "\n",
    "bigram = gensim.models.Phrases(df_words, min_count=5, threshold=100) # higher threshold fewer phrases.\n",
    "trigram = gensim.models.Phrases(bigram[df_words], threshold=100)  \n",
    "\n",
    "# Faster way to get a sentence clubbed as a trigram/bigram\n",
    "\n",
    "bigram_mod = gensim.models.phrases.Phraser(bigram)\n",
    "trigram_mod = gensim.models.phrases.Phraser(trigram)"
   ]
  },
  {
   "cell_type": "code",
   "execution_count": 127,
   "metadata": {
    "ExecuteTime": {
     "end_time": "2019-11-19T05:16:24.382924Z",
     "start_time": "2019-11-19T05:16:24.377264Z"
    }
   },
   "outputs": [],
   "source": [
    "def remove_stopwords(texts):\n",
    "    return [[word for word in simple_preprocess(str(doc)) if word not in stop_words] for doc in texts]\n",
    "\n",
    "def make_bigrams(texts):\n",
    "    return [bigram_mod[doc] for doc in texts]\n",
    "\n",
    "def make_trigrams(texts):\n",
    "    return [trigram_mod[bigram_mod[doc]] for doc in texts]\n",
    "\n",
    "def lemmatization(texts, allowed_postags=['NOUN', 'ADJ', 'VERB', 'ADV']):\n",
    "    texts_out = []\n",
    "    for sent in texts:\n",
    "        doc = nlp(\" \".join(sent)) \n",
    "        texts_out.append([token.lemma_ for token in doc if token.pos_ in allowed_postags])\n",
    "    return texts_out"
   ]
  },
  {
   "cell_type": "code",
   "execution_count": 128,
   "metadata": {
    "ExecuteTime": {
     "end_time": "2019-11-19T05:16:25.678015Z",
     "start_time": "2019-11-19T05:16:24.386082Z"
    }
   },
   "outputs": [],
   "source": [
    "\n",
    "data_words_nostops = remove_stopwords(df_words)\n",
    "\n",
    "# Form Bigrams\n",
    "\n",
    "data_words_bigrams = make_bigrams(data_words_nostops)\n",
    "\n",
    "nlp = spacy.load('en', disable=['parser', 'ner'])\n",
    "\n",
    "data_lemmatized = lemmatization(data_words_bigrams, allowed_postags=['NOUN', 'ADJ', 'VERB', 'ADV'])"
   ]
  },
  {
   "cell_type": "code",
   "execution_count": 129,
   "metadata": {
    "ExecuteTime": {
     "end_time": "2019-11-19T05:16:25.700085Z",
     "start_time": "2019-11-19T05:16:25.680292Z"
    }
   },
   "outputs": [],
   "source": [
    "#As we saw in the definition above, converting our document set into a document-term matrix.analyzer\n",
    "\n",
    "# Create Dictionary\n",
    "id2word = corpora.Dictionary(data_lemmatized)\n",
    "\n",
    "# Create Corpus\n",
    "texts = data_lemmatized\n",
    "\n",
    "# Term Document Frequency\n",
    "corpus = [id2word.doc2bow(text) for text in texts]"
   ]
  },
  {
   "cell_type": "code",
   "execution_count": 130,
   "metadata": {
    "ExecuteTime": {
     "end_time": "2019-11-19T05:16:25.737858Z",
     "start_time": "2019-11-19T05:16:25.701811Z"
    }
   },
   "outputs": [
    {
     "data": {
      "text/plain": [
       "[[('help', 1),\n",
       "  ('not', 1),\n",
       "  ('know', 1),\n",
       "  ('support', 1),\n",
       "  ('need', 1),\n",
       "  ('far', 1),\n",
       "  ('port', 1),\n",
       "  ('reason', 1),\n",
       "  ('s', 1),\n",
       "  ('serial', 1),\n",
       "  ('there', 1)]]"
      ]
     },
     "execution_count": 130,
     "metadata": {},
     "output_type": "execute_result"
    }
   ],
   "source": [
    "# Readable format of corpus (term-frequency)\n",
    "\n",
    "[[(id2word[id], freq) for id, freq in cp] for cp in corpus[11:12]]\n"
   ]
  },
  {
   "cell_type": "code",
   "execution_count": 131,
   "metadata": {
    "ExecuteTime": {
     "end_time": "2019-11-19T05:16:25.745446Z",
     "start_time": "2019-11-19T05:16:25.739422Z"
    }
   },
   "outputs": [
    {
     "data": {
      "text/plain": [
       "[[('always', 1),\n",
       "  ('anything', 1),\n",
       "  ('app', 2),\n",
       "  ('ati', 2),\n",
       "  ('change', 1),\n",
       "  ('compiz', 2),\n",
       "  ('dapper', 1),\n",
       "  ('describe', 1),\n",
       "  ('do', 1),\n",
       "  ('driver', 2),\n",
       "  ('editor', 1),\n",
       "  ('fglrx', 2),\n",
       "  ('follow', 1),\n",
       "  ('forum', 1),\n",
       "  ('gconf', 2),\n",
       "  ('general', 1),\n",
       "  ('glx', 1),\n",
       "  ('go', 1),\n",
       "  ('guide', 1),\n",
       "  ('help', 1),\n",
       "  ('ibm', 1),\n",
       "  ('install', 1),\n",
       "  ('laptop', 1),\n",
       "  ('mobile', 1),\n",
       "  ('not', 1),\n",
       "  ('option', 1),\n",
       "  ('org', 1),\n",
       "  ('problem', 1),\n",
       "  ('screen', 1),\n",
       "  ('section', 1),\n",
       "  ('start', 1),\n",
       "  ('strange', 1),\n",
       "  ('tell', 1),\n",
       "  ('think', 1),\n",
       "  ('try', 1),\n",
       "  ('ubuntuforum', 1),\n",
       "  ('use', 1),\n",
       "  ('willing', 1),\n",
       "  ('work', 1),\n",
       "  ('xorg_conf', 1)]]"
      ]
     },
     "execution_count": 131,
     "metadata": {},
     "output_type": "execute_result"
    }
   ],
   "source": [
    "[[(id2word[id], freq) for id, freq in cp] for cp in corpus[0:1]]\n"
   ]
  },
  {
   "cell_type": "code",
   "execution_count": 132,
   "metadata": {
    "ExecuteTime": {
     "end_time": "2019-11-19T05:16:26.900344Z",
     "start_time": "2019-11-19T05:16:25.747032Z"
    }
   },
   "outputs": [],
   "source": [
    "lda_model = gensim.models.ldamodel.LdaModel(corpus=corpus,\n",
    "                                           id2word=id2word,\n",
    "                                           num_topics=5, \n",
    "                                           random_state=100,\n",
    "                                           update_every=1,\n",
    "                                           chunksize=100,\n",
    "                                           passes=10,\n",
    "                                           alpha='auto',\n",
    "                                           per_word_topics=True)"
   ]
  },
  {
   "cell_type": "code",
   "execution_count": 133,
   "metadata": {
    "ExecuteTime": {
     "end_time": "2019-11-19T05:16:26.907085Z",
     "start_time": "2019-11-19T05:16:26.902173Z"
    }
   },
   "outputs": [
    {
     "name": "stdout",
     "output_type": "stream",
     "text": [
      "[(0, '0.017*\"use\" + 0.014*\"not\" + 0.009*\"software\" + 0.009*\"work\" + 0.009*\"s\" + 0.008*\"do\" + 0.008*\"would\" + 0.008*\"support\" + 0.008*\"have\" + 0.007*\"intel\"'), (1, '0.021*\"use\" + 0.020*\"not\" + 0.020*\"be\" + 0.017*\"window\" + 0.013*\"do\" + 0.012*\"run\" + 0.012*\"help\" + 0.012*\"system\" + 0.010*\"s\" + 0.009*\"get\"'), (2, '0.020*\"file\" + 0.015*\"not\" + 0.013*\"try\" + 0.011*\"change\" + 0.011*\"do\" + 0.010*\"work\" + 0.010*\"copy\" + 0.010*\"help\" + 0.010*\"system\" + 0.010*\"com\"'), (3, '0.019*\"not\" + 0.014*\"s\" + 0.012*\"use\" + 0.011*\"work\" + 0.011*\"install\" + 0.010*\"be\" + 0.010*\"need\" + 0.009*\"fine\" + 0.009*\"bit\" + 0.009*\"guy\"'), (4, '0.016*\"sudo\" + 0.014*\"package\" + 0.014*\"get\" + 0.012*\"apt\" + 0.012*\"gui\" + 0.011*\"mount\" + 0.011*\"terminal\" + 0.011*\"know\" + 0.010*\"not\" + 0.010*\"try\"')]\n"
     ]
    }
   ],
   "source": [
    "print(lda_model.print_topics())\n",
    "doc_lda = lda_model[corpus]"
   ]
  },
  {
   "cell_type": "code",
   "execution_count": 134,
   "metadata": {
    "ExecuteTime": {
     "end_time": "2019-11-19T05:16:27.959751Z",
     "start_time": "2019-11-19T05:16:26.908928Z"
    }
   },
   "outputs": [
    {
     "name": "stdout",
     "output_type": "stream",
     "text": [
      "\n",
      "Perplexity:  -7.1776211697621575\n",
      "\n",
      "Coherence Score:  0.31527762559312517\n"
     ]
    }
   ],
   "source": [
    "\n",
    "print('\\nPerplexity: ', lda_model.log_perplexity(corpus)) \n",
    "\n",
    "# Compute Coherence Score\n",
    "\n",
    "coherence_model_lda = CoherenceModel(model=lda_model, texts=data_lemmatized, dictionary=id2word, coherence='c_v')\n",
    "coherence_lda = coherence_model_lda.get_coherence()\n",
    "print('\\nCoherence Score: ', coherence_lda)"
   ]
  },
  {
   "cell_type": "code",
   "execution_count": 135,
   "metadata": {
    "ExecuteTime": {
     "end_time": "2019-11-19T05:16:51.914891Z",
     "start_time": "2019-11-19T05:16:27.962237Z"
    }
   },
   "outputs": [
    {
     "data": {
      "text/html": [
       "\n",
       "<link rel=\"stylesheet\" type=\"text/css\" href=\"https://cdn.rawgit.com/bmabey/pyLDAvis/files/ldavis.v1.0.0.css\">\n",
       "\n",
       "\n",
       "<div id=\"ldavis_el41111404931658403287007892152\"></div>\n",
       "<script type=\"text/javascript\">\n",
       "\n",
       "var ldavis_el41111404931658403287007892152_data = {\"mdsDat\": {\"x\": [0.08222627653067488, 0.11563961356907575, 0.022505439336740818, -0.15995287931865185, -0.060418450117839674], \"y\": [0.018247790399368524, -0.10161150182229671, 0.05633132047388161, -0.10665014185666756, 0.13368253280571413], \"topics\": [1, 2, 3, 4, 5], \"cluster\": [1, 1, 1, 1, 1], \"Freq\": [26.493389129638672, 25.514814376831055, 22.756763458251953, 13.308300018310547, 11.926736831665039]}, \"tinfo\": {\"Category\": [\"Default\", \"Default\", \"Default\", \"Default\", \"Default\", \"Default\", \"Default\", \"Default\", \"Default\", \"Default\", \"Default\", \"Default\", \"Default\", \"Default\", \"Default\", \"Default\", \"Default\", \"Default\", \"Default\", \"Default\", \"Default\", \"Default\", \"Default\", \"Default\", \"Default\", \"Default\", \"Default\", \"Default\", \"Default\", \"Default\", \"Topic1\", \"Topic1\", \"Topic1\", \"Topic1\", \"Topic1\", \"Topic1\", \"Topic1\", \"Topic1\", \"Topic1\", \"Topic1\", \"Topic1\", \"Topic1\", \"Topic1\", \"Topic1\", \"Topic1\", \"Topic1\", \"Topic1\", \"Topic1\", \"Topic1\", \"Topic1\", \"Topic1\", \"Topic1\", \"Topic1\", \"Topic1\", \"Topic1\", \"Topic1\", \"Topic1\", \"Topic1\", \"Topic1\", \"Topic1\", \"Topic1\", \"Topic1\", \"Topic1\", \"Topic1\", \"Topic1\", \"Topic1\", \"Topic1\", \"Topic1\", \"Topic1\", \"Topic1\", \"Topic1\", \"Topic1\", \"Topic1\", \"Topic1\", \"Topic1\", \"Topic1\", \"Topic1\", \"Topic1\", \"Topic1\", \"Topic1\", \"Topic1\", \"Topic1\", \"Topic1\", \"Topic1\", \"Topic1\", \"Topic1\", \"Topic1\", \"Topic1\", \"Topic1\", \"Topic1\", \"Topic1\", \"Topic1\", \"Topic1\", \"Topic2\", \"Topic2\", \"Topic2\", \"Topic2\", \"Topic2\", \"Topic2\", \"Topic2\", \"Topic2\", \"Topic2\", \"Topic2\", \"Topic2\", \"Topic2\", \"Topic2\", \"Topic2\", \"Topic2\", \"Topic2\", \"Topic2\", \"Topic2\", \"Topic2\", \"Topic2\", \"Topic2\", \"Topic2\", \"Topic2\", \"Topic2\", \"Topic2\", \"Topic2\", \"Topic2\", \"Topic2\", \"Topic2\", \"Topic2\", \"Topic2\", \"Topic2\", \"Topic2\", \"Topic2\", \"Topic2\", \"Topic2\", \"Topic2\", \"Topic2\", \"Topic2\", \"Topic2\", \"Topic2\", \"Topic2\", \"Topic2\", \"Topic2\", \"Topic2\", \"Topic2\", \"Topic2\", \"Topic2\", \"Topic2\", \"Topic2\", \"Topic2\", \"Topic2\", \"Topic2\", \"Topic2\", \"Topic2\", \"Topic2\", \"Topic2\", \"Topic2\", \"Topic3\", \"Topic3\", \"Topic3\", \"Topic3\", \"Topic3\", \"Topic3\", \"Topic3\", \"Topic3\", \"Topic3\", \"Topic3\", \"Topic3\", \"Topic3\", \"Topic3\", \"Topic3\", \"Topic3\", \"Topic3\", \"Topic3\", \"Topic3\", \"Topic3\", \"Topic3\", \"Topic3\", \"Topic3\", \"Topic3\", \"Topic3\", \"Topic3\", \"Topic3\", \"Topic3\", \"Topic3\", \"Topic3\", \"Topic3\", \"Topic3\", \"Topic3\", \"Topic3\", \"Topic3\", \"Topic3\", \"Topic3\", \"Topic3\", \"Topic3\", \"Topic3\", \"Topic3\", \"Topic3\", \"Topic3\", \"Topic3\", \"Topic3\", \"Topic3\", \"Topic3\", \"Topic3\", \"Topic3\", \"Topic3\", \"Topic3\", \"Topic3\", \"Topic3\", \"Topic3\", \"Topic3\", \"Topic3\", \"Topic4\", \"Topic4\", \"Topic4\", \"Topic4\", \"Topic4\", \"Topic4\", \"Topic4\", \"Topic4\", \"Topic4\", \"Topic4\", \"Topic4\", \"Topic4\", \"Topic4\", \"Topic4\", \"Topic4\", \"Topic4\", \"Topic4\", \"Topic4\", \"Topic4\", \"Topic4\", \"Topic4\", \"Topic4\", \"Topic4\", \"Topic4\", \"Topic4\", \"Topic4\", \"Topic4\", \"Topic4\", \"Topic4\", \"Topic4\", \"Topic4\", \"Topic4\", \"Topic4\", \"Topic4\", \"Topic4\", \"Topic4\", \"Topic4\", \"Topic4\", \"Topic4\", \"Topic4\", \"Topic4\", \"Topic4\", \"Topic4\", \"Topic4\", \"Topic4\", \"Topic4\", \"Topic4\", \"Topic4\", \"Topic4\", \"Topic4\", \"Topic4\", \"Topic4\", \"Topic4\", \"Topic4\", \"Topic5\", \"Topic5\", \"Topic5\", \"Topic5\", \"Topic5\", \"Topic5\", \"Topic5\", \"Topic5\", \"Topic5\", \"Topic5\", \"Topic5\", \"Topic5\", \"Topic5\", \"Topic5\", \"Topic5\", \"Topic5\", \"Topic5\", \"Topic5\", \"Topic5\", \"Topic5\", \"Topic5\", \"Topic5\", \"Topic5\", \"Topic5\", \"Topic5\", \"Topic5\", \"Topic5\", \"Topic5\", \"Topic5\", \"Topic5\", \"Topic5\", \"Topic5\", \"Topic5\", \"Topic5\", \"Topic5\", \"Topic5\", \"Topic5\", \"Topic5\", \"Topic5\", \"Topic5\", \"Topic5\", \"Topic5\", \"Topic5\", \"Topic5\", \"Topic5\", \"Topic5\", \"Topic5\", \"Topic5\", \"Topic5\", \"Topic5\", \"Topic5\", \"Topic5\", \"Topic5\", \"Topic5\", \"Topic5\", \"Topic5\", \"Topic5\", \"Topic5\"], \"Freq\": [32.0, 22.0, 51.0, 44.0, 11.0, 17.0, 19.0, 10.0, 20.0, 10.0, 12.0, 14.0, 19.0, 18.0, 38.0, 15.0, 8.0, 10.0, 23.0, 11.0, 61.0, 15.0, 9.0, 22.0, 11.0, 6.0, 9.0, 10.0, 17.0, 14.0, 10.0071439743042, 8.14102554321289, 7.525313854217529, 6.972944736480713, 7.025144577026367, 6.29768180847168, 6.045015335083008, 6.033533573150635, 29.267337799072266, 5.690576076507568, 5.461070537567139, 5.350038528442383, 5.251613140106201, 4.715609550476074, 4.792904376983643, 4.388721466064453, 4.314260482788086, 4.5881428718566895, 4.310795783996582, 4.366964817047119, 4.3861188888549805, 4.328596115112305, 8.818305015563965, 4.088420391082764, 4.086043834686279, 4.054450511932373, 4.150096893310547, 4.03170108795166, 3.834451913833618, 3.581171751022339, 5.394811153411865, 10.694713592529297, 20.353065490722656, 8.90825080871582, 6.404383659362793, 6.453312397003174, 33.38331604003906, 13.459848403930664, 8.99896240234375, 9.021783828735352, 19.58240509033203, 35.239139556884766, 6.214572906494141, 7.8213653564453125, 34.166839599609375, 19.857759475708008, 22.102359771728516, 17.861677169799805, 13.449743270874023, 11.828777313232422, 14.394902229309082, 15.722831726074219, 10.873001098632812, 9.981139183044434, 9.941985130310059, 8.88240909576416, 10.017526626586914, 11.639609336853027, 9.368297576904297, 9.568807601928711, 8.530787467956543, 9.957281112670898, 9.947453498840332, 16.991830825805664, 11.113140106201172, 10.303319931030273, 8.594303131103516, 8.613311767578125, 8.57900619506836, 8.040521621704102, 17.945594787597656, 8.152873992919922, 7.109172344207764, 6.677300930023193, 6.552713871002197, 6.011773586273193, 5.704579830169678, 5.7493133544921875, 5.557241439819336, 5.349731922149658, 5.428042411804199, 4.956308841705322, 4.879086494445801, 4.719863414764404, 16.20774269104004, 4.3867363929748535, 4.322579383850098, 4.395902633666992, 4.2306342124938965, 4.058820724487305, 4.502296447753906, 3.8818933963775635, 3.8211801052093506, 16.19339942932129, 8.47575855255127, 9.808184623718262, 13.326197624206543, 8.777836799621582, 33.441139221191406, 15.98617172241211, 8.506974220275879, 11.609028816223145, 11.174189567565918, 14.472020149230957, 21.228612899780273, 12.526519775390625, 8.231646537780762, 16.226070404052734, 7.630873680114746, 25.228588104248047, 16.73761558532715, 17.05827522277832, 17.37766456604004, 12.096590995788574, 11.712055206298828, 15.299391746520996, 13.485651016235352, 9.407804489135742, 10.979907035827637, 10.350701332092285, 9.1557035446167, 13.597637176513672, 11.366121292114258, 8.928964614868164, 8.489301681518555, 8.585270881652832, 7.591302394866943, 7.289060115814209, 6.737359046936035, 6.927672386169434, 5.948787212371826, 5.820558547973633, 5.866819858551025, 5.624698162078857, 5.494048118591309, 5.532254219055176, 5.596556186676025, 5.1248884201049805, 8.06210708618164, 13.720449447631836, 4.967561721801758, 5.503598213195801, 4.758315563201904, 4.432880878448486, 3.8950724601745605, 3.9462850093841553, 3.9568588733673096, 3.733553409576416, 3.7143163681030273, 3.5091123580932617, 3.5266780853271484, 6.86818790435791, 7.991734027862549, 13.54055118560791, 9.172404289245605, 6.542750358581543, 10.652877807617188, 20.060853958129883, 13.951794624328613, 9.291056632995605, 28.274993896484375, 16.09061050415039, 16.666677474975586, 16.938108444213867, 14.201128005981445, 13.460043907165527, 6.820423603057861, 9.495626449584961, 9.3585205078125, 8.7579345703125, 10.009054183959961, 8.588438034057617, 10.063334465026855, 8.084485054016113, 8.16713809967041, 8.042152404785156, 10.501361846923828, 10.041685104370117, 9.373331069946289, 8.024524688720703, 6.334875583648682, 3.844202756881714, 3.617526054382324, 3.9829111099243164, 3.7934787273406982, 2.9583559036254883, 2.955620527267456, 3.043532371520996, 2.6920254230499268, 2.691352367401123, 2.6901259422302246, 2.6900787353515625, 2.6897761821746826, 2.689127206802368, 2.446841239929199, 9.369945526123047, 2.156167984008789, 2.0420265197753906, 2.0181941986083984, 2.017810821533203, 2.017014265060425, 2.016385078430176, 2.015911340713501, 2.015524387359619, 2.011107921600342, 6.897828578948975, 13.566596031188965, 3.3064119815826416, 12.212074279785156, 6.0771355628967285, 5.629685878753662, 6.264267444610596, 3.9220802783966064, 4.119875431060791, 3.2086410522460938, 4.603864669799805, 11.831445693969727, 5.148478984832764, 8.98446273803711, 4.693512439727783, 8.659330368041992, 8.445241928100586, 4.0874738693237305, 8.7840576171875, 5.661136150360107, 6.63873815536499, 5.30186653137207, 6.295341968536377, 4.6645402908325195, 4.027790546417236, 5.383360862731934, 4.585171699523926, 3.76244854927063, 3.267216682434082, 3.4246699810028076, 3.447932243347168, 5.562162399291992, 3.0606071949005127, 2.85453724861145, 2.8538553714752197, 2.5950562953948975, 2.410645008087158, 2.337892770767212, 2.3312056064605713, 2.1520638465881348, 2.1517624855041504, 2.0808515548706055, 2.077425003051758, 1.9696179628372192, 1.9694894552230835, 1.9485881328582764, 1.9485821723937988, 1.9473880529403687, 1.9474332332611084, 1.9464744329452515, 1.9460816383361816, 1.94609534740448, 1.945880651473999, 1.9455238580703735, 1.9450637102127075, 7.2425456047058105, 2.0932350158691406, 5.305840015411377, 5.055173873901367, 2.7670276165008545, 3.9092607498168945, 2.5934131145477295, 6.459978103637695, 5.887118816375732, 5.758391380310059, 2.985337495803833, 2.747519016265869, 13.346138000488281, 2.7462401390075684, 5.4122209548950195, 10.833131790161133, 6.546181678771973, 7.004837989807129, 4.842406749725342, 6.496692657470703, 2.8669447898864746, 4.081584453582764, 3.1813488006591797, 3.010662317276001, 3.391545534133911, 3.444185256958008, 2.9556000232696533, 2.9956467151641846], \"Term\": [\"window\", \"sudo\", \"file\", \"s\", \"apt\", \"copy\", \"change\", \"gui\", \"package\", \"mount\", \"terminal\", \"bit\", \"error\", \"com\", \"system\", \"fine\", \"type\", \"software\", \"tell\", \"play\", \"be\", \"would\", \"synaptic\", \"home\", \"read\", \"add\", \"remove\", \"http\", \"kernel\", \"support\", \"manager\", \"late\", \"default\", \"nautilus\", \"link\", \"computer\", \"compile\", \"create\", \"window\", \"miss\", \"music\", \"slow\", \"somebody\", \"antivirus\", \"access\", \"traffic\", \"hit\", \"choose\", \"pc\", \"vlc\", \"medium\", \"cpu\", \"upgrade\", \"second\", \"win\", \"clean\", \"ext\", \"output\", \"care\", \"realtime\", \"plugin\", \"grub\", \"run\", \"directory\", \"put\", \"take\", \"be\", \"see\", \"issue\", \"desktop\", \"system\", \"use\", \"burn\", \"many\", \"not\", \"help\", \"do\", \"s\", \"want\", \"make\", \"know\", \"get\", \"thank\", \"home\", \"good\", \"question\", \"find\", \"install\", \"instal\", \"need\", \"user\", \"try\", \"work\", \"copy\", \"read\", \"http\", \"name\", \"ctrl\", \"write\", \"username\", \"change\", \"device\", \"xorg_conf\", \"alt\", \"source\", \"lock\", \"installation\", \"reinstall\", \"game\", \"list\", \"enter\", \"kill\", \"answer\", \"fresh\", \"com\", \"please\", \"chown\", \"guide\", \"josh\", \"mode\", \"beryl\", \"weird\", \"icon\", \"error\", \"screen\", \"start\", \"set\", \"edit\", \"file\", \"tell\", \"fix\", \"problem\", \"could\", \"new\", \"try\", \"home\", \"download\", \"system\", \"back\", \"not\", \"help\", \"work\", \"do\", \"make\", \"anyone\", \"use\", \"get\", \"way\", \"be\", \"install\", \"instal\", \"bit\", \"play\", \"format\", \"delete\", \"call\", \"usb\", \"codecs\", \"space\", \"old\", \"mplayer\", \"dvd\", \"firefox\", \"talk\", \"flash\", \"box\", \"keyboard\", \"website\", \"folder\", \"fine\", \"instead\", \"dev\", \"select\", \"php\", \"binary\", \"matter\", \"trouble\", \"port\", \"youtube\", \"library\", \"hdd\", \"info\", \"there\", \"guy\", \"version\", \"player\", \"kernel\", \"s\", \"need\", \"look\", \"not\", \"install\", \"work\", \"use\", \"be\", \"get\", \"drive\", \"boot\", \"want\", \"thank\", \"know\", \"find\", \"file\", \"way\", \"help\", \"do\", \"apt\", \"gui\", \"mount\", \"type\", \"add\", \"date\", \"deb\", \"man\", \"one\", \"echo\", \"nick\", \"convert\", \"su\", \"cool\", \"person\", \"job\", \"process\", \"gig\", \"key\", \"terminal\", \"single\", \"language\", \"flag\", \"restrict\", \"aircrack\", \"keystroke\", \"safe\", \"volume\", \"whois\", \"synaptic\", \"sudo\", \"message\", \"package\", \"remove\", \"sorry\", \"update\", \"join\", \"paste\", \"permission\", \"gnome\", \"get\", \"app\", \"know\", \"server\", \"try\", \"install\", \"mean\", \"not\", \"anyone\", \"do\", \"want\", \"use\", \"work\", \"boot\", \"ram\", \"free\", \"egrep\", \"mb\", \"gaim\", \"msg\", \"intel\", \"integrate\", \"zdra\", \"cdrdao\", \"feature\", \"speed\", \"longer\", \"test\", \"web\", \"worth\", \"love\", \"usage\", \"bunch\", \"warty\", \"everybody\", \"chrome\", \"_\", \"wat\", \"grammar\", \"soundcard\", \"nohz\", \"together\", \"ffmpeg\", \"gstreamer\", \"software\", \"month\", \"stuff\", \"amd\", \"stick\", \"gb\", \"hoary\", \"would\", \"support\", \"have\", \"graphic\", \"hard\", \"use\", \"year\", \"go\", \"not\", \"s\", \"work\", \"good\", \"do\", \"reason\", \"get\", \"well\", \"live\", \"run\", \"help\", \"issue\", \"be\"], \"Total\": [32.0, 22.0, 51.0, 44.0, 11.0, 17.0, 19.0, 10.0, 20.0, 10.0, 12.0, 14.0, 19.0, 18.0, 38.0, 15.0, 8.0, 10.0, 23.0, 11.0, 61.0, 15.0, 9.0, 22.0, 11.0, 6.0, 9.0, 10.0, 17.0, 14.0, 10.624052047729492, 8.763100624084473, 8.143854141235352, 7.590248107910156, 7.697033882141113, 6.914614677429199, 6.656808853149414, 6.656678199768066, 32.37429428100586, 6.30602502822876, 6.073925018310547, 5.962129592895508, 5.907449722290039, 5.3255085945129395, 5.425127983093262, 5.001485824584961, 4.935776710510254, 5.249481678009033, 4.936654090881348, 5.001293182373047, 5.023609638214111, 4.95909309387207, 10.13815975189209, 4.704427242279053, 4.703861236572266, 4.677921295166016, 4.796259880065918, 4.671528339385986, 4.446459770202637, 4.188636779785156, 6.393595218658447, 13.138253211975098, 31.014291763305664, 11.7470064163208, 8.087657928466797, 8.207467079162598, 61.71477127075195, 20.301130294799805, 12.431120872497559, 12.703359603881836, 38.00825119018555, 87.11811828613281, 8.30964183807373, 11.687103271484375, 107.28761291503906, 48.352149963378906, 60.65760803222656, 44.790794372558594, 32.135894775390625, 27.738222122192383, 44.143524169921875, 58.5815544128418, 26.55313491821289, 22.949304580688477, 24.369384765625, 18.241121292114258, 25.307634353637695, 48.781494140625, 23.355525970458984, 29.2237548828125, 17.3883056640625, 48.13468551635742, 55.3417854309082, 17.605224609375, 11.74948501586914, 10.930299758911133, 9.213808059692383, 9.240652084350586, 9.235430717468262, 8.660224914550781, 19.374832153320312, 8.821808815002441, 7.740657806396484, 7.293185234069824, 7.163863182067871, 6.620445728302002, 6.323630332946777, 6.387146949768066, 6.18275260925293, 5.971909046173096, 6.061682224273682, 5.574559211730957, 5.510794639587402, 5.343358993530273, 18.38668441772461, 4.995482444763184, 4.93061637878418, 5.021754264831543, 4.838384628295898, 4.6712260246276855, 5.187693119049072, 4.495143413543701, 4.439887046813965, 19.56252098083496, 10.056413650512695, 11.73835563659668, 16.818614959716797, 10.711142539978027, 51.93666458129883, 23.909605026245117, 11.300959587097168, 16.954818725585938, 16.210508346557617, 23.589990615844727, 48.13468551635742, 22.949304580688477, 11.847782135009766, 38.00825119018555, 10.482404708862305, 107.28761291503906, 48.352149963378906, 55.3417854309082, 60.65760803222656, 27.738222122192383, 33.698455810546875, 87.11811828613281, 58.5815544128418, 20.068899154663086, 61.71477127075195, 48.781494140625, 23.355525970458984, 14.222649574279785, 11.982643127441406, 9.572471618652344, 9.109026908874512, 9.222570419311523, 8.207030296325684, 7.902303218841553, 7.360262393951416, 7.6140336990356445, 6.568587779998779, 6.441572189331055, 6.504062175750732, 6.250878810882568, 6.107224464416504, 6.160603046417236, 6.250537395477295, 5.739099502563477, 9.042468070983887, 15.491727828979492, 5.618633270263672, 6.233046531677246, 5.3962626457214355, 5.055148124694824, 4.514445781707764, 4.575832843780518, 4.603188991546631, 4.3520917892456055, 4.348726272583008, 4.1269731521606445, 4.15090799331665, 8.105306625366211, 9.79656982421875, 18.353164672851562, 12.886513710021973, 8.593693733215332, 17.584815979003906, 44.790794372558594, 29.2237548828125, 15.956077575683594, 107.28761291503906, 48.781494140625, 55.3417854309082, 87.11811828613281, 61.71477127075195, 58.5815544128418, 10.753325462341309, 28.185283660888672, 32.135894775390625, 26.55313491821289, 44.143524169921875, 25.307634353637695, 51.93666458129883, 20.068899154663086, 48.352149963378906, 60.65760803222656, 11.14681339263916, 10.689133644104004, 10.016070365905762, 8.671565055847168, 6.981965065002441, 4.482738971710205, 4.271159648895264, 4.710228443145752, 4.4882354736328125, 3.5964393615722656, 3.596700429916382, 3.7319679260253906, 3.3288216590881348, 3.3289170265197754, 3.3290507793426514, 3.329101800918579, 3.3291354179382324, 3.329221725463867, 3.083850622177124, 12.083252906799316, 2.7938685417175293, 2.6788227558135986, 2.6564009189605713, 2.6564621925354004, 2.656510353088379, 2.6566269397735596, 2.6566572189331055, 2.6568384170532227, 2.6577322483062744, 9.227612495422363, 22.078428268432617, 4.62212610244751, 20.778331756591797, 9.755331993103027, 9.16103458404541, 10.811793327331543, 6.275468349456787, 7.498812675476074, 5.2098822593688965, 9.797362327575684, 58.5815544128418, 12.764860153198242, 44.143524169921875, 11.554961204528809, 48.13468551635742, 48.781494140625, 10.22020149230957, 107.28761291503906, 33.698455810546875, 60.65760803222656, 32.135894775390625, 87.11811828613281, 55.3417854309082, 28.185283660888672, 6.044239044189453, 5.265405178070068, 4.404487609863281, 3.9100899696350098, 4.099003791809082, 4.152889251708984, 6.72301721572876, 3.70393705368042, 3.49737548828125, 3.497692346572876, 3.2397475242614746, 3.055190086364746, 2.981450080871582, 2.9828171730041504, 2.797150135040283, 2.7972028255462646, 2.723068952560425, 2.7237112522125244, 2.6122400760650635, 2.6122403144836426, 2.590285539627075, 2.5902857780456543, 2.5902960300445557, 2.590470552444458, 2.5903067588806152, 2.5907132625579834, 2.590738296508789, 2.590641498565674, 2.5908451080322266, 2.5909104347229004, 10.238119125366211, 2.7992892265319824, 7.708381175994873, 7.431779861450195, 4.0357818603515625, 6.272207260131836, 3.848430633544922, 15.34152603149414, 14.282552719116211, 13.932768821716309, 5.097611904144287, 4.637909889221191, 87.11811828613281, 4.855186462402344, 20.57723045349121, 107.28761291503906, 44.790794372558594, 55.3417854309082, 24.369384765625, 60.65760803222656, 6.832957744598389, 58.5815544128418, 13.810271263122559, 9.441554069519043, 31.014291763305664, 48.352149963378906, 12.431120872497559, 61.71477127075195], \"loglift\": [30.0, 29.0, 28.0, 27.0, 26.0, 25.0, 24.0, 23.0, 22.0, 21.0, 20.0, 19.0, 18.0, 17.0, 16.0, 15.0, 14.0, 13.0, 12.0, 11.0, 10.0, 9.0, 8.0, 7.0, 6.0, 5.0, 4.0, 3.0, 2.0, 1.0, 1.2684999704360962, 1.2546000480651855, 1.2493000030517578, 1.243399977684021, 1.236899971961975, 1.2347999811172485, 1.2318999767303467, 1.2300000190734863, 1.2273999452590942, 1.225600004196167, 1.2218999862670898, 1.2200000286102295, 1.2106000185012817, 1.2065999507904053, 1.2043999433517456, 1.19760000705719, 1.1936999559402466, 1.193600058555603, 1.1927000284194946, 1.1926000118255615, 1.1926000118255615, 1.1922999620437622, 1.1887999773025513, 1.1878999471664429, 1.1875, 1.1851999759674072, 1.1835999488830566, 1.180999994277954, 1.1801999807357788, 1.1715999841690063, 1.158400058746338, 1.122499942779541, 0.9071000218391418, 1.0516999959945679, 1.0949000120162964, 1.0878000259399414, 0.7138000130653381, 0.9172999858856201, 1.0052000284194946, 0.9861000180244446, 0.6650999784469604, 0.42320001125335693, 1.0377999544143677, 0.9265999794006348, 0.18400000035762787, 0.438400000333786, 0.31869998574256897, 0.4088999927043915, 0.45730000734329224, 0.47600001096725464, 0.2076999992132187, 0.013000000268220901, 0.43540000915527344, 0.49570000171661377, 0.4316999912261963, 0.6086999773979187, 0.40149998664855957, -0.1046999990940094, 0.4147999882698059, 0.2117999941110611, 0.6161999702453613, -0.24740000069141388, -0.3878999948501587, 1.330399990081787, 1.3101999759674072, 1.3068000078201294, 1.2963000535964966, 1.2956000566482544, 1.292199969291687, 1.291700005531311, 1.2892999649047852, 1.2870999574661255, 1.2807999849319458, 1.2776999473571777, 1.2767000198364258, 1.2695000171661377, 1.2628999948501587, 1.260699987411499, 1.2591999769210815, 1.2559000253677368, 1.2554999589920044, 1.2483999729156494, 1.2441999912261963, 1.2417999505996704, 1.239799976348877, 1.2359999418258667, 1.2343000173568726, 1.232800006866455, 1.2316999435424805, 1.2253999710083008, 1.2242000102996826, 1.2192000150680542, 1.2158000469207764, 1.176900029182434, 1.1949000358581543, 1.1863000392913818, 1.1332000494003296, 1.1669000387191772, 0.9257000088691711, 0.9634000062942505, 1.0819000005722046, 0.9871000051498413, 0.9939000010490417, 0.8773000240325928, 0.5472999811172485, 0.7605000138282776, 1.0017999410629272, 0.5146999955177307, 1.0484000444412231, -0.08160000294446945, 0.3050999939441681, 0.1889999955892563, 0.11590000241994858, 0.5360000133514404, 0.3091000020503998, -0.3734999895095825, -0.10289999842643738, 0.608299970626831, -0.3605000078678131, -0.18440000712871552, 0.429500013589859, 1.4354000091552734, 1.4275000095367432, 1.4106999635696411, 1.4098000526428223, 1.4086999893188477, 1.4023000001907349, 1.3995000123977661, 1.3918999433517456, 1.3858000040054321, 1.3811999559402466, 1.3789000511169434, 1.3772000074386597, 1.3747999668121338, 1.374500036239624, 1.3726999759674072, 1.3697999715805054, 1.3671000003814697, 1.3655999898910522, 1.3588999509811401, 1.357100009918213, 1.3558000326156616, 1.3545000553131104, 1.3489999771118164, 1.3327000141143799, 1.3322999477386475, 1.3289999961853027, 1.3270000219345093, 1.32260000705719, 1.3180999755859375, 1.3172999620437622, 1.3147000074386597, 1.2767000198364258, 1.176200032234192, 1.1403000354766846, 1.2075999975204468, 0.9790999889373779, 0.6771000027656555, 0.7408999800682068, 0.9394999742507935, 0.1467999964952469, 0.37119999527931213, 0.2802000045776367, -0.1573999971151352, 0.011099999770522118, 0.009600000455975533, 1.024999976158142, 0.392300009727478, 0.24660000205039978, 0.3711000084877014, -0.003599999938160181, 0.39959999918937683, -0.1607999950647354, 0.5710999965667725, -0.29809999465942383, -0.5401999950408936, 1.9571000337600708, 1.954300045967102, 1.9505000114440918, 1.9392000436782837, 1.9194999933242798, 1.8631000518798828, 1.8507000207901, 1.8490999937057495, 1.8486000299453735, 1.8214999437332153, 1.8205000162124634, 1.8128999471664429, 1.8044999837875366, 1.8042000532150269, 1.8036999702453613, 1.8036999702453613, 1.8035000562667847, 1.8033000230789185, 1.7854000329971313, 1.7625000476837158, 1.757699966430664, 1.745300054550171, 1.7419999837875366, 1.7417999505996704, 1.7414000034332275, 1.7410000562667847, 1.7408000230789185, 1.7404999732971191, 1.7380000352859497, 1.7258000373840332, 1.5298000574111938, 1.6818000078201294, 1.4852999448776245, 1.5434999465942383, 1.5298999547958374, 1.4709999561309814, 1.5468000173568726, 1.4178999662399292, 1.532099962234497, 1.2616000175476074, 0.4171000123023987, 1.1088000535964966, 0.42480000853538513, 1.1158000230789185, 0.30140000581741333, 0.2630000114440918, 1.1002999544143677, -0.48579999804496765, 0.2329999953508377, -0.19550000131130219, 0.21490000188350677, -0.6107000112533569, -0.45680001378059387, 0.07119999825954437, 2.0106000900268555, 1.9881000518798828, 1.9687999486923218, 1.9467999935150146, 1.9465999603271484, 1.9404000043869019, 1.9368000030517578, 1.9356000423431396, 1.92330002784729, 1.9229999780654907, 1.9045000076293945, 1.8894000053405762, 1.8832000494003296, 1.8798999786376953, 1.8641999959945679, 1.8640999794006348, 1.8573999404907227, 1.8554999828338623, 1.843999981880188, 1.843999981880188, 1.8416999578475952, 1.8416999578475952, 1.8410999774932861, 1.8410999774932861, 1.8406000137329102, 1.8402999639511108, 1.8402999639511108, 1.8401999473571777, 1.839900016784668, 1.8396999835968018, 1.7802000045776367, 1.8357000350952148, 1.7529000043869019, 1.7410000562667847, 1.7489999532699585, 1.6535999774932861, 1.7316999435424805, 1.2615000009536743, 1.2401000261306763, 1.242799997329712, 1.5913000106811523, 1.6028000116348267, 0.25029999017715454, 1.5565999746322632, 0.7908999919891357, -0.1665000021457672, 0.20329999923706055, 0.05950000137090683, 0.5105000138282776, -0.10760000348091125, 1.2578999996185303, -0.5375000238418579, 0.65829998254776, 0.9833999872207642, -0.0868000015616417, -0.5153999924659729, 0.6898999810218811, -0.8989999890327454], \"logprob\": [30.0, 29.0, 28.0, 27.0, 26.0, 25.0, 24.0, 23.0, 22.0, 21.0, 20.0, 19.0, 18.0, 17.0, 16.0, 15.0, 14.0, 13.0, 12.0, 11.0, 10.0, 9.0, 8.0, 7.0, 6.0, 5.0, 4.0, 3.0, 2.0, 1.0, -5.135799884796143, -5.342100143432617, -5.42080020904541, -5.497000217437744, -5.48960018157959, -5.598899841308594, -5.639800071716309, -5.64169979095459, -4.062600135803223, -5.700200080871582, -5.741399765014648, -5.76200008392334, -5.7804999351501465, -5.888199806213379, -5.8719000816345215, -5.960000038146973, -5.977099895477295, -5.915599822998047, -5.97790002822876, -5.965000152587891, -5.960599899291992, -5.973800182342529, -5.262199878692627, -6.030900001525879, -6.031499862670898, -6.0391998291015625, -6.015900135040283, -6.044899940490723, -6.09499979019165, -6.163400173187256, -5.753600120544434, -5.069300174713135, -4.42579984664917, -5.252099990844727, -5.582099914550781, -5.57450008392334, -3.930999994277954, -4.839300155639648, -5.2418999671936035, -5.2393999099731445, -4.464399814605713, -3.8768999576568604, -5.612199783325195, -5.382199764251709, -3.9077999591827393, -4.450500011444092, -4.343400001525879, -4.556399822235107, -4.840099811553955, -4.968500137329102, -4.772200107574463, -4.683899879455566, -5.052800178527832, -5.138400077819824, -5.142300128936768, -5.255000114440918, -5.134699821472168, -4.984600067138672, -5.201700210571289, -5.180500030517578, -5.295400142669678, -5.1407999992370605, -5.14169979095459, -4.568699836730957, -4.993299961090088, -5.068999767303467, -5.25029993057251, -5.2480998039245605, -5.252099990844727, -5.31689977645874, -4.514100074768066, -5.302999973297119, -5.440000057220459, -5.502699851989746, -5.521500110626221, -5.607699871063232, -5.660099983215332, -5.652299880981445, -5.686299800872803, -5.724400043487549, -5.709799766540527, -5.80079984664917, -5.816500186920166, -5.849599838256836, -4.615900039672852, -5.922800064086914, -5.937600135803223, -5.9207000732421875, -5.959099769592285, -6.000500202178955, -5.8968000411987305, -6.045100212097168, -6.0609002113342285, -4.616799831390381, -5.264200210571289, -5.118199825286865, -4.811699867248535, -5.2291998863220215, -3.8915998935699463, -4.629700183868408, -5.260499954223633, -4.9496002197265625, -4.987800121307373, -4.7291998863220215, -4.346099853515625, -4.873600006103516, -5.293399810791016, -4.614799976348877, -5.369200229644775, -4.173399925231934, -4.583799839019775, -4.564799785614014, -4.546199798583984, -4.9085001945495605, -4.940800189971924, -4.673600196838379, -4.799799919128418, -5.159900188446045, -5.00540018081665, -5.0644001960754395, -5.186999797821045, -4.67710018157959, -4.856400012969971, -5.097700119018555, -5.148200035095215, -5.13700008392334, -5.260000228881836, -5.300600051879883, -5.37939977645874, -5.351500034332275, -5.503799915313721, -5.525599956512451, -5.5177001953125, -5.559899806976318, -5.583399772644043, -5.576399803161621, -5.564899921417236, -5.652900218963623, -5.19980001449585, -4.668099880218506, -5.684100151062012, -5.581600189208984, -5.727099895477295, -5.797999858856201, -5.927299976348877, -5.9141998291015625, -5.911600112915039, -5.969699859619141, -5.974800109863281, -6.031700134277344, -6.026700019836426, -5.360099792480469, -5.208600044250488, -4.681300163269043, -5.070799827575684, -5.408699989318848, -4.921199798583984, -4.288300037384033, -4.651400089263916, -5.058000087738037, -3.944999933242798, -4.508800029754639, -4.473599910736084, -4.457499980926514, -4.633699893951416, -4.687300205230713, -5.367099761962891, -5.036200046539307, -5.0507001876831055, -5.117099761962891, -4.983500003814697, -5.136600017547607, -4.978099822998047, -5.1971001625061035, -5.1869001388549805, -5.202300071716309, -4.39900016784668, -4.44379997253418, -4.512700080871582, -4.668000221252441, -4.9045000076293945, -5.4039998054504395, -5.464799880981445, -5.368500232696533, -5.417300224304199, -5.665900230407715, -5.666800022125244, -5.637499809265137, -5.760300159454346, -5.760499954223633, -5.761000156402588, -5.761000156402588, -5.761099815368652, -5.761300086975098, -5.8557000160217285, -4.513000011444092, -5.9822001457214355, -6.036600112915039, -6.048299789428711, -6.048500061035156, -6.048900127410889, -6.049200057983398, -6.049499988555908, -6.049699783325195, -6.0518999099731445, -4.819300174713135, -4.142899990081787, -5.554699897766113, -4.2480998039245605, -4.946000099182129, -5.022500038146973, -4.9156999588012695, -5.383900165557861, -5.334700107574463, -5.584700107574463, -5.223700046539307, -4.279799938201904, -5.111800193786621, -4.555099964141846, -5.204400062561035, -4.591899871826172, -4.6168999671936035, -5.342599868774414, -4.577600002288818, -5.016900062561035, -4.857600212097168, -5.082499980926514, -4.910699844360352, -5.210599899291992, -5.3572998046875, -4.957600116729736, -5.118100166320801, -5.315899848937988, -5.456999778747559, -5.409900188446045, -5.403200149536133, -4.925000190734863, -5.522299766540527, -5.5920000076293945, -5.592299938201904, -5.687300205230713, -5.761000156402588, -5.7916998863220215, -5.794600009918213, -5.874499797821045, -5.87470006942749, -5.908199787139893, -5.909800052642822, -5.963099956512451, -5.963200092315674, -5.973800182342529, -5.973800182342529, -5.9745001792907715, -5.974400043487549, -5.974899768829346, -5.975100040435791, -5.975100040435791, -5.975200176239014, -5.975399971008301, -5.975599765777588, -4.660999774932861, -5.902200222015381, -4.972099781036377, -5.020500183105469, -5.623199939727783, -5.277599811553955, -5.688000202178955, -4.775300025939941, -4.868199825286865, -4.8902997970581055, -5.5472002029418945, -5.630199909210205, -4.049699783325195, -5.63070011138916, -4.952300071716309, -4.258299827575684, -4.7621002197265625, -4.694300174713135, -5.063499927520752, -4.769599914550781, -5.587699890136719, -5.234499931335449, -5.48360013961792, -5.53879976272583, -5.4197001457214355, -5.404300212860107, -5.557199954986572, -5.543799877166748]}, \"token.table\": {\"Topic\": [5, 1, 4, 4, 2, 3, 5, 2, 1, 1, 2, 3, 4, 5, 1, 2, 3, 4, 4, 2, 3, 5, 1, 2, 3, 5, 2, 3, 3, 1, 2, 3, 4, 3, 5, 1, 2, 3, 1, 5, 2, 3, 1, 2, 5, 1, 3, 1, 2, 1, 1, 4, 4, 2, 1, 2, 1, 1, 2, 4, 4, 1, 3, 1, 2, 3, 3, 2, 1, 2, 1, 2, 3, 4, 5, 1, 2, 2, 3, 4, 3, 4, 2, 4, 5, 2, 2, 4, 5, 1, 5, 5, 1, 2, 3, 1, 2, 3, 4, 3, 5, 3, 2, 3, 4, 3, 2, 3, 3, 5, 2, 5, 2, 3, 5, 1, 2, 3, 4, 5, 4, 1, 4, 5, 1, 2, 3, 5, 1, 2, 3, 4, 5, 5, 1, 3, 5, 1, 5, 5, 4, 2, 1, 2, 3, 5, 1, 3, 5, 1, 2, 3, 5, 3, 1, 2, 3, 5, 1, 2, 5, 1, 2, 2, 2, 2, 3, 1, 2, 3, 4, 1, 2, 3, 4, 5, 2, 3, 5, 4, 5, 1, 5, 4, 2, 4, 2, 1, 3, 4, 3, 4, 2, 1, 2, 3, 4, 5, 4, 1, 3, 1, 2, 2, 3, 5, 2, 5, 1, 3, 5, 1, 2, 4, 4, 1, 1, 4, 3, 5, 1, 3, 4, 1, 1, 4, 1, 2, 5, 4, 3, 5, 1, 2, 1, 1, 2, 3, 4, 1, 2, 3, 5, 4, 5, 1, 2, 3, 4, 5, 3, 4, 1, 1, 2, 3, 4, 5, 4, 5, 1, 1, 3, 4, 4, 3, 3, 2, 3, 2, 1, 3, 1, 2, 3, 4, 1, 3, 1, 2, 3, 4, 5, 2, 1, 2, 3, 5, 2, 1, 4, 4, 1, 2, 3, 5, 1, 3, 5, 4, 2, 3, 1, 1, 2, 3, 4, 3, 3, 4, 2, 3, 5, 4, 1, 2, 5, 1, 3, 4, 5, 2, 3, 5, 2, 3, 2, 5, 1, 2, 5, 4, 2, 3, 4, 1, 2, 3, 5, 4, 5, 1, 2, 4, 1, 5, 3, 1, 2, 2, 4, 5, 1, 2, 3, 4, 1, 3, 5, 1, 3, 1, 2, 3, 4, 5, 4, 1, 3, 4, 5, 1, 3, 5, 3, 1, 2, 3, 4, 5, 1, 2, 3, 2, 3, 4, 5, 1, 4, 1, 2, 3, 4, 5, 5, 5, 2, 3, 5, 5, 3, 2, 1, 3, 4, 5, 4, 1, 1, 2, 3, 1, 2, 3, 4, 5, 5, 1, 3, 5, 2, 2, 1, 5, 3, 5], \"Freq\": [0.7721125483512878, 0.921637237071991, 0.8593569397926331, 0.7528674006462097, 0.959800124168396, 0.26911452412605286, 0.6727863550186157, 0.9073101878166199, 0.9388774633407593, 0.2373996078968048, 0.356099396944046, 0.2077246457338333, 0.178049698472023, 0.0593499019742012, 0.3133602738380432, 0.1566801369190216, 0.1566801369190216, 0.3917003273963928, 0.9868291020393372, 0.7631836533546448, 0.0953979566693306, 0.1907959133386612, 0.5347180366516113, 0.1782393455505371, 0.22685006260871887, 0.04861072823405266, 0.9638195633888245, 0.8860445022583008, 0.9843454360961914, 0.2128770500421524, 0.2838360667228699, 0.3193155825138092, 0.14191803336143494, 0.9739306569099426, 0.7656264305114746, 0.7220527529716492, 0.24068425595760345, 0.9758667945861816, 0.8995921015739441, 0.8577083945274353, 0.9290403127670288, 0.051613349467515945, 0.9524750113487244, 0.8112576007843018, 0.7721155881881714, 0.8550806641578674, 0.8858177065849304, 0.10877437144517899, 0.8701949715614319, 0.9013327956199646, 0.8677273392677307, 0.8038654327392578, 0.9011939764022827, 0.9656224250793457, 0.3084419071674347, 0.6785721778869629, 0.8065990805625916, 0.9013504385948181, 0.9739572405815125, 0.8923116326332092, 0.9365137815475464, 0.9823358654975891, 0.8782497048377991, 0.7084739804267883, 0.07871933281421661, 0.15743866562843323, 0.9626111388206482, 0.9068434834480286, 0.7661526203155518, 0.1702561378479004, 0.3626915216445923, 0.2802616357803345, 0.13188782334327698, 0.11540184915065765, 0.09891586750745773, 0.25321194529533386, 0.6752318739891052, 0.18598897755146027, 0.6509613990783691, 0.09299448877573013, 0.9314496517181396, 0.8341583609580994, 0.8402464985847473, 0.09336072206497192, 0.9081646800041199, 0.8248535394668579, 0.8178905248641968, 0.1533544659614563, 0.7721156477928162, 0.8339831829071045, 0.9259980916976929, 0.7719488739967346, 0.15403376519680023, 0.6353892683982849, 0.1925422102212906, 0.3951376974582672, 0.1975688487291336, 0.35562390089035034, 0.07902753353118896, 0.9037081003189087, 0.06455057859420776, 0.9225004315376282, 0.796392560005188, 0.17697611451148987, 0.7528983950614929, 0.8187025189399719, 0.11058927327394485, 0.8847141861915588, 0.9401960372924805, 0.9495945572853088, 0.9357410073280334, 0.7318851351737976, 0.9704415202140808, 0.318867027759552, 0.637734055519104, 0.27312350273132324, 0.22191286087036133, 0.22191286087036133, 0.20484264194965363, 0.06828087568283081, 0.9011114835739136, 0.4082731604576111, 0.510341465473175, 0.10206829011440277, 0.2429870218038559, 0.340181827545166, 0.14579221606254578, 0.2429870218038559, 0.4103509485721588, 0.08207018673419952, 0.16414037346839905, 0.12310528010129929, 0.2051754742860794, 0.77210932970047, 0.19617028534412384, 0.19617028534412384, 0.5885108709335327, 0.8372498154640198, 0.1522272378206253, 0.7719294428825378, 0.9355295300483704, 0.7965344190597534, 0.10897303372621536, 0.10897303372621536, 0.7628112435340881, 0.05448651686310768, 0.21561436355113983, 0.21561436355113983, 0.6468430757522583, 0.28709298372268677, 0.07177324593067169, 0.21531972289085388, 0.43063944578170776, 0.9636445641517639, 0.4136320650577545, 0.3515872657299042, 0.16545282304286957, 0.06204481050372124, 0.810409426689148, 0.25984618067741394, 0.7795385122299194, 0.4357430636882782, 0.5664659738540649, 0.9148879647254944, 0.9009238481521606, 0.12337595969438553, 0.8636317253112793, 0.38534778356552124, 0.38534778356552124, 0.17126567661762238, 0.042816419154405594, 0.2459949254989624, 0.2049957662820816, 0.327993243932724, 0.163996621966362, 0.0409991554915905, 0.9488220810890198, 0.8898961544036865, 0.8099489808082581, 0.14874273538589478, 0.8924564123153687, 0.7239894270896912, 0.24132980406284332, 0.9011439681053162, 0.3187013268470764, 0.6374026536941528, 0.8267222046852112, 0.3412034511566162, 0.6255396604537964, 0.6485398411750793, 0.9599174857139587, 0.7528343200683594, 0.8969318866729736, 0.31714731454849243, 0.2038804143667221, 0.22653380036354065, 0.2038804143667221, 0.04530675709247589, 0.74659663438797, 0.9129188656806946, 0.9692333340644836, 0.9094412326812744, 0.837253212928772, 0.4236590564250946, 0.2118295282125473, 0.31774431467056274, 0.9062833786010742, 0.6708145141601562, 0.3760322630405426, 0.5640484094619751, 0.7344654202461243, 0.43261605501174927, 0.43261605501174927, 0.10815401375293732, 0.8492156863212585, 0.9412604570388794, 0.6845152378082275, 0.2566932141780853, 0.8741577863693237, 0.7672457695007324, 0.09784542769193649, 0.48922714591026306, 0.39138171076774597, 0.7962402105331421, 0.21635065972805023, 0.6490519642829895, 0.9514710307121277, 0.856306254863739, 0.7144671082496643, 0.8985559940338135, 0.9134383797645569, 0.7223886251449585, 0.8231909275054932, 0.9767948389053345, 0.9222359657287598, 0.34218737483024597, 0.1368749439716339, 0.4790623188018799, 0.03421873599290848, 0.1695634424686432, 0.5934720635414124, 0.1695634424686432, 0.0423908606171608, 0.8340978026390076, 0.7719807028770447, 0.3169051706790924, 0.23301851749420166, 0.2609807252883911, 0.08388666808605194, 0.1025281473994255, 0.919355034828186, 0.8912188410758972, 0.8562508225440979, 0.048127058893442154, 0.09625411778688431, 0.19250823557376862, 0.577524721622467, 0.09625411778688431, 0.5334177613258362, 0.40006333589553833, 0.8102654218673706, 0.19194291532039642, 0.19194291532039642, 0.5758287310600281, 0.901157796382904, 0.7912725806236267, 0.9179944396018982, 0.23272879421710968, 0.8145508170127869, 0.8007234334945679, 0.7820326089859009, 0.9190982580184937, 0.17694084346294403, 0.7077633738517761, 0.11796056479215622, 0.9011348485946655, 0.7418711185455322, 0.12364518642425537, 0.4933907091617584, 0.1644635796546936, 0.2192847579717636, 0.1644635796546936, 0.8272339701652527, 0.9362112283706665, 0.9549646377563477, 0.29269900918006897, 0.14634950459003448, 0.43904852867126465, 0.9393865466117859, 0.3075241446495056, 0.6150482892990112, 0.7528810501098633, 0.6448639631271362, 0.12897279858589172, 0.09672959893941879, 0.09672959893941879, 0.4018682837486267, 0.4465203285217285, 0.15628211200237274, 0.7528257369995117, 0.7955121994018555, 0.09943902492523193, 0.8502629399299622, 0.6403584480285645, 0.14777502417564392, 0.049258340150117874, 0.14777502417564392, 0.9265671968460083, 0.5192574858665466, 0.4327145516872406, 0.7729530930519104, 0.118915855884552, 0.118915855884552, 0.7158532738685608, 0.838626503944397, 0.2930225729942322, 0.6837193369865417, 0.8463889360427856, 0.3274739384651184, 0.6549478769302368, 0.7719881534576416, 0.97712641954422, 0.9510530233383179, 0.6546237468719482, 0.8519080877304077, 0.08519081026315689, 0.24778346717357635, 0.7433503866195679, 0.12972892820835114, 0.12972892820835114, 0.6486446261405945, 0.9012197852134705, 0.13587923347949982, 0.27175846695899963, 0.6341031193733215, 0.14003099501132965, 0.42009297013282776, 0.07001549750566483, 0.42009297013282776, 0.7585927844047546, 0.21674078702926636, 0.5262015461921692, 0.4209612309932709, 0.05262015387415886, 0.7310416102409363, 0.12184026837348938, 0.9598650336265564, 0.2927693724632263, 0.6691871285438538, 0.16551834344863892, 0.7448325157165527, 0.6705070734024048, 0.41426369547843933, 0.15064135193824768, 0.3389430344104767, 0.11298100650310516, 0.10207654535770416, 0.8166123628616333, 0.772009551525116, 0.7997623682022095, 0.868962824344635, 0.20775039494037628, 0.436275839805603, 0.14542527496814728, 0.186975359916687, 0.02077503874897957, 0.9225555062294006, 0.18498319387435913, 0.09249159693717957, 0.5549495816230774, 0.09249159693717957, 0.8877350687980652, 0.09863723069429398, 0.734292209148407, 0.9747740030288696, 0.40175339579582214, 0.17218002676963806, 0.1951373666524887, 0.06887201219797134, 0.14922268688678741, 0.517589271068573, 0.4600793421268463, 0.05750991776585579, 0.9237635135650635, 0.6984045505523682, 0.07760050892829895, 0.23280152678489685, 0.7997931241989136, 0.7527744174003601, 0.4045320749282837, 0.09335355460643768, 0.28006064891815186, 0.1555892527103424, 0.03111785091459751, 0.7656263709068298, 0.7720605134963989, 0.4484550952911377, 0.39862674474716187, 0.09965668618679047, 0.7150134444236755, 0.8712168335914612, 0.8898492455482483, 0.28963950276374817, 0.21722961962223053, 0.21722961962223053, 0.21722961962223053, 0.752521276473999, 0.8503652215003967, 0.895772397518158, 0.06177740916609764, 0.03088870458304882, 0.1806952953338623, 0.3071819841861725, 0.3071819841861725, 0.09034764766693115, 0.12648670375347137, 0.7149999737739563, 0.391095370054245, 0.1955476850271225, 0.391095370054245, 0.9745078682899475, 0.9043158888816833, 0.4119306206703186, 0.6178959608078003, 0.9198095798492432, 0.8577860593795776], \"Term\": [\"_\", \"access\", \"add\", \"aircrack\", \"alt\", \"amd\", \"amd\", \"answer\", \"antivirus\", \"anyone\", \"anyone\", \"anyone\", \"anyone\", \"anyone\", \"app\", \"app\", \"app\", \"app\", \"apt\", \"back\", \"back\", \"back\", \"be\", \"be\", \"be\", \"be\", \"beryl\", \"binary\", \"bit\", \"boot\", \"boot\", \"boot\", \"boot\", \"box\", \"bunch\", \"burn\", \"burn\", \"call\", \"care\", \"cdrdao\", \"change\", \"change\", \"choose\", \"chown\", \"chrome\", \"clean\", \"codecs\", \"com\", \"com\", \"compile\", \"computer\", \"convert\", \"cool\", \"copy\", \"could\", \"could\", \"cpu\", \"create\", \"ctrl\", \"date\", \"deb\", \"default\", \"delete\", \"desktop\", \"desktop\", \"desktop\", \"dev\", \"device\", \"directory\", \"directory\", \"do\", \"do\", \"do\", \"do\", \"do\", \"download\", \"download\", \"drive\", \"drive\", \"drive\", \"dvd\", \"echo\", \"edit\", \"edit\", \"egrep\", \"enter\", \"error\", \"error\", \"everybody\", \"ext\", \"feature\", \"ffmpeg\", \"file\", \"file\", \"file\", \"find\", \"find\", \"find\", \"find\", \"fine\", \"fine\", \"firefox\", \"fix\", \"fix\", \"flag\", \"flash\", \"folder\", \"folder\", \"format\", \"free\", \"fresh\", \"gaim\", \"game\", \"gb\", \"gb\", \"get\", \"get\", \"get\", \"get\", \"get\", \"gig\", \"gnome\", \"gnome\", \"gnome\", \"go\", \"go\", \"go\", \"go\", \"good\", \"good\", \"good\", \"good\", \"good\", \"grammar\", \"graphic\", \"graphic\", \"graphic\", \"grub\", \"grub\", \"gstreamer\", \"gui\", \"guide\", \"guy\", \"guy\", \"guy\", \"guy\", \"hard\", \"hard\", \"hard\", \"have\", \"have\", \"have\", \"have\", \"hdd\", \"help\", \"help\", \"help\", \"help\", \"hit\", \"hoary\", \"hoary\", \"home\", \"home\", \"http\", \"icon\", \"info\", \"info\", \"instal\", \"instal\", \"instal\", \"instal\", \"install\", \"install\", \"install\", \"install\", \"install\", \"installation\", \"instead\", \"integrate\", \"intel\", \"intel\", \"issue\", \"issue\", \"job\", \"join\", \"join\", \"josh\", \"kernel\", \"kernel\", \"key\", \"keyboard\", \"keystroke\", \"kill\", \"know\", \"know\", \"know\", \"know\", \"know\", \"language\", \"late\", \"library\", \"link\", \"list\", \"live\", \"live\", \"live\", \"lock\", \"longer\", \"look\", \"look\", \"love\", \"make\", \"make\", \"make\", \"man\", \"manager\", \"many\", \"many\", \"matter\", \"mb\", \"mean\", \"mean\", \"mean\", \"medium\", \"message\", \"message\", \"miss\", \"mode\", \"month\", \"mount\", \"mplayer\", \"msg\", \"music\", \"name\", \"nautilus\", \"need\", \"need\", \"need\", \"need\", \"new\", \"new\", \"new\", \"new\", \"nick\", \"nohz\", \"not\", \"not\", \"not\", \"not\", \"not\", \"old\", \"one\", \"output\", \"package\", \"package\", \"package\", \"package\", \"package\", \"paste\", \"paste\", \"pc\", \"permission\", \"permission\", \"permission\", \"person\", \"php\", \"play\", \"player\", \"player\", \"please\", \"plugin\", \"port\", \"problem\", \"problem\", \"problem\", \"process\", \"put\", \"put\", \"question\", \"question\", \"question\", \"question\", \"ram\", \"read\", \"realtime\", \"reason\", \"reason\", \"reason\", \"reinstall\", \"remove\", \"remove\", \"restrict\", \"run\", \"run\", \"run\", \"run\", \"s\", \"s\", \"s\", \"safe\", \"screen\", \"screen\", \"second\", \"see\", \"see\", \"see\", \"see\", \"select\", \"server\", \"server\", \"set\", \"set\", \"set\", \"single\", \"slow\", \"software\", \"software\", \"somebody\", \"sorry\", \"sorry\", \"soundcard\", \"source\", \"space\", \"speed\", \"start\", \"start\", \"stick\", \"stick\", \"stuff\", \"stuff\", \"stuff\", \"su\", \"sudo\", \"sudo\", \"sudo\", \"support\", \"support\", \"support\", \"support\", \"synaptic\", \"synaptic\", \"system\", \"system\", \"system\", \"take\", \"take\", \"talk\", \"tell\", \"tell\", \"terminal\", \"terminal\", \"test\", \"thank\", \"thank\", \"thank\", \"thank\", \"there\", \"there\", \"together\", \"traffic\", \"trouble\", \"try\", \"try\", \"try\", \"try\", \"try\", \"type\", \"update\", \"update\", \"update\", \"update\", \"upgrade\", \"upgrade\", \"usage\", \"usb\", \"use\", \"use\", \"use\", \"use\", \"use\", \"user\", \"user\", \"user\", \"username\", \"version\", \"version\", \"version\", \"vlc\", \"volume\", \"want\", \"want\", \"want\", \"want\", \"want\", \"warty\", \"wat\", \"way\", \"way\", \"way\", \"web\", \"website\", \"weird\", \"well\", \"well\", \"well\", \"well\", \"whois\", \"win\", \"window\", \"window\", \"window\", \"work\", \"work\", \"work\", \"work\", \"work\", \"worth\", \"would\", \"would\", \"would\", \"write\", \"xorg_conf\", \"year\", \"year\", \"youtube\", \"zdra\"]}, \"R\": 30, \"lambda.step\": 0.01, \"plot.opts\": {\"xlab\": \"PC1\", \"ylab\": \"PC2\"}, \"topic.order\": [2, 3, 4, 5, 1]};\n",
       "\n",
       "function LDAvis_load_lib(url, callback){\n",
       "  var s = document.createElement('script');\n",
       "  s.src = url;\n",
       "  s.async = true;\n",
       "  s.onreadystatechange = s.onload = callback;\n",
       "  s.onerror = function(){console.warn(\"failed to load library \" + url);};\n",
       "  document.getElementsByTagName(\"head\")[0].appendChild(s);\n",
       "}\n",
       "\n",
       "if(typeof(LDAvis) !== \"undefined\"){\n",
       "   // already loaded: just create the visualization\n",
       "   !function(LDAvis){\n",
       "       new LDAvis(\"#\" + \"ldavis_el41111404931658403287007892152\", ldavis_el41111404931658403287007892152_data);\n",
       "   }(LDAvis);\n",
       "}else if(typeof define === \"function\" && define.amd){\n",
       "   // require.js is available: use it to load d3/LDAvis\n",
       "   require.config({paths: {d3: \"https://cdnjs.cloudflare.com/ajax/libs/d3/3.5.5/d3.min\"}});\n",
       "   require([\"d3\"], function(d3){\n",
       "      window.d3 = d3;\n",
       "      LDAvis_load_lib(\"https://cdn.rawgit.com/bmabey/pyLDAvis/files/ldavis.v1.0.0.js\", function(){\n",
       "        new LDAvis(\"#\" + \"ldavis_el41111404931658403287007892152\", ldavis_el41111404931658403287007892152_data);\n",
       "      });\n",
       "    });\n",
       "}else{\n",
       "    // require.js not available: dynamically load d3 & LDAvis\n",
       "    LDAvis_load_lib(\"https://cdnjs.cloudflare.com/ajax/libs/d3/3.5.5/d3.min.js\", function(){\n",
       "         LDAvis_load_lib(\"https://cdn.rawgit.com/bmabey/pyLDAvis/files/ldavis.v1.0.0.js\", function(){\n",
       "                 new LDAvis(\"#\" + \"ldavis_el41111404931658403287007892152\", ldavis_el41111404931658403287007892152_data);\n",
       "            })\n",
       "         });\n",
       "}\n",
       "</script>"
      ],
      "text/plain": [
       "PreparedData(topic_coordinates=              x         y  topics  cluster       Freq\n",
       "topic                                                \n",
       "1      0.082226  0.018248       1        1  26.493389\n",
       "2      0.115640 -0.101612       2        1  25.514814\n",
       "3      0.022505  0.056331       3        1  22.756763\n",
       "4     -0.159953 -0.106650       4        1  13.308300\n",
       "0     -0.060418  0.133683       5        1  11.926737, topic_info=     Category       Freq       Term       Total  loglift  logprob\n",
       "270   Default  32.000000     window   32.000000  30.0000  30.0000\n",
       "115   Default  22.000000       sudo   22.000000  29.0000  29.0000\n",
       "93    Default  51.000000       file   51.000000  28.0000  28.0000\n",
       "237   Default  44.000000          s   44.000000  27.0000  27.0000\n",
       "43    Default  11.000000        apt   11.000000  26.0000  26.0000\n",
       "91    Default  17.000000       copy   17.000000  25.0000  25.0000\n",
       "4     Default  19.000000     change   19.000000  24.0000  24.0000\n",
       "47    Default  10.000000        gui   10.000000  23.0000  23.0000\n",
       "52    Default  20.000000    package   20.000000  22.0000  22.0000\n",
       "825   Default  10.000000      mount   10.000000  21.0000  21.0000\n",
       "209   Default  12.000000   terminal   12.000000  20.0000  20.0000\n",
       "303   Default  14.000000        bit   14.000000  19.0000  19.0000\n",
       "66    Default  19.000000      error   19.000000  18.0000  18.0000\n",
       "315   Default  18.000000        com   18.000000  17.0000  17.0000\n",
       "55    Default  38.000000     system   38.000000  16.0000  16.0000\n",
       "385   Default  15.000000       fine   15.000000  15.0000  15.0000\n",
       "218   Default   8.000000       type    8.000000  14.0000  14.0000\n",
       "299   Default  10.000000   software   10.000000  13.0000  13.0000\n",
       "32    Default  23.000000       tell   23.000000  12.0000  12.0000\n",
       "345   Default  11.000000       play   11.000000  11.0000  11.0000\n",
       "121   Default  61.000000         be   61.000000  10.0000  10.0000\n",
       "179   Default  15.000000      would   15.000000   9.0000   9.0000\n",
       "54    Default   9.000000   synaptic    9.000000   8.0000   8.0000\n",
       "263   Default  22.000000       home   22.000000   7.0000   7.0000\n",
       "851   Default  11.000000       read   11.000000   6.0000   6.0000\n",
       "40    Default   6.000000        add    6.000000   5.0000   5.0000\n",
       "53    Default   9.000000     remove    9.000000   4.0000   4.0000\n",
       "626   Default  10.000000       http   10.000000   3.0000   3.0000\n",
       "183   Default  17.000000     kernel   17.000000   2.0000   2.0000\n",
       "84    Default  14.000000    support   14.000000   1.0000   1.0000\n",
       "...       ...        ...        ...         ...      ...      ...\n",
       "1525   Topic5   1.945524     ffmpeg    2.590845   1.8399  -5.9754\n",
       "1526   Topic5   1.945064  gstreamer    2.590910   1.8397  -5.9756\n",
       "299    Topic5   7.242546   software   10.238119   1.7802  -4.6610\n",
       "747    Topic5   2.093235      month    2.799289   1.8357  -5.9022\n",
       "575    Topic5   5.305840      stuff    7.708381   1.7529  -4.9721\n",
       "641    Topic5   5.055174        amd    7.431780   1.7410  -5.0205\n",
       "231    Topic5   2.767028      stick    4.035782   1.7490  -5.6232\n",
       "1154   Topic5   3.909261         gb    6.272207   1.6536  -5.2776\n",
       "682    Topic5   2.593413      hoary    3.848431   1.7317  -5.6880\n",
       "179    Topic5   6.459978      would   15.341526   1.2615  -4.7753\n",
       "84     Topic5   5.887119    support   14.282553   1.2401  -4.8682\n",
       "128    Topic5   5.758391       have   13.932769   1.2428  -4.8903\n",
       "796    Topic5   2.985337    graphic    5.097612   1.5913  -5.5472\n",
       "1584   Topic5   2.747519       hard    4.637910   1.6028  -5.6302\n",
       "36     Topic5  13.346138        use   87.118118   0.2503  -4.0497\n",
       "404    Topic5   2.746240       year    4.855186   1.5566  -5.6307\n",
       "17     Topic5   5.412221         go   20.577230   0.7909  -4.9523\n",
       "24     Topic5  10.833132        not  107.287613  -0.1665  -4.2583\n",
       "237    Topic5   6.546182          s   44.790794   0.2033  -4.7621\n",
       "38     Topic5   7.004838       work   55.341785   0.0595  -4.6943\n",
       "127    Topic5   4.842407       good   24.369385   0.5105  -5.0635\n",
       "8      Topic5   6.496693         do   60.657608  -0.1076  -4.7696\n",
       "236    Topic5   2.866945     reason    6.832958   1.2579  -5.5877\n",
       "46     Topic5   4.081584        get   58.581554  -0.5375  -5.2345\n",
       "232    Topic5   3.181349       well   13.810271   0.6583  -5.4836\n",
       "99     Topic5   3.010662       live    9.441554   0.9834  -5.5388\n",
       "230    Topic5   3.391546        run   31.014292  -0.0868  -5.4197\n",
       "19     Topic5   3.444185       help   48.352150  -0.5154  -5.4043\n",
       "254    Topic5   2.955600      issue   12.431121   0.6899  -5.5572\n",
       "121    Topic5   2.995647         be   61.714771  -0.8990  -5.5438\n",
       "\n",
       "[318 rows x 6 columns], token_table=      Topic      Freq       Term\n",
       "term                            \n",
       "1497      5  0.772113          _\n",
       "259       1  0.921637     access\n",
       "40        4  0.859357        add\n",
       "1508      4  0.752867   aircrack\n",
       "322       2  0.959800        alt\n",
       "641       3  0.269115        amd\n",
       "641       5  0.672786        amd\n",
       "295       2  0.907310     answer\n",
       "1522      1  0.938877  antivirus\n",
       "61        1  0.237400     anyone\n",
       "61        2  0.356099     anyone\n",
       "61        3  0.207725     anyone\n",
       "61        4  0.178050     anyone\n",
       "61        5  0.059350     anyone\n",
       "2         1  0.313360        app\n",
       "2         2  0.156680        app\n",
       "2         3  0.156680        app\n",
       "2         4  0.391700        app\n",
       "43        4  0.986829        apt\n",
       "380       2  0.763184       back\n",
       "380       3  0.095398       back\n",
       "380       5  0.190796       back\n",
       "121       1  0.534718         be\n",
       "121       2  0.178239         be\n",
       "121       3  0.226850         be\n",
       "121       5  0.048611         be\n",
       "461       2  0.963820      beryl\n",
       "534       3  0.886045     binary\n",
       "303       3  0.984345        bit\n",
       "89        1  0.212877       boot\n",
       "...     ...       ...        ...\n",
       "118       2  0.448455        way\n",
       "118       3  0.398627        way\n",
       "118       5  0.099657        way\n",
       "175       5  0.715013        web\n",
       "836       3  0.871217    website\n",
       "514       2  0.889849      weird\n",
       "232       1  0.289640       well\n",
       "232       3  0.217230       well\n",
       "232       4  0.217230       well\n",
       "232       5  0.217230       well\n",
       "1581      4  0.752521      whois\n",
       "449       1  0.850365        win\n",
       "270       1  0.895772     window\n",
       "270       2  0.061777     window\n",
       "270       3  0.030889     window\n",
       "38        1  0.180695       work\n",
       "38        2  0.307182       work\n",
       "38        3  0.307182       work\n",
       "38        4  0.090348       work\n",
       "38        5  0.126487       work\n",
       "178       5  0.715000      worth\n",
       "179       1  0.391095      would\n",
       "179       3  0.195548      would\n",
       "179       5  0.391095      would\n",
       "504       2  0.974508      write\n",
       "39        2  0.904316  xorg_conf\n",
       "404       1  0.411931       year\n",
       "404       5  0.617896       year\n",
       "765       3  0.919810    youtube\n",
       "1502      5  0.857786       zdra\n",
       "\n",
       "[426 rows x 3 columns], R=30, lambda_step=0.01, plot_opts={'xlab': 'PC1', 'ylab': 'PC2'}, topic_order=[2, 3, 4, 5, 1])"
      ]
     },
     "execution_count": 135,
     "metadata": {},
     "output_type": "execute_result"
    }
   ],
   "source": [
    "# Visualize the topics\n",
    "\n",
    "pyLDAvis.enable_notebook()\n",
    "vis = pyLDAvis.gensim.prepare(lda_model, corpus, id2word)\n",
    "vis"
   ]
  },
  {
   "cell_type": "code",
   "execution_count": null,
   "metadata": {},
   "outputs": [],
   "source": []
  }
 ],
 "metadata": {
  "kernelspec": {
   "display_name": "Python 3",
   "language": "python",
   "name": "python3"
  },
  "language_info": {
   "codemirror_mode": {
    "name": "ipython",
    "version": 3
   },
   "file_extension": ".py",
   "mimetype": "text/x-python",
   "name": "python",
   "nbconvert_exporter": "python",
   "pygments_lexer": "ipython3",
   "version": "3.6.8"
  },
  "toc": {
   "base_numbering": 1,
   "nav_menu": {
    "height": "395px",
    "width": "248px"
   },
   "number_sections": true,
   "sideBar": true,
   "skip_h1_title": false,
   "title_cell": "Table of Contents",
   "title_sidebar": "Contents",
   "toc_cell": false,
   "toc_position": {},
   "toc_section_display": true,
   "toc_window_display": false
  }
 },
 "nbformat": 4,
 "nbformat_minor": 2
}
