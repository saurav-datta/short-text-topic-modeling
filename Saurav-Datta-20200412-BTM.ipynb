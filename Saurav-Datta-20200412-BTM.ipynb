{
 "cells": [
  {
   "cell_type": "code",
   "execution_count": 3,
   "metadata": {
    "ExecuteTime": {
     "end_time": "2020-04-12T18:29:26.552950Z",
     "start_time": "2020-04-12T18:29:25.936393Z"
    }
   },
   "outputs": [],
   "source": [
    "import nltk\n",
    "from nltk.tokenize import word_tokenize\n",
    "import itertools\n",
    "from nltk.stem import WordNetLemmatizer \n",
    "from nltk.corpus import words\n",
    "from nltk import FreqDist\n",
    "from nltk.stem.porter import PorterStemmer\n",
    "import sys, traceback\n"
   ]
  },
  {
   "cell_type": "code",
   "execution_count": 4,
   "metadata": {
    "ExecuteTime": {
     "end_time": "2020-04-12T18:29:27.656516Z",
     "start_time": "2020-04-12T18:29:26.555261Z"
    }
   },
   "outputs": [],
   "source": [
    "## AnalyticsVidhya\n",
    "#https://www.analyticsvidhya.com/blog/2018/10/mining-online-reviews-topic-modeling-lda/\n",
    "import pandas as pd\n",
    "pd.set_option(\"display.max_colwidth\", 200)\n",
    "import numpy as np\n",
    "import re\n",
    "import spacy\n",
    "import csv\n",
    "\n",
    "import gensim\n",
    "from gensim import corpora\n",
    "\n",
    "# libraries for visualization\n",
    "import pyLDAvis\n",
    "import pyLDAvis.gensim\n",
    "import matplotlib.pyplot as plt\n",
    "import seaborn as sns\n",
    "%matplotlib inline\n"
   ]
  },
  {
   "cell_type": "code",
   "execution_count": 5,
   "metadata": {
    "ExecuteTime": {
     "end_time": "2020-04-12T18:29:27.691403Z",
     "start_time": "2020-04-12T18:29:27.658867Z"
    }
   },
   "outputs": [],
   "source": [
    "import pandas as pd\n",
    "import numpy as np\n",
    "import os\n",
    "import re\n",
    "import spacy\n",
    "from spacy import displacy\n",
    "from textblob import Word\n",
    "import gensim\n",
    "from gensim.models import CoherenceModel\n",
    "import matplotlib.pyplot as plt\n",
    "import warnings\n",
    "import pyLDAvis\n",
    "import pyLDAvis.gensim\n",
    "from sklearn.feature_extraction.text import TfidfVectorizer\n"
   ]
  },
  {
   "cell_type": "code",
   "execution_count": 6,
   "metadata": {
    "ExecuteTime": {
     "end_time": "2020-04-12T18:29:31.228873Z",
     "start_time": "2020-04-12T18:29:31.224088Z"
    }
   },
   "outputs": [],
   "source": [
    "#Kaggle, https://www.kaggle.com/akashram/topic-modeling-intro-implementation\n",
    "\n",
    "import gensim\n",
    "import gensim.corpora as corpora\n",
    "from gensim.utils import simple_preprocess\n",
    "from gensim.models import CoherenceModel, LdaModel, LsiModel, HdpModel\n",
    "\n",
    "from sklearn.decomposition import NMF, LatentDirichletAllocation, TruncatedSVD\n",
    "from sklearn.feature_extraction.text import CountVectorizer\n",
    "\n",
    "\n",
    "# Enable logging for gensim - optional\n",
    "import logging\n",
    "logging.basicConfig(format='%(asctime)s : %(levelname)s : %(message)s', level=logging.ERROR)\n",
    "\n",
    "import warnings\n",
    "warnings.filterwarnings(\"ignore\",category=DeprecationWarning)\n"
   ]
  },
  {
   "cell_type": "code",
   "execution_count": 7,
   "metadata": {
    "ExecuteTime": {
     "end_time": "2020-04-12T18:29:31.982323Z",
     "start_time": "2020-04-12T18:29:31.699992Z"
    }
   },
   "outputs": [
    {
     "data": {
      "text/html": [
       "\n",
       "    <div class=\"bk-root\">\n",
       "        <a href=\"https://bokeh.pydata.org\" target=\"_blank\" class=\"bk-logo bk-logo-small bk-logo-notebook\"></a>\n",
       "        <span id=\"1001\">Loading BokehJS ...</span>\n",
       "    </div>"
      ]
     },
     "metadata": {},
     "output_type": "display_data"
    },
    {
     "data": {
      "application/javascript": [
       "\n",
       "(function(root) {\n",
       "  function now() {\n",
       "    return new Date();\n",
       "  }\n",
       "\n",
       "  var force = true;\n",
       "\n",
       "  if (typeof root._bokeh_onload_callbacks === \"undefined\" || force === true) {\n",
       "    root._bokeh_onload_callbacks = [];\n",
       "    root._bokeh_is_loading = undefined;\n",
       "  }\n",
       "\n",
       "  var JS_MIME_TYPE = 'application/javascript';\n",
       "  var HTML_MIME_TYPE = 'text/html';\n",
       "  var EXEC_MIME_TYPE = 'application/vnd.bokehjs_exec.v0+json';\n",
       "  var CLASS_NAME = 'output_bokeh rendered_html';\n",
       "\n",
       "  /**\n",
       "   * Render data to the DOM node\n",
       "   */\n",
       "  function render(props, node) {\n",
       "    var script = document.createElement(\"script\");\n",
       "    node.appendChild(script);\n",
       "  }\n",
       "\n",
       "  /**\n",
       "   * Handle when an output is cleared or removed\n",
       "   */\n",
       "  function handleClearOutput(event, handle) {\n",
       "    var cell = handle.cell;\n",
       "\n",
       "    var id = cell.output_area._bokeh_element_id;\n",
       "    var server_id = cell.output_area._bokeh_server_id;\n",
       "    // Clean up Bokeh references\n",
       "    if (id != null && id in Bokeh.index) {\n",
       "      Bokeh.index[id].model.document.clear();\n",
       "      delete Bokeh.index[id];\n",
       "    }\n",
       "\n",
       "    if (server_id !== undefined) {\n",
       "      // Clean up Bokeh references\n",
       "      var cmd = \"from bokeh.io.state import curstate; print(curstate().uuid_to_server['\" + server_id + \"'].get_sessions()[0].document.roots[0]._id)\";\n",
       "      cell.notebook.kernel.execute(cmd, {\n",
       "        iopub: {\n",
       "          output: function(msg) {\n",
       "            var id = msg.content.text.trim();\n",
       "            if (id in Bokeh.index) {\n",
       "              Bokeh.index[id].model.document.clear();\n",
       "              delete Bokeh.index[id];\n",
       "            }\n",
       "          }\n",
       "        }\n",
       "      });\n",
       "      // Destroy server and session\n",
       "      var cmd = \"import bokeh.io.notebook as ion; ion.destroy_server('\" + server_id + \"')\";\n",
       "      cell.notebook.kernel.execute(cmd);\n",
       "    }\n",
       "  }\n",
       "\n",
       "  /**\n",
       "   * Handle when a new output is added\n",
       "   */\n",
       "  function handleAddOutput(event, handle) {\n",
       "    var output_area = handle.output_area;\n",
       "    var output = handle.output;\n",
       "\n",
       "    // limit handleAddOutput to display_data with EXEC_MIME_TYPE content only\n",
       "    if ((output.output_type != \"display_data\") || (!output.data.hasOwnProperty(EXEC_MIME_TYPE))) {\n",
       "      return\n",
       "    }\n",
       "\n",
       "    var toinsert = output_area.element.find(\".\" + CLASS_NAME.split(' ')[0]);\n",
       "\n",
       "    if (output.metadata[EXEC_MIME_TYPE][\"id\"] !== undefined) {\n",
       "      toinsert[toinsert.length - 1].firstChild.textContent = output.data[JS_MIME_TYPE];\n",
       "      // store reference to embed id on output_area\n",
       "      output_area._bokeh_element_id = output.metadata[EXEC_MIME_TYPE][\"id\"];\n",
       "    }\n",
       "    if (output.metadata[EXEC_MIME_TYPE][\"server_id\"] !== undefined) {\n",
       "      var bk_div = document.createElement(\"div\");\n",
       "      bk_div.innerHTML = output.data[HTML_MIME_TYPE];\n",
       "      var script_attrs = bk_div.children[0].attributes;\n",
       "      for (var i = 0; i < script_attrs.length; i++) {\n",
       "        toinsert[toinsert.length - 1].firstChild.setAttribute(script_attrs[i].name, script_attrs[i].value);\n",
       "      }\n",
       "      // store reference to server id on output_area\n",
       "      output_area._bokeh_server_id = output.metadata[EXEC_MIME_TYPE][\"server_id\"];\n",
       "    }\n",
       "  }\n",
       "\n",
       "  function register_renderer(events, OutputArea) {\n",
       "\n",
       "    function append_mime(data, metadata, element) {\n",
       "      // create a DOM node to render to\n",
       "      var toinsert = this.create_output_subarea(\n",
       "        metadata,\n",
       "        CLASS_NAME,\n",
       "        EXEC_MIME_TYPE\n",
       "      );\n",
       "      this.keyboard_manager.register_events(toinsert);\n",
       "      // Render to node\n",
       "      var props = {data: data, metadata: metadata[EXEC_MIME_TYPE]};\n",
       "      render(props, toinsert[toinsert.length - 1]);\n",
       "      element.append(toinsert);\n",
       "      return toinsert\n",
       "    }\n",
       "\n",
       "    /* Handle when an output is cleared or removed */\n",
       "    events.on('clear_output.CodeCell', handleClearOutput);\n",
       "    events.on('delete.Cell', handleClearOutput);\n",
       "\n",
       "    /* Handle when a new output is added */\n",
       "    events.on('output_added.OutputArea', handleAddOutput);\n",
       "\n",
       "    /**\n",
       "     * Register the mime type and append_mime function with output_area\n",
       "     */\n",
       "    OutputArea.prototype.register_mime_type(EXEC_MIME_TYPE, append_mime, {\n",
       "      /* Is output safe? */\n",
       "      safe: true,\n",
       "      /* Index of renderer in `output_area.display_order` */\n",
       "      index: 0\n",
       "    });\n",
       "  }\n",
       "\n",
       "  // register the mime type if in Jupyter Notebook environment and previously unregistered\n",
       "  if (root.Jupyter !== undefined) {\n",
       "    var events = require('base/js/events');\n",
       "    var OutputArea = require('notebook/js/outputarea').OutputArea;\n",
       "\n",
       "    if (OutputArea.prototype.mime_types().indexOf(EXEC_MIME_TYPE) == -1) {\n",
       "      register_renderer(events, OutputArea);\n",
       "    }\n",
       "  }\n",
       "\n",
       "  \n",
       "  if (typeof (root._bokeh_timeout) === \"undefined\" || force === true) {\n",
       "    root._bokeh_timeout = Date.now() + 5000;\n",
       "    root._bokeh_failed_load = false;\n",
       "  }\n",
       "\n",
       "  var NB_LOAD_WARNING = {'data': {'text/html':\n",
       "     \"<div style='background-color: #fdd'>\\n\"+\n",
       "     \"<p>\\n\"+\n",
       "     \"BokehJS does not appear to have successfully loaded. If loading BokehJS from CDN, this \\n\"+\n",
       "     \"may be due to a slow or bad network connection. Possible fixes:\\n\"+\n",
       "     \"</p>\\n\"+\n",
       "     \"<ul>\\n\"+\n",
       "     \"<li>re-rerun `output_notebook()` to attempt to load from CDN again, or</li>\\n\"+\n",
       "     \"<li>use INLINE resources instead, as so:</li>\\n\"+\n",
       "     \"</ul>\\n\"+\n",
       "     \"<code>\\n\"+\n",
       "     \"from bokeh.resources import INLINE\\n\"+\n",
       "     \"output_notebook(resources=INLINE)\\n\"+\n",
       "     \"</code>\\n\"+\n",
       "     \"</div>\"}};\n",
       "\n",
       "  function display_loaded() {\n",
       "    var el = document.getElementById(\"1001\");\n",
       "    if (el != null) {\n",
       "      el.textContent = \"BokehJS is loading...\";\n",
       "    }\n",
       "    if (root.Bokeh !== undefined) {\n",
       "      if (el != null) {\n",
       "        el.textContent = \"BokehJS \" + root.Bokeh.version + \" successfully loaded.\";\n",
       "      }\n",
       "    } else if (Date.now() < root._bokeh_timeout) {\n",
       "      setTimeout(display_loaded, 100)\n",
       "    }\n",
       "  }\n",
       "\n",
       "\n",
       "  function run_callbacks() {\n",
       "    try {\n",
       "      root._bokeh_onload_callbacks.forEach(function(callback) {\n",
       "        if (callback != null)\n",
       "          callback();\n",
       "      });\n",
       "    } finally {\n",
       "      delete root._bokeh_onload_callbacks\n",
       "    }\n",
       "    console.debug(\"Bokeh: all callbacks have finished\");\n",
       "  }\n",
       "\n",
       "  function load_libs(css_urls, js_urls, callback) {\n",
       "    if (css_urls == null) css_urls = [];\n",
       "    if (js_urls == null) js_urls = [];\n",
       "\n",
       "    root._bokeh_onload_callbacks.push(callback);\n",
       "    if (root._bokeh_is_loading > 0) {\n",
       "      console.debug(\"Bokeh: BokehJS is being loaded, scheduling callback at\", now());\n",
       "      return null;\n",
       "    }\n",
       "    if (js_urls == null || js_urls.length === 0) {\n",
       "      run_callbacks();\n",
       "      return null;\n",
       "    }\n",
       "    console.debug(\"Bokeh: BokehJS not loaded, scheduling load and callback at\", now());\n",
       "    root._bokeh_is_loading = css_urls.length + js_urls.length;\n",
       "\n",
       "    function on_load() {\n",
       "      root._bokeh_is_loading--;\n",
       "      if (root._bokeh_is_loading === 0) {\n",
       "        console.debug(\"Bokeh: all BokehJS libraries/stylesheets loaded\");\n",
       "        run_callbacks()\n",
       "      }\n",
       "    }\n",
       "\n",
       "    function on_error() {\n",
       "      console.error(\"failed to load \" + url);\n",
       "    }\n",
       "\n",
       "    for (var i = 0; i < css_urls.length; i++) {\n",
       "      var url = css_urls[i];\n",
       "      const element = document.createElement(\"link\");\n",
       "      element.onload = on_load;\n",
       "      element.onerror = on_error;\n",
       "      element.rel = \"stylesheet\";\n",
       "      element.type = \"text/css\";\n",
       "      element.href = url;\n",
       "      console.debug(\"Bokeh: injecting link tag for BokehJS stylesheet: \", url);\n",
       "      document.body.appendChild(element);\n",
       "    }\n",
       "\n",
       "    for (var i = 0; i < js_urls.length; i++) {\n",
       "      var url = js_urls[i];\n",
       "      var element = document.createElement('script');\n",
       "      element.onload = on_load;\n",
       "      element.onerror = on_error;\n",
       "      element.async = false;\n",
       "      element.src = url;\n",
       "      console.debug(\"Bokeh: injecting script tag for BokehJS library: \", url);\n",
       "      document.head.appendChild(element);\n",
       "    }\n",
       "  };var element = document.getElementById(\"1001\");\n",
       "  if (element == null) {\n",
       "    console.error(\"Bokeh: ERROR: autoload.js configured with elementid '1001' but no matching script tag was found. \")\n",
       "    return false;\n",
       "  }\n",
       "\n",
       "  function inject_raw_css(css) {\n",
       "    const element = document.createElement(\"style\");\n",
       "    element.appendChild(document.createTextNode(css));\n",
       "    document.body.appendChild(element);\n",
       "  }\n",
       "\n",
       "  var js_urls = [\"https://cdn.pydata.org/bokeh/release/bokeh-1.3.4.min.js\", \"https://cdn.pydata.org/bokeh/release/bokeh-widgets-1.3.4.min.js\", \"https://cdn.pydata.org/bokeh/release/bokeh-tables-1.3.4.min.js\", \"https://cdn.pydata.org/bokeh/release/bokeh-gl-1.3.4.min.js\"];\n",
       "  var css_urls = [];\n",
       "\n",
       "  var inline_js = [\n",
       "    function(Bokeh) {\n",
       "      Bokeh.set_log_level(\"info\");\n",
       "    },\n",
       "    \n",
       "    function(Bokeh) {\n",
       "      \n",
       "    },\n",
       "    function(Bokeh) {} // ensure no trailing comma for IE\n",
       "  ];\n",
       "\n",
       "  function run_inline_js() {\n",
       "    \n",
       "    if ((root.Bokeh !== undefined) || (force === true)) {\n",
       "      for (var i = 0; i < inline_js.length; i++) {\n",
       "        inline_js[i].call(root, root.Bokeh);\n",
       "      }if (force === true) {\n",
       "        display_loaded();\n",
       "      }} else if (Date.now() < root._bokeh_timeout) {\n",
       "      setTimeout(run_inline_js, 100);\n",
       "    } else if (!root._bokeh_failed_load) {\n",
       "      console.log(\"Bokeh: BokehJS failed to load within specified timeout.\");\n",
       "      root._bokeh_failed_load = true;\n",
       "    } else if (force !== true) {\n",
       "      var cell = $(document.getElementById(\"1001\")).parents('.cell').data().cell;\n",
       "      cell.output_area.append_execute_result(NB_LOAD_WARNING)\n",
       "    }\n",
       "\n",
       "  }\n",
       "\n",
       "  if (root._bokeh_is_loading === 0) {\n",
       "    console.debug(\"Bokeh: BokehJS loaded, going straight to plotting\");\n",
       "    run_inline_js();\n",
       "  } else {\n",
       "    load_libs(css_urls, js_urls, function() {\n",
       "      console.debug(\"Bokeh: BokehJS plotting callback run at\", now());\n",
       "      run_inline_js();\n",
       "    });\n",
       "  }\n",
       "}(window));"
      ],
      "application/vnd.bokehjs_load.v0+json": "\n(function(root) {\n  function now() {\n    return new Date();\n  }\n\n  var force = true;\n\n  if (typeof root._bokeh_onload_callbacks === \"undefined\" || force === true) {\n    root._bokeh_onload_callbacks = [];\n    root._bokeh_is_loading = undefined;\n  }\n\n  \n\n  \n  if (typeof (root._bokeh_timeout) === \"undefined\" || force === true) {\n    root._bokeh_timeout = Date.now() + 5000;\n    root._bokeh_failed_load = false;\n  }\n\n  var NB_LOAD_WARNING = {'data': {'text/html':\n     \"<div style='background-color: #fdd'>\\n\"+\n     \"<p>\\n\"+\n     \"BokehJS does not appear to have successfully loaded. If loading BokehJS from CDN, this \\n\"+\n     \"may be due to a slow or bad network connection. Possible fixes:\\n\"+\n     \"</p>\\n\"+\n     \"<ul>\\n\"+\n     \"<li>re-rerun `output_notebook()` to attempt to load from CDN again, or</li>\\n\"+\n     \"<li>use INLINE resources instead, as so:</li>\\n\"+\n     \"</ul>\\n\"+\n     \"<code>\\n\"+\n     \"from bokeh.resources import INLINE\\n\"+\n     \"output_notebook(resources=INLINE)\\n\"+\n     \"</code>\\n\"+\n     \"</div>\"}};\n\n  function display_loaded() {\n    var el = document.getElementById(\"1001\");\n    if (el != null) {\n      el.textContent = \"BokehJS is loading...\";\n    }\n    if (root.Bokeh !== undefined) {\n      if (el != null) {\n        el.textContent = \"BokehJS \" + root.Bokeh.version + \" successfully loaded.\";\n      }\n    } else if (Date.now() < root._bokeh_timeout) {\n      setTimeout(display_loaded, 100)\n    }\n  }\n\n\n  function run_callbacks() {\n    try {\n      root._bokeh_onload_callbacks.forEach(function(callback) {\n        if (callback != null)\n          callback();\n      });\n    } finally {\n      delete root._bokeh_onload_callbacks\n    }\n    console.debug(\"Bokeh: all callbacks have finished\");\n  }\n\n  function load_libs(css_urls, js_urls, callback) {\n    if (css_urls == null) css_urls = [];\n    if (js_urls == null) js_urls = [];\n\n    root._bokeh_onload_callbacks.push(callback);\n    if (root._bokeh_is_loading > 0) {\n      console.debug(\"Bokeh: BokehJS is being loaded, scheduling callback at\", now());\n      return null;\n    }\n    if (js_urls == null || js_urls.length === 0) {\n      run_callbacks();\n      return null;\n    }\n    console.debug(\"Bokeh: BokehJS not loaded, scheduling load and callback at\", now());\n    root._bokeh_is_loading = css_urls.length + js_urls.length;\n\n    function on_load() {\n      root._bokeh_is_loading--;\n      if (root._bokeh_is_loading === 0) {\n        console.debug(\"Bokeh: all BokehJS libraries/stylesheets loaded\");\n        run_callbacks()\n      }\n    }\n\n    function on_error() {\n      console.error(\"failed to load \" + url);\n    }\n\n    for (var i = 0; i < css_urls.length; i++) {\n      var url = css_urls[i];\n      const element = document.createElement(\"link\");\n      element.onload = on_load;\n      element.onerror = on_error;\n      element.rel = \"stylesheet\";\n      element.type = \"text/css\";\n      element.href = url;\n      console.debug(\"Bokeh: injecting link tag for BokehJS stylesheet: \", url);\n      document.body.appendChild(element);\n    }\n\n    for (var i = 0; i < js_urls.length; i++) {\n      var url = js_urls[i];\n      var element = document.createElement('script');\n      element.onload = on_load;\n      element.onerror = on_error;\n      element.async = false;\n      element.src = url;\n      console.debug(\"Bokeh: injecting script tag for BokehJS library: \", url);\n      document.head.appendChild(element);\n    }\n  };var element = document.getElementById(\"1001\");\n  if (element == null) {\n    console.error(\"Bokeh: ERROR: autoload.js configured with elementid '1001' but no matching script tag was found. \")\n    return false;\n  }\n\n  function inject_raw_css(css) {\n    const element = document.createElement(\"style\");\n    element.appendChild(document.createTextNode(css));\n    document.body.appendChild(element);\n  }\n\n  var js_urls = [\"https://cdn.pydata.org/bokeh/release/bokeh-1.3.4.min.js\", \"https://cdn.pydata.org/bokeh/release/bokeh-widgets-1.3.4.min.js\", \"https://cdn.pydata.org/bokeh/release/bokeh-tables-1.3.4.min.js\", \"https://cdn.pydata.org/bokeh/release/bokeh-gl-1.3.4.min.js\"];\n  var css_urls = [];\n\n  var inline_js = [\n    function(Bokeh) {\n      Bokeh.set_log_level(\"info\");\n    },\n    \n    function(Bokeh) {\n      \n    },\n    function(Bokeh) {} // ensure no trailing comma for IE\n  ];\n\n  function run_inline_js() {\n    \n    if ((root.Bokeh !== undefined) || (force === true)) {\n      for (var i = 0; i < inline_js.length; i++) {\n        inline_js[i].call(root, root.Bokeh);\n      }if (force === true) {\n        display_loaded();\n      }} else if (Date.now() < root._bokeh_timeout) {\n      setTimeout(run_inline_js, 100);\n    } else if (!root._bokeh_failed_load) {\n      console.log(\"Bokeh: BokehJS failed to load within specified timeout.\");\n      root._bokeh_failed_load = true;\n    } else if (force !== true) {\n      var cell = $(document.getElementById(\"1001\")).parents('.cell').data().cell;\n      cell.output_area.append_execute_result(NB_LOAD_WARNING)\n    }\n\n  }\n\n  if (root._bokeh_is_loading === 0) {\n    console.debug(\"Bokeh: BokehJS loaded, going straight to plotting\");\n    run_inline_js();\n  } else {\n    load_libs(css_urls, js_urls, function() {\n      console.debug(\"Bokeh: BokehJS plotting callback run at\", now());\n      run_inline_js();\n    });\n  }\n}(window));"
     },
     "metadata": {},
     "output_type": "display_data"
    }
   ],
   "source": [
    "# Bokeh for plotting.\n",
    "import bokeh.plotting as bp\n",
    "from bokeh.models import HoverTool\n",
    "bp.output_notebook()\n"
   ]
  },
  {
   "cell_type": "code",
   "execution_count": 8,
   "metadata": {
    "ExecuteTime": {
     "end_time": "2020-04-12T18:29:32.835480Z",
     "start_time": "2020-04-12T18:29:32.831348Z"
    }
   },
   "outputs": [],
   "source": [
    "#Environment settings\n",
    "warnings.filterwarnings('ignore')\n",
    "\n",
    "%matplotlib inline\n",
    "# %load_ext memory_profiler"
   ]
  },
  {
   "cell_type": "code",
   "execution_count": 7,
   "metadata": {
    "ExecuteTime": {
     "end_time": "2019-11-20T06:22:21.548822Z",
     "start_time": "2019-11-20T06:22:21.543869Z"
    }
   },
   "outputs": [],
   "source": [
    "#Installation needed\n",
    "# !pip install nltk\n",
    "# !pip install wordnet\n",
    "# !pip install gensim\n",
    "# !pip install google-compute-engine\n",
    "# !pip install pyLDAvis\n",
    "# !python3 -m spacy download en"
   ]
  },
  {
   "cell_type": "code",
   "execution_count": 8,
   "metadata": {
    "ExecuteTime": {
     "end_time": "2019-11-20T06:22:21.586213Z",
     "start_time": "2019-11-20T06:22:21.551256Z"
    }
   },
   "outputs": [],
   "source": [
    "#Download needed\n",
    "# nltk.download('wordnet')\n"
   ]
  },
  {
   "cell_type": "markdown",
   "metadata": {},
   "source": [
    "# Reading tsv files"
   ]
  },
  {
   "cell_type": "code",
   "execution_count": 9,
   "metadata": {
    "ExecuteTime": {
     "end_time": "2019-11-20T06:22:21.591088Z",
     "start_time": "2019-11-20T06:22:21.588450Z"
    }
   },
   "outputs": [],
   "source": [
    "#Limiting the number of files read due to system resource limitation\n",
    "#Noticed that some of the files are throwing a format error . Examples: 154892.tsv, 193037.tsv"
   ]
  },
  {
   "cell_type": "code",
   "execution_count": 17,
   "metadata": {
    "ExecuteTime": {
     "end_time": "2019-12-04T08:49:09.685177Z",
     "start_time": "2019-12-04T08:33:24.382666Z"
    }
   },
   "outputs": [],
   "source": [
    "#Replaced single and double quotes with space\n",
    "#! sh replace_pattern.sh "
   ]
  },
  {
   "cell_type": "code",
   "execution_count": 7,
   "metadata": {
    "ExecuteTime": {
     "end_time": "2020-04-12T18:08:22.905802Z",
     "start_time": "2020-04-12T18:08:22.902675Z"
    }
   },
   "outputs": [],
   "source": [
    "DIR_SAVED='./saved'\n",
    "FILENAME='df_raw_just_loaded.pkl'\n"
   ]
  },
  {
   "cell_type": "code",
   "execution_count": 5,
   "metadata": {
    "ExecuteTime": {
     "end_time": "2019-12-06T03:44:19.044961Z",
     "start_time": "2019-12-06T03:44:19.035430Z"
    }
   },
   "outputs": [
    {
     "name": "stdout",
     "output_type": "stream",
     "text": [
      "============== Skipped loading files ===================\n"
     ]
    }
   ],
   "source": [
    "#4.5 hours to load and pickle\n",
    "LOAD_FILES=False\n",
    "\n",
    "if LOAD_FILES:\n",
    "    print(\"============== Started loading files ===================\")\n",
    "    df_raw=pd.DataFrame(columns=['filename','message','first_question','usernames'])\n",
    "    NUM_FILES_READ=3000\n",
    "    path='./dialogs_mod/4'\n",
    "    for subdir, dirs, files in os.walk(path):\n",
    "    #     for file in files[:NUM_FILES_READ]:\n",
    "    #         print(\"file:\",file)\n",
    "        for file in files:\n",
    "            if file.endswith((\".tsv\")):\n",
    "                try:\n",
    "                    print(\"Starting \"+subdir+'/'+file)\n",
    "                    df_file = pd.read_csv(subdir+'/'+file,header=None,names=['ts','from','to','message'],sep='\\t')\n",
    "                    df_file['message'] = df_file['message'].fillna(' ')\n",
    "                    dict_file = {}\n",
    "                    dict_file['filename']=file\n",
    "                    dict_file['first_question']=df_file['message'][0]\n",
    "                    dict_file['message']='. '.join(list(df_file['message']))\n",
    "                    from_user=list(df_file['from'])\n",
    "                    dict_file['usernames']=set(from_user)\n",
    "        #           TODO: Include repliers \n",
    "                    df_raw=pd.concat([df_raw,pd.DataFrame.from_dict([dict_file])], sort=False, ignore_index=True)\n",
    "                except:\n",
    "                    print(\"An exception occurred at \",file)\n",
    "                    print(\"-\"*60)\n",
    "                    traceback.print_exc(file=sys.stdout)\n",
    "                    print(\"-\"*60)\n",
    "    print(\"============== Started saving to pickle files ===================\")\n",
    "    df_raw.to_pickle(DIR_SAVED+'/'+FILENAME)\n",
    "else:\n",
    "    print(\"============== Skipped loading files ===================\")\n",
    "\n"
   ]
  },
  {
   "cell_type": "code",
   "execution_count": 9,
   "metadata": {
    "ExecuteTime": {
     "end_time": "2020-04-12T18:29:40.070135Z",
     "start_time": "2020-04-12T18:29:40.066200Z"
    }
   },
   "outputs": [],
   "source": [
    "DIR_SAVED='./saved'\n",
    "FILENAME='df_raw_just_loaded.pkl'\n"
   ]
  },
  {
   "cell_type": "code",
   "execution_count": 10,
   "metadata": {
    "ExecuteTime": {
     "end_time": "2020-04-12T18:29:43.084859Z",
     "start_time": "2020-04-12T18:29:40.968054Z"
    },
    "run_control": {
     "marked": true
    },
    "scrolled": true
   },
   "outputs": [
    {
     "name": "stdout",
     "output_type": "stream",
     "text": [
      "<class 'pandas.core.frame.DataFrame'>\n",
      "(269023, 4)\n",
      "Index(['filename', 'message', 'first_question', 'usernames'], dtype='object')\n"
     ]
    }
   ],
   "source": [
    "df_raw = pd.read_pickle(DIR_SAVED+'/'+FILENAME)\n",
    "print(type(df_raw))\n",
    "print(df_raw.shape)\n",
    "print(df_raw.columns)\n"
   ]
  },
  {
   "cell_type": "code",
   "execution_count": null,
   "metadata": {
    "ExecuteTime": {
     "start_time": "2019-12-04T09:29:23.457Z"
    }
   },
   "outputs": [],
   "source": []
  },
  {
   "cell_type": "code",
   "execution_count": 13,
   "metadata": {
    "ExecuteTime": {
     "end_time": "2019-12-06T03:58:51.381864Z",
     "start_time": "2019-12-06T03:58:51.337963Z"
    }
   },
   "outputs": [
    {
     "data": {
      "text/plain": [
       "0"
      ]
     },
     "execution_count": 13,
     "metadata": {},
     "output_type": "execute_result"
    }
   ],
   "source": [
    "#Checking for NULL\n",
    "df_raw['message'].isnull().sum()"
   ]
  },
  {
   "cell_type": "code",
   "execution_count": 10,
   "metadata": {
    "ExecuteTime": {
     "end_time": "2019-12-06T03:58:14.085990Z",
     "start_time": "2019-12-06T03:58:13.173138Z"
    }
   },
   "outputs": [],
   "source": [
    "df_raw['num_words_raw'] = df_raw['message'].apply(lambda x : len(x.split()))"
   ]
  },
  {
   "cell_type": "code",
   "execution_count": 9,
   "metadata": {
    "ExecuteTime": {
     "end_time": "2019-12-04T07:37:26.148696Z",
     "start_time": "2019-12-04T07:37:24.962410Z"
    }
   },
   "outputs": [
    {
     "data": {
      "image/png": "[encoded data removed]",
      "text/plain": [
       "<Figure size 864x360 with 1 Axes>"
      ]
     },
     "metadata": {
      "needs_background": "light"
     },
     "output_type": "display_data"
    }
   ],
   "source": [
    "doc_lengths = df_raw['num_words_raw'].values\n",
    "plt.figure(figsize=(12,5))\n",
    "plt.hist(doc_lengths, bins=100)\n",
    "# plt.xlim((0,40000))\n",
    "plt.xlabel('Document Length')\n",
    "plt.ylabel('Frequency')\n",
    "plt.show()\n"
   ]
  },
  {
   "cell_type": "code",
   "execution_count": 14,
   "metadata": {
    "ExecuteTime": {
     "end_time": "2019-12-06T03:59:00.102541Z",
     "start_time": "2019-12-06T03:59:00.088555Z"
    }
   },
   "outputs": [
    {
     "name": "stdout",
     "output_type": "stream",
     "text": [
      "Average document length: 42.0 words\n",
      "Median document length: 37.0 words\n",
      "Max document length: 344 words\n",
      "Min document length: 4 words\n"
     ]
    }
   ],
   "source": [
    "# examing the document length \n",
    "print(\"Average document length: {} words\".format(round(np.mean(df_raw['num_words_raw']))))\n",
    "print(\"Median document length: {} words\".format(round(np.median(df_raw['num_words_raw']))))\n",
    "print(\"Max document length: {} words\".format(round(np.max(df_raw['num_words_raw']))))\n",
    "print(\"Min document length: {} words\".format(round(np.min(df_raw['num_words_raw']))))\n"
   ]
  },
  {
   "cell_type": "code",
   "execution_count": 15,
   "metadata": {
    "ExecuteTime": {
     "end_time": "2019-12-06T03:59:41.339463Z",
     "start_time": "2019-12-06T03:59:41.332676Z"
    }
   },
   "outputs": [],
   "source": [
    "\n",
    "# Helper code for plotting histograms\n",
    "def plot_length_histogram(lengths, x_range=[0,200], bins=20, normed=False):\n",
    "    hist, bin_edges = np.histogram(a=lengths, bins=bins, normed=normed, range=x_range)\n",
    "    bin_centers = (bin_edges[1:] + bin_edges[:-1])/2\n",
    "    bin_widths =  (bin_edges[1:] - bin_edges[:-1])\n",
    "\n",
    "    hover = HoverTool(tooltips=[(\"bucket\", \"@x\"), (\"count\", \"@top\")], mode=\"vline\")\n",
    "    fig = bp.figure(plot_width=800, plot_height=400, tools=[hover])\n",
    "    fig.vbar(x=bin_centers, width=bin_widths, top=hist, hover_fill_color=\"firebrick\")\n",
    "    fig.y_range.start = 0\n",
    "    fig.x_range.start = 0\n",
    "    fig.xaxis.axis_label = \"Document Length\"\n",
    "    fig.yaxis.axis_label = \"Frequency\"\n",
    "    bp.output_file(\"hist.html\")\n",
    "    bp.show(fig)\n"
   ]
  },
  {
   "cell_type": "code",
   "execution_count": 16,
   "metadata": {
    "ExecuteTime": {
     "end_time": "2019-12-06T03:59:42.062353Z",
     "start_time": "2019-12-06T03:59:42.049172Z"
    }
   },
   "outputs": [
    {
     "ename": "NameError",
     "evalue": "name 'doc_lengths' is not defined",
     "output_type": "error",
     "traceback": [
      "\u001b[0;31m---------------------------------------------------------------------------\u001b[0m",
      "\u001b[0;31mNameError\u001b[0m                                 Traceback (most recent call last)",
      "\u001b[0;32m<ipython-input-16-7548b0dec38e>\u001b[0m in \u001b[0;36m<module>\u001b[0;34m\u001b[0m\n\u001b[1;32m      1\u001b[0m \u001b[0;34m\u001b[0m\u001b[0m\n\u001b[0;32m----> 2\u001b[0;31m \u001b[0mplot_length_histogram\u001b[0m\u001b[0;34m(\u001b[0m\u001b[0mdoc_lengths\u001b[0m\u001b[0;34m)\u001b[0m\u001b[0;34m\u001b[0m\u001b[0;34m\u001b[0m\u001b[0m\n\u001b[0m",
      "\u001b[0;31mNameError\u001b[0m: name 'doc_lengths' is not defined"
     ]
    }
   ],
   "source": [
    "    \n",
    "plot_length_histogram(doc_lengths)"
   ]
  },
  {
   "cell_type": "markdown",
   "metadata": {},
   "source": [
    "# Usernames"
   ]
  },
  {
   "cell_type": "code",
   "execution_count": 17,
   "metadata": {
    "ExecuteTime": {
     "end_time": "2019-12-06T03:59:48.939681Z",
     "start_time": "2019-12-06T03:59:48.702306Z"
    }
   },
   "outputs": [],
   "source": [
    "#Listing all username for stop words\n",
    "all_usernames=set()\n",
    "for list1 in df_raw['usernames']:\n",
    "    for list2 in list1:\n",
    "        all_usernames.add(list2)\n"
   ]
  },
  {
   "cell_type": "markdown",
   "metadata": {},
   "source": [
    "# Stop words"
   ]
  },
  {
   "cell_type": "code",
   "execution_count": 20,
   "metadata": {
    "ExecuteTime": {
     "end_time": "2019-12-06T04:04:31.124442Z",
     "start_time": "2019-12-06T04:04:31.029868Z"
    }
   },
   "outputs": [
    {
     "name": "stdout",
     "output_type": "stream",
     "text": [
      "179\n",
      "181\n",
      "140718\n"
     ]
    }
   ],
   "source": [
    "# stop = list(set(nltk.corpus.stopwords.words('english') + list(gensim.parsing.preprocessing.STOPWORDS)))\n",
    "stop = nltk.corpus.stopwords.words('english')\n",
    "print(len(stop))\n",
    "additional_stop_words=['yes','no','ubuntu','linux','help','thanks','thank','work','support','error','problem','file',\n",
    "                       'installed','install','installing','software']\n",
    "additional_stop_words=['ubuntu','linux']\n",
    "stop = stop + additional_stop_words\n",
    "print(len(stop))\n",
    "stop = stop + list(set(all_usernames))\n",
    "print(len(stop))\n"
   ]
  },
  {
   "cell_type": "code",
   "execution_count": null,
   "metadata": {},
   "outputs": [],
   "source": []
  },
  {
   "cell_type": "markdown",
   "metadata": {},
   "source": [
    "# Spacy"
   ]
  },
  {
   "cell_type": "code",
   "execution_count": 21,
   "metadata": {
    "ExecuteTime": {
     "end_time": "2019-12-06T04:04:37.390217Z",
     "start_time": "2019-12-06T04:04:35.258153Z"
    }
   },
   "outputs": [],
   "source": [
    "nlp_spacy = spacy.load(\"en_core_web_sm\") \n"
   ]
  },
  {
   "cell_type": "markdown",
   "metadata": {},
   "source": [
    "# Preprocess"
   ]
  },
  {
   "cell_type": "code",
   "execution_count": 22,
   "metadata": {
    "ExecuteTime": {
     "end_time": "2019-12-06T04:05:22.714417Z",
     "start_time": "2019-12-06T04:05:22.705469Z"
    }
   },
   "outputs": [],
   "source": [
    "def f_preprocess_1(in_raw_msg):\n",
    "    \"\"\"\n",
    "    Removes punctuation, stop words, digits, and domain names. Also lemmatizes and filters by certain pos tags \n",
    "    \n",
    "    Input:\n",
    "    ----------\n",
    "    in_raw_msg : Unaltered complete message for a file\n",
    "\n",
    "    Returns:\n",
    "    -------\n",
    "    Processed and tokenized messge\n",
    "    \"\"\"\n",
    "    \n",
    "    global all_usernames\n",
    "    global lemmatizer \n",
    "    global stop\n",
    "    result = in_raw_msg\n",
    "\n",
    "    #lowercasing\n",
    "    result = \" \".join(x.lower() for x in result.split())\n",
    "    \n",
    "    #removing domain names\n",
    "    pattern = r\"[^\\s]*\\.(com|org|net)\\S*\"\n",
    "    result = re.sub(pattern, '', result)\n",
    "    pattern = r\"http[s]?://(?:[a-zA-Z]|[0-9]|[$-_@.&+]|[!*\\(\\),]|(?:%[0-9a-fA-F][0-9a-fA-F]))+\"\n",
    "    result = re.sub(pattern, '', result)\n",
    "    pattern = r\"www.(?:[a-zA-Z]|[0-9]|[$-_@.&+]|[!*\\(\\),]|(?:%[0-9a-fA-F][0-9a-fA-F]))+\"\n",
    "    result = re.sub(pattern, '', result)\n",
    "\n",
    "    #Removing punctuation\n",
    "    result = re.sub('[^A-Za-z]+', ' ', result)\n",
    "#     result = re.sub(r'[?]+', \" \", result)  \n",
    "#     result = re.sub(r'[ ]+\\.', \".\", result)  \n",
    "#     result = re.sub(' --', '', result)\n",
    "#     result = re.sub('[-_]+', '', result)\n",
    "#     result = re.sub('[(]+', '', result)\n",
    "#     result = re.sub('[)]+', '', result)\n",
    "#     result = re.sub('[;]+', '', result)\n",
    "#     result = re.sub('[\\\"]+', '', result)\n",
    "#     #replacing dots(.)\n",
    "#     result = re.sub('[\\.]+', ' ', result)\n",
    "#     #replacing screens/options with screens options\n",
    "#     result = re.sub('[/]+', ' ', result)\n",
    "#     #replacing i'm with im\n",
    "#     result = re.sub('[\\']+', '', result)\n",
    "#     result = result.replace(\"!@#$%^&*()[]{};:,./<>?|`~-=_+\", \" \")  \n",
    "#     result = re.sub(r'[!@#$%^&*()[]{};:,./<>?|`~-=_+]*', \" \", result)  \n",
    "\n",
    "    #Remove digits\n",
    "    #result = re.sub(r\"\\d+\", \"\", result)\n",
    "\n",
    "    #Removing stop words\n",
    "    result = ' '.join([word for word in result.split() if word not in stop])\n",
    "    result = result.replace(r'\\s+','')\n",
    "\n",
    "    # Lemmatization: converts the word into its root word, rather than just stripping the suffices.\n",
    "    # Going with spacy instead of nltk due to better output\n",
    "    doc = nlp_spacy(result) \n",
    "    tmp_result=[]\n",
    "    for token in doc: \n",
    "        tmp_result.append(token.lemma_) \n",
    "        #tmp_result.append(token.orth_) \n",
    "    result = ' '.join(tmp_result)\n",
    "#     print(\"Lemma: \",result,\"\\n\")\n",
    "    \n",
    "\n",
    "    #replacing multiple spaces with one\n",
    "    result = re.sub('[ ]{2,}', ' ', result)\n",
    "#     print(\"Multiple: \",result,\"\\n\")\n",
    "\n",
    "    #Considering words of length ge 2 and valid pos tags only\n",
    "    \n",
    "    result_valid=list()\n",
    "    \n",
    "    for (word,tag) in nltk.pos_tag(word_tokenize(result)):\n",
    "        if len(word)>=2:\n",
    "            result_valid.append(word)  \n",
    "\n",
    "    result = ' '.join(result_valid)\n",
    "#     print(\"Final: \",result,\"\\n\")\n",
    "    \n",
    "\n",
    "    return result"
   ]
  },
  {
   "cell_type": "code",
   "execution_count": 23,
   "metadata": {
    "ExecuteTime": {
     "end_time": "2019-12-06T12:53:41.525800Z",
     "start_time": "2019-12-06T04:05:24.598366Z"
    }
   },
   "outputs": [],
   "source": [
    "# message_processed to hold the cleaned data\n",
    "# 9 hours\n",
    "df_raw['message_processed'] = df_raw['message'].apply(f_preprocess_1)\n"
   ]
  },
  {
   "cell_type": "code",
   "execution_count": 24,
   "metadata": {
    "ExecuteTime": {
     "end_time": "2019-12-06T12:53:42.905152Z",
     "start_time": "2019-12-06T12:53:42.045724Z"
    }
   },
   "outputs": [],
   "source": [
    "SAVE_TO_PICKLE=True\n",
    "DIR_SAVED='./saved'\n",
    "FILENAME_V2='df_raw_V2.pkl'\n",
    "\n",
    "if SAVE_TO_PICKLE:\n",
    "    df_raw.to_pickle(DIR_SAVED+'/'+FILENAME_V2)\n",
    "else:\n",
    "    print(\"======= Skipping SAVE_TO_PICKLE ===========\")\n"
   ]
  },
  {
   "cell_type": "code",
   "execution_count": 11,
   "metadata": {
    "ExecuteTime": {
     "end_time": "2020-04-12T18:30:00.786608Z",
     "start_time": "2020-04-12T18:29:59.616456Z"
    }
   },
   "outputs": [
    {
     "name": "stdout",
     "output_type": "stream",
     "text": [
      "<class 'pandas.core.frame.DataFrame'>\n",
      "(269023, 6)\n",
      "Index(['filename', 'message', 'first_question', 'usernames', 'num_words_raw',\n",
      "       'message_processed'],\n",
      "      dtype='object')\n"
     ]
    }
   ],
   "source": [
    "LOAD_FROM_PICKLE=True\n",
    "\n",
    "\n",
    "if LOAD_FROM_PICKLE:\n",
    "    SAVE_TO_PICKLE=True\n",
    "    DIR_SAVED='./saved'\n",
    "    FILENAME_V2='df_raw_V2.pkl'\n",
    "    \n",
    "    df_raw = pd.read_pickle(DIR_SAVED+'/'+FILENAME_V2)\n",
    "    print(type(df_raw))\n",
    "    print(df_raw.shape)\n",
    "    print(df_raw.columns)\n",
    "else:\n",
    "    print(\"======= Skipping LOAD_FROM_PICKLE ===========\")\n",
    "\n"
   ]
  },
  {
   "cell_type": "code",
   "execution_count": 12,
   "metadata": {
    "ExecuteTime": {
     "end_time": "2020-04-12T18:30:04.816633Z",
     "start_time": "2020-04-12T18:30:04.623076Z"
    }
   },
   "outputs": [
    {
     "data": {
      "text/plain": [
       "'hello there. I am trying to install GLX on my Dapper (ATI 9200 mobile; IBM T42 laptop). I am following the guide that is on the Ubuntuforum.org, but it does not work as described. Who is willing to help me?. i think i didn t have to do anything except change driver from xorg.conf from ati to fglrx. The forum tells me:  Start gconf-editor and go to  apps/compiz/general/all screens/options  , but there is no section  apps/compiz  in gconf. I always use the fglrx driver, but there is some other strange problem'"
      ]
     },
     "execution_count": 12,
     "metadata": {},
     "output_type": "execute_result"
    }
   ],
   "source": [
    "df_raw[['message']].head(1).values[0][0]"
   ]
  },
  {
   "cell_type": "code",
   "execution_count": 13,
   "metadata": {
    "ExecuteTime": {
     "end_time": "2020-04-12T18:30:09.999094Z",
     "start_time": "2020-04-12T18:30:09.993277Z"
    }
   },
   "outputs": [
    {
     "data": {
      "text/plain": [
       "0    install glx follow guide describe willing think anything except driver conf fglrx tell start gconf editor go compiz screen option section compiz gconf always fglrx driver problem\n",
       "Name: message_processed, dtype: object"
      ]
     },
     "execution_count": 13,
     "metadata": {},
     "output_type": "execute_result"
    }
   ],
   "source": [
    "df_raw['message_processed'].head(1)"
   ]
  },
  {
   "cell_type": "code",
   "execution_count": 14,
   "metadata": {
    "ExecuteTime": {
     "end_time": "2020-04-12T18:30:44.998356Z",
     "start_time": "2020-04-12T18:30:44.990883Z"
    }
   },
   "outputs": [],
   "source": [
    "# Helper code for plotting histograms\n",
    "def plot_length_histogram(lengths, x_range=[0,200], bins=20, normed=False):\n",
    "    hist, bin_edges = np.histogram(a=lengths, bins=bins, normed=normed, range=x_range)\n",
    "    bin_centers = (bin_edges[1:] + bin_edges[:-1])/2\n",
    "    bin_widths =  (bin_edges[1:] - bin_edges[:-1])\n",
    "\n",
    "    hover = HoverTool(tooltips=[(\"bucket\", \"@x\"), (\"count\", \"@top\")], mode=\"vline\")\n",
    "    fig = bp.figure(plot_width=800, plot_height=400, tools=[hover])\n",
    "    fig.vbar(x=bin_centers, width=bin_widths, top=hist, hover_fill_color=\"firebrick\")\n",
    "    fig.y_range.start = 0\n",
    "    fig.x_range.start = 0\n",
    "    fig.xaxis.axis_label = \"Document Length\"\n",
    "    fig.yaxis.axis_label = \"Frequency\"\n",
    "    bp.output_file(\"hist.html\")\n",
    "    bp.show(fig)\n"
   ]
  },
  {
   "cell_type": "markdown",
   "metadata": {},
   "source": [
    "# Analyzing length of processed messages"
   ]
  },
  {
   "cell_type": "code",
   "execution_count": 15,
   "metadata": {
    "ExecuteTime": {
     "end_time": "2020-04-12T18:30:48.502975Z",
     "start_time": "2020-04-12T18:30:48.135069Z"
    }
   },
   "outputs": [],
   "source": [
    "df_raw['num_words_processed'] = df_raw['message_processed'].apply(lambda string: len(string.split()))"
   ]
  },
  {
   "cell_type": "code",
   "execution_count": 16,
   "metadata": {
    "ExecuteTime": {
     "end_time": "2020-04-12T18:30:50.906120Z",
     "start_time": "2020-04-12T18:30:50.891850Z"
    }
   },
   "outputs": [
    {
     "name": "stdout",
     "output_type": "stream",
     "text": [
      "Average message length: 15.0 words\n",
      "Median message length: 13.0 words\n",
      "Max message length: 203 words\n",
      "Min message length: 0 words\n"
     ]
    }
   ],
   "source": [
    "# examing the document length \n",
    "print(\"Average message length: {} words\".format(round(np.mean(df_raw['num_words_processed']))))\n",
    "print(\"Median message length: {} words\".format(round(np.median(df_raw['num_words_processed']))))\n",
    "print(\"Max message length: {} words\".format(round(np.max(df_raw['num_words_processed']))))\n",
    "print(\"Min message length: {} words\".format(round(np.min(df_raw['num_words_processed']))))\n"
   ]
  },
  {
   "cell_type": "code",
   "execution_count": 17,
   "metadata": {
    "ExecuteTime": {
     "end_time": "2020-04-12T18:30:53.057661Z",
     "start_time": "2020-04-12T18:30:52.992875Z"
    }
   },
   "outputs": [
    {
     "data": {
      "text/html": [
       "<div>\n",
       "<style scoped>\n",
       "    .dataframe tbody tr th:only-of-type {\n",
       "        vertical-align: middle;\n",
       "    }\n",
       "\n",
       "    .dataframe tbody tr th {\n",
       "        vertical-align: top;\n",
       "    }\n",
       "\n",
       "    .dataframe thead th {\n",
       "        text-align: right;\n",
       "    }\n",
       "</style>\n",
       "<table border=\"1\" class=\"dataframe\">\n",
       "  <thead>\n",
       "    <tr style=\"text-align: right;\">\n",
       "      <th></th>\n",
       "      <th>filename</th>\n",
       "      <th>message</th>\n",
       "      <th>first_question</th>\n",
       "      <th>usernames</th>\n",
       "      <th>num_words_raw</th>\n",
       "      <th>message_processed</th>\n",
       "      <th>num_words_processed</th>\n",
       "    </tr>\n",
       "  </thead>\n",
       "  <tbody>\n",
       "    <tr>\n",
       "      <th>321</th>\n",
       "      <td>186965.tsv</td>\n",
       "      <td>So.... Anyone&gt;. *?. anyone what?</td>\n",
       "      <td>So...</td>\n",
       "      <td>{arch_is_awesome, ikonia}</td>\n",
       "      <td>5</td>\n",
       "      <td></td>\n",
       "      <td>0</td>\n",
       "    </tr>\n",
       "    <tr>\n",
       "      <th>479</th>\n",
       "      <td>10077.tsv</td>\n",
       "      <td>hey guys. anyone home?. hi. hello?</td>\n",
       "      <td>hey guys</td>\n",
       "      <td>{lenswipe, MATAH}</td>\n",
       "      <td>6</td>\n",
       "      <td></td>\n",
       "      <td>0</td>\n",
       "    </tr>\n",
       "    <tr>\n",
       "      <th>1055</th>\n",
       "      <td>16411.tsv</td>\n",
       "      <td>quit. help. help. what s up?</td>\n",
       "      <td>quit</td>\n",
       "      <td>{[snake], rio_}</td>\n",
       "      <td>6</td>\n",
       "      <td></td>\n",
       "      <td>0</td>\n",
       "    </tr>\n",
       "    <tr>\n",
       "      <th>1492</th>\n",
       "      <td>77108.tsv</td>\n",
       "      <td>here s mine: http://i270.photobucket.com/albums/jj93/andrew_woodhead666/desktop.jpg?t=1231760517. - no no.. lol. ?. its fluxbox</td>\n",
       "      <td>here s mine: http://i270.photobucket.com/albums/jj93/andrew_woodhead666/desktop.jpg?t=1231760517</td>\n",
       "      <td>{ActionParsnip, KeithGS}</td>\n",
       "      <td>11</td>\n",
       "      <td></td>\n",
       "      <td>0</td>\n",
       "    </tr>\n",
       "    <tr>\n",
       "      <th>2336</th>\n",
       "      <td>82086.tsv</td>\n",
       "      <td>怎么没人说话啊. 谢谢. 哦  原来如此. ??????????,?????????? ???</td>\n",
       "      <td>怎么没人说话啊</td>\n",
       "      <td>{joerh99, Saiki}</td>\n",
       "      <td>6</td>\n",
       "      <td></td>\n",
       "      <td>0</td>\n",
       "    </tr>\n",
       "    <tr>\n",
       "      <th>3338</th>\n",
       "      <td>101390.tsv</td>\n",
       "      <td>i am who i am because of who we all are. :o.  namaste. *g*</td>\n",
       "      <td>i am who i am because of who we all are</td>\n",
       "      <td>{mojo, sagredo}</td>\n",
       "      <td>14</td>\n",
       "      <td></td>\n",
       "      <td>0</td>\n",
       "    </tr>\n",
       "    <tr>\n",
       "      <th>4235</th>\n",
       "      <td>181156.tsv</td>\n",
       "      <td>m z z: : w h a t s u t f 1 6 ?. l o m p f o n g : y o u r t e x t i s n   t s p a c e d. m z z : i a m o n b r e e z y b a d g e r. y o u  s h o u l d  u s e  t a b  c o m p l e t e</td>\n",
       "      <td>m z z: : w h a t s u t f 1 6 ?</td>\n",
       "      <td>{bruenig, jifli}</td>\n",
       "      <td>86</td>\n",
       "      <td></td>\n",
       "      <td>0</td>\n",
       "    </tr>\n",
       "    <tr>\n",
       "      <th>5123</th>\n",
       "      <td>252932.tsv</td>\n",
       "      <td>hi!. list!. 1, 2, 3, 4. 5</td>\n",
       "      <td>hi!</td>\n",
       "      <td>{reisio, alessandro97}</td>\n",
       "      <td>7</td>\n",
       "      <td></td>\n",
       "      <td>0</td>\n",
       "    </tr>\n",
       "    <tr>\n",
       "      <th>5695</th>\n",
       "      <td>92421.tsv</td>\n",
       "      <td>p. ?????. i from china. I m not ^^</td>\n",
       "      <td>p</td>\n",
       "      <td>{sergiu_, fengxiaoxiao}</td>\n",
       "      <td>9</td>\n",
       "      <td></td>\n",
       "      <td>0</td>\n",
       "    </tr>\n",
       "    <tr>\n",
       "      <th>6550</th>\n",
       "      <td>119561.tsv</td>\n",
       "      <td>hi. heyy. hey guys. support question?</td>\n",
       "      <td>hi</td>\n",
       "      <td>{wafiiq_, bazhang}</td>\n",
       "      <td>6</td>\n",
       "      <td></td>\n",
       "      <td>0</td>\n",
       "    </tr>\n",
       "    <tr>\n",
       "      <th>7647</th>\n",
       "      <td>183985.tsv</td>\n",
       "      <td>how do i rename my home folder ?. it has my old username. how do I rename my home folder to my new name?. mv</td>\n",
       "      <td>how do i rename my home folder ?</td>\n",
       "      <td>{skybox, Dextorion}</td>\n",
       "      <td>25</td>\n",
       "      <td></td>\n",
       "      <td>0</td>\n",
       "    </tr>\n",
       "    <tr>\n",
       "      <th>7783</th>\n",
       "      <td>186638.tsv</td>\n",
       "      <td>msn. i8 the six. you the black. do you have a question about ubuntu ?</td>\n",
       "      <td>msn</td>\n",
       "      <td>{nilson2, ikonia}</td>\n",
       "      <td>15</td>\n",
       "      <td></td>\n",
       "      <td>0</td>\n",
       "    </tr>\n",
       "    <tr>\n",
       "      <th>8347</th>\n",
       "      <td>101227.tsv</td>\n",
       "      <td>have a bug. have a bug. have a bug. have a bug</td>\n",
       "      <td>have a bug</td>\n",
       "      <td>{Templario}</td>\n",
       "      <td>12</td>\n",
       "      <td></td>\n",
       "      <td>0</td>\n",
       "    </tr>\n",
       "    <tr>\n",
       "      <th>10968</th>\n",
       "      <td>199627.tsv</td>\n",
       "      <td>S.a. ?. :D. S.a?</td>\n",
       "      <td>S.a</td>\n",
       "      <td>{yigal, KafanaGore--}</td>\n",
       "      <td>4</td>\n",
       "      <td></td>\n",
       "      <td>0</td>\n",
       "    </tr>\n",
       "    <tr>\n",
       "      <th>11284</th>\n",
       "      <td>34455.tsv</td>\n",
       "      <td>мне кто нибудь ответит кто всё эти люди?.  а что там есть?.  а что это. no</td>\n",
       "      <td>мне кто нибудь ответит кто всё эти люди?</td>\n",
       "      <td>{serkus, magicstuff}</td>\n",
       "      <td>16</td>\n",
       "      <td></td>\n",
       "      <td>0</td>\n",
       "    </tr>\n",
       "    <tr>\n",
       "      <th>11393</th>\n",
       "      <td>3880.tsv</td>\n",
       "      <td>?. help. ??. ?</td>\n",
       "      <td>?</td>\n",
       "      <td>{mrsuchyPL, zzz_}</td>\n",
       "      <td>4</td>\n",
       "      <td></td>\n",
       "      <td>0</td>\n",
       "    </tr>\n",
       "    <tr>\n",
       "      <th>11554</th>\n",
       "      <td>171939.tsv</td>\n",
       "      <td>nano. :). you joker. yes a little</td>\n",
       "      <td>nano</td>\n",
       "      <td>{strangy, looksaus}</td>\n",
       "      <td>7</td>\n",
       "      <td></td>\n",
       "      <td>0</td>\n",
       "    </tr>\n",
       "    <tr>\n",
       "      <th>11760</th>\n",
       "      <td>212641.tsv</td>\n",
       "      <td>How do you quit man.. /quit. what are you trying to quit?. q</td>\n",
       "      <td>How do you quit man.</td>\n",
       "      <td>{indref, gnomefreak}</td>\n",
       "      <td>13</td>\n",
       "      <td></td>\n",
       "      <td>0</td>\n",
       "    </tr>\n",
       "    <tr>\n",
       "      <th>13041</th>\n",
       "      <td>80969.tsv</td>\n",
       "      <td>how do I move a file? MV?. how do I move a file? MV?. how do I move a file? MV?. mv</td>\n",
       "      <td>how do I move a file? MV?</td>\n",
       "      <td>{Dravekx, ChrisMorgan}</td>\n",
       "      <td>22</td>\n",
       "      <td></td>\n",
       "      <td>0</td>\n",
       "    </tr>\n",
       "    <tr>\n",
       "      <th>13235</th>\n",
       "      <td>40161.tsv</td>\n",
       "      <td>hi. hi. hi. hi</td>\n",
       "      <td>hi</td>\n",
       "      <td>{itachi_linux, maryellen}</td>\n",
       "      <td>4</td>\n",
       "      <td></td>\n",
       "      <td>0</td>\n",
       "    </tr>\n",
       "    <tr>\n",
       "      <th>14042</th>\n",
       "      <td>27919.tsv</td>\n",
       "      <td>hello. хай. здесь незя in russian. а что забанить моут как злобных терористов</td>\n",
       "      <td>hello</td>\n",
       "      <td>{ubuntu03082010, serkus}</td>\n",
       "      <td>13</td>\n",
       "      <td></td>\n",
       "      <td>0</td>\n",
       "    </tr>\n",
       "    <tr>\n",
       "      <th>14261</th>\n",
       "      <td>236102.tsv</td>\n",
       "      <td>hello pawel. where are you. hi xim...where are you. im in texas</td>\n",
       "      <td>hello pawel</td>\n",
       "      <td>{franklin, xim}</td>\n",
       "      <td>12</td>\n",
       "      <td></td>\n",
       "      <td>0</td>\n",
       "    </tr>\n",
       "    <tr>\n",
       "      <th>16981</th>\n",
       "      <td>78761.tsv</td>\n",
       "      <td>hi. yo sup. i love ubuntu. what do you love in ubuntu?</td>\n",
       "      <td>hi</td>\n",
       "      <td>{zimbres, toshiba}</td>\n",
       "      <td>12</td>\n",
       "      <td></td>\n",
       "      <td>0</td>\n",
       "    </tr>\n",
       "    <tr>\n",
       "      <th>17513</th>\n",
       "      <td>204799.tsv</td>\n",
       "      <td>eek. sudo -i. not sudo su. eek?</td>\n",
       "      <td>eek</td>\n",
       "      <td>{xslf, Seveas}</td>\n",
       "      <td>7</td>\n",
       "      <td></td>\n",
       "      <td>0</td>\n",
       "    </tr>\n",
       "    <tr>\n",
       "      <th>18082</th>\n",
       "      <td>190334.tsv</td>\n",
       "      <td>hi,all. o_O. silver.  yes ?</td>\n",
       "      <td>hi,all</td>\n",
       "      <td>{gavin2u, silver}</td>\n",
       "      <td>5</td>\n",
       "      <td></td>\n",
       "      <td>0</td>\n",
       "    </tr>\n",
       "    <tr>\n",
       "      <th>18338</th>\n",
       "      <td>251866.tsv</td>\n",
       "      <td>anyone here play ET?. lol!!!!!!!!!!!!11. I do. you still there ?</td>\n",
       "      <td>anyone here play ET?</td>\n",
       "      <td>{justdust, aethera}</td>\n",
       "      <td>11</td>\n",
       "      <td></td>\n",
       "      <td>0</td>\n",
       "    </tr>\n",
       "    <tr>\n",
       "      <th>19696</th>\n",
       "      <td>23268.tsv</td>\n",
       "      <td>hi. someone that can help me here?. hi. What do you need</td>\n",
       "      <td>hi</td>\n",
       "      <td>{Side, _bin_bash}</td>\n",
       "      <td>12</td>\n",
       "      <td></td>\n",
       "      <td>0</td>\n",
       "    </tr>\n",
       "    <tr>\n",
       "      <th>20203</th>\n",
       "      <td>53000.tsv</td>\n",
       "      <td>hi!. こんにちは. yes. こんにちは ?</td>\n",
       "      <td>hi!</td>\n",
       "      <td>{kenta, pp7}</td>\n",
       "      <td>5</td>\n",
       "      <td></td>\n",
       "      <td>0</td>\n",
       "    </tr>\n",
       "    <tr>\n",
       "      <th>22347</th>\n",
       "      <td>167181.tsv</td>\n",
       "      <td>hola. !list. !list. Do you need help with ubuntu?</td>\n",
       "      <td>hola</td>\n",
       "      <td>{overmind, luck}</td>\n",
       "      <td>9</td>\n",
       "      <td></td>\n",
       "      <td>0</td>\n",
       "    </tr>\n",
       "    <tr>\n",
       "      <th>23799</th>\n",
       "      <td>144819.tsv</td>\n",
       "      <td>!ati. hey n-iCe!.  !!!!.  :))</td>\n",
       "      <td>!ati</td>\n",
       "      <td>{Crosswing, n-iCe}</td>\n",
       "      <td>5</td>\n",
       "      <td></td>\n",
       "      <td>0</td>\n",
       "    </tr>\n",
       "    <tr>\n",
       "      <th>...</th>\n",
       "      <td>...</td>\n",
       "      <td>...</td>\n",
       "      <td>...</td>\n",
       "      <td>...</td>\n",
       "      <td>...</td>\n",
       "      <td>...</td>\n",
       "      <td>...</td>\n",
       "    </tr>\n",
       "    <tr>\n",
       "      <th>250076</th>\n",
       "      <td>134545.tsv</td>\n",
       "      <td>lol. i was born in  89. x). sudo shutdown 60m</td>\n",
       "      <td>lol</td>\n",
       "      <td>{hsatera, DWSR}</td>\n",
       "      <td>10</td>\n",
       "      <td></td>\n",
       "      <td>0</td>\n",
       "    </tr>\n",
       "    <tr>\n",
       "      <th>251010</th>\n",
       "      <td>208952.tsv</td>\n",
       "      <td>Hey dwight. what s up. nm, u. ok</td>\n",
       "      <td>Hey dwight</td>\n",
       "      <td>{dwight, DShepherd}</td>\n",
       "      <td>8</td>\n",
       "      <td></td>\n",
       "      <td>0</td>\n",
       "    </tr>\n",
       "    <tr>\n",
       "      <th>251303</th>\n",
       "      <td>42476.tsv</td>\n",
       "      <td>hey. hi. there?. yes?</td>\n",
       "      <td>hey</td>\n",
       "      <td>{aeon-ltd, juniour_}</td>\n",
       "      <td>4</td>\n",
       "      <td></td>\n",
       "      <td>0</td>\n",
       "    </tr>\n",
       "    <tr>\n",
       "      <th>251324</th>\n",
       "      <td>7932.tsv</td>\n",
       "      <td>hi. there. hi. hi</td>\n",
       "      <td>hi</td>\n",
       "      <td>{jtr__, azert}</td>\n",
       "      <td>4</td>\n",
       "      <td></td>\n",
       "      <td>0</td>\n",
       "    </tr>\n",
       "    <tr>\n",
       "      <th>251641</th>\n",
       "      <td>118726.tsv</td>\n",
       "      <td>hello?. hello??!!. what is this?. ubuntu support question?</td>\n",
       "      <td>hello?</td>\n",
       "      <td>{kaitlyn_, bazhang}</td>\n",
       "      <td>8</td>\n",
       "      <td></td>\n",
       "      <td>0</td>\n",
       "    </tr>\n",
       "    <tr>\n",
       "      <th>252187</th>\n",
       "      <td>216273.tsv</td>\n",
       "      <td>Hello. How do I change my nick?. Lol. /nick new_nick</td>\n",
       "      <td>Hello</td>\n",
       "      <td>{ubuntu_, DShepherd}</td>\n",
       "      <td>10</td>\n",
       "      <td></td>\n",
       "      <td>0</td>\n",
       "    </tr>\n",
       "    <tr>\n",
       "      <th>252290</th>\n",
       "      <td>94304.tsv</td>\n",
       "      <td>haha. 看看能用中文不  阿阿阿阿. 能用. 在這裡用中文其他人可能會看到亂碼的</td>\n",
       "      <td>haha</td>\n",
       "      <td>{snowdoll, yesily}</td>\n",
       "      <td>5</td>\n",
       "      <td></td>\n",
       "      <td>0</td>\n",
       "    </tr>\n",
       "    <tr>\n",
       "      <th>252965</th>\n",
       "      <td>94204.tsv</td>\n",
       "      <td>Hello?. 안녕하세요?. Is it easy to hack ubuntu?. no it is not easy at all</td>\n",
       "      <td>Hello?</td>\n",
       "      <td>{powlr93, frogscott}</td>\n",
       "      <td>15</td>\n",
       "      <td></td>\n",
       "      <td>0</td>\n",
       "    </tr>\n",
       "    <tr>\n",
       "      <th>253231</th>\n",
       "      <td>251758.tsv</td>\n",
       "      <td>hi. hi. i am only new here. hola!</td>\n",
       "      <td>hi</td>\n",
       "      <td>{sobersabre, hendo}</td>\n",
       "      <td>8</td>\n",
       "      <td></td>\n",
       "      <td>0</td>\n",
       "    </tr>\n",
       "    <tr>\n",
       "      <th>253545</th>\n",
       "      <td>169959.tsv</td>\n",
       "      <td>wow. wow. µÈµÈ. wow?</td>\n",
       "      <td>wow</td>\n",
       "      <td>{macogw, firefly}</td>\n",
       "      <td>4</td>\n",
       "      <td></td>\n",
       "      <td>0</td>\n",
       "    </tr>\n",
       "    <tr>\n",
       "      <th>255294</th>\n",
       "      <td>196190.tsv</td>\n",
       "      <td>Âñåì ÊÓ. Òóò àíãë.???. Ïî ðóññêè êòî íèòü ôóðû÷èò??. english</td>\n",
       "      <td>Âñåì ÊÓ</td>\n",
       "      <td>{hyperstream, Prince}</td>\n",
       "      <td>10</td>\n",
       "      <td></td>\n",
       "      <td>0</td>\n",
       "    </tr>\n",
       "    <tr>\n",
       "      <th>256051</th>\n",
       "      <td>1238.tsv</td>\n",
       "      <td>hi guys. hi kid. how are ya. You ok yo ?</td>\n",
       "      <td>hi guys</td>\n",
       "      <td>{skraito, pcbsdl1}</td>\n",
       "      <td>11</td>\n",
       "      <td></td>\n",
       "      <td>0</td>\n",
       "    </tr>\n",
       "    <tr>\n",
       "      <th>257499</th>\n",
       "      <td>151656.tsv</td>\n",
       "      <td>-_-. anyone?. what?. then you have it..</td>\n",
       "      <td>-_-</td>\n",
       "      <td>{xethx96, AndrewB}</td>\n",
       "      <td>7</td>\n",
       "      <td></td>\n",
       "      <td>0</td>\n",
       "    </tr>\n",
       "    <tr>\n",
       "      <th>259292</th>\n",
       "      <td>130055.tsv</td>\n",
       "      <td>.     .       *nick*^^. what that.</td>\n",
       "      <td></td>\n",
       "      <td>{kwafo1, neol}</td>\n",
       "      <td>5</td>\n",
       "      <td></td>\n",
       "      <td>0</td>\n",
       "    </tr>\n",
       "    <tr>\n",
       "      <th>259338</th>\n",
       "      <td>130004.tsv</td>\n",
       "      <td>hello. hi. anyone here. smack</td>\n",
       "      <td>hello</td>\n",
       "      <td>{rajkalyan, mike3_}</td>\n",
       "      <td>5</td>\n",
       "      <td></td>\n",
       "      <td>0</td>\n",
       "    </tr>\n",
       "    <tr>\n",
       "      <th>260075</th>\n",
       "      <td>14458.tsv</td>\n",
       "      <td>what dm do you use?. dm... dm?. display manager</td>\n",
       "      <td>what dm do you use?</td>\n",
       "      <td>{danclark-au, sahip}</td>\n",
       "      <td>9</td>\n",
       "      <td></td>\n",
       "      <td>0</td>\n",
       "    </tr>\n",
       "    <tr>\n",
       "      <th>261088</th>\n",
       "      <td>225421.tsv</td>\n",
       "      <td>hello. anyone there. lol. no lol</td>\n",
       "      <td>hello</td>\n",
       "      <td>{vinzone, Hobbsee}</td>\n",
       "      <td>6</td>\n",
       "      <td></td>\n",
       "      <td>0</td>\n",
       "    </tr>\n",
       "    <tr>\n",
       "      <th>261629</th>\n",
       "      <td>9165.tsv</td>\n",
       "      <td>http://www.marlborotech.com/Zalgo.html. (__(__)|||||||||||||||||||||||||||||||||||||||||||||||||||||||||D ~ ~ ~. :|. :|</td>\n",
       "      <td>http://www.marlborotech.com/Zalgo.html</td>\n",
       "      <td>{SigmaWP, ijewafiuj}</td>\n",
       "      <td>7</td>\n",
       "      <td></td>\n",
       "      <td>0</td>\n",
       "    </tr>\n",
       "    <tr>\n",
       "      <th>261941</th>\n",
       "      <td>35568.tsv</td>\n",
       "      <td>hello there. anyone?. hello. What s your question?</td>\n",
       "      <td>hello there</td>\n",
       "      <td>{CrustyBarnacle, Guest23540}</td>\n",
       "      <td>8</td>\n",
       "      <td></td>\n",
       "      <td>0</td>\n",
       "    </tr>\n",
       "    <tr>\n",
       "      <th>262305</th>\n",
       "      <td>114957.tsv</td>\n",
       "      <td>:. :). nope. are you indian?</td>\n",
       "      <td>:</td>\n",
       "      <td>{utarpradesh, prakriti}</td>\n",
       "      <td>6</td>\n",
       "      <td></td>\n",
       "      <td>0</td>\n",
       "    </tr>\n",
       "    <tr>\n",
       "      <th>262504</th>\n",
       "      <td>154483.tsv</td>\n",
       "      <td>is there a default root password?. is there a default root password?. is there a default root password?. .. on ubuntu no</td>\n",
       "      <td>is there a default root password?</td>\n",
       "      <td>{evil_, un_operateur1}</td>\n",
       "      <td>22</td>\n",
       "      <td></td>\n",
       "      <td>0</td>\n",
       "    </tr>\n",
       "    <tr>\n",
       "      <th>262956</th>\n",
       "      <td>220896.tsv</td>\n",
       "      <td>hello. i am neoxan. hello. is me</td>\n",
       "      <td>hello</td>\n",
       "      <td>{neoxan}</td>\n",
       "      <td>7</td>\n",
       "      <td></td>\n",
       "      <td>0</td>\n",
       "    </tr>\n",
       "    <tr>\n",
       "      <th>263484</th>\n",
       "      <td>83970.tsv</td>\n",
       "      <td>am i a root now.. no. root, not a root. there is only one root</td>\n",
       "      <td>am i a root now.</td>\n",
       "      <td>{aboanas93, lstarnes}</td>\n",
       "      <td>15</td>\n",
       "      <td></td>\n",
       "      <td>0</td>\n",
       "    </tr>\n",
       "    <tr>\n",
       "      <th>264980</th>\n",
       "      <td>116994.tsv</td>\n",
       "      <td>Need help with audio. NEED HELP WITH AUDIO. !!!!!!!!. WHAT???</td>\n",
       "      <td>Need help with audio</td>\n",
       "      <td>{komputes, fuertesfj}</td>\n",
       "      <td>10</td>\n",
       "      <td></td>\n",
       "      <td>0</td>\n",
       "    </tr>\n",
       "    <tr>\n",
       "      <th>265823</th>\n",
       "      <td>57437.tsv</td>\n",
       "      <td>!help | kalmi. =/. it s !helpme. that d be the one.</td>\n",
       "      <td>!help | kalmi</td>\n",
       "      <td>{hatter243, Kalmi}</td>\n",
       "      <td>12</td>\n",
       "      <td></td>\n",
       "      <td>0</td>\n",
       "    </tr>\n",
       "    <tr>\n",
       "      <th>265844</th>\n",
       "      <td>20176.tsv</td>\n",
       "      <td>then?????. then what?. if not ubuntu which. Arch Linux</td>\n",
       "      <td>then?????</td>\n",
       "      <td>{Nisstyre, pksadiq}</td>\n",
       "      <td>9</td>\n",
       "      <td></td>\n",
       "      <td>0</td>\n",
       "    </tr>\n",
       "    <tr>\n",
       "      <th>267661</th>\n",
       "      <td>222672.tsv</td>\n",
       "      <td>!cp. waht is GLib?. !Glib. https://en.wikipedia.org/wiki/Glib</td>\n",
       "      <td>!cp</td>\n",
       "      <td>{NyLes, mneptok}</td>\n",
       "      <td>6</td>\n",
       "      <td></td>\n",
       "      <td>0</td>\n",
       "    </tr>\n",
       "    <tr>\n",
       "      <th>267668</th>\n",
       "      <td>134800.tsv</td>\n",
       "      <td>igor11. igor11. igor11.  /nick igor11</td>\n",
       "      <td>igor11</td>\n",
       "      <td>{igorp12, Jalathan}</td>\n",
       "      <td>5</td>\n",
       "      <td></td>\n",
       "      <td>0</td>\n",
       "    </tr>\n",
       "    <tr>\n",
       "      <th>267834</th>\n",
       "      <td>120513.tsv</td>\n",
       "      <td>hello. k. !hi | wlcsw. hello 8)</td>\n",
       "      <td>hello</td>\n",
       "      <td>{erUSUL, wlcsw}</td>\n",
       "      <td>7</td>\n",
       "      <td></td>\n",
       "      <td>0</td>\n",
       "    </tr>\n",
       "    <tr>\n",
       "      <th>268824</th>\n",
       "      <td>151360.tsv</td>\n",
       "      <td>ok.. http://www.winehq.com.  ty.. you re welcome</td>\n",
       "      <td>ok.</td>\n",
       "      <td>{erika, AmaroqWolf}</td>\n",
       "      <td>6</td>\n",
       "      <td></td>\n",
       "      <td>0</td>\n",
       "    </tr>\n",
       "  </tbody>\n",
       "</table>\n",
       "<p>385 rows × 7 columns</p>\n",
       "</div>"
      ],
      "text/plain": [
       "          filename  \\\n",
       "321     186965.tsv   \n",
       "479      10077.tsv   \n",
       "1055     16411.tsv   \n",
       "1492     77108.tsv   \n",
       "2336     82086.tsv   \n",
       "3338    101390.tsv   \n",
       "4235    181156.tsv   \n",
       "5123    252932.tsv   \n",
       "5695     92421.tsv   \n",
       "6550    119561.tsv   \n",
       "7647    183985.tsv   \n",
       "7783    186638.tsv   \n",
       "8347    101227.tsv   \n",
       "10968   199627.tsv   \n",
       "11284    34455.tsv   \n",
       "11393     3880.tsv   \n",
       "11554   171939.tsv   \n",
       "11760   212641.tsv   \n",
       "13041    80969.tsv   \n",
       "13235    40161.tsv   \n",
       "14042    27919.tsv   \n",
       "14261   236102.tsv   \n",
       "16981    78761.tsv   \n",
       "17513   204799.tsv   \n",
       "18082   190334.tsv   \n",
       "18338   251866.tsv   \n",
       "19696    23268.tsv   \n",
       "20203    53000.tsv   \n",
       "22347   167181.tsv   \n",
       "23799   144819.tsv   \n",
       "...            ...   \n",
       "250076  134545.tsv   \n",
       "251010  208952.tsv   \n",
       "251303   42476.tsv   \n",
       "251324    7932.tsv   \n",
       "251641  118726.tsv   \n",
       "252187  216273.tsv   \n",
       "252290   94304.tsv   \n",
       "252965   94204.tsv   \n",
       "253231  251758.tsv   \n",
       "253545  169959.tsv   \n",
       "255294  196190.tsv   \n",
       "256051    1238.tsv   \n",
       "257499  151656.tsv   \n",
       "259292  130055.tsv   \n",
       "259338  130004.tsv   \n",
       "260075   14458.tsv   \n",
       "261088  225421.tsv   \n",
       "261629    9165.tsv   \n",
       "261941   35568.tsv   \n",
       "262305  114957.tsv   \n",
       "262504  154483.tsv   \n",
       "262956  220896.tsv   \n",
       "263484   83970.tsv   \n",
       "264980  116994.tsv   \n",
       "265823   57437.tsv   \n",
       "265844   20176.tsv   \n",
       "267661  222672.tsv   \n",
       "267668  134800.tsv   \n",
       "267834  120513.tsv   \n",
       "268824  151360.tsv   \n",
       "\n",
       "                                                                                                                                                                                      message  \\\n",
       "321                                                                                                                                                          So.... Anyone>. *?. anyone what?   \n",
       "479                                                                                                                                                        hey guys. anyone home?. hi. hello?   \n",
       "1055                                                                                                                                                             quit. help. help. what s up?   \n",
       "1492                                                          here s mine: http://i270.photobucket.com/albums/jj93/andrew_woodhead666/desktop.jpg?t=1231760517. - no no.. lol. ?. its fluxbox   \n",
       "2336                                                                                                                                          怎么没人说话啊. 谢谢. 哦  原来如此. ??????????,?????????? ???   \n",
       "3338                                                                                                                               i am who i am because of who we all are. :o.  namaste. *g*   \n",
       "4235    m z z: : w h a t s u t f 1 6 ?. l o m p f o n g : y o u r t e x t i s n   t s p a c e d. m z z : i a m o n b r e e z y b a d g e r. y o u  s h o u l d  u s e  t a b  c o m p l e t e   \n",
       "5123                                                                                                                                                                hi!. list!. 1, 2, 3, 4. 5   \n",
       "5695                                                                                                                                                       p. ?????. i from china. I m not ^^   \n",
       "6550                                                                                                                                                    hi. heyy. hey guys. support question?   \n",
       "7647                                                                             how do i rename my home folder ?. it has my old username. how do I rename my home folder to my new name?. mv   \n",
       "7783                                                                                                                    msn. i8 the six. you the black. do you have a question about ubuntu ?   \n",
       "8347                                                                                                                                           have a bug. have a bug. have a bug. have a bug   \n",
       "10968                                                                                                                                                                        S.a. ?. :D. S.a?   \n",
       "11284                                                                                                              мне кто нибудь ответит кто всё эти люди?.  а что там есть?.  а что это. no   \n",
       "11393                                                                                                                                                                          ?. help. ??. ?   \n",
       "11554                                                                                                                                                       nano. :). you joker. yes a little   \n",
       "11760                                                                                                                            How do you quit man.. /quit. what are you trying to quit?. q   \n",
       "13041                                                                                                     how do I move a file? MV?. how do I move a file? MV?. how do I move a file? MV?. mv   \n",
       "13235                                                                                                                                                                          hi. hi. hi. hi   \n",
       "14042                                                                                                           hello. хай. здесь незя in russian. а что забанить моут как злобных терористов   \n",
       "14261                                                                                                                         hello pawel. where are you. hi xim...where are you. im in texas   \n",
       "16981                                                                                                                                  hi. yo sup. i love ubuntu. what do you love in ubuntu?   \n",
       "17513                                                                                                                                                         eek. sudo -i. not sudo su. eek?   \n",
       "18082                                                                                                                                                             hi,all. o_O. silver.  yes ?   \n",
       "18338                                                                                                                        anyone here play ET?. lol!!!!!!!!!!!!11. I do. you still there ?   \n",
       "19696                                                                                                                                hi. someone that can help me here?. hi. What do you need   \n",
       "20203                                                                                                                                                                hi!. こんにちは. yes. こんにちは ?   \n",
       "22347                                                                                                                                       hola. !list. !list. Do you need help with ubuntu?   \n",
       "23799                                                                                                                                                           !ati. hey n-iCe!.  !!!!.  :))   \n",
       "...                                                                                                                                                                                       ...   \n",
       "250076                                                                                                                                          lol. i was born in  89. x). sudo shutdown 60m   \n",
       "251010                                                                                                                                                       Hey dwight. what s up. nm, u. ok   \n",
       "251303                                                                                                                                                                  hey. hi. there?. yes?   \n",
       "251324                                                                                                                                                                      hi. there. hi. hi   \n",
       "251641                                                                                                                             hello?. hello??!!. what is this?. ubuntu support question?   \n",
       "252187                                                                                                                                   Hello. How do I change my nick?. Lol. /nick new_nick   \n",
       "252290                                                                                                                                             haha. 看看能用中文不  阿阿阿阿. 能用. 在這裡用中文其他人可能會看到亂碼的   \n",
       "252965                                                                                                                   Hello?. 안녕하세요?. Is it easy to hack ubuntu?. no it is not easy at all   \n",
       "253231                                                                                                                                                      hi. hi. i am only new here. hola!   \n",
       "253545                                                                                                                                                                   wow. wow. µÈµÈ. wow?   \n",
       "255294                                                                                                                           Âñåì ÊÓ. Òóò àíãë.???. Ïî ðóññêè êòî íèòü ôóðû÷èò??. english   \n",
       "256051                                                                                                                                               hi guys. hi kid. how are ya. You ok yo ?   \n",
       "257499                                                                                                                                                -_-. anyone?. what?. then you have it..   \n",
       "259292                                                                                                                                                     .     .       *nick*^^. what that.   \n",
       "259338                                                                                                                                                          hello. hi. anyone here. smack   \n",
       "260075                                                                                                                                        what dm do you use?. dm... dm?. display manager   \n",
       "261088                                                                                                                                                       hello. anyone there. lol. no lol   \n",
       "261629                                                                http://www.marlborotech.com/Zalgo.html. (__(__)|||||||||||||||||||||||||||||||||||||||||||||||||||||||||D ~ ~ ~. :|. :|   \n",
       "261941                                                                                                                                     hello there. anyone?. hello. What s your question?   \n",
       "262305                                                                                                                                                           :. :). nope. are you indian?   \n",
       "262504                                                               is there a default root password?. is there a default root password?. is there a default root password?. .. on ubuntu no   \n",
       "262956                                                                                                                                                       hello. i am neoxan. hello. is me   \n",
       "263484                                                                                                                         am i a root now.. no. root, not a root. there is only one root   \n",
       "264980                                                                                                                          Need help with audio. NEED HELP WITH AUDIO. !!!!!!!!. WHAT???   \n",
       "265823                                                                                                                                    !help | kalmi. =/. it s !helpme. that d be the one.   \n",
       "265844                                                                                                                                 then?????. then what?. if not ubuntu which. Arch Linux   \n",
       "267661                                                                                                                          !cp. waht is GLib?. !Glib. https://en.wikipedia.org/wiki/Glib   \n",
       "267668                                                                                                                                                 igor11. igor11. igor11.  /nick igor11    \n",
       "267834                                                                                                                                                        hello. k. !hi | wlcsw. hello 8)   \n",
       "268824                                                                                                                                       ok.. http://www.winehq.com.  ty.. you re welcome   \n",
       "\n",
       "                                                                                          first_question  \\\n",
       "321                                                                                                So...   \n",
       "479                                                                                             hey guys   \n",
       "1055                                                                                                quit   \n",
       "1492    here s mine: http://i270.photobucket.com/albums/jj93/andrew_woodhead666/desktop.jpg?t=1231760517   \n",
       "2336                                                                                             怎么没人说话啊   \n",
       "3338                                                             i am who i am because of who we all are   \n",
       "4235                                                                      m z z: : w h a t s u t f 1 6 ?   \n",
       "5123                                                                                                 hi!   \n",
       "5695                                                                                                   p   \n",
       "6550                                                                                                  hi   \n",
       "7647                                                                    how do i rename my home folder ?   \n",
       "7783                                                                                                 msn   \n",
       "8347                                                                                          have a bug   \n",
       "10968                                                                                                S.a   \n",
       "11284                                                           мне кто нибудь ответит кто всё эти люди?   \n",
       "11393                                                                                                  ?   \n",
       "11554                                                                                               nano   \n",
       "11760                                                                               How do you quit man.   \n",
       "13041                                                                          how do I move a file? MV?   \n",
       "13235                                                                                                 hi   \n",
       "14042                                                                                              hello   \n",
       "14261                                                                                        hello pawel   \n",
       "16981                                                                                                 hi   \n",
       "17513                                                                                                eek   \n",
       "18082                                                                                             hi,all   \n",
       "18338                                                                               anyone here play ET?   \n",
       "19696                                                                                                 hi   \n",
       "20203                                                                                                hi!   \n",
       "22347                                                                                               hola   \n",
       "23799                                                                                               !ati   \n",
       "...                                                                                                  ...   \n",
       "250076                                                                                               lol   \n",
       "251010                                                                                        Hey dwight   \n",
       "251303                                                                                               hey   \n",
       "251324                                                                                                hi   \n",
       "251641                                                                                            hello?   \n",
       "252187                                                                                             Hello   \n",
       "252290                                                                                              haha   \n",
       "252965                                                                                            Hello?   \n",
       "253231                                                                                                hi   \n",
       "253545                                                                                               wow   \n",
       "255294                                                                                           Âñåì ÊÓ   \n",
       "256051                                                                                           hi guys   \n",
       "257499                                                                                               -_-   \n",
       "259292                                                                                                     \n",
       "259338                                                                                             hello   \n",
       "260075                                                                               what dm do you use?   \n",
       "261088                                                                                             hello   \n",
       "261629                                                            http://www.marlborotech.com/Zalgo.html   \n",
       "261941                                                                                       hello there   \n",
       "262305                                                                                                 :   \n",
       "262504                                                                 is there a default root password?   \n",
       "262956                                                                                             hello   \n",
       "263484                                                                                  am i a root now.   \n",
       "264980                                                                              Need help with audio   \n",
       "265823                                                                                     !help | kalmi   \n",
       "265844                                                                                         then?????   \n",
       "267661                                                                                               !cp   \n",
       "267668                                                                                            igor11   \n",
       "267834                                                                                             hello   \n",
       "268824                                                                                               ok.   \n",
       "\n",
       "                           usernames  num_words_raw message_processed  \\\n",
       "321        {arch_is_awesome, ikonia}              5                     \n",
       "479                {lenswipe, MATAH}              6                     \n",
       "1055                 {[snake], rio_}              6                     \n",
       "1492        {ActionParsnip, KeithGS}             11                     \n",
       "2336                {joerh99, Saiki}              6                     \n",
       "3338                 {mojo, sagredo}             14                     \n",
       "4235                {bruenig, jifli}             86                     \n",
       "5123          {reisio, alessandro97}              7                     \n",
       "5695         {sergiu_, fengxiaoxiao}              9                     \n",
       "6550              {wafiiq_, bazhang}              6                     \n",
       "7647             {skybox, Dextorion}             25                     \n",
       "7783               {nilson2, ikonia}             15                     \n",
       "8347                     {Templario}             12                     \n",
       "10968          {yigal, KafanaGore--}              4                     \n",
       "11284           {serkus, magicstuff}             16                     \n",
       "11393              {mrsuchyPL, zzz_}              4                     \n",
       "11554            {strangy, looksaus}              7                     \n",
       "11760           {indref, gnomefreak}             13                     \n",
       "13041         {Dravekx, ChrisMorgan}             22                     \n",
       "13235      {itachi_linux, maryellen}              4                     \n",
       "14042       {ubuntu03082010, serkus}             13                     \n",
       "14261                {franklin, xim}             12                     \n",
       "16981             {zimbres, toshiba}             12                     \n",
       "17513                 {xslf, Seveas}              7                     \n",
       "18082              {gavin2u, silver}              5                     \n",
       "18338            {justdust, aethera}             11                     \n",
       "19696              {Side, _bin_bash}             12                     \n",
       "20203                   {kenta, pp7}              5                     \n",
       "22347               {overmind, luck}              9                     \n",
       "23799             {Crosswing, n-iCe}              5                     \n",
       "...                              ...            ...               ...   \n",
       "250076               {hsatera, DWSR}             10                     \n",
       "251010           {dwight, DShepherd}              8                     \n",
       "251303          {aeon-ltd, juniour_}              4                     \n",
       "251324                {jtr__, azert}              4                     \n",
       "251641           {kaitlyn_, bazhang}              8                     \n",
       "252187          {ubuntu_, DShepherd}             10                     \n",
       "252290            {snowdoll, yesily}              5                     \n",
       "252965          {powlr93, frogscott}             15                     \n",
       "253231           {sobersabre, hendo}              8                     \n",
       "253545             {macogw, firefly}              4                     \n",
       "255294         {hyperstream, Prince}             10                     \n",
       "256051            {skraito, pcbsdl1}             11                     \n",
       "257499            {xethx96, AndrewB}              7                     \n",
       "259292                {kwafo1, neol}              5                     \n",
       "259338           {rajkalyan, mike3_}              5                     \n",
       "260075          {danclark-au, sahip}              9                     \n",
       "261088            {vinzone, Hobbsee}              6                     \n",
       "261629          {SigmaWP, ijewafiuj}              7                     \n",
       "261941  {CrustyBarnacle, Guest23540}              8                     \n",
       "262305       {utarpradesh, prakriti}              6                     \n",
       "262504        {evil_, un_operateur1}             22                     \n",
       "262956                      {neoxan}              7                     \n",
       "263484         {aboanas93, lstarnes}             15                     \n",
       "264980         {komputes, fuertesfj}             10                     \n",
       "265823            {hatter243, Kalmi}             12                     \n",
       "265844           {Nisstyre, pksadiq}              9                     \n",
       "267661              {NyLes, mneptok}              6                     \n",
       "267668           {igorp12, Jalathan}              5                     \n",
       "267834               {erUSUL, wlcsw}              7                     \n",
       "268824           {erika, AmaroqWolf}              6                     \n",
       "\n",
       "        num_words_processed  \n",
       "321                       0  \n",
       "479                       0  \n",
       "1055                      0  \n",
       "1492                      0  \n",
       "2336                      0  \n",
       "3338                      0  \n",
       "4235                      0  \n",
       "5123                      0  \n",
       "5695                      0  \n",
       "6550                      0  \n",
       "7647                      0  \n",
       "7783                      0  \n",
       "8347                      0  \n",
       "10968                     0  \n",
       "11284                     0  \n",
       "11393                     0  \n",
       "11554                     0  \n",
       "11760                     0  \n",
       "13041                     0  \n",
       "13235                     0  \n",
       "14042                     0  \n",
       "14261                     0  \n",
       "16981                     0  \n",
       "17513                     0  \n",
       "18082                     0  \n",
       "18338                     0  \n",
       "19696                     0  \n",
       "20203                     0  \n",
       "22347                     0  \n",
       "23799                     0  \n",
       "...                     ...  \n",
       "250076                    0  \n",
       "251010                    0  \n",
       "251303                    0  \n",
       "251324                    0  \n",
       "251641                    0  \n",
       "252187                    0  \n",
       "252290                    0  \n",
       "252965                    0  \n",
       "253231                    0  \n",
       "253545                    0  \n",
       "255294                    0  \n",
       "256051                    0  \n",
       "257499                    0  \n",
       "259292                    0  \n",
       "259338                    0  \n",
       "260075                    0  \n",
       "261088                    0  \n",
       "261629                    0  \n",
       "261941                    0  \n",
       "262305                    0  \n",
       "262504                    0  \n",
       "262956                    0  \n",
       "263484                    0  \n",
       "264980                    0  \n",
       "265823                    0  \n",
       "265844                    0  \n",
       "267661                    0  \n",
       "267668                    0  \n",
       "267834                    0  \n",
       "268824                    0  \n",
       "\n",
       "[385 rows x 7 columns]"
      ]
     },
     "execution_count": 17,
     "metadata": {},
     "output_type": "execute_result"
    }
   ],
   "source": [
    "df_raw[df_raw['num_words_processed']==0]"
   ]
  },
  {
   "cell_type": "code",
   "execution_count": 18,
   "metadata": {
    "ExecuteTime": {
     "end_time": "2020-04-12T18:30:56.411387Z",
     "start_time": "2020-04-12T18:30:56.384204Z"
    }
   },
   "outputs": [
    {
     "data": {
      "text/plain": [
       "(170145, 7)"
      ]
     },
     "execution_count": 18,
     "metadata": {},
     "output_type": "execute_result"
    }
   ],
   "source": [
    "#Saving records to be discarded\n",
    "df_processed_1 = df_raw[df_raw['num_words_processed']>10]\n",
    "df_processed_1.shape"
   ]
  },
  {
   "cell_type": "code",
   "execution_count": 19,
   "metadata": {
    "ExecuteTime": {
     "end_time": "2020-04-12T18:30:58.400656Z",
     "start_time": "2020-04-12T18:30:58.388086Z"
    }
   },
   "outputs": [
    {
     "name": "stdout",
     "output_type": "stream",
     "text": [
      "Average message length: 19.0 words\n",
      "Median message length: 17.0 words\n",
      "Max message length: 203 words\n",
      "Min message length: 11 words\n"
     ]
    }
   ],
   "source": [
    "# examing the document length \n",
    "print(\"Average message length: {} words\".format(round(np.mean(df_processed_1['num_words_processed']))))\n",
    "print(\"Median message length: {} words\".format(round(np.median(df_processed_1['num_words_processed']))))\n",
    "print(\"Max message length: {} words\".format(round(np.max(df_processed_1['num_words_processed']))))\n",
    "print(\"Min message length: {} words\".format(round(np.min(df_processed_1['num_words_processed']))))\n"
   ]
  },
  {
   "cell_type": "code",
   "execution_count": 20,
   "metadata": {
    "ExecuteTime": {
     "end_time": "2020-04-12T18:30:59.142691Z",
     "start_time": "2020-04-12T18:30:59.130387Z"
    }
   },
   "outputs": [],
   "source": [
    "df_raw['num_words_changed'] = df_raw['num_words_raw'] - df_raw['num_words_processed']"
   ]
  },
  {
   "cell_type": "code",
   "execution_count": null,
   "metadata": {
    "ExecuteTime": {
     "end_time": "2020-04-12T05:53:25.905636Z",
     "start_time": "2020-04-12T05:53:25.558647Z"
    }
   },
   "outputs": [],
   "source": [
    "df_raw[df_raw['num_words_changed']>0].sort_values(['num_words_changed'], ascending=[0])\\\n",
    "[['num_words_changed','filename','message','message_processed']].head(2)\n",
    "                                                                           "
   ]
  },
  {
   "cell_type": "code",
   "execution_count": null,
   "metadata": {},
   "outputs": [],
   "source": []
  },
  {
   "cell_type": "markdown",
   "metadata": {},
   "source": [
    "# Document frequency"
   ]
  },
  {
   "cell_type": "code",
   "execution_count": 79,
   "metadata": {
    "ExecuteTime": {
     "end_time": "2019-11-20T07:11:49.998030Z",
     "start_time": "2019-11-20T07:11:49.994245Z"
    }
   },
   "outputs": [],
   "source": [
    "# from collections import defaultdict\n",
    "\n",
    "# def f_document_word_frequency(in_record):\n",
    "#     DF = defaultdict(int) \n",
    "#     print(in_record)\n",
    "        "
   ]
  },
  {
   "cell_type": "code",
   "execution_count": 174,
   "metadata": {
    "ExecuteTime": {
     "end_time": "2019-11-20T08:33:37.476355Z",
     "start_time": "2019-11-20T08:33:37.447975Z"
    }
   },
   "outputs": [],
   "source": [
    "# from collections import defaultdict\n",
    "# DF = defaultdict(int) \n",
    "# for list_words in df_processed_1['message_processed'].str.split():\n",
    "#     for word in set(list_words):\n",
    "#         DF[word] += 1"
   ]
  },
  {
   "cell_type": "code",
   "execution_count": 95,
   "metadata": {
    "ExecuteTime": {
     "end_time": "2019-11-20T07:33:43.511809Z",
     "start_time": "2019-11-20T07:33:43.507532Z"
    }
   },
   "outputs": [
    {
     "data": {
      "text/plain": [
       "2706"
      ]
     },
     "execution_count": 95,
     "metadata": {},
     "output_type": "execute_result"
    }
   ],
   "source": [
    "# df_raw.shape[0]"
   ]
  },
  {
   "cell_type": "code",
   "execution_count": null,
   "metadata": {
    "ExecuteTime": {
     "end_time": "2019-11-20T09:21:13.594456Z",
     "start_time": "2019-11-20T09:21:12.261354Z"
    }
   },
   "outputs": [],
   "source": [
    "# for word in sorted(DF, key=DF.get, reverse=True):\n",
    "#     print(word, DF[word])\n"
   ]
  },
  {
   "cell_type": "code",
   "execution_count": 295,
   "metadata": {
    "ExecuteTime": {
     "end_time": "2019-11-20T09:51:13.578495Z",
     "start_time": "2019-11-20T09:51:13.573157Z"
    }
   },
   "outputs": [
    {
     "name": "stdout",
     "output_type": "stream",
     "text": [
      "['try', 'use', 'get']\n"
     ]
    }
   ],
   "source": [
    "# THRESHOLD_FREQ_WORDS_TO_ELIMINATE=500\n",
    "# frequent_words = []\n",
    "# for word, count in DF.items():\n",
    "#     if count>=THRESHOLD_FREQ_WORDS_TO_ELIMINATE:\n",
    "#         frequent_words.append(word)\n",
    "# print(frequent_words)\n"
   ]
  },
  {
   "cell_type": "code",
   "execution_count": null,
   "metadata": {
    "ExecuteTime": {
     "end_time": "2019-11-20T08:53:34.428780Z",
     "start_time": "2019-11-20T08:53:34.421561Z"
    }
   },
   "outputs": [],
   "source": [
    "#Number of documents the word occurs in\n",
    "# THRESHOLD_RARE_WORDS_TO_ELIMINATE=5\n",
    "# rare_words = []\n",
    "# for word, count in DF.items():\n",
    "#     if count<=THRESHOLD_RARE_WORDS_TO_ELIMINATE:\n",
    "#         rare_words.append(word)\n",
    "# print(rare_words)\n"
   ]
  },
  {
   "cell_type": "code",
   "execution_count": 296,
   "metadata": {
    "ExecuteTime": {
     "end_time": "2019-11-20T09:51:17.671400Z",
     "start_time": "2019-11-20T09:51:17.667408Z"
    }
   },
   "outputs": [],
   "source": [
    "# def f_preprocess_2(in_message):\n",
    "#     global frequent_words \n",
    "#     result = in_message\n",
    "#     tmp_result =[]\n",
    "#     for word in result.split():\n",
    "#         if word not in frequent_words:\n",
    "#             tmp_result.append(word)\n",
    "    \n",
    "#     result = tmp_result\n",
    "#     return result\n"
   ]
  },
  {
   "cell_type": "code",
   "execution_count": 297,
   "metadata": {
    "ExecuteTime": {
     "end_time": "2019-11-20T09:51:22.727750Z",
     "start_time": "2019-11-20T09:51:19.273754Z"
    }
   },
   "outputs": [],
   "source": [
    "# df_processed_1['message_no_frequent_split'] = df_processed_1['message_processed'].apply(f_preprocess_2)\n",
    "                                                                                  \n",
    "                                                                                  "
   ]
  },
  {
   "cell_type": "markdown",
   "metadata": {},
   "source": [
    "# Build BTM model"
   ]
  },
  {
   "cell_type": "code",
   "execution_count": 21,
   "metadata": {
    "ExecuteTime": {
     "end_time": "2020-04-12T18:31:19.168827Z",
     "start_time": "2020-04-12T18:31:19.163715Z"
    }
   },
   "outputs": [],
   "source": [
    "import biterm\n",
    "from sklearn.feature_extraction.text import CountVectorizer\n",
    "from biterm.utility import vec_to_biterms\n",
    "from biterm.cbtm import oBTM\n"
   ]
  },
  {
   "cell_type": "code",
   "execution_count": 22,
   "metadata": {
    "ExecuteTime": {
     "end_time": "2020-04-12T18:31:21.061963Z",
     "start_time": "2020-04-12T18:31:21.053757Z"
    }
   },
   "outputs": [],
   "source": [
    "df_processed_2 = df_processed_1.sample(n=100)"
   ]
  },
  {
   "cell_type": "code",
   "execution_count": 23,
   "metadata": {
    "ExecuteTime": {
     "end_time": "2020-04-12T18:31:24.972731Z",
     "start_time": "2020-04-12T18:31:24.968343Z"
    }
   },
   "outputs": [
    {
     "data": {
      "text/plain": [
       "100"
      ]
     },
     "execution_count": 23,
     "metadata": {},
     "output_type": "execute_result"
    }
   ],
   "source": [
    "df_processed_2.shape[0]"
   ]
  },
  {
   "cell_type": "code",
   "execution_count": 24,
   "metadata": {
    "ExecuteTime": {
     "end_time": "2020-04-12T18:31:25.613962Z",
     "start_time": "2020-04-12T18:31:25.601001Z"
    }
   },
   "outputs": [
    {
     "data": {
      "text/html": [
       "<div>\n",
       "<style scoped>\n",
       "    .dataframe tbody tr th:only-of-type {\n",
       "        vertical-align: middle;\n",
       "    }\n",
       "\n",
       "    .dataframe tbody tr th {\n",
       "        vertical-align: top;\n",
       "    }\n",
       "\n",
       "    .dataframe thead th {\n",
       "        text-align: right;\n",
       "    }\n",
       "</style>\n",
       "<table border=\"1\" class=\"dataframe\">\n",
       "  <thead>\n",
       "    <tr style=\"text-align: right;\">\n",
       "      <th></th>\n",
       "      <th>filename</th>\n",
       "      <th>message</th>\n",
       "      <th>first_question</th>\n",
       "      <th>usernames</th>\n",
       "      <th>num_words_raw</th>\n",
       "      <th>message_processed</th>\n",
       "      <th>num_words_processed</th>\n",
       "    </tr>\n",
       "  </thead>\n",
       "  <tbody>\n",
       "    <tr>\n",
       "      <th>257270</th>\n",
       "      <td>157095.tsv</td>\n",
       "      <td>I ve went through google and forums and couldn t find it (even though it is simple). use a minimal window manager like fluxbox or blackbox and have the window manager run a startup script that wil...</td>\n",
       "      <td>I ve went through google and forums and couldn t find it (even though it is simple)</td>\n",
       "      <td>{MasterShrek, slavik}</td>\n",
       "      <td>70</td>\n",
       "      <td>go google forum though minimal run startup script start login gdm pick filesystem aware sure guess probably something</td>\n",
       "      <td>18</td>\n",
       "    </tr>\n",
       "    <tr>\n",
       "      <th>76296</th>\n",
       "      <td>219740.tsv</td>\n",
       "      <td>!ubottu help |Imsad. meh wrong caommand. `dpkg -L | grep achilles` might be fine. Just ignore that last bit.</td>\n",
       "      <td>!ubottu help |Imsad</td>\n",
       "      <td>{Flannel, TecnaTranux}</td>\n",
       "      <td>19</td>\n",
       "      <td>ubottu imsad wrong caommand dpkg grep may fine ignore last bit</td>\n",
       "      <td>11</td>\n",
       "    </tr>\n",
       "    <tr>\n",
       "      <th>265838</th>\n",
       "      <td>76717.tsv</td>\n",
       "      <td>Sorry about that, but I ve got an issue with the 8.10 Beta, as well as all of the 8.10 Alphas. So, would this be the room to talk about an issue with Ubuntu 8.10? Or could someone point me in the ...</td>\n",
       "      <td>Sorry about that, but I ve got an issue with the 8.10 Beta, as well as all of the 8.10 Alphas</td>\n",
       "      <td>{Bashew_, Vantrax}</td>\n",
       "      <td>75</td>\n",
       "      <td>sorry get issue alpha would room talk issue could point right direction sorry stuck irssi time show tooooo many channel least try</td>\n",
       "      <td>22</td>\n",
       "    </tr>\n",
       "    <tr>\n",
       "      <th>159648</th>\n",
       "      <td>51084.tsv</td>\n",
       "      <td>I d like to be able to VNC into an Ubuntu machine running 9.04 Server, but it doesn t seem to be working.  Do I need other things installed aside from vnc4server?. Do you have X installed? There n...</td>\n",
       "      <td>I d like to be able to VNC into an Ubuntu machine running 9.04 Server, but it doesn t seem to be working.  Do I need other things installed aside from vnc4server?</td>\n",
       "      <td>{shawnps, grawity}</td>\n",
       "      <td>77</td>\n",
       "      <td>able machine running server seem work thing instal aside server instal need graphical interface seem connect display background sure package call would instal</td>\n",
       "      <td>23</td>\n",
       "    </tr>\n",
       "    <tr>\n",
       "      <th>260216</th>\n",
       "      <td>31423.tsv</td>\n",
       "      <td>i want to boot as verbose as possible (textmode). what is the best way to do that? work on boot up scripts? boot options?. in /etc/default/grub   remove  quiet splash  from GRUB_CMDLINE_LINUX_DEFA...</td>\n",
       "      <td>i want to boot as verbose as possible (textmode). what is the best way to do that? work on boot up scripts? boot options?</td>\n",
       "      <td>{Benkinooby, bastidrazor}</td>\n",
       "      <td>42</td>\n",
       "      <td>want possible textmode good script option etc remove splash cmdline splash run thank</td>\n",
       "      <td>13</td>\n",
       "    </tr>\n",
       "  </tbody>\n",
       "</table>\n",
       "</div>"
      ],
      "text/plain": [
       "          filename  \\\n",
       "257270  157095.tsv   \n",
       "76296   219740.tsv   \n",
       "265838   76717.tsv   \n",
       "159648   51084.tsv   \n",
       "260216   31423.tsv   \n",
       "\n",
       "                                                                                                                                                                                                        message  \\\n",
       "257270  I ve went through google and forums and couldn t find it (even though it is simple). use a minimal window manager like fluxbox or blackbox and have the window manager run a startup script that wil...   \n",
       "76296                                                                                              !ubottu help |Imsad. meh wrong caommand. `dpkg -L | grep achilles` might be fine. Just ignore that last bit.   \n",
       "265838  Sorry about that, but I ve got an issue with the 8.10 Beta, as well as all of the 8.10 Alphas. So, would this be the room to talk about an issue with Ubuntu 8.10? Or could someone point me in the ...   \n",
       "159648  I d like to be able to VNC into an Ubuntu machine running 9.04 Server, but it doesn t seem to be working.  Do I need other things installed aside from vnc4server?. Do you have X installed? There n...   \n",
       "260216  i want to boot as verbose as possible (textmode). what is the best way to do that? work on boot up scripts? boot options?. in /etc/default/grub   remove  quiet splash  from GRUB_CMDLINE_LINUX_DEFA...   \n",
       "\n",
       "                                                                                                                                                            first_question  \\\n",
       "257270                                                                                 I ve went through google and forums and couldn t find it (even though it is simple)   \n",
       "76296                                                                                                                                                  !ubottu help |Imsad   \n",
       "265838                                                                       Sorry about that, but I ve got an issue with the 8.10 Beta, as well as all of the 8.10 Alphas   \n",
       "159648  I d like to be able to VNC into an Ubuntu machine running 9.04 Server, but it doesn t seem to be working.  Do I need other things installed aside from vnc4server?   \n",
       "260216                                           i want to boot as verbose as possible (textmode). what is the best way to do that? work on boot up scripts? boot options?   \n",
       "\n",
       "                        usernames  num_words_raw  \\\n",
       "257270      {MasterShrek, slavik}             70   \n",
       "76296      {Flannel, TecnaTranux}             19   \n",
       "265838         {Bashew_, Vantrax}             75   \n",
       "159648         {shawnps, grawity}             77   \n",
       "260216  {Benkinooby, bastidrazor}             42   \n",
       "\n",
       "                                                                                                                                                     message_processed  \\\n",
       "257270                                           go google forum though minimal run startup script start login gdm pick filesystem aware sure guess probably something   \n",
       "76296                                                                                                   ubottu imsad wrong caommand dpkg grep may fine ignore last bit   \n",
       "265838                               sorry get issue alpha would room talk issue could point right direction sorry stuck irssi time show tooooo many channel least try   \n",
       "159648  able machine running server seem work thing instal aside server instal need graphical interface seem connect display background sure package call would instal   \n",
       "260216                                                                            want possible textmode good script option etc remove splash cmdline splash run thank   \n",
       "\n",
       "        num_words_processed  \n",
       "257270                   18  \n",
       "76296                    11  \n",
       "265838                   22  \n",
       "159648                   23  \n",
       "260216                   13  "
      ]
     },
     "execution_count": 24,
     "metadata": {},
     "output_type": "execute_result"
    }
   ],
   "source": [
    "df_processed_2.head()"
   ]
  },
  {
   "cell_type": "code",
   "execution_count": 25,
   "metadata": {
    "ExecuteTime": {
     "end_time": "2020-04-12T18:31:28.759864Z",
     "start_time": "2020-04-12T18:31:28.755549Z"
    }
   },
   "outputs": [],
   "source": [
    "df_processed_2.reset_index()\n",
    "df_processed_2.index = range(0,df_processed_2.shape[0])\n"
   ]
  },
  {
   "cell_type": "code",
   "execution_count": 26,
   "metadata": {
    "ExecuteTime": {
     "end_time": "2020-04-12T18:31:30.873589Z",
     "start_time": "2020-04-12T18:31:30.864516Z"
    }
   },
   "outputs": [],
   "source": [
    "vec = CountVectorizer(stop_words='english')\n",
    "X = vec.fit_transform(df_processed_2.message_processed).toarray()\n"
   ]
  },
  {
   "cell_type": "code",
   "execution_count": 27,
   "metadata": {
    "ExecuteTime": {
     "end_time": "2020-04-12T18:31:31.241515Z",
     "start_time": "2020-04-12T18:31:31.235609Z"
    }
   },
   "outputs": [],
   "source": [
    "vocab = np.array(vec.get_feature_names())\n",
    "biterms = vec_to_biterms(X)\n"
   ]
  },
  {
   "cell_type": "code",
   "execution_count": 28,
   "metadata": {
    "ExecuteTime": {
     "end_time": "2020-04-12T18:32:36.085640Z",
     "start_time": "2020-04-12T18:31:31.889893Z"
    },
    "scrolled": true
   },
   "outputs": [
    {
     "name": "stderr",
     "output_type": "stream",
     "text": [
      "100%|██████████| 100/100 [01:03<00:00,  1.56it/s]\n"
     ]
    }
   ],
   "source": [
    "btm = oBTM(num_topics=20, V=vocab)\n",
    "topics = btm.fit_transform(biterms, iterations=100)\n"
   ]
  },
  {
   "cell_type": "code",
   "execution_count": 31,
   "metadata": {
    "ExecuteTime": {
     "end_time": "2020-04-12T18:34:47.219724Z",
     "start_time": "2020-04-12T18:34:26.868061Z"
    }
   },
   "outputs": [],
   "source": [
    "vis = pyLDAvis.prepare(btm.phi_wz.T, topics, np.count_nonzero(X, axis=1), vocab, np.sum(X, axis=0))\n",
    "pyLDAvis.save_html(vis, './online_btm.html')\n"
   ]
  },
  {
   "cell_type": "code",
   "execution_count": 32,
   "metadata": {
    "ExecuteTime": {
     "end_time": "2020-04-12T18:34:48.748791Z",
     "start_time": "2020-04-12T18:34:48.743196Z"
    }
   },
   "outputs": [
    {
     "data": {
      "text/plain": [
       "('restrict ftp account dir mean do not want other folder ftp server docs get subject google friend google ftp',\n",
       " 'guys, how can i restrict on an ftp account that he just be in his home dir ?, i mean i dont want him to surf others folders ?. check the ftp server docs for chroot. from where can i get more info at this subject ?. google is your friend. google ftp+chroot')"
      ]
     },
     "execution_count": 32,
     "metadata": {},
     "output_type": "execute_result"
    }
   ],
   "source": [
    "df_processed_2.loc[50].message_processed, df_processed_2.loc[50].message"
   ]
  },
  {
   "cell_type": "code",
   "execution_count": null,
   "metadata": {},
   "outputs": [],
   "source": []
  },
  {
   "cell_type": "markdown",
   "metadata": {
    "ExecuteTime": {
     "end_time": "2020-04-12T18:33:48.759440Z",
     "start_time": "2020-04-12T18:33:48.755138Z"
    }
   },
   "source": [
    "topics[50].argmax()"
   ]
  }
 ],
 "metadata": {
  "kernelspec": {
   "display_name": "Python 3",
   "language": "python",
   "name": "python3"
  },
  "language_info": {
   "codemirror_mode": {
    "name": "ipython",
    "version": 3
   },
   "file_extension": ".py",
   "mimetype": "text/x-python",
   "name": "python",
   "nbconvert_exporter": "python",
   "pygments_lexer": "ipython3",
   "version": "3.6.8"
  },
  "toc": {
   "base_numbering": 1,
   "nav_menu": {
    "height": "395px",
    "width": "248px"
   },
   "number_sections": true,
   "sideBar": true,
   "skip_h1_title": false,
   "title_cell": "Table of Contents",
   "title_sidebar": "Contents",
   "toc_cell": false,
   "toc_position": {},
   "toc_section_display": true,
   "toc_window_display": false
  }
 },
 "nbformat": 4,
 "nbformat_minor": 2
}
